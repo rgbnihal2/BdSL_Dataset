{
  "nbformat": 4,
  "nbformat_minor": 0,
  "metadata": {
    "colab": {
      "name": "dataset 5 VGG19",
      "provenance": []
    },
    "kernelspec": {
      "name": "python3",
      "display_name": "Python 3"
    },
    "language_info": {
      "name": "python"
    },
    "accelerator": "GPU"
  },
  "cells": [
    {
      "cell_type": "code",
      "metadata": {
        "colab": {
          "base_uri": "https://localhost:8080/"
        },
        "id": "wnTRugAwPiAr",
        "outputId": "b7627b6d-2c16-4d68-f38d-d4a257ab23b1"
      },
      "source": [
        "from google.colab import drive\n",
        "drive.mount('/content/drive')"
      ],
      "execution_count": null,
      "outputs": [
        {
          "output_type": "stream",
          "text": [
            "Mounted at /content/drive\n"
          ],
          "name": "stdout"
        }
      ]
    },
    {
      "cell_type": "code",
      "metadata": {
        "id": "-l4MRfIYQESF"
      },
      "source": [
        "\n",
        "!unzip -uq \"/content/drive/MyDrive/Research and Project Stuffs/BdSL/Datasets/dataset3.zip\" -d \"/content/drive/MyDrive/Research and Project Stuffs/BdSL/Datasets/\""
      ],
      "execution_count": null,
      "outputs": []
    },
    {
      "cell_type": "code",
      "metadata": {
        "colab": {
          "base_uri": "https://localhost:8080/"
        },
        "id": "4gCn-4avQsgn",
        "outputId": "c4d31933-b5a0-4482-b10e-5b0317f214e2"
      },
      "source": [
        "# example of progressively loading images from file\n",
        "from keras.preprocessing.image import ImageDataGenerator\n",
        "# create generator\n",
        "datagen = ImageDataGenerator(validation_split=0.2)\n",
        "img_height = 224\n",
        "img_width = 224 \n",
        "batch_size = 191\n",
        "# prepare an iterators for each dataset\n",
        "train_it = datagen.flow_from_directory('/content/drive/MyDrive/Research and Project Stuffs/BdSL/Datasets/dataset5',target_size=(img_height, img_width),batch_size = batch_size, subset='training')\n",
        "val_it = datagen.flow_from_directory('/content/drive/MyDrive/Research and Project Stuffs/BdSL/Datasets/dataset5',target_size=(img_height, img_width), batch_size = batch_size, subset='validation')"
      ],
      "execution_count": null,
      "outputs": [
        {
          "output_type": "stream",
          "text": [
            "Found 786 images belonging to 10 classes.\n",
            "Found 191 images belonging to 10 classes.\n"
          ],
          "name": "stdout"
        }
      ]
    },
    {
      "cell_type": "code",
      "metadata": {
        "colab": {
          "base_uri": "https://localhost:8080/"
        },
        "id": "L0NE2Yzd_WFB",
        "outputId": "6414561f-147d-448b-908d-d81a2150c9a7"
      },
      "source": [
        "from tensorflow.keras.applications import vgg19\n",
        "# Init the VGG model\n",
        "vgg_conv = vgg19.VGG19(weights='imagenet', include_top=False, input_shape=(img_height, img_height, 3))"
      ],
      "execution_count": null,
      "outputs": [
        {
          "output_type": "stream",
          "text": [
            "Downloading data from https://storage.googleapis.com/tensorflow/keras-applications/vgg19/vgg19_weights_tf_dim_ordering_tf_kernels_notop.h5\n",
            "80142336/80134624 [==============================] - 3s 0us/step\n"
          ],
          "name": "stdout"
        }
      ]
    },
    {
      "cell_type": "code",
      "metadata": {
        "colab": {
          "base_uri": "https://localhost:8080/"
        },
        "id": "_jwVecda_f6y",
        "outputId": "1a000c67-cfcc-482b-ebc0-d45aae5c1ca4"
      },
      "source": [
        "# Freeze all the layers\n",
        "for layer in vgg_conv.layers[:]:\n",
        "    layer.trainable = False\n",
        "# Check the trainable status of the individual layers\n",
        "for layer in vgg_conv.layers:\n",
        "    print(layer, layer.trainable)"
      ],
      "execution_count": null,
      "outputs": [
        {
          "output_type": "stream",
          "text": [
            "<tensorflow.python.keras.engine.input_layer.InputLayer object at 0x7f629b8d8610> False\n",
            "<tensorflow.python.keras.layers.convolutional.Conv2D object at 0x7f625f3fee50> False\n",
            "<tensorflow.python.keras.layers.convolutional.Conv2D object at 0x7f6260326050> False\n",
            "<tensorflow.python.keras.layers.pooling.MaxPooling2D object at 0x7f625d410810> False\n",
            "<tensorflow.python.keras.layers.convolutional.Conv2D object at 0x7f625d439a50> False\n",
            "<tensorflow.python.keras.layers.convolutional.Conv2D object at 0x7f625d43cf90> False\n",
            "<tensorflow.python.keras.layers.pooling.MaxPooling2D object at 0x7f625f39acd0> False\n",
            "<tensorflow.python.keras.layers.convolutional.Conv2D object at 0x7f625d439c90> False\n",
            "<tensorflow.python.keras.layers.convolutional.Conv2D object at 0x7f625e42e6d0> False\n",
            "<tensorflow.python.keras.layers.convolutional.Conv2D object at 0x7f625f128b50> False\n",
            "<tensorflow.python.keras.layers.convolutional.Conv2D object at 0x7f625f12d750> False\n",
            "<tensorflow.python.keras.layers.pooling.MaxPooling2D object at 0x7f625d419d50> False\n",
            "<tensorflow.python.keras.layers.convolutional.Conv2D object at 0x7f625f136f90> False\n",
            "<tensorflow.python.keras.layers.convolutional.Conv2D object at 0x7f6268acbe50> False\n",
            "<tensorflow.python.keras.layers.convolutional.Conv2D object at 0x7f625f132f50> False\n",
            "<tensorflow.python.keras.layers.convolutional.Conv2D object at 0x7f625f148f90> False\n",
            "<tensorflow.python.keras.layers.pooling.MaxPooling2D object at 0x7f625f14fe10> False\n",
            "<tensorflow.python.keras.layers.convolutional.Conv2D object at 0x7f625e42eb10> False\n",
            "<tensorflow.python.keras.layers.convolutional.Conv2D object at 0x7f625f153fd0> False\n",
            "<tensorflow.python.keras.layers.convolutional.Conv2D object at 0x7f625f15efd0> False\n",
            "<tensorflow.python.keras.layers.convolutional.Conv2D object at 0x7f626eea0190> False\n",
            "<tensorflow.python.keras.layers.pooling.MaxPooling2D object at 0x7f625f163e90> False\n"
          ],
          "name": "stdout"
        }
      ]
    },
    {
      "cell_type": "code",
      "metadata": {
        "id": "CQsdukGnFWAR"
      },
      "source": [
        "from keras.models import Sequential, Model\n",
        "#from tensorflow.keras.models import Model\n",
        "from keras.layers import Conv2D, MaxPooling2D, Activation, Embedding, Dense, Dropout, Flatten, Input,GlobalAveragePooling2D\n",
        "from keras import activations\n",
        "#from tensorflow.python.keras.layers.core import Dense, Dropout, Flatten\n",
        "#from tensorflow.python.keras.layers import Input\n",
        "from keras.optimizers import Adam, SGD\n",
        "from keras.layers import LSTM\n",
        "#from keras.layers import Dropout\n",
        "#from keras.applications.vgg16 import VGG16\n",
        "#from tensorflow.keras.applications import vgg16\n",
        "from skimage.color import gray2rgb\n",
        "#from tensorflow.keras.applications.inception_v3 import InceptionV3 \n",
        "#from tensorflow.keras.applications import DenseNet201"
      ],
      "execution_count": null,
      "outputs": []
    },
    {
      "cell_type": "code",
      "metadata": {
        "colab": {
          "base_uri": "https://localhost:8080/"
        },
        "id": "hDUAiWIeE1Ui",
        "outputId": "07589977-33c5-4de1-df68-803479929af1"
      },
      "source": [
        "# Create the model\n",
        "model = Sequential()\n",
        "\n",
        "# Add the vgg convolutional base model\n",
        "model.add(vgg_conv)\n",
        "\n",
        "# Add new layers\n",
        "model.add(Flatten())\n",
        "model.add(Dense(1024, activation='relu'))\n",
        "model.add(Dropout(0.5))\n",
        "model.add(Dense(10, activation='softmax'))\n",
        "\n",
        "# Show a summary of the model. Check the number of trainable parameters\n",
        "model.summary()"
      ],
      "execution_count": null,
      "outputs": [
        {
          "output_type": "stream",
          "text": [
            "Model: \"sequential_1\"\n",
            "_________________________________________________________________\n",
            "Layer (type)                 Output Shape              Param #   \n",
            "=================================================================\n",
            "vgg19 (Functional)           (None, 7, 7, 512)         20024384  \n",
            "_________________________________________________________________\n",
            "flatten_1 (Flatten)          (None, 25088)             0         \n",
            "_________________________________________________________________\n",
            "dense_2 (Dense)              (None, 1024)              25691136  \n",
            "_________________________________________________________________\n",
            "dropout_1 (Dropout)          (None, 1024)              0         \n",
            "_________________________________________________________________\n",
            "dense_3 (Dense)              (None, 10)                10250     \n",
            "=================================================================\n",
            "Total params: 45,725,770\n",
            "Trainable params: 25,701,386\n",
            "Non-trainable params: 20,024,384\n",
            "_________________________________________________________________\n"
          ],
          "name": "stdout"
        }
      ]
    },
    {
      "cell_type": "code",
      "metadata": {
        "colab": {
          "base_uri": "https://localhost:8080/"
        },
        "id": "rrAx1W0gGHTb",
        "outputId": "a5667a1b-3a1a-4b5b-ba57-e681f2b2e31e"
      },
      "source": [
        "train_it.samples"
      ],
      "execution_count": null,
      "outputs": [
        {
          "output_type": "execute_result",
          "data": {
            "text/plain": [
              "1523"
            ]
          },
          "metadata": {
            "tags": []
          },
          "execution_count": 12
        }
      ]
    },
    {
      "cell_type": "code",
      "metadata": {
        "id": "Jnxc5HckGwqL"
      },
      "source": [
        "import keras\n",
        "#sgd = keras.optimizers.SGD(lr=0.00001, decay=1e-6, momentum=0.9, nesterov=True)\n",
        "model.compile(loss='categorical_crossentropy',\n",
        "              optimizer=keras.optimizers.SGD(lr=1e-3),\n",
        "              metrics=['acc'])"
      ],
      "execution_count": null,
      "outputs": []
    },
    {
      "cell_type": "code",
      "metadata": {
        "colab": {
          "base_uri": "https://localhost:8080/"
        },
        "id": "EV8WD7w5FZuD",
        "outputId": "43710cd4-e5d0-435e-94a0-492e977bd859"
      },
      "source": [
        "nb_epochs = 100\n",
        "#batch_size = 369\n",
        "history = model.fit_generator(\n",
        "    train_it,\n",
        "    steps_per_epoch = train_it.samples // batch_size,\n",
        "    validation_data = val_it, \n",
        "    validation_steps = val_it.samples // batch_size,\n",
        "    epochs = nb_epochs)"
      ],
      "execution_count": null,
      "outputs": [
        {
          "output_type": "stream",
          "text": [
            "/usr/local/lib/python3.7/dist-packages/tensorflow/python/keras/engine/training.py:1844: UserWarning: `Model.fit_generator` is deprecated and will be removed in a future version. Please use `Model.fit`, which supports generators.\n",
            "  warnings.warn('`Model.fit_generator` is deprecated and '\n"
          ],
          "name": "stderr"
        },
        {
          "output_type": "stream",
          "text": [
            "Epoch 1/100\n",
            "4/4 [==============================] - 302s 78s/step - loss: 24.1170 - acc: 0.1992 - val_loss: 22.9774 - val_acc: 0.1885\n",
            "Epoch 2/100\n",
            "4/4 [==============================] - 11s 3s/step - loss: 16.4309 - acc: 0.4241 - val_loss: 11.4315 - val_acc: 0.3089\n",
            "Epoch 3/100\n",
            "4/4 [==============================] - 10s 2s/step - loss: 6.3502 - acc: 0.7116 - val_loss: 17.5715 - val_acc: 0.3246\n",
            "Epoch 4/100\n",
            "4/4 [==============================] - 11s 3s/step - loss: 5.7003 - acc: 0.7513 - val_loss: 8.6764 - val_acc: 0.3822\n",
            "Epoch 5/100\n",
            "4/4 [==============================] - 11s 3s/step - loss: 1.4945 - acc: 0.8611 - val_loss: 8.4729 - val_acc: 0.3979\n",
            "Epoch 6/100\n",
            "4/4 [==============================] - 10s 2s/step - loss: 1.1196 - acc: 0.9188 - val_loss: 12.2209 - val_acc: 0.3089\n",
            "Epoch 7/100\n",
            "4/4 [==============================] - 11s 3s/step - loss: 1.2890 - acc: 0.8956 - val_loss: 8.6384 - val_acc: 0.3874\n",
            "Epoch 8/100\n",
            "4/4 [==============================] - 10s 2s/step - loss: 0.6114 - acc: 0.9224 - val_loss: 8.5799 - val_acc: 0.4188\n",
            "Epoch 9/100\n",
            "4/4 [==============================] - 11s 3s/step - loss: 0.8302 - acc: 0.9277 - val_loss: 8.3114 - val_acc: 0.4555\n",
            "Epoch 10/100\n",
            "4/4 [==============================] - 11s 3s/step - loss: 0.2574 - acc: 0.9682 - val_loss: 8.6681 - val_acc: 0.4241\n",
            "Epoch 11/100\n",
            "4/4 [==============================] - 10s 2s/step - loss: 0.2234 - acc: 0.9660 - val_loss: 8.3806 - val_acc: 0.4241\n",
            "Epoch 12/100\n",
            "4/4 [==============================] - 11s 3s/step - loss: 0.3741 - acc: 0.9584 - val_loss: 8.1788 - val_acc: 0.4450\n",
            "Epoch 13/100\n",
            "4/4 [==============================] - 10s 2s/step - loss: 0.4755 - acc: 0.9542 - val_loss: 7.5385 - val_acc: 0.4607\n",
            "Epoch 14/100\n",
            "4/4 [==============================] - 11s 3s/step - loss: 0.2285 - acc: 0.9779 - val_loss: 7.7561 - val_acc: 0.4712\n",
            "Epoch 15/100\n",
            "4/4 [==============================] - 11s 3s/step - loss: 0.1821 - acc: 0.9817 - val_loss: 7.7084 - val_acc: 0.4660\n",
            "Epoch 16/100\n",
            "4/4 [==============================] - 11s 3s/step - loss: 0.1373 - acc: 0.9687 - val_loss: 7.6546 - val_acc: 0.4712\n",
            "Epoch 17/100\n",
            "4/4 [==============================] - 11s 3s/step - loss: 0.0880 - acc: 0.9801 - val_loss: 7.3819 - val_acc: 0.4555\n",
            "Epoch 18/100\n",
            "4/4 [==============================] - 11s 3s/step - loss: 0.1085 - acc: 0.9776 - val_loss: 7.2301 - val_acc: 0.4555\n",
            "Epoch 19/100\n",
            "4/4 [==============================] - 10s 3s/step - loss: 0.5785 - acc: 0.9629 - val_loss: 7.1200 - val_acc: 0.4921\n",
            "Epoch 20/100\n",
            "4/4 [==============================] - 11s 3s/step - loss: 0.1335 - acc: 0.9784 - val_loss: 7.0815 - val_acc: 0.4555\n",
            "Epoch 21/100\n",
            "4/4 [==============================] - 10s 3s/step - loss: 0.2647 - acc: 0.9716 - val_loss: 7.4286 - val_acc: 0.4398\n",
            "Epoch 22/100\n",
            "4/4 [==============================] - 10s 2s/step - loss: 0.2016 - acc: 0.9793 - val_loss: 7.0218 - val_acc: 0.4607\n",
            "Epoch 23/100\n",
            "4/4 [==============================] - 11s 3s/step - loss: 0.0650 - acc: 0.9848 - val_loss: 7.0876 - val_acc: 0.4607\n",
            "Epoch 24/100\n",
            "4/4 [==============================] - 10s 3s/step - loss: 0.0459 - acc: 0.9898 - val_loss: 7.1071 - val_acc: 0.4607\n",
            "Epoch 25/100\n",
            "4/4 [==============================] - 10s 3s/step - loss: 0.0621 - acc: 0.9913 - val_loss: 7.3380 - val_acc: 0.4712\n",
            "Epoch 26/100\n",
            "4/4 [==============================] - 11s 3s/step - loss: 0.1096 - acc: 0.9867 - val_loss: 7.1996 - val_acc: 0.4921\n",
            "Epoch 27/100\n",
            "4/4 [==============================] - 11s 3s/step - loss: 0.0583 - acc: 0.9886 - val_loss: 7.3635 - val_acc: 0.4607\n",
            "Epoch 28/100\n",
            "4/4 [==============================] - 10s 2s/step - loss: 0.0850 - acc: 0.9845 - val_loss: 7.4328 - val_acc: 0.4764\n",
            "Epoch 29/100\n",
            "4/4 [==============================] - 10s 2s/step - loss: 0.1471 - acc: 0.9778 - val_loss: 7.4981 - val_acc: 0.4660\n",
            "Epoch 30/100\n",
            "4/4 [==============================] - 10s 2s/step - loss: 0.1144 - acc: 0.9855 - val_loss: 7.1773 - val_acc: 0.4764\n",
            "Epoch 31/100\n",
            "4/4 [==============================] - 10s 2s/step - loss: 0.0943 - acc: 0.9871 - val_loss: 7.2237 - val_acc: 0.4660\n",
            "Epoch 32/100\n",
            "4/4 [==============================] - 11s 3s/step - loss: 0.0706 - acc: 0.9881 - val_loss: 7.2732 - val_acc: 0.4660\n",
            "Epoch 33/100\n",
            "4/4 [==============================] - 11s 3s/step - loss: 0.0219 - acc: 0.9976 - val_loss: 7.2574 - val_acc: 0.4660\n",
            "Epoch 34/100\n",
            "4/4 [==============================] - 11s 3s/step - loss: 0.0457 - acc: 0.9900 - val_loss: 7.3523 - val_acc: 0.4555\n",
            "Epoch 35/100\n",
            "4/4 [==============================] - 10s 3s/step - loss: 0.0892 - acc: 0.9888 - val_loss: 7.3001 - val_acc: 0.4712\n",
            "Epoch 36/100\n",
            "4/4 [==============================] - 11s 3s/step - loss: 0.0269 - acc: 0.9943 - val_loss: 7.1147 - val_acc: 0.4660\n",
            "Epoch 37/100\n",
            "4/4 [==============================] - 11s 3s/step - loss: 0.1990 - acc: 0.9866 - val_loss: 7.4548 - val_acc: 0.4712\n",
            "Epoch 38/100\n",
            "4/4 [==============================] - 10s 2s/step - loss: 0.1485 - acc: 0.9871 - val_loss: 7.3294 - val_acc: 0.4764\n",
            "Epoch 39/100\n",
            "4/4 [==============================] - 11s 3s/step - loss: 0.1131 - acc: 0.9911 - val_loss: 7.0311 - val_acc: 0.4817\n",
            "Epoch 40/100\n",
            "4/4 [==============================] - 11s 3s/step - loss: 0.1090 - acc: 0.9874 - val_loss: 7.1684 - val_acc: 0.4817\n",
            "Epoch 41/100\n",
            "4/4 [==============================] - 10s 3s/step - loss: 0.0215 - acc: 0.9961 - val_loss: 7.2984 - val_acc: 0.4764\n",
            "Epoch 42/100\n",
            "4/4 [==============================] - 11s 3s/step - loss: 0.0258 - acc: 0.9893 - val_loss: 8.0779 - val_acc: 0.4974\n",
            "Epoch 43/100\n",
            "4/4 [==============================] - 9s 3s/step - loss: 0.0279 - acc: 0.9921 - val_loss: 7.7124 - val_acc: 0.4921\n",
            "Epoch 44/100\n",
            "4/4 [==============================] - 10s 2s/step - loss: 0.0225 - acc: 0.9959 - val_loss: 7.7016 - val_acc: 0.4869\n",
            "Epoch 45/100\n",
            "4/4 [==============================] - 11s 3s/step - loss: 0.0374 - acc: 0.9940 - val_loss: 7.5184 - val_acc: 0.4921\n",
            "Epoch 46/100\n",
            "4/4 [==============================] - 11s 3s/step - loss: 0.0856 - acc: 0.9894 - val_loss: 7.8042 - val_acc: 0.4869\n",
            "Epoch 47/100\n",
            "4/4 [==============================] - 10s 2s/step - loss: 0.0194 - acc: 0.9938 - val_loss: 7.6311 - val_acc: 0.5026\n",
            "Epoch 48/100\n",
            "4/4 [==============================] - 11s 3s/step - loss: 0.0228 - acc: 0.9959 - val_loss: 7.4866 - val_acc: 0.4974\n",
            "Epoch 49/100\n",
            "4/4 [==============================] - 11s 3s/step - loss: 0.0564 - acc: 0.9955 - val_loss: 7.3662 - val_acc: 0.4974\n",
            "Epoch 50/100\n",
            "4/4 [==============================] - 11s 3s/step - loss: 0.0567 - acc: 0.9932 - val_loss: 7.5349 - val_acc: 0.5026\n",
            "Epoch 51/100\n",
            "4/4 [==============================] - 10s 2s/step - loss: 0.0678 - acc: 0.9918 - val_loss: 7.4841 - val_acc: 0.5026\n",
            "Epoch 52/100\n",
            "4/4 [==============================] - 10s 3s/step - loss: 0.0158 - acc: 0.9958 - val_loss: 7.5209 - val_acc: 0.5026\n",
            "Epoch 53/100\n",
            "4/4 [==============================] - 11s 3s/step - loss: 0.0134 - acc: 0.9959 - val_loss: 7.4598 - val_acc: 0.5026\n",
            "Epoch 54/100\n",
            "4/4 [==============================] - 10s 2s/step - loss: 0.0661 - acc: 0.9892 - val_loss: 7.8061 - val_acc: 0.5026\n",
            "Epoch 55/100\n",
            "4/4 [==============================] - 11s 3s/step - loss: 0.0543 - acc: 0.9892 - val_loss: 7.8448 - val_acc: 0.5026\n",
            "Epoch 56/100\n",
            "4/4 [==============================] - 10s 2s/step - loss: 0.0308 - acc: 0.9948 - val_loss: 7.8361 - val_acc: 0.4974\n",
            "Epoch 57/100\n",
            "4/4 [==============================] - 11s 3s/step - loss: 0.0743 - acc: 0.9942 - val_loss: 7.6311 - val_acc: 0.4974\n",
            "Epoch 58/100\n",
            "4/4 [==============================] - 11s 3s/step - loss: 0.0582 - acc: 0.9939 - val_loss: 7.7193 - val_acc: 0.5026\n",
            "Epoch 59/100\n",
            "4/4 [==============================] - 11s 3s/step - loss: 0.0860 - acc: 0.9904 - val_loss: 7.4704 - val_acc: 0.5026\n",
            "Epoch 60/100\n",
            "4/4 [==============================] - 11s 3s/step - loss: 0.0256 - acc: 0.9925 - val_loss: 7.5313 - val_acc: 0.5079\n",
            "Epoch 61/100\n",
            "4/4 [==============================] - 10s 2s/step - loss: 0.0419 - acc: 0.9954 - val_loss: 7.4398 - val_acc: 0.4921\n",
            "Epoch 62/100\n",
            "4/4 [==============================] - 11s 3s/step - loss: 0.0260 - acc: 0.9950 - val_loss: 7.4367 - val_acc: 0.5026\n",
            "Epoch 63/100\n",
            "4/4 [==============================] - 10s 2s/step - loss: 0.0149 - acc: 0.9990 - val_loss: 7.3525 - val_acc: 0.5026\n",
            "Epoch 64/100\n",
            "4/4 [==============================] - 11s 3s/step - loss: 0.0629 - acc: 0.9904 - val_loss: 7.5449 - val_acc: 0.5026\n",
            "Epoch 65/100\n",
            "4/4 [==============================] - 11s 3s/step - loss: 0.0023 - acc: 0.9993 - val_loss: 7.5417 - val_acc: 0.5026\n",
            "Epoch 66/100\n",
            "4/4 [==============================] - 11s 3s/step - loss: 0.0321 - acc: 0.9962 - val_loss: 7.5182 - val_acc: 0.5026\n",
            "Epoch 67/100\n",
            "4/4 [==============================] - 11s 3s/step - loss: 0.0245 - acc: 0.9951 - val_loss: 7.4674 - val_acc: 0.5079\n",
            "Epoch 68/100\n",
            "4/4 [==============================] - 11s 3s/step - loss: 0.0094 - acc: 0.9977 - val_loss: 7.4986 - val_acc: 0.4974\n",
            "Epoch 69/100\n",
            "4/4 [==============================] - 11s 3s/step - loss: 0.0391 - acc: 0.9915 - val_loss: 7.4175 - val_acc: 0.4974\n",
            "Epoch 70/100\n",
            "4/4 [==============================] - 10s 3s/step - loss: 2.4198e-05 - acc: 1.0000 - val_loss: 7.4174 - val_acc: 0.4974\n",
            "Epoch 71/100\n",
            "4/4 [==============================] - 10s 3s/step - loss: 0.0268 - acc: 0.9949 - val_loss: 7.6610 - val_acc: 0.5026\n",
            "Epoch 72/100\n",
            "4/4 [==============================] - 10s 3s/step - loss: 0.0071 - acc: 0.9967 - val_loss: 7.6762 - val_acc: 0.4974\n",
            "Epoch 73/100\n",
            "4/4 [==============================] - 11s 3s/step - loss: 0.0081 - acc: 0.9962 - val_loss: 7.6269 - val_acc: 0.5079\n",
            "Epoch 74/100\n",
            "4/4 [==============================] - 11s 3s/step - loss: 0.0053 - acc: 0.9967 - val_loss: 7.6424 - val_acc: 0.5026\n",
            "Epoch 75/100\n",
            "4/4 [==============================] - 11s 3s/step - loss: 0.0111 - acc: 0.9991 - val_loss: 7.7468 - val_acc: 0.5026\n",
            "Epoch 76/100\n",
            "4/4 [==============================] - 11s 3s/step - loss: 0.0031 - acc: 0.9995 - val_loss: 7.7124 - val_acc: 0.5131\n",
            "Epoch 77/100\n",
            "4/4 [==============================] - 11s 3s/step - loss: 0.0358 - acc: 0.9944 - val_loss: 7.5681 - val_acc: 0.5026\n",
            "Epoch 78/100\n",
            "4/4 [==============================] - 10s 2s/step - loss: 0.0101 - acc: 0.9974 - val_loss: 7.5936 - val_acc: 0.5026\n",
            "Epoch 79/100\n",
            "4/4 [==============================] - 11s 3s/step - loss: 0.0329 - acc: 0.9919 - val_loss: 7.6263 - val_acc: 0.4974\n",
            "Epoch 80/100\n",
            "4/4 [==============================] - 11s 3s/step - loss: 0.0170 - acc: 0.9976 - val_loss: 7.5466 - val_acc: 0.4974\n",
            "Epoch 81/100\n",
            "4/4 [==============================] - 11s 3s/step - loss: 0.0172 - acc: 0.9918 - val_loss: 7.4109 - val_acc: 0.4921\n",
            "Epoch 82/100\n",
            "4/4 [==============================] - 11s 3s/step - loss: 1.9587e-04 - acc: 1.0000 - val_loss: 7.4061 - val_acc: 0.4921\n",
            "Epoch 83/100\n",
            "4/4 [==============================] - 10s 3s/step - loss: 0.0075 - acc: 0.9988 - val_loss: 7.2872 - val_acc: 0.4974\n",
            "Epoch 84/100\n",
            "4/4 [==============================] - 10s 3s/step - loss: 0.0043 - acc: 0.9967 - val_loss: 7.3545 - val_acc: 0.4974\n",
            "Epoch 85/100\n",
            "4/4 [==============================] - 9s 3s/step - loss: 0.0171 - acc: 0.9958 - val_loss: 7.4096 - val_acc: 0.4974\n",
            "Epoch 86/100\n",
            "4/4 [==============================] - 11s 3s/step - loss: 0.0026 - acc: 0.9987 - val_loss: 7.3582 - val_acc: 0.4921\n",
            "Epoch 87/100\n",
            "4/4 [==============================] - 11s 3s/step - loss: 0.0077 - acc: 0.9986 - val_loss: 7.3284 - val_acc: 0.4974\n",
            "Epoch 88/100\n",
            "4/4 [==============================] - 11s 2s/step - loss: 0.0045 - acc: 0.9966 - val_loss: 7.3905 - val_acc: 0.4974\n",
            "Epoch 89/100\n",
            "4/4 [==============================] - 11s 3s/step - loss: 6.4797e-04 - acc: 1.0000 - val_loss: 7.3825 - val_acc: 0.4974\n",
            "Epoch 90/100\n",
            "4/4 [==============================] - 10s 2s/step - loss: 0.0176 - acc: 0.9974 - val_loss: 7.4304 - val_acc: 0.5079\n",
            "Epoch 91/100\n",
            "4/4 [==============================] - 10s 2s/step - loss: 0.0291 - acc: 0.9938 - val_loss: 7.3618 - val_acc: 0.5079\n",
            "Epoch 92/100\n",
            "4/4 [==============================] - 10s 3s/step - loss: 0.0024 - acc: 0.9988 - val_loss: 7.4057 - val_acc: 0.5079\n",
            "Epoch 93/100\n",
            "4/4 [==============================] - 10s 2s/step - loss: 0.0211 - acc: 0.9959 - val_loss: 7.2999 - val_acc: 0.5079\n",
            "Epoch 94/100\n",
            "4/4 [==============================] - 11s 2s/step - loss: 0.0365 - acc: 0.9968 - val_loss: 7.3085 - val_acc: 0.5079\n",
            "Epoch 95/100\n",
            "4/4 [==============================] - 10s 3s/step - loss: 0.0290 - acc: 0.9956 - val_loss: 7.1762 - val_acc: 0.5026\n",
            "Epoch 96/100\n",
            "4/4 [==============================] - 11s 3s/step - loss: 0.0295 - acc: 0.9963 - val_loss: 7.3703 - val_acc: 0.5079\n",
            "Epoch 97/100\n",
            "4/4 [==============================] - 11s 3s/step - loss: 9.5204e-05 - acc: 1.0000 - val_loss: 7.3703 - val_acc: 0.5079\n",
            "Epoch 98/100\n",
            "4/4 [==============================] - 11s 3s/step - loss: 0.0482 - acc: 0.9919 - val_loss: 7.5168 - val_acc: 0.5079\n",
            "Epoch 99/100\n",
            "4/4 [==============================] - 11s 3s/step - loss: 0.0019 - acc: 1.0000 - val_loss: 7.5252 - val_acc: 0.5079\n",
            "Epoch 100/100\n",
            "4/4 [==============================] - 11s 3s/step - loss: 0.0042 - acc: 0.9976 - val_loss: 7.4343 - val_acc: 0.5026\n"
          ],
          "name": "stdout"
        }
      ]
    },
    {
      "cell_type": "code",
      "metadata": {
        "colab": {
          "base_uri": "https://localhost:8080/"
        },
        "id": "nfLx7xpSGkMO",
        "outputId": "efbb6b34-f258-4d0c-bbbb-00948c83365f"
      },
      "source": [
        "model.save(\"/content/drive/MyDrive/Research and Project Stuffs/BdSL/Datasets/Dataset_5_VGG19\")"
      ],
      "execution_count": null,
      "outputs": [
        {
          "output_type": "stream",
          "text": [
            "INFO:tensorflow:Assets written to: /content/drive/MyDrive/Research and Project Stuffs/BdSL/Datasets/Dataset_5_VGG19/assets\n"
          ],
          "name": "stdout"
        }
      ]
    },
    {
      "cell_type": "code",
      "metadata": {
        "colab": {
          "base_uri": "https://localhost:8080/"
        },
        "id": "YjS87ZEc0lGu",
        "outputId": "0e14e3d3-4d98-4b00-dd8c-767e79a16f6e"
      },
      "source": [
        "val_it.classes"
      ],
      "execution_count": null,
      "outputs": [
        {
          "output_type": "execute_result",
          "data": {
            "text/plain": [
              "array([ 0,  0,  0, ..., 36, 36, 36], dtype=int32)"
            ]
          },
          "metadata": {
            "tags": []
          },
          "execution_count": 14
        }
      ]
    },
    {
      "cell_type": "code",
      "metadata": {
        "colab": {
          "base_uri": "https://localhost:8080/"
        },
        "id": "PeFawWaJ0leT",
        "outputId": "85a3c552-e021-404f-cd70-b3525971e62c"
      },
      "source": [
        "from sklearn.metrics import classification_report, confusion_matrix\n",
        "import numpy as np\n",
        "num_of_test_samples = val_it.samples\n",
        "batch_size = 128\n",
        "Y_pred = model.predict(val_it)\n",
        "y_pred = np.argmax(Y_pred, axis=1)\n",
        "print('Confusion Matrix')\n",
        "print(confusion_matrix(val_it.classes, y_pred))\n",
        "print('Classification Report')\n",
        "target_names = ['1', '10', '11', '12', '13', '14', '15', '16', '17',  '18', '19', '2', '20', '21',  '22',  '23',  '24',  '25',  '26',  '27','28', '29', '3', '30', '31', '32', '33', '34','35', '36', '38', '4', '5', '6', '7', '8', '9']\n",
        "print(classification_report(val_it.classes, y_pred, target_names=target_names))"
      ],
      "execution_count": null,
      "outputs": [
        {
          "output_type": "stream",
          "text": [
            "Confusion Matrix\n",
            "[[0 3 1 ... 1 1 3]\n",
            " [0 3 1 ... 4 2 4]\n",
            " [0 3 1 ... 2 2 2]\n",
            " ...\n",
            " [4 3 3 ... 2 2 0]\n",
            " [0 3 4 ... 2 4 1]\n",
            " [2 3 2 ... 0 3 2]]\n",
            "Classification Report\n",
            "              precision    recall  f1-score   support\n",
            "\n",
            "           1       0.00      0.00      0.00        72\n",
            "          10       0.04      0.04      0.04        72\n",
            "          11       0.01      0.01      0.01        72\n",
            "          12       0.03      0.03      0.03        72\n",
            "          13       0.00      0.00      0.00        72\n",
            "          14       0.03      0.03      0.03        72\n",
            "          15       0.01      0.01      0.01        72\n",
            "          16       0.03      0.03      0.03        72\n",
            "          17       0.03      0.03      0.03        72\n",
            "          18       0.06      0.06      0.06        72\n",
            "          19       0.06      0.06      0.06        72\n",
            "           2       0.07      0.07      0.07        72\n",
            "          20       0.04      0.04      0.04        72\n",
            "          21       0.03      0.03      0.03        72\n",
            "          22       0.06      0.06      0.06        72\n",
            "          23       0.00      0.00      0.00        72\n",
            "          24       0.06      0.07      0.07        72\n",
            "          25       0.04      0.04      0.04        72\n",
            "          26       0.03      0.03      0.03        72\n",
            "          27       0.03      0.03      0.03        72\n",
            "          28       0.04      0.04      0.04        72\n",
            "          29       0.04      0.04      0.04        72\n",
            "           3       0.04      0.04      0.04        72\n",
            "          30       0.01      0.01      0.01        72\n",
            "          31       0.03      0.03      0.03        72\n",
            "          32       0.01      0.01      0.01        72\n",
            "          33       0.03      0.03      0.03        72\n",
            "          34       0.01      0.01      0.01        72\n",
            "          35       0.01      0.01      0.01        72\n",
            "          36       0.06      0.06      0.06        72\n",
            "          38       0.01      0.01      0.01        72\n",
            "           4       0.04      0.04      0.04        72\n",
            "           5       0.01      0.01      0.01        72\n",
            "           6       0.06      0.06      0.06        72\n",
            "           7       0.03      0.03      0.03        72\n",
            "           8       0.05      0.06      0.05        72\n",
            "           9       0.03      0.03      0.03        72\n",
            "\n",
            "    accuracy                           0.03      2664\n",
            "   macro avg       0.03      0.03      0.03      2664\n",
            "weighted avg       0.03      0.03      0.03      2664\n",
            "\n"
          ],
          "name": "stdout"
        }
      ]
    },
    {
      "cell_type": "code",
      "metadata": {
        "colab": {
          "base_uri": "https://localhost:8080/"
        },
        "id": "0f7UTYKS4qKZ",
        "outputId": "ba698d83-33db-45e3-e599-cc628c471a4c"
      },
      "source": [
        "val_it.classes"
      ],
      "execution_count": null,
      "outputs": [
        {
          "output_type": "execute_result",
          "data": {
            "text/plain": [
              "array([ 0,  0,  0, ..., 36, 36, 36], dtype=int32)"
            ]
          },
          "metadata": {
            "tags": []
          },
          "execution_count": 27
        }
      ]
    },
    {
      "cell_type": "code",
      "metadata": {
        "id": "0tWPdkQ5BVKo"
      },
      "source": [
        "import keras\n",
        "import numpy as np\n",
        "model = keras.models.load_model(\"/content/drive/MyDrive/Research and Project Stuffs/BdSL/Datasets/Dataset_2_VGG19\")"
      ],
      "execution_count": null,
      "outputs": []
    },
    {
      "cell_type": "code",
      "metadata": {
        "colab": {
          "base_uri": "https://localhost:8080/"
        },
        "id": "FyBKF8HuCDtt",
        "outputId": "866edf0e-5923-4808-db2b-73b8d07b507d"
      },
      "source": [
        "import keras\n",
        "import numpy as np\n",
        "y_img_batch, y_class_batch = val_it[0]\n",
        "y_pred = np.argmax(model.predict(y_img_batch),-1)\n",
        "y_true = np.argmax(y_class_batch,-1)\n",
        "print(sum(y_pred==y_true)/batch_size)"
      ],
      "execution_count": null,
      "outputs": [
        {
          "output_type": "stream",
          "text": [
            "0.5026178010471204\n"
          ],
          "name": "stdout"
        }
      ]
    },
    {
      "cell_type": "code",
      "metadata": {
        "colab": {
          "base_uri": "https://localhost:8080/"
        },
        "id": "qSKJE8thCVBz",
        "outputId": "73683373-fb9c-435f-93f4-533c3feda079"
      },
      "source": [
        "test_score = model.evaluate_generator(val_it, batch_size)\n",
        "\n",
        "\n",
        "\n",
        "print(\"[INFO] accuracy: {:.2f}%\".format(test_score[1] * 100)) \n",
        "\n",
        "print(\"[INFO] Loss: \",test_score[0])"
      ],
      "execution_count": null,
      "outputs": [
        {
          "output_type": "stream",
          "text": [
            "/usr/local/lib/python3.7/dist-packages/tensorflow/python/keras/engine/training.py:1877: UserWarning: `Model.evaluate_generator` is deprecated and will be removed in a future version. Please use `Model.evaluate`, which supports generators.\n",
            "  warnings.warn('`Model.evaluate_generator` is deprecated and '\n"
          ],
          "name": "stderr"
        },
        {
          "output_type": "stream",
          "text": [
            "WARNING:tensorflow:Your input ran out of data; interrupting training. Make sure that your dataset or generator can generate at least `steps_per_epoch * epochs` batches (in this case, 191 batches). You may need to use the repeat() function when building your dataset.\n",
            "[INFO] accuracy: 50.26%\n",
            "[INFO] Loss:  7.43430233001709\n"
          ],
          "name": "stdout"
        }
      ]
    },
    {
      "cell_type": "code",
      "metadata": {
        "id": "y4Rs57JULgCL"
      },
      "source": [
        "import sys\n",
        "\n",
        "import numpy as np\n",
        "\n",
        "from keras import backend as K\n",
        "\n",
        "from keras.models import Sequential\n",
        "\n",
        "from keras.layers.core import Dense, Dropout, Activation, Flatten\n",
        "\n",
        "from keras.layers.convolutional import Convolution2D, MaxPooling2D\n",
        "\n",
        "from keras.preprocessing.image import ImageDataGenerator\n",
        "\n",
        "from sklearn.metrics import classification_report, confusion_matrix\n",
        "\n",
        "from keras.layers import Conv2D, Flatten, Dense, MaxPool2D,MaxPooling2D, Activation, Dropout, BatchNormalization, Input\n",
        "\n",
        "import matplotlib.pyplot as plt\n",
        "\n",
        "from keras.optimizers import Adam\n",
        "\n",
        "import itertools "
      ],
      "execution_count": null,
      "outputs": []
    },
    {
      "cell_type": "code",
      "metadata": {
        "id": "mym2oImJLkhL"
      },
      "source": [
        "#Plot the confusion matrix. Set Normalize = True/False\n",
        "\n",
        "\n",
        "\n",
        "def plot_confusion_matrix(cm, classes, normalize=True, title='Confusion matrix', cmap=plt.cm.Blues):\n",
        "\n",
        "    \"\"\"\n",
        "\n",
        "    This function prints and plots the confusion matrix.\n",
        "\n",
        "    Normalization can be applied by setting `normalize=True`.\n",
        "\n",
        "    \"\"\"\n",
        "\n",
        "    plt.figure(figsize=(10,10))\n",
        "\n",
        "\n",
        "\n",
        "    plt.imshow(cm, interpolation='nearest', cmap=cmap)\n",
        "\n",
        "    plt.title(title)\n",
        "\n",
        "    plt.colorbar()\n",
        "\n",
        "\n",
        "\n",
        "    tick_marks = np.arange(len(classes))\n",
        "\n",
        "    plt.xticks(tick_marks, classes, rotation=45)\n",
        "\n",
        "    plt.yticks(tick_marks, classes)\n",
        "\n",
        "\n",
        "\n",
        "    if normalize:\n",
        "\n",
        "        cm = cm.astype('float') / cm.sum(axis=1)[:, np.newaxis]\n",
        "\n",
        "        cm = np.around(cm, decimals=2)\n",
        "\n",
        "        cm[np.isnan(cm)] = 0.0\n",
        "\n",
        "        print(\"Normalized confusion matrix\")\n",
        "\n",
        "    else:\n",
        "\n",
        "        print('Confusion matrix, without normalization')\n",
        "\n",
        "    thresh = cm.max() / 2.\n",
        "\n",
        "    for i, j in itertools.product(range(cm.shape[0]), range(cm.shape[1])):\n",
        "\n",
        "        plt.text(j, i, cm[i, j],\n",
        "\n",
        "                 horizontalalignment=\"center\",\n",
        "\n",
        "                 color=\"white\" if cm[i, j] > thresh else \"black\")\n",
        "\n",
        "    plt.tight_layout()\n",
        "\n",
        "    plt.ylabel('True label')\n",
        "\n",
        "    plt.xlabel('Predicted label')"
      ],
      "execution_count": null,
      "outputs": []
    },
    {
      "cell_type": "code",
      "metadata": {
        "colab": {
          "base_uri": "https://localhost:8080/"
        },
        "id": "7gSq4LyqLnII",
        "outputId": "1c64d06b-ac2c-4087-8831-42c59960f677"
      },
      "source": [
        "#Print the Target names\n",
        "\n",
        "\n",
        "\n",
        "target_names = []\n",
        "\n",
        "for key in val_it.class_indices:\n",
        "\n",
        "    target_names.append(key)\n",
        "\n",
        "\n",
        "\n",
        "print(target_names)"
      ],
      "execution_count": null,
      "outputs": [
        {
          "output_type": "stream",
          "text": [
            "['a', 'dh', 'e', 'ga', 'i', 'k', 'kh', 'o', 'oo', 'u']\n"
          ],
          "name": "stdout"
        }
      ]
    },
    {
      "cell_type": "code",
      "metadata": {
        "colab": {
          "base_uri": "https://localhost:8080/",
          "height": 745
        },
        "id": "KfSKzZtBLrzz",
        "outputId": "f7e60f66-c6ca-482b-fe8a-4d311a0039b2"
      },
      "source": [
        "from sklearn.metrics import classification_report, confusion_matrix\n",
        "cm = confusion_matrix(y_true,y_pred)\n",
        "plot_confusion_matrix(cm, target_names, title='Confusion Matrix')"
      ],
      "execution_count": null,
      "outputs": [
        {
          "output_type": "stream",
          "text": [
            "Normalized confusion matrix\n"
          ],
          "name": "stdout"
        },
        {
          "output_type": "display_data",
          "data": {
            "image/png": "[encoded data removed]",
            "text/plain": [
              "<Figure size 720x720 with 2 Axes>"
            ]
          },
          "metadata": {
            "tags": [],
            "needs_background": "light"
          }
        }
      ]
    },
    {
      "cell_type": "code",
      "metadata": {
        "colab": {
          "base_uri": "https://localhost:8080/"
        },
        "id": "Gcda_EraLzrR",
        "outputId": "3d965d00-798c-435c-83cf-d7d7110f1fe8"
      },
      "source": [
        "#Print Classification Report\n",
        "\n",
        "print('Classification Report')\n",
        "\n",
        "print(classification_report(y_true, y_pred))"
      ],
      "execution_count": null,
      "outputs": [
        {
          "output_type": "stream",
          "text": [
            "Classification Report\n",
            "              precision    recall  f1-score   support\n",
            "\n",
            "           0       1.00      0.20      0.33        20\n",
            "           1       1.00      0.24      0.38        21\n",
            "           2       0.24      0.23      0.23        22\n",
            "           3       0.78      0.86      0.82        21\n",
            "           4       0.42      0.86      0.57        22\n",
            "           5       0.00      0.00      0.00        11\n",
            "           6       0.62      1.00      0.77        10\n",
            "           7       0.42      0.38      0.40        21\n",
            "           8       0.63      0.77      0.69        22\n",
            "           9       0.32      0.48      0.38        21\n",
            "\n",
            "    accuracy                           0.50       191\n",
            "   macro avg       0.54      0.50      0.46       191\n",
            "weighted avg       0.56      0.50      0.47       191\n",
            "\n"
          ],
          "name": "stdout"
        },
        {
          "output_type": "stream",
          "text": [
            "/usr/local/lib/python3.7/dist-packages/sklearn/metrics/_classification.py:1272: UndefinedMetricWarning: Precision and F-score are ill-defined and being set to 0.0 in labels with no predicted samples. Use `zero_division` parameter to control this behavior.\n",
            "  _warn_prf(average, modifier, msg_start, len(result))\n"
          ],
          "name": "stderr"
        }
      ]
    },
    {
      "cell_type": "code",
      "metadata": {
        "id": "X2PIw23kL4eT"
      },
      "source": [
        ""
      ],
      "execution_count": null,
      "outputs": []
    }
  ]
}