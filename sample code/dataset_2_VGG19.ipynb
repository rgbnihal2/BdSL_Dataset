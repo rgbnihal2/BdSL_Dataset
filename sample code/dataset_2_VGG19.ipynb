{
  "nbformat": 4,
  "nbformat_minor": 0,
  "metadata": {
    "colab": {
      "name": "dataset 2 VGG19",
      "provenance": []
    },
    "kernelspec": {
      "name": "python3",
      "display_name": "Python 3"
    },
    "language_info": {
      "name": "python"
    },
    "accelerator": "GPU"
  },
  "cells": [
    {
      "cell_type": "code",
      "metadata": {
        "colab": {
          "base_uri": "https://localhost:8080/"
        },
        "id": "wnTRugAwPiAr",
        "outputId": "2a9181cd-c016-4106-aa2b-df0f9b99698a"
      },
      "source": [
        "from google.colab import drive\n",
        "drive.mount('/content/drive')"
      ],
      "execution_count": null,
      "outputs": [
        {
          "output_type": "stream",
          "text": [
            "Mounted at /content/drive\n"
          ],
          "name": "stdout"
        }
      ]
    },
    {
      "cell_type": "code",
      "metadata": {
        "id": "-l4MRfIYQESF"
      },
      "source": [
        "\n",
        "!unzip -uq \"/content/drive/MyDrive/Research and Project Stuffs/BdSL/Datasets/dataset2.zip\" -d \"/content/drive/MyDrive/Research and Project Stuffs/BdSL/Datasets/\""
      ],
      "execution_count": null,
      "outputs": []
    },
    {
      "cell_type": "code",
      "metadata": {
        "colab": {
          "base_uri": "https://localhost:8080/"
        },
        "id": "4gCn-4avQsgn",
        "outputId": "a01f5fb4-8c24-4d5d-e20a-e5e2f7fb2fe3"
      },
      "source": [
        "# example of progressively loading images from file\n",
        "from keras.preprocessing.image import ImageDataGenerator\n",
        "# create generator\n",
        "datagen = ImageDataGenerator(rescale=1. / 255,validation_split=0.2)\n",
        "img_height = 224\n",
        "img_width = 224 \n",
        "batch_size = 128\n",
        "# prepare an iterators for each dataset\n",
        "train_it = datagen.flow_from_directory('/content/drive/MyDrive/Research and Project Stuffs/BdSL/Datasets/dataset2',target_size=(img_height, img_width),batch_size = batch_size, subset='training')\n",
        "val_it = datagen.flow_from_directory('/content/drive/MyDrive/Research and Project Stuffs/BdSL/Datasets/dataset2',target_size=(img_height, img_width), batch_size = batch_size, subset='validation')"
      ],
      "execution_count": null,
      "outputs": [
        {
          "output_type": "stream",
          "text": [
            "Found 320 images belonging to 10 classes.\n",
            "Found 80 images belonging to 10 classes.\n"
          ],
          "name": "stdout"
        }
      ]
    },
    {
      "cell_type": "code",
      "metadata": {
        "colab": {
          "base_uri": "https://localhost:8080/"
        },
        "id": "L0NE2Yzd_WFB",
        "outputId": "3d44463e-0920-409e-be92-e813b4b6076c"
      },
      "source": [
        "from tensorflow.keras.applications import vgg19\n",
        "# Init the VGG model\n",
        "vgg_conv = vgg19.VGG19(weights='imagenet', include_top=False, input_shape=(img_height, img_height, 3))"
      ],
      "execution_count": null,
      "outputs": [
        {
          "output_type": "stream",
          "text": [
            "Downloading data from https://storage.googleapis.com/tensorflow/keras-applications/vgg19/vgg19_weights_tf_dim_ordering_tf_kernels_notop.h5\n",
            "80142336/80134624 [==============================] - 1s 0us/step\n"
          ],
          "name": "stdout"
        }
      ]
    },
    {
      "cell_type": "code",
      "metadata": {
        "colab": {
          "base_uri": "https://localhost:8080/"
        },
        "id": "_jwVecda_f6y",
        "outputId": "a796bf97-2425-45ef-ea00-5f74fb54bbe7"
      },
      "source": [
        "# Freeze all the layers\n",
        "for layer in vgg_conv.layers[:]:\n",
        "    layer.trainable = False\n",
        "# Check the trainable status of the individual layers\n",
        "for layer in vgg_conv.layers:\n",
        "    print(layer, layer.trainable)"
      ],
      "execution_count": null,
      "outputs": [
        {
          "output_type": "stream",
          "text": [
            "<tensorflow.python.keras.engine.input_layer.InputLayer object at 0x7f95bb3bcf50> False\n",
            "<tensorflow.python.keras.layers.convolutional.Conv2D object at 0x7f95f9880310> False\n",
            "<tensorflow.python.keras.layers.convolutional.Conv2D object at 0x7f95bdbe9ad0> False\n",
            "<tensorflow.python.keras.layers.pooling.MaxPooling2D object at 0x7f95bdb69e90> False\n",
            "<tensorflow.python.keras.layers.convolutional.Conv2D object at 0x7f95bdb75c50> False\n",
            "<tensorflow.python.keras.layers.convolutional.Conv2D object at 0x7f95bdb7afd0> False\n",
            "<tensorflow.python.keras.layers.pooling.MaxPooling2D object at 0x7f95bd6d8f90> False\n",
            "<tensorflow.python.keras.layers.convolutional.Conv2D object at 0x7f95bd6e0e50> False\n",
            "<tensorflow.python.keras.layers.convolutional.Conv2D object at 0x7f95bd6e4f50> False\n",
            "<tensorflow.python.keras.layers.convolutional.Conv2D object at 0x7f95bd6ea3d0> False\n",
            "<tensorflow.python.keras.layers.convolutional.Conv2D object at 0x7f95bd6eabd0> False\n",
            "<tensorflow.python.keras.layers.pooling.MaxPooling2D object at 0x7f95bd6f6cd0> False\n",
            "<tensorflow.python.keras.layers.convolutional.Conv2D object at 0x7f95bd6f9690> False\n",
            "<tensorflow.python.keras.layers.convolutional.Conv2D object at 0x7f95bd6eba10> False\n",
            "<tensorflow.python.keras.layers.convolutional.Conv2D object at 0x7f95bd6ffdd0> False\n",
            "<tensorflow.python.keras.layers.convolutional.Conv2D object at 0x7f95bd706d50> False\n",
            "<tensorflow.python.keras.layers.pooling.MaxPooling2D object at 0x7f95bd6dcb90> False\n",
            "<tensorflow.python.keras.layers.convolutional.Conv2D object at 0x7f95bd710d10> False\n",
            "<tensorflow.python.keras.layers.convolutional.Conv2D object at 0x7f95bd694f10> False\n",
            "<tensorflow.python.keras.layers.convolutional.Conv2D object at 0x7f95bd694e10> False\n",
            "<tensorflow.python.keras.layers.convolutional.Conv2D object at 0x7f95bd6f0a90> False\n",
            "<tensorflow.python.keras.layers.pooling.MaxPooling2D object at 0x7f95bd69f0d0> False\n"
          ],
          "name": "stdout"
        }
      ]
    },
    {
      "cell_type": "code",
      "metadata": {
        "id": "CQsdukGnFWAR"
      },
      "source": [
        "from keras.models import Sequential, Model\n",
        "#from tensorflow.keras.models import Model\n",
        "from keras.layers import Conv2D, MaxPooling2D, Activation, Embedding, Dense, Dropout, Flatten, Input,GlobalAveragePooling2D\n",
        "from keras import activations\n",
        "#from tensorflow.python.keras.layers.core import Dense, Dropout, Flatten\n",
        "#from tensorflow.python.keras.layers import Input\n",
        "from keras.optimizers import Adam, SGD\n",
        "from keras.layers import LSTM\n",
        "#from keras.layers import Dropout\n",
        "#from keras.applications.vgg16 import VGG16\n",
        "#from tensorflow.keras.applications import vgg16\n",
        "from skimage.color import gray2rgb\n",
        "#from tensorflow.keras.applications.inception_v3 import InceptionV3 \n",
        "#from tensorflow.keras.applications import DenseNet201"
      ],
      "execution_count": null,
      "outputs": []
    },
    {
      "cell_type": "code",
      "metadata": {
        "colab": {
          "base_uri": "https://localhost:8080/"
        },
        "id": "hDUAiWIeE1Ui",
        "outputId": "d98668b7-8d0d-4efc-d0fa-b0ddf45aef18"
      },
      "source": [
        "# Create the model\n",
        "model = Sequential()\n",
        "\n",
        "# Add the vgg convolutional base model\n",
        "model.add(vgg_conv)\n",
        "\n",
        "# Add new layers\n",
        "model.add(Flatten())\n",
        "model.add(Dense(1024, activation='relu'))\n",
        "model.add(Dropout(0.5))\n",
        "model.add(Dense(10, activation='softmax'))\n",
        "\n",
        "# Show a summary of the model. Check the number of trainable parameters\n",
        "model.summary()"
      ],
      "execution_count": null,
      "outputs": [
        {
          "output_type": "stream",
          "text": [
            "Model: \"sequential\"\n",
            "_________________________________________________________________\n",
            "Layer (type)                 Output Shape              Param #   \n",
            "=================================================================\n",
            "vgg19 (Functional)           (None, 7, 7, 512)         20024384  \n",
            "_________________________________________________________________\n",
            "flatten (Flatten)            (None, 25088)             0         \n",
            "_________________________________________________________________\n",
            "dense (Dense)                (None, 1024)              25691136  \n",
            "_________________________________________________________________\n",
            "dropout (Dropout)            (None, 1024)              0         \n",
            "_________________________________________________________________\n",
            "dense_1 (Dense)              (None, 10)                10250     \n",
            "=================================================================\n",
            "Total params: 45,725,770\n",
            "Trainable params: 25,701,386\n",
            "Non-trainable params: 20,024,384\n",
            "_________________________________________________________________\n"
          ],
          "name": "stdout"
        }
      ]
    },
    {
      "cell_type": "code",
      "metadata": {
        "colab": {
          "base_uri": "https://localhost:8080/"
        },
        "id": "rrAx1W0gGHTb",
        "outputId": "df86522a-be4a-477d-a037-5ab0bbee2c5c"
      },
      "source": [
        "train_it.samples"
      ],
      "execution_count": null,
      "outputs": [
        {
          "output_type": "execute_result",
          "data": {
            "text/plain": [
              "10656"
            ]
          },
          "metadata": {
            "tags": []
          },
          "execution_count": 22
        }
      ]
    },
    {
      "cell_type": "code",
      "metadata": {
        "id": "Jnxc5HckGwqL"
      },
      "source": [
        "import keras\n",
        "#sgd = keras.optimizers.SGD(lr=0.00001, decay=1e-6, momentum=0.9, nesterov=True)\n",
        "model.compile(loss='categorical_crossentropy',\n",
        "              optimizer=keras.optimizers.SGD(lr=1e-3),\n",
        "              metrics=['acc'])"
      ],
      "execution_count": null,
      "outputs": []
    },
    {
      "cell_type": "code",
      "metadata": {
        "colab": {
          "base_uri": "https://localhost:8080/"
        },
        "id": "EV8WD7w5FZuD",
        "outputId": "94716fd5-03a9-47cb-cabe-61f6aba222f5"
      },
      "source": [
        "nb_epochs = 100\n",
        "batch_size = 128\n",
        "model.fit_generator(\n",
        "    train_it,\n",
        "    steps_per_epoch = train_it.samples // batch_size,\n",
        "    validation_data = val_it, \n",
        "    validation_steps = val_it.samples // batch_size,\n",
        "    epochs = nb_epochs)"
      ],
      "execution_count": null,
      "outputs": [
        {
          "output_type": "stream",
          "text": [
            "/usr/local/lib/python3.7/dist-packages/tensorflow/python/keras/engine/training.py:1844: UserWarning: `Model.fit_generator` is deprecated and will be removed in a future version. Please use `Model.fit`, which supports generators.\n",
            "  warnings.warn('`Model.fit_generator` is deprecated and '\n"
          ],
          "name": "stderr"
        },
        {
          "output_type": "stream",
          "text": [
            "Epoch 1/100\n",
            "2/2 [==============================] - 193s 117s/step - loss: 2.7409 - acc: 0.1024\n",
            "Epoch 2/100\n",
            "2/2 [==============================] - 39s 13s/step - loss: 2.4892 - acc: 0.1198\n",
            "Epoch 3/100\n",
            "2/2 [==============================] - 51s 25s/step - loss: 2.3417 - acc: 0.1875\n",
            "Epoch 4/100\n",
            "2/2 [==============================] - 38s 13s/step - loss: 2.3479 - acc: 0.1710\n",
            "Epoch 5/100\n",
            "2/2 [==============================] - 38s 13s/step - loss: 2.3275 - acc: 0.1615\n",
            "Epoch 6/100\n",
            "2/2 [==============================] - 38s 13s/step - loss: 2.1351 - acc: 0.2300\n",
            "Epoch 7/100\n",
            "2/2 [==============================] - 51s 25s/step - loss: 2.1619 - acc: 0.2344\n",
            "Epoch 8/100\n",
            "2/2 [==============================] - 38s 13s/step - loss: 2.1253 - acc: 0.2422\n",
            "Epoch 9/100\n",
            "2/2 [==============================] - 51s 25s/step - loss: 1.9921 - acc: 0.2812\n",
            "Epoch 10/100\n",
            "2/2 [==============================] - 38s 26s/step - loss: 1.9537 - acc: 0.3785\n",
            "Epoch 11/100\n",
            "2/2 [==============================] - 38s 26s/step - loss: 2.0009 - acc: 0.2899\n",
            "Epoch 12/100\n",
            "2/2 [==============================] - 52s 26s/step - loss: 1.9597 - acc: 0.3438\n",
            "Epoch 13/100\n",
            "2/2 [==============================] - 39s 13s/step - loss: 1.8322 - acc: 0.4080\n",
            "Epoch 14/100\n",
            "2/2 [==============================] - 38s 26s/step - loss: 1.8431 - acc: 0.3663\n",
            "Epoch 15/100\n",
            "2/2 [==============================] - 38s 25s/step - loss: 1.7601 - acc: 0.3993\n",
            "Epoch 16/100\n",
            "2/2 [==============================] - 38s 13s/step - loss: 1.7280 - acc: 0.4792\n",
            "Epoch 17/100\n",
            "2/2 [==============================] - 38s 25s/step - loss: 1.7089 - acc: 0.4219\n",
            "Epoch 18/100\n",
            "2/2 [==============================] - 38s 13s/step - loss: 1.7024 - acc: 0.5443\n",
            "Epoch 19/100\n",
            "2/2 [==============================] - 52s 26s/step - loss: 1.5664 - acc: 0.5781\n",
            "Epoch 20/100\n",
            "2/2 [==============================] - 51s 25s/step - loss: 1.5648 - acc: 0.5885\n",
            "Epoch 21/100\n",
            "2/2 [==============================] - 38s 25s/step - loss: 1.5242 - acc: 0.6094\n",
            "Epoch 22/100\n",
            "2/2 [==============================] - 51s 25s/step - loss: 1.5782 - acc: 0.5651\n",
            "Epoch 23/100\n",
            "2/2 [==============================] - 38s 26s/step - loss: 1.5663 - acc: 0.5920\n",
            "Epoch 24/100\n",
            "2/2 [==============================] - 38s 25s/step - loss: 1.4647 - acc: 0.5851\n",
            "Epoch 25/100\n",
            "2/2 [==============================] - 38s 25s/step - loss: 1.4170 - acc: 0.6580\n",
            "Epoch 26/100\n",
            "2/2 [==============================] - 38s 25s/step - loss: 1.4082 - acc: 0.6510\n",
            "Epoch 27/100\n",
            "2/2 [==============================] - 38s 13s/step - loss: 1.4020 - acc: 0.7118\n",
            "Epoch 28/100\n",
            "2/2 [==============================] - 38s 26s/step - loss: 1.3484 - acc: 0.7049\n",
            "Epoch 29/100\n",
            "2/2 [==============================] - 51s 26s/step - loss: 1.3182 - acc: 0.7734\n",
            "Epoch 30/100\n",
            "2/2 [==============================] - 38s 26s/step - loss: 1.3473 - acc: 0.7153\n",
            "Epoch 31/100\n",
            "2/2 [==============================] - 38s 25s/step - loss: 1.2869 - acc: 0.8125\n",
            "Epoch 32/100\n",
            "2/2 [==============================] - 38s 13s/step - loss: 1.2592 - acc: 0.7882\n",
            "Epoch 33/100\n",
            "2/2 [==============================] - 51s 26s/step - loss: 1.2488 - acc: 0.7760\n",
            "Epoch 34/100\n",
            "2/2 [==============================] - 51s 26s/step - loss: 1.1827 - acc: 0.8229\n",
            "Epoch 35/100\n",
            "2/2 [==============================] - 38s 26s/step - loss: 1.1495 - acc: 0.8264\n",
            "Epoch 36/100\n",
            "2/2 [==============================] - 38s 26s/step - loss: 1.2167 - acc: 0.8281\n",
            "Epoch 37/100\n",
            "2/2 [==============================] - 51s 26s/step - loss: 1.1119 - acc: 0.8620\n",
            "Epoch 38/100\n",
            "2/2 [==============================] - 38s 26s/step - loss: 1.1303 - acc: 0.8715\n",
            "Epoch 39/100\n",
            "2/2 [==============================] - 51s 25s/step - loss: 1.1141 - acc: 0.8594\n",
            "Epoch 40/100\n",
            "2/2 [==============================] - 38s 26s/step - loss: 1.0749 - acc: 0.8194\n",
            "Epoch 41/100\n",
            "2/2 [==============================] - 38s 26s/step - loss: 1.0508 - acc: 0.8819\n",
            "Epoch 42/100\n",
            "2/2 [==============================] - 38s 26s/step - loss: 1.0277 - acc: 0.9132\n",
            "Epoch 43/100\n",
            "2/2 [==============================] - 51s 26s/step - loss: 1.0791 - acc: 0.8854\n",
            "Epoch 44/100\n",
            "2/2 [==============================] - 38s 13s/step - loss: 1.0072 - acc: 0.9002\n",
            "Epoch 45/100\n",
            "2/2 [==============================] - 38s 26s/step - loss: 0.9914 - acc: 0.8837\n",
            "Epoch 46/100\n",
            "2/2 [==============================] - 38s 26s/step - loss: 0.9268 - acc: 0.9167\n",
            "Epoch 47/100\n",
            "2/2 [==============================] - 51s 26s/step - loss: 0.9612 - acc: 0.9193\n",
            "Epoch 48/100\n",
            "2/2 [==============================] - 51s 25s/step - loss: 0.9623 - acc: 0.8984\n",
            "Epoch 49/100\n",
            "2/2 [==============================] - 51s 25s/step - loss: 0.9496 - acc: 0.9167\n",
            "Epoch 50/100\n",
            "2/2 [==============================] - 51s 25s/step - loss: 0.9529 - acc: 0.9245\n",
            "Epoch 51/100\n",
            "2/2 [==============================] - 38s 26s/step - loss: 0.9093 - acc: 0.9497\n",
            "Epoch 52/100\n",
            "2/2 [==============================] - 51s 26s/step - loss: 0.8979 - acc: 0.9193\n",
            "Epoch 53/100\n",
            "2/2 [==============================] - 51s 25s/step - loss: 0.8719 - acc: 0.9427\n",
            "Epoch 54/100\n",
            "2/2 [==============================] - 38s 13s/step - loss: 0.8499 - acc: 0.9297\n",
            "Epoch 55/100\n",
            "2/2 [==============================] - 39s 26s/step - loss: 0.8329 - acc: 0.9392\n",
            "Epoch 56/100\n",
            "2/2 [==============================] - 38s 26s/step - loss: 0.8287 - acc: 0.9392\n",
            "Epoch 57/100\n",
            "2/2 [==============================] - 38s 26s/step - loss: 0.7750 - acc: 0.9635\n",
            "Epoch 58/100\n",
            "2/2 [==============================] - 51s 25s/step - loss: 0.8387 - acc: 0.9479\n",
            "Epoch 59/100\n",
            "2/2 [==============================] - 51s 25s/step - loss: 0.8171 - acc: 0.9375\n",
            "Epoch 60/100\n",
            "2/2 [==============================] - 38s 13s/step - loss: 0.7702 - acc: 0.9410\n",
            "Epoch 61/100\n",
            "2/2 [==============================] - 51s 26s/step - loss: 0.8560 - acc: 0.9271\n",
            "Epoch 62/100\n",
            "2/2 [==============================] - 38s 13s/step - loss: 0.7854 - acc: 0.9401\n",
            "Epoch 63/100\n",
            "2/2 [==============================] - 38s 26s/step - loss: 0.7480 - acc: 0.9583\n",
            "Epoch 64/100\n",
            "2/2 [==============================] - 51s 26s/step - loss: 0.7793 - acc: 0.9583\n",
            "Epoch 65/100\n",
            "2/2 [==============================] - 38s 26s/step - loss: 0.7470 - acc: 0.9670\n",
            "Epoch 66/100\n",
            "2/2 [==============================] - 38s 26s/step - loss: 0.7619 - acc: 0.9184\n",
            "Epoch 67/100\n",
            "2/2 [==============================] - 38s 26s/step - loss: 0.7358 - acc: 0.9288\n",
            "Epoch 68/100\n",
            "2/2 [==============================] - 38s 13s/step - loss: 0.7163 - acc: 0.9566\n",
            "Epoch 69/100\n",
            "2/2 [==============================] - 51s 25s/step - loss: 0.7202 - acc: 0.9505\n",
            "Epoch 70/100\n",
            "2/2 [==============================] - 51s 25s/step - loss: 0.6843 - acc: 0.9635\n",
            "Epoch 71/100\n",
            "2/2 [==============================] - 39s 26s/step - loss: 0.6961 - acc: 0.9601\n",
            "Epoch 72/100\n",
            "2/2 [==============================] - 38s 13s/step - loss: 0.7039 - acc: 0.9844\n",
            "Epoch 73/100\n",
            "2/2 [==============================] - 38s 13s/step - loss: 0.6784 - acc: 0.9505\n",
            "Epoch 74/100\n",
            "2/2 [==============================] - 51s 25s/step - loss: 0.6930 - acc: 0.9688\n",
            "Epoch 75/100\n",
            "2/2 [==============================] - 38s 26s/step - loss: 0.6387 - acc: 0.9826\n",
            "Epoch 76/100\n",
            "2/2 [==============================] - 51s 25s/step - loss: 0.6313 - acc: 0.9948\n",
            "Epoch 77/100\n",
            "2/2 [==============================] - 51s 25s/step - loss: 0.6442 - acc: 0.9792\n",
            "Epoch 78/100\n",
            "2/2 [==============================] - 38s 13s/step - loss: 0.5951 - acc: 0.9835\n",
            "Epoch 79/100\n",
            "2/2 [==============================] - 51s 26s/step - loss: 0.6282 - acc: 0.9583\n",
            "Epoch 80/100\n",
            "2/2 [==============================] - 38s 25s/step - loss: 0.6227 - acc: 0.9826\n",
            "Epoch 81/100\n",
            "2/2 [==============================] - 38s 13s/step - loss: 0.6108 - acc: 0.9965\n",
            "Epoch 82/100\n",
            "2/2 [==============================] - 38s 25s/step - loss: 0.6203 - acc: 0.9618\n",
            "Epoch 83/100\n",
            "2/2 [==============================] - 38s 26s/step - loss: 0.5837 - acc: 0.9826\n",
            "Epoch 84/100\n",
            "2/2 [==============================] - 51s 25s/step - loss: 0.5785 - acc: 0.9896\n",
            "Epoch 85/100\n",
            "2/2 [==============================] - 38s 26s/step - loss: 0.5789 - acc: 0.9688\n",
            "Epoch 86/100\n",
            "2/2 [==============================] - 38s 13s/step - loss: 0.5640 - acc: 0.9783\n",
            "Epoch 87/100\n",
            "2/2 [==============================] - 51s 25s/step - loss: 0.5718 - acc: 0.9896\n",
            "Epoch 88/100\n",
            "2/2 [==============================] - 38s 13s/step - loss: 0.5573 - acc: 0.9905\n",
            "Epoch 89/100\n",
            "2/2 [==============================] - 51s 25s/step - loss: 0.5695 - acc: 0.9740\n",
            "Epoch 90/100\n",
            "2/2 [==============================] - 38s 25s/step - loss: 0.5445 - acc: 0.9844\n",
            "Epoch 91/100\n",
            "2/2 [==============================] - 51s 25s/step - loss: 0.5039 - acc: 0.9844\n",
            "Epoch 92/100\n",
            "2/2 [==============================] - 51s 25s/step - loss: 0.5415 - acc: 0.9844\n",
            "Epoch 93/100\n",
            "2/2 [==============================] - 38s 13s/step - loss: 0.5079 - acc: 0.9878\n",
            "Epoch 94/100\n",
            "2/2 [==============================] - 38s 13s/step - loss: 0.5110 - acc: 0.9965\n",
            "Epoch 95/100\n",
            "2/2 [==============================] - 38s 13s/step - loss: 0.4902 - acc: 0.9939\n",
            "Epoch 96/100\n",
            "2/2 [==============================] - 38s 13s/step - loss: 0.4843 - acc: 1.0000\n",
            "Epoch 97/100\n",
            "2/2 [==============================] - 38s 26s/step - loss: 0.5446 - acc: 0.9792\n",
            "Epoch 98/100\n",
            "2/2 [==============================] - 38s 13s/step - loss: 0.4857 - acc: 0.9965\n",
            "Epoch 99/100\n",
            "2/2 [==============================] - 38s 13s/step - loss: 0.4589 - acc: 0.9818\n",
            "Epoch 100/100\n",
            "2/2 [==============================] - 51s 25s/step - loss: 0.4660 - acc: 0.9922\n"
          ],
          "name": "stdout"
        },
        {
          "output_type": "execute_result",
          "data": {
            "text/plain": [
              "<tensorflow.python.keras.callbacks.History at 0x7f95b05d3c10>"
            ]
          },
          "metadata": {
            "tags": []
          },
          "execution_count": 8
        }
      ]
    },
    {
      "cell_type": "code",
      "metadata": {
        "colab": {
          "base_uri": "https://localhost:8080/"
        },
        "id": "nfLx7xpSGkMO",
        "outputId": "b6a7bdfc-1c50-4eb9-e7ce-19234f57a73a"
      },
      "source": [
        "model.save(\"/content/drive/MyDrive/Research and Project Stuffs/BdSL/Datasets/Dataset_2_VGG19\")"
      ],
      "execution_count": null,
      "outputs": [
        {
          "output_type": "stream",
          "text": [
            "INFO:tensorflow:Assets written to: /content/drive/MyDrive/Research and Project Stuffs/BdSL/Datasets/Dataset_1_VGG19/assets\n"
          ],
          "name": "stdout"
        }
      ]
    },
    {
      "cell_type": "code",
      "metadata": {
        "colab": {
          "base_uri": "https://localhost:8080/"
        },
        "id": "YjS87ZEc0lGu",
        "outputId": "0e14e3d3-4d98-4b00-dd8c-767e79a16f6e"
      },
      "source": [
        "val_it.classes"
      ],
      "execution_count": null,
      "outputs": [
        {
          "output_type": "execute_result",
          "data": {
            "text/plain": [
              "array([ 0,  0,  0, ..., 36, 36, 36], dtype=int32)"
            ]
          },
          "metadata": {
            "tags": []
          },
          "execution_count": 14
        }
      ]
    },
    {
      "cell_type": "code",
      "metadata": {
        "colab": {
          "base_uri": "https://localhost:8080/"
        },
        "id": "0f7UTYKS4qKZ",
        "outputId": "ba698d83-33db-45e3-e599-cc628c471a4c"
      },
      "source": [
        "val_it.classes"
      ],
      "execution_count": null,
      "outputs": [
        {
          "output_type": "execute_result",
          "data": {
            "text/plain": [
              "array([ 0,  0,  0, ..., 36, 36, 36], dtype=int32)"
            ]
          },
          "metadata": {
            "tags": []
          },
          "execution_count": 27
        }
      ]
    },
    {
      "cell_type": "code",
      "metadata": {
        "id": "7lBylmDLJ2U3",
        "colab": {
          "base_uri": "https://localhost:8080/"
        },
        "outputId": "af591f75-c959-4fb4-a528-d36c28109d4f"
      },
      "source": [
        "test_score = model.evaluate_generator(val_it, batch_size)\n",
        "\n",
        "\n",
        "\n",
        "print(\"[INFO] accuracy: {:.2f}%\".format(test_score[1] * 100)) \n",
        "\n",
        "print(\"[INFO] Loss: \",test_score[0])"
      ],
      "execution_count": null,
      "outputs": [
        {
          "output_type": "stream",
          "text": [
            "/usr/local/lib/python3.7/dist-packages/tensorflow/python/keras/engine/training.py:1877: UserWarning: `Model.evaluate_generator` is deprecated and will be removed in a future version. Please use `Model.evaluate`, which supports generators.\n",
            "  warnings.warn('`Model.evaluate_generator` is deprecated and '\n"
          ],
          "name": "stderr"
        },
        {
          "output_type": "stream",
          "text": [
            "WARNING:tensorflow:Your input ran out of data; interrupting training. Make sure that your dataset or generator can generate at least `steps_per_epoch * epochs` batches (in this case, 128 batches). You may need to use the repeat() function when building your dataset.\n",
            "[INFO] accuracy: 98.75%\n",
            "[INFO] Loss:  0.5093265771865845\n"
          ],
          "name": "stdout"
        }
      ]
    },
    {
      "cell_type": "code",
      "metadata": {
        "id": "jkCAHjHqapxA"
      },
      "source": [
        "import sys\n",
        "\n",
        "import numpy as np\n",
        "\n",
        "from keras import backend as K\n",
        "\n",
        "from keras.models import Sequential\n",
        "\n",
        "from keras.layers.core import Dense, Dropout, Activation, Flatten\n",
        "\n",
        "from keras.layers.convolutional import Convolution2D, MaxPooling2D\n",
        "\n",
        "from keras.preprocessing.image import ImageDataGenerator\n",
        "\n",
        "from sklearn.metrics import classification_report, confusion_matrix\n",
        "\n",
        "from keras.layers import Conv2D, Flatten, Dense, MaxPool2D,MaxPooling2D, Activation, Dropout, BatchNormalization, Input\n",
        "\n",
        "import matplotlib.pyplot as plt\n",
        "\n",
        "from keras.optimizers import Adam\n",
        "\n",
        "import itertools "
      ],
      "execution_count": null,
      "outputs": []
    },
    {
      "cell_type": "code",
      "metadata": {
        "id": "CSJ0iN3YasE9"
      },
      "source": [
        "#Plot the confusion matrix. Set Normalize = True/False\n",
        "\n",
        "\n",
        "\n",
        "def plot_confusion_matrix(cm, classes, normalize=True, title='Confusion matrix', cmap=plt.cm.Blues):\n",
        "\n",
        "    \"\"\"\n",
        "\n",
        "    This function prints and plots the confusion matrix.\n",
        "\n",
        "    Normalization can be applied by setting `normalize=True`.\n",
        "\n",
        "    \"\"\"\n",
        "\n",
        "    plt.figure(figsize=(10,10))\n",
        "\n",
        "\n",
        "\n",
        "    plt.imshow(cm, interpolation='nearest', cmap=cmap)\n",
        "\n",
        "    plt.title(title)\n",
        "\n",
        "    plt.colorbar()\n",
        "\n",
        "\n",
        "\n",
        "    tick_marks = np.arange(len(classes))\n",
        "\n",
        "    plt.xticks(tick_marks, classes, rotation=45)\n",
        "\n",
        "    plt.yticks(tick_marks, classes)\n",
        "\n",
        "\n",
        "\n",
        "    if normalize:\n",
        "\n",
        "        cm = cm.astype('float') / cm.sum(axis=1)[:, np.newaxis]\n",
        "\n",
        "        cm = np.around(cm, decimals=2)\n",
        "\n",
        "        cm[np.isnan(cm)] = 0.0\n",
        "\n",
        "        print(\"Normalized confusion matrix\")\n",
        "\n",
        "    else:\n",
        "\n",
        "        print('Confusion matrix, without normalization')\n",
        "\n",
        "    thresh = cm.max() / 2.\n",
        "\n",
        "    for i, j in itertools.product(range(cm.shape[0]), range(cm.shape[1])):\n",
        "\n",
        "        plt.text(j, i, cm[i, j],\n",
        "\n",
        "                 horizontalalignment=\"center\",\n",
        "\n",
        "                 color=\"white\" if cm[i, j] > thresh else \"black\")\n",
        "\n",
        "    plt.tight_layout()\n",
        "\n",
        "    plt.ylabel('True label')\n",
        "\n",
        "    plt.xlabel('Predicted label')"
      ],
      "execution_count": null,
      "outputs": []
    },
    {
      "cell_type": "code",
      "metadata": {
        "colab": {
          "base_uri": "https://localhost:8080/"
        },
        "id": "1IuGHZl1at7G",
        "outputId": "a2002c36-1fb1-4764-9470-3b68f3ba4a65"
      },
      "source": [
        "#Print the Target names\n",
        "\n",
        "\n",
        "\n",
        "target_names = []\n",
        "\n",
        "for key in val_it.class_indices:\n",
        "\n",
        "    target_names.append(key)\n",
        "\n",
        "\n",
        "\n",
        "print(target_names)"
      ],
      "execution_count": null,
      "outputs": [
        {
          "output_type": "stream",
          "text": [
            "['aa', 'bho', 'bishorgo', 'ga', 'la', 'po', 'rri', 'ta', 'th', 'tho']\n"
          ],
          "name": "stdout"
        }
      ]
    },
    {
      "cell_type": "code",
      "metadata": {
        "colab": {
          "base_uri": "https://localhost:8080/"
        },
        "id": "b77T179na04N",
        "outputId": "09448b4c-2bee-4007-ab60-e6b2134dccc3"
      },
      "source": [
        "y_img_batch, y_class_batch = val_it[0]\n",
        "y_pred = np.argmax(model.predict(y_img_batch),-1)\n",
        "y_true = np.argmax(y_class_batch,-1)\n",
        "print(sum(y_pred==y_true)/batch_size)"
      ],
      "execution_count": null,
      "outputs": [
        {
          "output_type": "stream",
          "text": [
            "0.6171875\n"
          ],
          "name": "stdout"
        }
      ]
    },
    {
      "cell_type": "code",
      "metadata": {
        "colab": {
          "base_uri": "https://localhost:8080/",
          "height": 745
        },
        "id": "5Vvkwgwpa3QD",
        "outputId": "f3987870-51df-463d-9aca-0b8f7f886bb4"
      },
      "source": [
        "from sklearn.metrics import classification_report, confusion_matrix\n",
        "cm = confusion_matrix(y_true,y_pred)\n",
        "plot_confusion_matrix(cm, target_names, title='Confusion Matrix')"
      ],
      "execution_count": null,
      "outputs": [
        {
          "output_type": "stream",
          "text": [
            "Normalized confusion matrix\n"
          ],
          "name": "stdout"
        },
        {
          "output_type": "display_data",
          "data": {
            "image/png": "[encoded data removed]",
            "text/plain": [
              "<Figure size 720x720 with 2 Axes>"
            ]
          },
          "metadata": {
            "tags": [],
            "needs_background": "light"
          }
        }
      ]
    },
    {
      "cell_type": "code",
      "metadata": {
        "colab": {
          "base_uri": "https://localhost:8080/"
        },
        "id": "YNR6U3Nya5Pt",
        "outputId": "26506b4e-04b0-4ee5-9565-31aa9ff45aa4"
      },
      "source": [
        "#Print Classification Report\n",
        "\n",
        "print('Classification Report')\n",
        "\n",
        "print(classification_report(y_true, y_pred))"
      ],
      "execution_count": null,
      "outputs": [
        {
          "output_type": "stream",
          "text": [
            "Classification Report\n",
            "              precision    recall  f1-score   support\n",
            "\n",
            "           0       1.00      1.00      1.00         8\n",
            "           1       1.00      1.00      1.00         8\n",
            "           2       1.00      1.00      1.00         8\n",
            "           3       1.00      1.00      1.00         8\n",
            "           4       1.00      0.88      0.93         8\n",
            "           5       0.89      1.00      0.94         8\n",
            "           6       1.00      1.00      1.00         8\n",
            "           7       1.00      1.00      1.00         8\n",
            "           8       1.00      1.00      1.00         8\n",
            "           9       1.00      1.00      1.00         8\n",
            "\n",
            "    accuracy                           0.99        80\n",
            "   macro avg       0.99      0.99      0.99        80\n",
            "weighted avg       0.99      0.99      0.99        80\n",
            "\n"
          ],
          "name": "stdout"
        }
      ]
    },
    {
      "cell_type": "code",
      "metadata": {
        "id": "Si2D91iea7mu"
      },
      "source": [
        ""
      ],
      "execution_count": null,
      "outputs": []
    }
  ]
}