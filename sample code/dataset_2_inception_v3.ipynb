{
  "nbformat": 4,
  "nbformat_minor": 0,
  "metadata": {
    "colab": {
      "name": "dataset 2 inception v3",
      "provenance": [],
      "collapsed_sections": []
    },
    "kernelspec": {
      "name": "python3",
      "display_name": "Python 3"
    },
    "language_info": {
      "name": "python"
    },
    "accelerator": "GPU"
  },
  "cells": [
    {
      "cell_type": "code",
      "metadata": {
        "id": "wnTRugAwPiAr"
      },
      "source": [
        "from google.colab import drive\n",
        "drive.mount('/content/drive')"
      ],
      "execution_count": null,
      "outputs": []
    },
    {
      "cell_type": "code",
      "metadata": {
        "id": "-l4MRfIYQESF"
      },
      "source": [
        "\n",
        "!unzip -uq \"/content/drive/MyDrive/Research and Project Stuffs/BdSL/Datasets/dataset1.zip\" -d \"/content/drive/MyDrive/Research and Project Stuffs/BdSL/Datasets/\""
      ],
      "execution_count": null,
      "outputs": []
    },
    {
      "cell_type": "code",
      "metadata": {
        "id": "4gCn-4avQsgn"
      },
      "source": [
        "# example of progressively loading images from file\n",
        "from keras.preprocessing.image import ImageDataGenerator\n",
        "# create generator\n",
        "datagen = ImageDataGenerator(rescale=1. / 255, validation_split=0.2)\n",
        "img_height = 224\n",
        "img_width = 224 \n",
        "batch_size = 80\n",
        "# prepare an iterators for each dataset\n",
        "train_it = datagen.flow_from_directory('/content/drive/MyDrive/Research and Project Stuffs/BdSL/Datasets/dataset2',target_size=(img_height, img_width),batch_size = batch_size, subset='training')\n",
        "val_it = datagen.flow_from_directory('/content/drive/MyDrive/Research and Project Stuffs/BdSL/Datasets/dataset2',target_size=(img_height, img_width), batch_size = batch_size, subset='validation')"
      ],
      "execution_count": null,
      "outputs": []
    },
    {
      "cell_type": "code",
      "metadata": {
        "colab": {
          "base_uri": "https://localhost:8080/"
        },
        "id": "vJxJYLGa7BCa",
        "outputId": "ec2af6a5-0b43-4d80-8963-0c795691a8ac"
      },
      "source": [
        "# confirm the iterator works\n",
        "batchX, batchy = train_it.next()\n",
        "print('Batch shape=%s, min=%.3f, max=%.3f' % (batchX.shape, batchX.min(), batchX.max()))"
      ],
      "execution_count": null,
      "outputs": [
        {
          "output_type": "stream",
          "text": [
            "Batch shape=(32, 224, 224, 3), min=5.000, max=251.000\n"
          ],
          "name": "stdout"
        }
      ]
    },
    {
      "cell_type": "code",
      "metadata": {
        "id": "nrv3Eu7q7rL6"
      },
      "source": [
        "from sklearn.model_selection import train_test_split\n"
      ],
      "execution_count": null,
      "outputs": []
    },
    {
      "cell_type": "code",
      "metadata": {
        "colab": {
          "base_uri": "https://localhost:8080/",
          "height": 299
        },
        "id": "5ojf4m6G8ZDT",
        "outputId": "02ee15ac-55d8-41f0-a67a-be04e399083e"
      },
      "source": [
        "X_train, X_test, y_train, y_test = train_test_split(train_it, test_size=0.2, random_state=42)"
      ],
      "execution_count": null,
      "outputs": [
        {
          "output_type": "error",
          "ename": "KeyboardInterrupt",
          "evalue": "ignored",
          "traceback": [
            "\u001b[0;31m---------------------------------------------------------------------------\u001b[0m",
            "\u001b[0;31mKeyboardInterrupt\u001b[0m                         Traceback (most recent call last)",
            "\u001b[0;32m<ipython-input-11-2b74e10e72d7>\u001b[0m in \u001b[0;36m<module>\u001b[0;34m()\u001b[0m\n\u001b[0;32m----> 1\u001b[0;31m \u001b[0mX_train\u001b[0m\u001b[0;34m,\u001b[0m \u001b[0mX_test\u001b[0m\u001b[0;34m,\u001b[0m \u001b[0my_train\u001b[0m\u001b[0;34m,\u001b[0m \u001b[0my_test\u001b[0m \u001b[0;34m=\u001b[0m \u001b[0mtrain_test_split\u001b[0m\u001b[0;34m(\u001b[0m\u001b[0mtrain_it\u001b[0m\u001b[0;34m,\u001b[0m \u001b[0mtest_size\u001b[0m\u001b[0;34m=\u001b[0m\u001b[0;36m0.2\u001b[0m\u001b[0;34m,\u001b[0m \u001b[0mrandom_state\u001b[0m\u001b[0;34m=\u001b[0m\u001b[0;36m42\u001b[0m\u001b[0;34m)\u001b[0m\u001b[0;34m\u001b[0m\u001b[0;34m\u001b[0m\u001b[0m\n\u001b[0m",
            "\u001b[0;32m/usr/local/lib/python3.7/dist-packages/sklearn/model_selection/_split.py\u001b[0m in \u001b[0;36mtrain_test_split\u001b[0;34m(*arrays, **options)\u001b[0m\n\u001b[1;32m   2144\u001b[0m \u001b[0;34m\u001b[0m\u001b[0m\n\u001b[1;32m   2145\u001b[0m     return list(chain.from_iterable((_safe_indexing(a, train),\n\u001b[0;32m-> 2146\u001b[0;31m                                      _safe_indexing(a, test)) for a in arrays))\n\u001b[0m\u001b[1;32m   2147\u001b[0m \u001b[0;34m\u001b[0m\u001b[0m\n\u001b[1;32m   2148\u001b[0m \u001b[0;34m\u001b[0m\u001b[0m\n",
            "\u001b[0;32m/usr/local/lib/python3.7/dist-packages/sklearn/model_selection/_split.py\u001b[0m in \u001b[0;36m<genexpr>\u001b[0;34m(.0)\u001b[0m\n\u001b[1;32m   2144\u001b[0m \u001b[0;34m\u001b[0m\u001b[0m\n\u001b[1;32m   2145\u001b[0m     return list(chain.from_iterable((_safe_indexing(a, train),\n\u001b[0;32m-> 2146\u001b[0;31m                                      _safe_indexing(a, test)) for a in arrays))\n\u001b[0m\u001b[1;32m   2147\u001b[0m \u001b[0;34m\u001b[0m\u001b[0m\n\u001b[1;32m   2148\u001b[0m \u001b[0;34m\u001b[0m\u001b[0m\n",
            "\u001b[0;32m/usr/local/lib/python3.7/dist-packages/sklearn/utils/__init__.py\u001b[0m in \u001b[0;36m_safe_indexing\u001b[0;34m(X, indices, axis)\u001b[0m\n\u001b[1;32m    413\u001b[0m         \u001b[0;32mreturn\u001b[0m \u001b[0m_array_indexing\u001b[0m\u001b[0;34m(\u001b[0m\u001b[0mX\u001b[0m\u001b[0;34m,\u001b[0m \u001b[0mindices\u001b[0m\u001b[0;34m,\u001b[0m \u001b[0mindices_dtype\u001b[0m\u001b[0;34m,\u001b[0m \u001b[0maxis\u001b[0m\u001b[0;34m=\u001b[0m\u001b[0maxis\u001b[0m\u001b[0;34m)\u001b[0m\u001b[0;34m\u001b[0m\u001b[0;34m\u001b[0m\u001b[0m\n\u001b[1;32m    414\u001b[0m     \u001b[0;32melse\u001b[0m\u001b[0;34m:\u001b[0m\u001b[0;34m\u001b[0m\u001b[0;34m\u001b[0m\u001b[0m\n\u001b[0;32m--> 415\u001b[0;31m         \u001b[0;32mreturn\u001b[0m \u001b[0m_list_indexing\u001b[0m\u001b[0;34m(\u001b[0m\u001b[0mX\u001b[0m\u001b[0;34m,\u001b[0m \u001b[0mindices\u001b[0m\u001b[0;34m,\u001b[0m \u001b[0mindices_dtype\u001b[0m\u001b[0;34m)\u001b[0m\u001b[0;34m\u001b[0m\u001b[0;34m\u001b[0m\u001b[0m\n\u001b[0m\u001b[1;32m    416\u001b[0m \u001b[0;34m\u001b[0m\u001b[0m\n\u001b[1;32m    417\u001b[0m \u001b[0;34m\u001b[0m\u001b[0m\n",
            "\u001b[0;32m/usr/local/lib/python3.7/dist-packages/sklearn/utils/__init__.py\u001b[0m in \u001b[0;36m_list_indexing\u001b[0;34m(X, key, key_dtype)\u001b[0m\n\u001b[1;32m    223\u001b[0m         \u001b[0;32mreturn\u001b[0m \u001b[0mlist\u001b[0m\u001b[0;34m(\u001b[0m\u001b[0mcompress\u001b[0m\u001b[0;34m(\u001b[0m\u001b[0mX\u001b[0m\u001b[0;34m,\u001b[0m \u001b[0mkey\u001b[0m\u001b[0;34m)\u001b[0m\u001b[0;34m)\u001b[0m\u001b[0;34m\u001b[0m\u001b[0;34m\u001b[0m\u001b[0m\n\u001b[1;32m    224\u001b[0m     \u001b[0;31m# key is a integer array-like of key\u001b[0m\u001b[0;34m\u001b[0m\u001b[0;34m\u001b[0m\u001b[0;34m\u001b[0m\u001b[0m\n\u001b[0;32m--> 225\u001b[0;31m     \u001b[0;32mreturn\u001b[0m \u001b[0;34m[\u001b[0m\u001b[0mX\u001b[0m\u001b[0;34m[\u001b[0m\u001b[0midx\u001b[0m\u001b[0;34m]\u001b[0m \u001b[0;32mfor\u001b[0m \u001b[0midx\u001b[0m \u001b[0;32min\u001b[0m \u001b[0mkey\u001b[0m\u001b[0;34m]\u001b[0m\u001b[0;34m\u001b[0m\u001b[0;34m\u001b[0m\u001b[0m\n\u001b[0m\u001b[1;32m    226\u001b[0m \u001b[0;34m\u001b[0m\u001b[0m\n\u001b[1;32m    227\u001b[0m \u001b[0;34m\u001b[0m\u001b[0m\n",
            "\u001b[0;32m/usr/local/lib/python3.7/dist-packages/sklearn/utils/__init__.py\u001b[0m in \u001b[0;36m<listcomp>\u001b[0;34m(.0)\u001b[0m\n\u001b[1;32m    223\u001b[0m         \u001b[0;32mreturn\u001b[0m \u001b[0mlist\u001b[0m\u001b[0;34m(\u001b[0m\u001b[0mcompress\u001b[0m\u001b[0;34m(\u001b[0m\u001b[0mX\u001b[0m\u001b[0;34m,\u001b[0m \u001b[0mkey\u001b[0m\u001b[0;34m)\u001b[0m\u001b[0;34m)\u001b[0m\u001b[0;34m\u001b[0m\u001b[0;34m\u001b[0m\u001b[0m\n\u001b[1;32m    224\u001b[0m     \u001b[0;31m# key is a integer array-like of key\u001b[0m\u001b[0;34m\u001b[0m\u001b[0;34m\u001b[0m\u001b[0;34m\u001b[0m\u001b[0m\n\u001b[0;32m--> 225\u001b[0;31m     \u001b[0;32mreturn\u001b[0m \u001b[0;34m[\u001b[0m\u001b[0mX\u001b[0m\u001b[0;34m[\u001b[0m\u001b[0midx\u001b[0m\u001b[0;34m]\u001b[0m \u001b[0;32mfor\u001b[0m \u001b[0midx\u001b[0m \u001b[0;32min\u001b[0m \u001b[0mkey\u001b[0m\u001b[0;34m]\u001b[0m\u001b[0;34m\u001b[0m\u001b[0;34m\u001b[0m\u001b[0m\n\u001b[0m\u001b[1;32m    226\u001b[0m \u001b[0;34m\u001b[0m\u001b[0m\n\u001b[1;32m    227\u001b[0m \u001b[0;34m\u001b[0m\u001b[0m\n",
            "\u001b[0;32m/usr/local/lib/python3.7/dist-packages/keras_preprocessing/image/iterator.py\u001b[0m in \u001b[0;36m__getitem__\u001b[0;34m(self, idx)\u001b[0m\n\u001b[1;32m     63\u001b[0m         index_array = self.index_array[self.batch_size * idx:\n\u001b[1;32m     64\u001b[0m                                        self.batch_size * (idx + 1)]\n\u001b[0;32m---> 65\u001b[0;31m         \u001b[0;32mreturn\u001b[0m \u001b[0mself\u001b[0m\u001b[0;34m.\u001b[0m\u001b[0m_get_batches_of_transformed_samples\u001b[0m\u001b[0;34m(\u001b[0m\u001b[0mindex_array\u001b[0m\u001b[0;34m)\u001b[0m\u001b[0;34m\u001b[0m\u001b[0;34m\u001b[0m\u001b[0m\n\u001b[0m\u001b[1;32m     66\u001b[0m \u001b[0;34m\u001b[0m\u001b[0m\n\u001b[1;32m     67\u001b[0m     \u001b[0;32mdef\u001b[0m \u001b[0m__len__\u001b[0m\u001b[0;34m(\u001b[0m\u001b[0mself\u001b[0m\u001b[0;34m)\u001b[0m\u001b[0;34m:\u001b[0m\u001b[0;34m\u001b[0m\u001b[0;34m\u001b[0m\u001b[0m\n",
            "\u001b[0;32m/usr/local/lib/python3.7/dist-packages/keras_preprocessing/image/iterator.py\u001b[0m in \u001b[0;36m_get_batches_of_transformed_samples\u001b[0;34m(self, index_array)\u001b[0m\n\u001b[1;32m    228\u001b[0m                            \u001b[0mcolor_mode\u001b[0m\u001b[0;34m=\u001b[0m\u001b[0mself\u001b[0m\u001b[0;34m.\u001b[0m\u001b[0mcolor_mode\u001b[0m\u001b[0;34m,\u001b[0m\u001b[0;34m\u001b[0m\u001b[0;34m\u001b[0m\u001b[0m\n\u001b[1;32m    229\u001b[0m                            \u001b[0mtarget_size\u001b[0m\u001b[0;34m=\u001b[0m\u001b[0mself\u001b[0m\u001b[0;34m.\u001b[0m\u001b[0mtarget_size\u001b[0m\u001b[0;34m,\u001b[0m\u001b[0;34m\u001b[0m\u001b[0;34m\u001b[0m\u001b[0m\n\u001b[0;32m--> 230\u001b[0;31m                            interpolation=self.interpolation)\n\u001b[0m\u001b[1;32m    231\u001b[0m             \u001b[0mx\u001b[0m \u001b[0;34m=\u001b[0m \u001b[0mimg_to_array\u001b[0m\u001b[0;34m(\u001b[0m\u001b[0mimg\u001b[0m\u001b[0;34m,\u001b[0m \u001b[0mdata_format\u001b[0m\u001b[0;34m=\u001b[0m\u001b[0mself\u001b[0m\u001b[0;34m.\u001b[0m\u001b[0mdata_format\u001b[0m\u001b[0;34m)\u001b[0m\u001b[0;34m\u001b[0m\u001b[0;34m\u001b[0m\u001b[0m\n\u001b[1;32m    232\u001b[0m             \u001b[0;31m# Pillow images should be closed after `load_img`,\u001b[0m\u001b[0;34m\u001b[0m\u001b[0;34m\u001b[0m\u001b[0;34m\u001b[0m\u001b[0m\n",
            "\u001b[0;32m/usr/local/lib/python3.7/dist-packages/keras_preprocessing/image/utils.py\u001b[0m in \u001b[0;36mload_img\u001b[0;34m(path, grayscale, color_mode, target_size, interpolation)\u001b[0m\n\u001b[1;32m    112\u001b[0m                           'The use of `load_img` requires PIL.')\n\u001b[1;32m    113\u001b[0m     \u001b[0;32mwith\u001b[0m \u001b[0mopen\u001b[0m\u001b[0;34m(\u001b[0m\u001b[0mpath\u001b[0m\u001b[0;34m,\u001b[0m \u001b[0;34m'rb'\u001b[0m\u001b[0;34m)\u001b[0m \u001b[0;32mas\u001b[0m \u001b[0mf\u001b[0m\u001b[0;34m:\u001b[0m\u001b[0;34m\u001b[0m\u001b[0;34m\u001b[0m\u001b[0m\n\u001b[0;32m--> 114\u001b[0;31m         \u001b[0mimg\u001b[0m \u001b[0;34m=\u001b[0m \u001b[0mpil_image\u001b[0m\u001b[0;34m.\u001b[0m\u001b[0mopen\u001b[0m\u001b[0;34m(\u001b[0m\u001b[0mio\u001b[0m\u001b[0;34m.\u001b[0m\u001b[0mBytesIO\u001b[0m\u001b[0;34m(\u001b[0m\u001b[0mf\u001b[0m\u001b[0;34m.\u001b[0m\u001b[0mread\u001b[0m\u001b[0;34m(\u001b[0m\u001b[0;34m)\u001b[0m\u001b[0;34m)\u001b[0m\u001b[0;34m)\u001b[0m\u001b[0;34m\u001b[0m\u001b[0;34m\u001b[0m\u001b[0m\n\u001b[0m\u001b[1;32m    115\u001b[0m         \u001b[0;32mif\u001b[0m \u001b[0mcolor_mode\u001b[0m \u001b[0;34m==\u001b[0m \u001b[0;34m'grayscale'\u001b[0m\u001b[0;34m:\u001b[0m\u001b[0;34m\u001b[0m\u001b[0;34m\u001b[0m\u001b[0m\n\u001b[1;32m    116\u001b[0m             \u001b[0;31m# if image is not already an 8-bit, 16-bit or 32-bit grayscale image\u001b[0m\u001b[0;34m\u001b[0m\u001b[0;34m\u001b[0m\u001b[0;34m\u001b[0m\u001b[0m\n",
            "\u001b[0;31mKeyboardInterrupt\u001b[0m: "
          ]
        }
      ]
    },
    {
      "cell_type": "code",
      "metadata": {
        "colab": {
          "base_uri": "https://localhost:8080/"
        },
        "id": "L0NE2Yzd_WFB",
        "outputId": "f99e78f4-3914-4d87-dce1-9eeef64f2c3b"
      },
      "source": [
        "from tensorflow.keras.applications import inception_v3\n",
        "# Init the VGG model\n",
        "vgg_conv = inception_v3.InceptionV3(weights='imagenet', include_top=False, input_shape=(img_height, img_height, 3))"
      ],
      "execution_count": null,
      "outputs": [
        {
          "output_type": "stream",
          "text": [
            "Downloading data from https://storage.googleapis.com/tensorflow/keras-applications/inception_v3/inception_v3_weights_tf_dim_ordering_tf_kernels_notop.h5\n",
            "87916544/87910968 [==============================] - 1s 0us/step\n"
          ],
          "name": "stdout"
        }
      ]
    },
    {
      "cell_type": "code",
      "metadata": {
        "id": "_jwVecda_f6y",
        "colab": {
          "base_uri": "https://localhost:8080/"
        },
        "outputId": "de787867-ccad-4329-aae4-df7a858c7486"
      },
      "source": [
        "# Freeze all the layers\n",
        "for layer in vgg_conv.layers[:]:\n",
        "    layer.trainable = False\n",
        "# Check the trainable status of the individual layers\n",
        "for layer in vgg_conv.layers:\n",
        "    print(layer, layer.trainable)"
      ],
      "execution_count": null,
      "outputs": [
        {
          "output_type": "stream",
          "text": [
            "<tensorflow.python.keras.engine.input_layer.InputLayer object at 0x7f6397d3c090> False\n",
            "<tensorflow.python.keras.layers.convolutional.Conv2D object at 0x7f635b0c78d0> False\n",
            "<tensorflow.python.keras.layers.normalization_v2.BatchNormalization object at 0x7f635b081890> False\n",
            "<tensorflow.python.keras.layers.core.Activation object at 0x7f6366507610> False\n",
            "<tensorflow.python.keras.layers.convolutional.Conv2D object at 0x7f635ab7df10> False\n",
            "<tensorflow.python.keras.layers.normalization_v2.BatchNormalization object at 0x7f635ab9cc50> False\n",
            "<tensorflow.python.keras.layers.core.Activation object at 0x7f635aba0510> False\n",
            "<tensorflow.python.keras.layers.convolutional.Conv2D object at 0x7f635aba54d0> False\n",
            "<tensorflow.python.keras.layers.normalization_v2.BatchNormalization object at 0x7f635abad710> False\n",
            "<tensorflow.python.keras.layers.core.Activation object at 0x7f635abad4d0> False\n",
            "<tensorflow.python.keras.layers.pooling.MaxPooling2D object at 0x7f635abb0a50> False\n",
            "<tensorflow.python.keras.layers.convolutional.Conv2D object at 0x7f635ab3df90> False\n",
            "<tensorflow.python.keras.layers.normalization_v2.BatchNormalization object at 0x7f635b0818d0> False\n",
            "<tensorflow.python.keras.layers.core.Activation object at 0x7f635ab4aa90> False\n",
            "<tensorflow.python.keras.layers.convolutional.Conv2D object at 0x7f635ab42f50> False\n",
            "<tensorflow.python.keras.layers.normalization_v2.BatchNormalization object at 0x7f635ab55650> False\n",
            "<tensorflow.python.keras.layers.core.Activation object at 0x7f635ab5df90> False\n",
            "<tensorflow.python.keras.layers.pooling.MaxPooling2D object at 0x7f635ab57e50> False\n",
            "<tensorflow.python.keras.layers.convolutional.Conv2D object at 0x7f635ab06810> False\n",
            "<tensorflow.python.keras.layers.normalization_v2.BatchNormalization object at 0x7f635c8eff10> False\n",
            "<tensorflow.python.keras.layers.core.Activation object at 0x7f635c900f90> False\n",
            "<tensorflow.python.keras.layers.convolutional.Conv2D object at 0x7f635ab70d90> False\n",
            "<tensorflow.python.keras.layers.convolutional.Conv2D object at 0x7f635c968190> False\n",
            "<tensorflow.python.keras.layers.normalization_v2.BatchNormalization object at 0x7f635ab68090> False\n",
            "<tensorflow.python.keras.layers.normalization_v2.BatchNormalization object at 0x7f636306b210> False\n",
            "<tensorflow.python.keras.layers.core.Activation object at 0x7f635aafdc50> False\n",
            "<tensorflow.python.keras.layers.core.Activation object at 0x7f6363069ed0> False\n",
            "<tensorflow.python.keras.layers.pooling.AveragePooling2D object at 0x7f635ab57d90> False\n",
            "<tensorflow.python.keras.layers.convolutional.Conv2D object at 0x7f635ab61e10> False\n",
            "<tensorflow.python.keras.layers.convolutional.Conv2D object at 0x7f635ab06710> False\n",
            "<tensorflow.python.keras.layers.convolutional.Conv2D object at 0x7f63630d3210> False\n",
            "<tensorflow.python.keras.layers.convolutional.Conv2D object at 0x7f635aaf6550> False\n",
            "<tensorflow.python.keras.layers.normalization_v2.BatchNormalization object at 0x7f635ab68fd0> False\n",
            "<tensorflow.python.keras.layers.normalization_v2.BatchNormalization object at 0x7f635ab00d90> False\n",
            "<tensorflow.python.keras.layers.normalization_v2.BatchNormalization object at 0x7f635ab3d350> False\n",
            "<tensorflow.python.keras.layers.normalization_v2.BatchNormalization object at 0x7f635ab70110> False\n",
            "<tensorflow.python.keras.layers.core.Activation object at 0x7f635ab574d0> False\n",
            "<tensorflow.python.keras.layers.core.Activation object at 0x7f635ab709d0> False\n",
            "<tensorflow.python.keras.layers.core.Activation object at 0x7f63630daf50> False\n",
            "<tensorflow.python.keras.layers.core.Activation object at 0x7f635ab06dd0> False\n",
            "<tensorflow.python.keras.layers.merge.Concatenate object at 0x7f635ab00610> False\n",
            "<tensorflow.python.keras.layers.convolutional.Conv2D object at 0x7f635ab0ac50> False\n",
            "<tensorflow.python.keras.layers.normalization_v2.BatchNormalization object at 0x7f635ab2dd50> False\n",
            "<tensorflow.python.keras.layers.core.Activation object at 0x7f635aab5710> False\n",
            "<tensorflow.python.keras.layers.convolutional.Conv2D object at 0x7f635ab965d0> False\n",
            "<tensorflow.python.keras.layers.convolutional.Conv2D object at 0x7f635aab1f10> False\n",
            "<tensorflow.python.keras.layers.normalization_v2.BatchNormalization object at 0x7f635b0815d0> False\n",
            "<tensorflow.python.keras.layers.normalization_v2.BatchNormalization object at 0x7f635aabe8d0> False\n",
            "<tensorflow.python.keras.layers.core.Activation object at 0x7f635ab57f90> False\n",
            "<tensorflow.python.keras.layers.core.Activation object at 0x7f635ab7d1d0> False\n",
            "<tensorflow.python.keras.layers.pooling.AveragePooling2D object at 0x7f635aad9b10> False\n",
            "<tensorflow.python.keras.layers.convolutional.Conv2D object at 0x7f635aba83d0> False\n",
            "<tensorflow.python.keras.layers.convolutional.Conv2D object at 0x7f635ab0a910> False\n",
            "<tensorflow.python.keras.layers.convolutional.Conv2D object at 0x7f635aacb710> False\n",
            "<tensorflow.python.keras.layers.convolutional.Conv2D object at 0x7f635aacb050> False\n",
            "<tensorflow.python.keras.layers.normalization_v2.BatchNormalization object at 0x7f635aba8290> False\n",
            "<tensorflow.python.keras.layers.normalization_v2.BatchNormalization object at 0x7f635ab21a10> False\n",
            "<tensorflow.python.keras.layers.normalization_v2.BatchNormalization object at 0x7f635aab59d0> False\n",
            "<tensorflow.python.keras.layers.normalization_v2.BatchNormalization object at 0x7f635aae0550> False\n",
            "<tensorflow.python.keras.layers.core.Activation object at 0x7f63630d3510> False\n",
            "<tensorflow.python.keras.layers.core.Activation object at 0x7f635ab37f50> False\n",
            "<tensorflow.python.keras.layers.core.Activation object at 0x7f635aad4bd0> False\n",
            "<tensorflow.python.keras.layers.core.Activation object at 0x7f635aae6990> False\n",
            "<tensorflow.python.keras.layers.merge.Concatenate object at 0x7f635aaea790> False\n",
            "<tensorflow.python.keras.layers.convolutional.Conv2D object at 0x7f635aacbc90> False\n",
            "<tensorflow.python.keras.layers.normalization_v2.BatchNormalization object at 0x7f6363069450> False\n",
            "<tensorflow.python.keras.layers.core.Activation object at 0x7f635aaef910> False\n",
            "<tensorflow.python.keras.layers.convolutional.Conv2D object at 0x7f635aa7f410> False\n",
            "<tensorflow.python.keras.layers.convolutional.Conv2D object at 0x7f635ab26ad0> False\n",
            "<tensorflow.python.keras.layers.normalization_v2.BatchNormalization object at 0x7f635aa83d50> False\n",
            "<tensorflow.python.keras.layers.normalization_v2.BatchNormalization object at 0x7f63630d2c90> False\n",
            "<tensorflow.python.keras.layers.core.Activation object at 0x7f635aa87cd0> False\n",
            "<tensorflow.python.keras.layers.core.Activation object at 0x7f635ab3d290> False\n",
            "<tensorflow.python.keras.layers.pooling.AveragePooling2D object at 0x7f635aa9c550> False\n",
            "<tensorflow.python.keras.layers.convolutional.Conv2D object at 0x7f635aae08d0> False\n",
            "<tensorflow.python.keras.layers.convolutional.Conv2D object at 0x7f635aa8eed0> False\n",
            "<tensorflow.python.keras.layers.convolutional.Conv2D object at 0x7f635ab26e10> False\n",
            "<tensorflow.python.keras.layers.convolutional.Conv2D object at 0x7f635aaa0e90> False\n",
            "<tensorflow.python.keras.layers.normalization_v2.BatchNormalization object at 0x7f635aa75fd0> False\n",
            "<tensorflow.python.keras.layers.normalization_v2.BatchNormalization object at 0x7f635aa83cd0> False\n",
            "<tensorflow.python.keras.layers.normalization_v2.BatchNormalization object at 0x7f635aa9c850> False\n",
            "<tensorflow.python.keras.layers.normalization_v2.BatchNormalization object at 0x7f635aaa6890> False\n",
            "<tensorflow.python.keras.layers.core.Activation object at 0x7f635aa797d0> False\n",
            "<tensorflow.python.keras.layers.core.Activation object at 0x7f635aad4390> False\n",
            "<tensorflow.python.keras.layers.core.Activation object at 0x7f635ab0ab50> False\n",
            "<tensorflow.python.keras.layers.core.Activation object at 0x7f635aaa6110> False\n",
            "<tensorflow.python.keras.layers.merge.Concatenate object at 0x7f635aa9cf10> False\n",
            "<tensorflow.python.keras.layers.convolutional.Conv2D object at 0x7f635aaabed0> False\n",
            "<tensorflow.python.keras.layers.normalization_v2.BatchNormalization object at 0x7f635aa45bd0> False\n",
            "<tensorflow.python.keras.layers.core.Activation object at 0x7f635aa4e9d0> False\n",
            "<tensorflow.python.keras.layers.convolutional.Conv2D object at 0x7f635aa52950> False\n",
            "<tensorflow.python.keras.layers.normalization_v2.BatchNormalization object at 0x7f635aa56d10> False\n",
            "<tensorflow.python.keras.layers.core.Activation object at 0x7f635aa5bb10> False\n",
            "<tensorflow.python.keras.layers.convolutional.Conv2D object at 0x7f635aa342d0> False\n",
            "<tensorflow.python.keras.layers.convolutional.Conv2D object at 0x7f635aa64250> False\n",
            "<tensorflow.python.keras.layers.normalization_v2.BatchNormalization object at 0x7f635aa39950> False\n",
            "<tensorflow.python.keras.layers.normalization_v2.BatchNormalization object at 0x7f635aa698d0> False\n",
            "<tensorflow.python.keras.layers.core.Activation object at 0x7f635aa39210> False\n",
            "<tensorflow.python.keras.layers.core.Activation object at 0x7f635aa6c150> False\n",
            "<tensorflow.python.keras.layers.pooling.MaxPooling2D object at 0x7f635a9f1690> False\n",
            "<tensorflow.python.keras.layers.merge.Concatenate object at 0x7f635aa64a50> False\n",
            "<tensorflow.python.keras.layers.convolutional.Conv2D object at 0x7f635a9b9090> False\n",
            "<tensorflow.python.keras.layers.normalization_v2.BatchNormalization object at 0x7f635a9bc410> False\n",
            "<tensorflow.python.keras.layers.core.Activation object at 0x7f635aa22a90> False\n",
            "<tensorflow.python.keras.layers.convolutional.Conv2D object at 0x7f635aa1dbd0> False\n",
            "<tensorflow.python.keras.layers.normalization_v2.BatchNormalization object at 0x7f635aa6c9d0> False\n",
            "<tensorflow.python.keras.layers.core.Activation object at 0x7f635a9f8790> False\n",
            "<tensorflow.python.keras.layers.convolutional.Conv2D object at 0x7f635a9fb190> False\n",
            "<tensorflow.python.keras.layers.convolutional.Conv2D object at 0x7f635aa1d350> False\n",
            "<tensorflow.python.keras.layers.normalization_v2.BatchNormalization object at 0x7f635aa0e890> False\n",
            "<tensorflow.python.keras.layers.normalization_v2.BatchNormalization object at 0x7f635aa36990> False\n",
            "<tensorflow.python.keras.layers.core.Activation object at 0x7f635aa13510> False\n",
            "<tensorflow.python.keras.layers.core.Activation object at 0x7f635aa39110> False\n",
            "<tensorflow.python.keras.layers.convolutional.Conv2D object at 0x7f635aa1d790> False\n",
            "<tensorflow.python.keras.layers.convolutional.Conv2D object at 0x7f635aaab610> False\n",
            "<tensorflow.python.keras.layers.normalization_v2.BatchNormalization object at 0x7f635aa228d0> False\n",
            "<tensorflow.python.keras.layers.normalization_v2.BatchNormalization object at 0x7f635aa9dbd0> False\n",
            "<tensorflow.python.keras.layers.core.Activation object at 0x7f635aa24b90> False\n",
            "<tensorflow.python.keras.layers.core.Activation object at 0x7f635aacba50> False\n",
            "<tensorflow.python.keras.layers.pooling.AveragePooling2D object at 0x7f635a9cb6d0> False\n",
            "<tensorflow.python.keras.layers.convolutional.Conv2D object at 0x7f635a9f8c90> False\n",
            "<tensorflow.python.keras.layers.convolutional.Conv2D object at 0x7f635aa29e10> False\n",
            "<tensorflow.python.keras.layers.convolutional.Conv2D object at 0x7f635a9c36d0> False\n",
            "<tensorflow.python.keras.layers.convolutional.Conv2D object at 0x7f635a9c3910> False\n",
            "<tensorflow.python.keras.layers.normalization_v2.BatchNormalization object at 0x7f635a9ff950> False\n",
            "<tensorflow.python.keras.layers.normalization_v2.BatchNormalization object at 0x7f635aa10ed0> False\n",
            "<tensorflow.python.keras.layers.normalization_v2.BatchNormalization object at 0x7f635a9c8a90> False\n",
            "<tensorflow.python.keras.layers.normalization_v2.BatchNormalization object at 0x7f635a9ce5d0> False\n",
            "<tensorflow.python.keras.layers.core.Activation object at 0x7f635aa52ad0> False\n",
            "<tensorflow.python.keras.layers.core.Activation object at 0x7f635aa30d10> False\n",
            "<tensorflow.python.keras.layers.core.Activation object at 0x7f635a9ca310> False\n",
            "<tensorflow.python.keras.layers.core.Activation object at 0x7f635a9d0c10> False\n",
            "<tensorflow.python.keras.layers.merge.Concatenate object at 0x7f635a9d9c50> False\n",
            "<tensorflow.python.keras.layers.convolutional.Conv2D object at 0x7f635a997050> False\n",
            "<tensorflow.python.keras.layers.normalization_v2.BatchNormalization object at 0x7f635a99e750> False\n",
            "<tensorflow.python.keras.layers.core.Activation object at 0x7f635a99e650> False\n",
            "<tensorflow.python.keras.layers.convolutional.Conv2D object at 0x7f635a997590> False\n",
            "<tensorflow.python.keras.layers.normalization_v2.BatchNormalization object at 0x7f635a9a9f50> False\n",
            "<tensorflow.python.keras.layers.core.Activation object at 0x7f635a9aded0> False\n",
            "<tensorflow.python.keras.layers.convolutional.Conv2D object at 0x7f635a9f02d0> False\n",
            "<tensorflow.python.keras.layers.convolutional.Conv2D object at 0x7f635a9312d0> False\n",
            "<tensorflow.python.keras.layers.normalization_v2.BatchNormalization object at 0x7f635a9ceb10> False\n",
            "<tensorflow.python.keras.layers.normalization_v2.BatchNormalization object at 0x7f635a93ca10> False\n",
            "<tensorflow.python.keras.layers.core.Activation object at 0x7f635a973890> False\n",
            "<tensorflow.python.keras.layers.core.Activation object at 0x7f635a944710> False\n",
            "<tensorflow.python.keras.layers.convolutional.Conv2D object at 0x7f635a9c8990> False\n",
            "<tensorflow.python.keras.layers.convolutional.Conv2D object at 0x7f635a931bd0> False\n",
            "<tensorflow.python.keras.layers.normalization_v2.BatchNormalization object at 0x7f635a9e5cd0> False\n",
            "<tensorflow.python.keras.layers.normalization_v2.BatchNormalization object at 0x7f635a94e9d0> False\n",
            "<tensorflow.python.keras.layers.core.Activation object at 0x7f635a982b10> False\n",
            "<tensorflow.python.keras.layers.core.Activation object at 0x7f635a95fb10> False\n",
            "<tensorflow.python.keras.layers.pooling.AveragePooling2D object at 0x7f635a97f4d0> False\n",
            "<tensorflow.python.keras.layers.convolutional.Conv2D object at 0x7f635a9d2150> False\n",
            "<tensorflow.python.keras.layers.convolutional.Conv2D object at 0x7f635a98a350> False\n",
            "<tensorflow.python.keras.layers.convolutional.Conv2D object at 0x7f635a951c10> False\n",
            "<tensorflow.python.keras.layers.convolutional.Conv2D object at 0x7f635a998590> False\n",
            "<tensorflow.python.keras.layers.normalization_v2.BatchNormalization object at 0x7f635a9e56d0> False\n",
            "<tensorflow.python.keras.layers.normalization_v2.BatchNormalization object at 0x7f635a98ff50> False\n",
            "<tensorflow.python.keras.layers.normalization_v2.BatchNormalization object at 0x7f635a93eb90> False\n",
            "<tensorflow.python.keras.layers.normalization_v2.BatchNormalization object at 0x7f635a98a250> False\n",
            "<tensorflow.python.keras.layers.core.Activation object at 0x7f635a9eaf90> False\n",
            "<tensorflow.python.keras.layers.core.Activation object at 0x7f635a97f790> False\n",
            "<tensorflow.python.keras.layers.core.Activation object at 0x7f635a936890> False\n",
            "<tensorflow.python.keras.layers.core.Activation object at 0x7f635a9ce290> False\n",
            "<tensorflow.python.keras.layers.merge.Concatenate object at 0x7f635ab219d0> False\n",
            "<tensorflow.python.keras.layers.convolutional.Conv2D object at 0x7f635a96d610> False\n",
            "<tensorflow.python.keras.layers.normalization_v2.BatchNormalization object at 0x7f635a8fddd0> False\n",
            "<tensorflow.python.keras.layers.core.Activation object at 0x7f635a900090> False\n",
            "<tensorflow.python.keras.layers.convolutional.Conv2D object at 0x7f635a96d050> False\n",
            "<tensorflow.python.keras.layers.normalization_v2.BatchNormalization object at 0x7f635a90ff10> False\n",
            "<tensorflow.python.keras.layers.core.Activation object at 0x7f635a913b50> False\n",
            "<tensorflow.python.keras.layers.convolutional.Conv2D object at 0x7f635a965dd0> False\n",
            "<tensorflow.python.keras.layers.convolutional.Conv2D object at 0x7f635a91c3d0> False\n",
            "<tensorflow.python.keras.layers.normalization_v2.BatchNormalization object at 0x7f635aa1d3d0> False\n",
            "<tensorflow.python.keras.layers.normalization_v2.BatchNormalization object at 0x7f635a9229d0> False\n",
            "<tensorflow.python.keras.layers.core.Activation object at 0x7f635a9c8090> False\n",
            "<tensorflow.python.keras.layers.core.Activation object at 0x7f635a926250> False\n",
            "<tensorflow.python.keras.layers.convolutional.Conv2D object at 0x7f635a969090> False\n",
            "<tensorflow.python.keras.layers.convolutional.Conv2D object at 0x7f635a92a910> False\n",
            "<tensorflow.python.keras.layers.normalization_v2.BatchNormalization object at 0x7f635a96a7d0> False\n",
            "<tensorflow.python.keras.layers.normalization_v2.BatchNormalization object at 0x7f635a90f510> False\n",
            "<tensorflow.python.keras.layers.core.Activation object at 0x7f635aa3df50> False\n",
            "<tensorflow.python.keras.layers.core.Activation object at 0x7f635a9305d0> False\n",
            "<tensorflow.python.keras.layers.pooling.AveragePooling2D object at 0x7f63501c3090> False\n",
            "<tensorflow.python.keras.layers.convolutional.Conv2D object at 0x7f635aa9e790> False\n",
            "<tensorflow.python.keras.layers.convolutional.Conv2D object at 0x7f635a96bf50> False\n",
            "<tensorflow.python.keras.layers.convolutional.Conv2D object at 0x7f63501b2b90> False\n",
            "<tensorflow.python.keras.layers.convolutional.Conv2D object at 0x7f63501c4dd0> False\n",
            "<tensorflow.python.keras.layers.normalization_v2.BatchNormalization object at 0x7f635aaab750> False\n",
            "<tensorflow.python.keras.layers.normalization_v2.BatchNormalization object at 0x7f635a8f2bd0> False\n",
            "<tensorflow.python.keras.layers.normalization_v2.BatchNormalization object at 0x7f63501b79d0> False\n",
            "<tensorflow.python.keras.layers.normalization_v2.BatchNormalization object at 0x7f63501cc7d0> False\n",
            "<tensorflow.python.keras.layers.core.Activation object at 0x7f635aa134d0> False\n",
            "<tensorflow.python.keras.layers.core.Activation object at 0x7f635a8f7fd0> False\n",
            "<tensorflow.python.keras.layers.core.Activation object at 0x7f63501b7350> False\n",
            "<tensorflow.python.keras.layers.core.Activation object at 0x7f63501af710> False\n",
            "<tensorflow.python.keras.layers.merge.Concatenate object at 0x7f63501d60d0> False\n",
            "<tensorflow.python.keras.layers.convolutional.Conv2D object at 0x7f635a9f1fd0> False\n",
            "<tensorflow.python.keras.layers.normalization_v2.BatchNormalization object at 0x7f63501737d0> False\n",
            "<tensorflow.python.keras.layers.core.Activation object at 0x7f635017bd90> False\n",
            "<tensorflow.python.keras.layers.convolutional.Conv2D object at 0x7f635017d2d0> False\n",
            "<tensorflow.python.keras.layers.normalization_v2.BatchNormalization object at 0x7f635a96b5d0> False\n",
            "<tensorflow.python.keras.layers.core.Activation object at 0x7f635017efd0> False\n",
            "<tensorflow.python.keras.layers.convolutional.Conv2D object at 0x7f63501e61d0> False\n",
            "<tensorflow.python.keras.layers.convolutional.Conv2D object at 0x7f6350186c90> False\n",
            "<tensorflow.python.keras.layers.normalization_v2.BatchNormalization object at 0x7f635016f510> False\n",
            "<tensorflow.python.keras.layers.normalization_v2.BatchNormalization object at 0x7f635017d090> False\n",
            "<tensorflow.python.keras.layers.core.Activation object at 0x7f63501eae50> False\n",
            "<tensorflow.python.keras.layers.core.Activation object at 0x7f635018b710> False\n",
            "<tensorflow.python.keras.layers.convolutional.Conv2D object at 0x7f63501e2d90> False\n",
            "<tensorflow.python.keras.layers.convolutional.Conv2D object at 0x7f6350193950> False\n",
            "<tensorflow.python.keras.layers.normalization_v2.BatchNormalization object at 0x7f635a926c50> False\n",
            "<tensorflow.python.keras.layers.normalization_v2.BatchNormalization object at 0x7f6350198dd0> False\n",
            "<tensorflow.python.keras.layers.core.Activation object at 0x7f635a91c990> False\n",
            "<tensorflow.python.keras.layers.core.Activation object at 0x7f635017e8d0> False\n",
            "<tensorflow.python.keras.layers.pooling.AveragePooling2D object at 0x7f635012ccd0> False\n",
            "<tensorflow.python.keras.layers.convolutional.Conv2D object at 0x7f63501d8a50> False\n",
            "<tensorflow.python.keras.layers.convolutional.Conv2D object at 0x7f63501c3290> False\n",
            "<tensorflow.python.keras.layers.convolutional.Conv2D object at 0x7f635019fc50> False\n",
            "<tensorflow.python.keras.layers.convolutional.Conv2D object at 0x7f635012c9d0> False\n",
            "<tensorflow.python.keras.layers.normalization_v2.BatchNormalization object at 0x7f63501df850> False\n",
            "<tensorflow.python.keras.layers.normalization_v2.BatchNormalization object at 0x7f635a8fd590> False\n",
            "<tensorflow.python.keras.layers.normalization_v2.BatchNormalization object at 0x7f63501a6e10> False\n",
            "<tensorflow.python.keras.layers.normalization_v2.BatchNormalization object at 0x7f6350130d90> False\n",
            "<tensorflow.python.keras.layers.core.Activation object at 0x7f63501d6490> False\n",
            "<tensorflow.python.keras.layers.core.Activation object at 0x7f635a965c10> False\n",
            "<tensorflow.python.keras.layers.core.Activation object at 0x7f635012c450> False\n",
            "<tensorflow.python.keras.layers.core.Activation object at 0x7f635012c490> False\n",
            "<tensorflow.python.keras.layers.merge.Concatenate object at 0x7f635013bc10> False\n",
            "<tensorflow.python.keras.layers.convolutional.Conv2D object at 0x7f63501630d0> False\n",
            "<tensorflow.python.keras.layers.normalization_v2.BatchNormalization object at 0x7f635015df90> False\n",
            "<tensorflow.python.keras.layers.core.Activation object at 0x7f63500eda50> False\n",
            "<tensorflow.python.keras.layers.convolutional.Conv2D object at 0x7f63500f2210> False\n",
            "<tensorflow.python.keras.layers.normalization_v2.BatchNormalization object at 0x7f63500f2a90> False\n",
            "<tensorflow.python.keras.layers.core.Activation object at 0x7f63500fa450> False\n",
            "<tensorflow.python.keras.layers.convolutional.Conv2D object at 0x7f6350136e50> False\n",
            "<tensorflow.python.keras.layers.convolutional.Conv2D object at 0x7f63500f2e50> False\n",
            "<tensorflow.python.keras.layers.normalization_v2.BatchNormalization object at 0x7f63501457d0> False\n",
            "<tensorflow.python.keras.layers.normalization_v2.BatchNormalization object at 0x7f6350163f90> False\n",
            "<tensorflow.python.keras.layers.core.Activation object at 0x7f6350141490> False\n",
            "<tensorflow.python.keras.layers.core.Activation object at 0x7f63500fad50> False\n",
            "<tensorflow.python.keras.layers.convolutional.Conv2D object at 0x7f635014ac10> False\n",
            "<tensorflow.python.keras.layers.convolutional.Conv2D object at 0x7f63500fe550> False\n",
            "<tensorflow.python.keras.layers.normalization_v2.BatchNormalization object at 0x7f63501308d0> False\n",
            "<tensorflow.python.keras.layers.normalization_v2.BatchNormalization object at 0x7f635010d210> False\n",
            "<tensorflow.python.keras.layers.core.Activation object at 0x7f6350141050> False\n",
            "<tensorflow.python.keras.layers.core.Activation object at 0x7f63500fe790> False\n",
            "<tensorflow.python.keras.layers.pooling.MaxPooling2D object at 0x7f6350119050> False\n",
            "<tensorflow.python.keras.layers.merge.Concatenate object at 0x7f635010dd10> False\n",
            "<tensorflow.python.keras.layers.convolutional.Conv2D object at 0x7f63500ac710> False\n",
            "<tensorflow.python.keras.layers.normalization_v2.BatchNormalization object at 0x7f63500ac350> False\n",
            "<tensorflow.python.keras.layers.core.Activation object at 0x7f63500ae9d0> False\n",
            "<tensorflow.python.keras.layers.convolutional.Conv2D object at 0x7f63500fa850> False\n",
            "<tensorflow.python.keras.layers.convolutional.Conv2D object at 0x7f635a9652d0> False\n",
            "<tensorflow.python.keras.layers.normalization_v2.BatchNormalization object at 0x7f63501907d0> False\n",
            "<tensorflow.python.keras.layers.normalization_v2.BatchNormalization object at 0x7f63500b5050> False\n",
            "<tensorflow.python.keras.layers.core.Activation object at 0x7f6350186b90> False\n",
            "<tensorflow.python.keras.layers.core.Activation object at 0x7f63500b53d0> False\n",
            "<tensorflow.python.keras.layers.convolutional.Conv2D object at 0x7f635017dc90> False\n",
            "<tensorflow.python.keras.layers.convolutional.Conv2D object at 0x7f63501d8d90> False\n",
            "<tensorflow.python.keras.layers.convolutional.Conv2D object at 0x7f63500acf50> False\n",
            "<tensorflow.python.keras.layers.convolutional.Conv2D object at 0x7f63500bfe50> False\n",
            "<tensorflow.python.keras.layers.pooling.AveragePooling2D object at 0x7f63500d3290> False\n",
            "<tensorflow.python.keras.layers.convolutional.Conv2D object at 0x7f63500f2a50> False\n",
            "<tensorflow.python.keras.layers.normalization_v2.BatchNormalization object at 0x7f635017b650> False\n",
            "<tensorflow.python.keras.layers.normalization_v2.BatchNormalization object at 0x7f635a90a3d0> False\n",
            "<tensorflow.python.keras.layers.normalization_v2.BatchNormalization object at 0x7f63501ea190> False\n",
            "<tensorflow.python.keras.layers.normalization_v2.BatchNormalization object at 0x7f63500d1e50> False\n",
            "<tensorflow.python.keras.layers.convolutional.Conv2D object at 0x7f63500d3410> False\n",
            "<tensorflow.python.keras.layers.normalization_v2.BatchNormalization object at 0x7f6350163410> False\n",
            "<tensorflow.python.keras.layers.core.Activation object at 0x7f63501e2c90> False\n",
            "<tensorflow.python.keras.layers.core.Activation object at 0x7f63501e6290> False\n",
            "<tensorflow.python.keras.layers.core.Activation object at 0x7f63500c5950> False\n",
            "<tensorflow.python.keras.layers.core.Activation object at 0x7f63500dbf10> False\n",
            "<tensorflow.python.keras.layers.normalization_v2.BatchNormalization object at 0x7f63500aeb90> False\n",
            "<tensorflow.python.keras.layers.core.Activation object at 0x7f63500edc50> False\n",
            "<tensorflow.python.keras.layers.merge.Concatenate object at 0x7f63501c3c10> False\n",
            "<tensorflow.python.keras.layers.merge.Concatenate object at 0x7f63500dbb10> False\n",
            "<tensorflow.python.keras.layers.core.Activation object at 0x7f63500e05d0> False\n",
            "<tensorflow.python.keras.layers.merge.Concatenate object at 0x7f63500e7dd0> False\n",
            "<tensorflow.python.keras.layers.convolutional.Conv2D object at 0x7f63500bf0d0> False\n",
            "<tensorflow.python.keras.layers.normalization_v2.BatchNormalization object at 0x7f635aa60090> False\n",
            "<tensorflow.python.keras.layers.core.Activation object at 0x7f635a905a90> False\n",
            "<tensorflow.python.keras.layers.convolutional.Conv2D object at 0x7f6350076850> False\n",
            "<tensorflow.python.keras.layers.convolutional.Conv2D object at 0x7f63500cac50> False\n",
            "<tensorflow.python.keras.layers.normalization_v2.BatchNormalization object at 0x7f6350084710> False\n",
            "<tensorflow.python.keras.layers.normalization_v2.BatchNormalization object at 0x7f63500c5350> False\n",
            "<tensorflow.python.keras.layers.core.Activation object at 0x7f6350084ad0> False\n",
            "<tensorflow.python.keras.layers.core.Activation object at 0x7f6350038210> False\n",
            "<tensorflow.python.keras.layers.convolutional.Conv2D object at 0x7f635008ec90> False\n",
            "<tensorflow.python.keras.layers.convolutional.Conv2D object at 0x7f6350099f50> False\n",
            "<tensorflow.python.keras.layers.convolutional.Conv2D object at 0x7f6350038e90> False\n",
            "<tensorflow.python.keras.layers.convolutional.Conv2D object at 0x7f6350044650> False\n",
            "<tensorflow.python.keras.layers.pooling.AveragePooling2D object at 0x7f6350051910> False\n",
            "<tensorflow.python.keras.layers.convolutional.Conv2D object at 0x7f635006dc90> False\n",
            "<tensorflow.python.keras.layers.normalization_v2.BatchNormalization object at 0x7f6350089910> False\n",
            "<tensorflow.python.keras.layers.normalization_v2.BatchNormalization object at 0x7f63500348d0> False\n",
            "<tensorflow.python.keras.layers.normalization_v2.BatchNormalization object at 0x7f63500c5d50> False\n",
            "<tensorflow.python.keras.layers.normalization_v2.BatchNormalization object at 0x7f635004a5d0> False\n",
            "<tensorflow.python.keras.layers.convolutional.Conv2D object at 0x7f6350051610> False\n",
            "<tensorflow.python.keras.layers.normalization_v2.BatchNormalization object at 0x7f63500d32d0> False\n",
            "<tensorflow.python.keras.layers.core.Activation object at 0x7f6350084910> False\n",
            "<tensorflow.python.keras.layers.core.Activation object at 0x7f63500e0490> False\n",
            "<tensorflow.python.keras.layers.core.Activation object at 0x7f6350099bd0> False\n",
            "<tensorflow.python.keras.layers.core.Activation object at 0x7f6350044790> False\n",
            "<tensorflow.python.keras.layers.normalization_v2.BatchNormalization object at 0x7f6350056b90> False\n",
            "<tensorflow.python.keras.layers.core.Activation object at 0x7f635007cdd0> False\n",
            "<tensorflow.python.keras.layers.merge.Concatenate object at 0x7f635009fb50> False\n",
            "<tensorflow.python.keras.layers.merge.Concatenate object at 0x7f6350051c50> False\n",
            "<tensorflow.python.keras.layers.core.Activation object at 0x7f635005df90> False\n",
            "<tensorflow.python.keras.layers.merge.Concatenate object at 0x7f6350060250> False\n"
          ],
          "name": "stdout"
        }
      ]
    },
    {
      "cell_type": "code",
      "metadata": {
        "id": "CQsdukGnFWAR"
      },
      "source": [
        "from keras.models import Sequential, Model\n",
        "#from tensorflow.keras.models import Model\n",
        "from keras.layers import Conv2D, MaxPooling2D, Activation, Embedding, Dense, Dropout, Flatten, Input,GlobalAveragePooling2D\n",
        "from keras import activations\n",
        "#from tensorflow.python.keras.layers.core import Dense, Dropout, Flatten\n",
        "#from tensorflow.python.keras.layers import Input\n",
        "from keras.optimizers import Adam, SGD\n",
        "from keras.layers import LSTM\n",
        "#from keras.layers import Dropout\n",
        "#from keras.applications.vgg16 import VGG16\n",
        "#from tensorflow.keras.applications import vgg16\n",
        "from skimage.color import gray2rgb\n",
        "#from tensorflow.keras.applications.inception_v3 import InceptionV3 \n",
        "#from tensorflow.keras.applications import DenseNet201"
      ],
      "execution_count": null,
      "outputs": []
    },
    {
      "cell_type": "code",
      "metadata": {
        "colab": {
          "base_uri": "https://localhost:8080/"
        },
        "id": "hDUAiWIeE1Ui",
        "outputId": "3e126513-17a9-4cc5-d8ba-117bc3062d45"
      },
      "source": [
        "# Create the model\n",
        "model = Sequential()\n",
        "\n",
        "# Add the vgg convolutional base model\n",
        "model.add(vgg_conv)\n",
        "\n",
        "# Add new layers\n",
        "model.add(Flatten())\n",
        "#model.add(Dense(1024, activation='relu'))\n",
        "#model.add(Dropout(0.5))\n",
        "model.add(Dense(10, activation='softmax'))\n",
        "\n",
        "# Show a summary of the model. Check the number of trainable parameters\n",
        "model.summary()"
      ],
      "execution_count": null,
      "outputs": [
        {
          "output_type": "stream",
          "text": [
            "Model: \"sequential\"\n",
            "_________________________________________________________________\n",
            "Layer (type)                 Output Shape              Param #   \n",
            "=================================================================\n",
            "inception_v3 (Functional)    (None, 5, 5, 2048)        21802784  \n",
            "_________________________________________________________________\n",
            "flatten (Flatten)            (None, 51200)             0         \n",
            "_________________________________________________________________\n",
            "dense (Dense)                (None, 10)                512010    \n",
            "=================================================================\n",
            "Total params: 22,314,794\n",
            "Trainable params: 512,010\n",
            "Non-trainable params: 21,802,784\n",
            "_________________________________________________________________\n"
          ],
          "name": "stdout"
        }
      ]
    },
    {
      "cell_type": "code",
      "metadata": {
        "colab": {
          "base_uri": "https://localhost:8080/"
        },
        "id": "rrAx1W0gGHTb",
        "outputId": "cc555e44-aa24-410f-933b-2dd406a46d1b"
      },
      "source": [
        "train_it.samples"
      ],
      "execution_count": null,
      "outputs": [
        {
          "output_type": "execute_result",
          "data": {
            "text/plain": [
              "320"
            ]
          },
          "metadata": {
            "tags": []
          },
          "execution_count": 7
        }
      ]
    },
    {
      "cell_type": "code",
      "metadata": {
        "id": "Jnxc5HckGwqL"
      },
      "source": [
        "import keras\n",
        "initial_learning_rate = 0.001\n",
        "lr_schedule = keras.optimizers.schedules.ExponentialDecay(\n",
        "    initial_learning_rate,\n",
        "    decay_steps=2000,\n",
        "    decay_rate=0.16,\n",
        "    staircase=True)\n",
        "#sgd = keras.optimizers.SGD(lr=0.00001, decay=1e-6, momentum=0.9, nesterov=True)\n",
        "model.compile(loss='categorical_crossentropy',\n",
        "              optimizer=keras.optimizers.SGD(learning_rate=lr_schedule),\n",
        "              metrics=['acc'])"
      ],
      "execution_count": null,
      "outputs": []
    },
    {
      "cell_type": "code",
      "metadata": {
        "colab": {
          "base_uri": "https://localhost:8080/"
        },
        "id": "EV8WD7w5FZuD",
        "outputId": "4d01335d-34e0-4f31-e5e3-bd12d1237100"
      },
      "source": [
        "nb_epochs = 35\n",
        "batch_size = 80\n",
        "history = model.fit_generator(\n",
        "    train_it,\n",
        "    steps_per_epoch = train_it.samples // batch_size,\n",
        "    validation_data = val_it, \n",
        "    validation_steps = val_it.samples // batch_size,\n",
        "    epochs = nb_epochs)"
      ],
      "execution_count": null,
      "outputs": [
        {
          "output_type": "stream",
          "text": [
            "/usr/local/lib/python3.7/dist-packages/tensorflow/python/keras/engine/training.py:1844: UserWarning: `Model.fit_generator` is deprecated and will be removed in a future version. Please use `Model.fit`, which supports generators.\n",
            "  warnings.warn('`Model.fit_generator` is deprecated and '\n"
          ],
          "name": "stderr"
        },
        {
          "output_type": "stream",
          "text": [
            "Epoch 1/35\n",
            "4/4 [==============================] - 302s 67s/step - loss: 3.0210 - acc: 0.1854 - val_loss: 1.2606 - val_acc: 0.5750\n",
            "Epoch 2/35\n",
            "4/4 [==============================] - 87s 23s/step - loss: 0.9801 - acc: 0.6858 - val_loss: 0.4968 - val_acc: 0.9000\n",
            "Epoch 3/35\n",
            "4/4 [==============================] - 87s 23s/step - loss: 0.3362 - acc: 0.9575 - val_loss: 0.2724 - val_acc: 0.9875\n",
            "Epoch 4/35\n",
            "4/4 [==============================] - 87s 23s/step - loss: 0.1807 - acc: 0.9825 - val_loss: 0.2197 - val_acc: 0.9875\n",
            "Epoch 5/35\n",
            "4/4 [==============================] - 88s 23s/step - loss: 0.1367 - acc: 0.9908 - val_loss: 0.1933 - val_acc: 0.9875\n",
            "Epoch 6/35\n",
            "4/4 [==============================] - 88s 23s/step - loss: 0.1138 - acc: 1.0000 - val_loss: 0.1662 - val_acc: 0.9875\n",
            "Epoch 7/35\n",
            "4/4 [==============================] - 88s 23s/step - loss: 0.0863 - acc: 1.0000 - val_loss: 0.1541 - val_acc: 0.9875\n",
            "Epoch 8/35\n",
            "4/4 [==============================] - 89s 24s/step - loss: 0.0747 - acc: 1.0000 - val_loss: 0.1378 - val_acc: 0.9875\n",
            "Epoch 9/35\n",
            "4/4 [==============================] - 89s 24s/step - loss: 0.0660 - acc: 1.0000 - val_loss: 0.1319 - val_acc: 0.9875\n",
            "Epoch 10/35\n",
            "4/4 [==============================] - 88s 23s/step - loss: 0.0566 - acc: 1.0000 - val_loss: 0.1224 - val_acc: 0.9875\n",
            "Epoch 11/35\n",
            "4/4 [==============================] - 88s 24s/step - loss: 0.0514 - acc: 1.0000 - val_loss: 0.1136 - val_acc: 0.9875\n",
            "Epoch 12/35\n",
            "4/4 [==============================] - 88s 23s/step - loss: 0.0481 - acc: 1.0000 - val_loss: 0.1094 - val_acc: 0.9875\n",
            "Epoch 13/35\n",
            "4/4 [==============================] - 88s 24s/step - loss: 0.0412 - acc: 1.0000 - val_loss: 0.1053 - val_acc: 0.9875\n",
            "Epoch 14/35\n",
            "4/4 [==============================] - 88s 23s/step - loss: 0.0376 - acc: 1.0000 - val_loss: 0.1011 - val_acc: 0.9875\n",
            "Epoch 15/35\n",
            "4/4 [==============================] - 88s 23s/step - loss: 0.0360 - acc: 1.0000 - val_loss: 0.0996 - val_acc: 0.9875\n",
            "Epoch 16/35\n",
            "4/4 [==============================] - 87s 23s/step - loss: 0.0335 - acc: 1.0000 - val_loss: 0.0949 - val_acc: 0.9875\n",
            "Epoch 17/35\n",
            "4/4 [==============================] - 87s 23s/step - loss: 0.0302 - acc: 1.0000 - val_loss: 0.0911 - val_acc: 0.9875\n",
            "Epoch 18/35\n",
            "4/4 [==============================] - 87s 23s/step - loss: 0.0266 - acc: 1.0000 - val_loss: 0.0875 - val_acc: 0.9875\n",
            "Epoch 19/35\n",
            "4/4 [==============================] - 87s 23s/step - loss: 0.0276 - acc: 1.0000 - val_loss: 0.0867 - val_acc: 0.9875\n",
            "Epoch 20/35\n",
            "4/4 [==============================] - 86s 23s/step - loss: 0.0238 - acc: 1.0000 - val_loss: 0.0847 - val_acc: 0.9875\n",
            "Epoch 21/35\n",
            "4/4 [==============================] - 87s 23s/step - loss: 0.0233 - acc: 1.0000 - val_loss: 0.0824 - val_acc: 0.9875\n",
            "Epoch 22/35\n",
            "4/4 [==============================] - 86s 23s/step - loss: 0.0224 - acc: 1.0000 - val_loss: 0.0805 - val_acc: 0.9875\n",
            "Epoch 23/35\n",
            "4/4 [==============================] - 86s 23s/step - loss: 0.0230 - acc: 1.0000 - val_loss: 0.0789 - val_acc: 0.9875\n",
            "Epoch 24/35\n",
            "4/4 [==============================] - 87s 23s/step - loss: 0.0217 - acc: 1.0000 - val_loss: 0.0769 - val_acc: 0.9875\n",
            "Epoch 25/35\n",
            "4/4 [==============================] - 87s 23s/step - loss: 0.0199 - acc: 1.0000 - val_loss: 0.0756 - val_acc: 0.9875\n",
            "Epoch 26/35\n",
            "4/4 [==============================] - 87s 23s/step - loss: 0.0192 - acc: 1.0000 - val_loss: 0.0743 - val_acc: 0.9875\n",
            "Epoch 27/35\n",
            "4/4 [==============================] - 86s 23s/step - loss: 0.0187 - acc: 1.0000 - val_loss: 0.0734 - val_acc: 0.9875\n",
            "Epoch 28/35\n",
            "4/4 [==============================] - 86s 23s/step - loss: 0.0182 - acc: 1.0000 - val_loss: 0.0722 - val_acc: 0.9875\n",
            "Epoch 29/35\n",
            "4/4 [==============================] - 89s 24s/step - loss: 0.0156 - acc: 1.0000 - val_loss: 0.0710 - val_acc: 0.9875\n",
            "Epoch 30/35\n",
            "4/4 [==============================] - 88s 23s/step - loss: 0.0167 - acc: 1.0000 - val_loss: 0.0699 - val_acc: 0.9875\n",
            "Epoch 31/35\n",
            "4/4 [==============================] - 87s 23s/step - loss: 0.0168 - acc: 1.0000 - val_loss: 0.0686 - val_acc: 0.9875\n",
            "Epoch 32/35\n",
            "4/4 [==============================] - 88s 23s/step - loss: 0.0148 - acc: 1.0000 - val_loss: 0.0676 - val_acc: 0.9875\n",
            "Epoch 33/35\n",
            "4/4 [==============================] - 86s 23s/step - loss: 0.0152 - acc: 1.0000 - val_loss: 0.0663 - val_acc: 0.9875\n",
            "Epoch 34/35\n",
            "4/4 [==============================] - 85s 23s/step - loss: 0.0140 - acc: 1.0000 - val_loss: 0.0656 - val_acc: 0.9875\n",
            "Epoch 35/35\n",
            "4/4 [==============================] - 85s 23s/step - loss: 0.0143 - acc: 1.0000 - val_loss: 0.0647 - val_acc: 0.9875\n"
          ],
          "name": "stdout"
        }
      ]
    },
    {
      "cell_type": "code",
      "metadata": {
        "id": "S60LYSAjNuZx",
        "colab": {
          "base_uri": "https://localhost:8080/",
          "height": 225
        },
        "outputId": "a303620d-993c-4f65-86d3-57a621268b49"
      },
      "source": [
        "test_score = model.evaluate_generator(val_it, batch_size)\n",
        "\n",
        "\n",
        "\n",
        "print(\"[INFO] accuracy: {:.2f}%\".format(test_score[1] * 100)) \n",
        "\n",
        "print(\"[INFO] Loss: \",test_score[0])"
      ],
      "execution_count": null,
      "outputs": [
        {
          "output_type": "error",
          "ename": "TypeError",
          "evalue": "ignored",
          "traceback": [
            "\u001b[0;31m---------------------------------------------------------------------------\u001b[0m",
            "\u001b[0;31mTypeError\u001b[0m                                 Traceback (most recent call last)",
            "\u001b[0;32m<ipython-input-35-7721b87e9da1>\u001b[0m in \u001b[0;36m<module>\u001b[0;34m()\u001b[0m\n\u001b[0;32m----> 1\u001b[0;31m \u001b[0mtest_score\u001b[0m \u001b[0;34m=\u001b[0m \u001b[0mmodel\u001b[0m\u001b[0;34m.\u001b[0m\u001b[0mevaluate_generator\u001b[0m\u001b[0;34m(\u001b[0m\u001b[0mval_it\u001b[0m\u001b[0;34m,\u001b[0m \u001b[0mbatch_size\u001b[0m\u001b[0;34m,\u001b[0m \u001b[0mshuffle\u001b[0m\u001b[0;34m=\u001b[0m\u001b[0;32mFalse\u001b[0m\u001b[0;34m)\u001b[0m\u001b[0;34m\u001b[0m\u001b[0;34m\u001b[0m\u001b[0m\n\u001b[0m\u001b[1;32m      2\u001b[0m \u001b[0;34m\u001b[0m\u001b[0m\n\u001b[1;32m      3\u001b[0m \u001b[0;34m\u001b[0m\u001b[0m\n\u001b[1;32m      4\u001b[0m \u001b[0;34m\u001b[0m\u001b[0m\n\u001b[1;32m      5\u001b[0m \u001b[0mprint\u001b[0m\u001b[0;34m(\u001b[0m\u001b[0;34m\"[INFO] accuracy: {:.2f}%\"\u001b[0m\u001b[0;34m.\u001b[0m\u001b[0mformat\u001b[0m\u001b[0;34m(\u001b[0m\u001b[0mtest_score\u001b[0m\u001b[0;34m[\u001b[0m\u001b[0;36m1\u001b[0m\u001b[0;34m]\u001b[0m \u001b[0;34m*\u001b[0m \u001b[0;36m100\u001b[0m\u001b[0;34m)\u001b[0m\u001b[0;34m)\u001b[0m\u001b[0;34m\u001b[0m\u001b[0;34m\u001b[0m\u001b[0m\n",
            "\u001b[0;31mTypeError\u001b[0m: evaluate_generator() got an unexpected keyword argument 'shuffle'"
          ]
        }
      ]
    },
    {
      "cell_type": "code",
      "metadata": {
        "id": "qTJ1HhwCNvlr"
      },
      "source": [
        "import sys\n",
        "\n",
        "import numpy as np\n",
        "\n",
        "from keras import backend as K\n",
        "\n",
        "from keras.models import Sequential\n",
        "\n",
        "from keras.layers.core import Dense, Dropout, Activation, Flatten\n",
        "\n",
        "from keras.layers.convolutional import Convolution2D, MaxPooling2D\n",
        "\n",
        "from keras.preprocessing.image import ImageDataGenerator\n",
        "\n",
        "from sklearn.metrics import classification_report, confusion_matrix\n",
        "\n",
        "from keras.layers import Conv2D, Flatten, Dense, MaxPool2D,MaxPooling2D, Activation, Dropout, BatchNormalization, Input\n",
        "\n",
        "import matplotlib.pyplot as plt\n",
        "\n",
        "from keras.optimizers import Adam\n",
        "\n",
        "import itertools "
      ],
      "execution_count": null,
      "outputs": []
    },
    {
      "cell_type": "code",
      "metadata": {
        "id": "oeO2GrnAOIUS",
        "colab": {
          "base_uri": "https://localhost:8080/",
          "height": 427
        },
        "outputId": "682cd35f-8e32-46bb-b616-3d6b18a31134"
      },
      "source": [
        "# Loss Curves\n",
        "\n",
        "plt.figure(figsize=[8,6])\n",
        "\n",
        "plt.plot(history.history['loss'],'r',linewidth=3.0)\n",
        "\n",
        "plt.plot(history.history['val_loss'],'b',linewidth=3.0)\n",
        "\n",
        "plt.legend(['Training loss', 'Validation Loss'],fontsize=18)\n",
        "\n",
        "plt.xlabel('Epochs ',fontsize=16)\n",
        "\n",
        "plt.ylabel('Loss',fontsize=16)\n",
        "\n",
        "plt.title('Loss Curves',fontsize=16)"
      ],
      "execution_count": null,
      "outputs": [
        {
          "output_type": "execute_result",
          "data": {
            "text/plain": [
              "Text(0.5, 1.0, 'Loss Curves')"
            ]
          },
          "metadata": {
            "tags": []
          },
          "execution_count": 11
        },
        {
          "output_type": "display_data",
          "data": {
            "image/png": "[encoded data removed]",
            "text/plain": [
              "<Figure size 576x432 with 1 Axes>"
            ]
          },
          "metadata": {
            "tags": [],
            "needs_background": "light"
          }
        }
      ]
    },
    {
      "cell_type": "code",
      "metadata": {
        "id": "ADOwD36WOJPy",
        "colab": {
          "base_uri": "https://localhost:8080/",
          "height": 427
        },
        "outputId": "875943c6-ff2d-4719-b3c0-935fcc84c1e1"
      },
      "source": [
        "# Accuracy Curves\n",
        "\n",
        "plt.figure(figsize=[8,6])\n",
        "\n",
        "plt.plot(history.history['acc'],'r',linewidth=3.0)\n",
        "\n",
        "plt.plot(history.history['val_acc'],'b',linewidth=3.0)\n",
        "\n",
        "plt.legend(['Training Accuracy', 'Validation Accuracy'],fontsize=18)\n",
        "\n",
        "plt.xlabel('Epochs ',fontsize=16)\n",
        "\n",
        "plt.ylabel('Accuracy',fontsize=16)\n",
        "\n",
        "plt.title('Accuracy Curves',fontsize=16)"
      ],
      "execution_count": null,
      "outputs": [
        {
          "output_type": "execute_result",
          "data": {
            "text/plain": [
              "Text(0.5, 1.0, 'Accuracy Curves')"
            ]
          },
          "metadata": {
            "tags": []
          },
          "execution_count": 49
        },
        {
          "output_type": "display_data",
          "data": {
            "image/png": "[encoded data removed]",
            "text/plain": [
              "<Figure size 576x432 with 1 Axes>"
            ]
          },
          "metadata": {
            "tags": [],
            "needs_background": "light"
          }
        }
      ]
    },
    {
      "cell_type": "code",
      "metadata": {
        "id": "s-ThzIyUOMOe"
      },
      "source": [
        "#Plot the confusion matrix. Set Normalize = True/False\n",
        "\n",
        "\n",
        "\n",
        "def plot_confusion_matrix(cm, classes, normalize=True, title='Confusion matrix', cmap=plt.cm.Blues):\n",
        "\n",
        "    \"\"\"\n",
        "\n",
        "    This function prints and plots the confusion matrix.\n",
        "\n",
        "    Normalization can be applied by setting `normalize=True`.\n",
        "\n",
        "    \"\"\"\n",
        "\n",
        "    plt.figure(figsize=(10,10))\n",
        "\n",
        "\n",
        "\n",
        "    plt.imshow(cm, interpolation='nearest', cmap=cmap)\n",
        "\n",
        "    plt.title(title)\n",
        "\n",
        "    plt.colorbar()\n",
        "\n",
        "\n",
        "\n",
        "    tick_marks = np.arange(len(classes))\n",
        "\n",
        "    plt.xticks(tick_marks, classes, rotation=45)\n",
        "\n",
        "    plt.yticks(tick_marks, classes)\n",
        "\n",
        "\n",
        "\n",
        "    if normalize:\n",
        "\n",
        "        cm = cm.astype('float') / cm.sum(axis=1)[:, np.newaxis]\n",
        "\n",
        "        cm = np.around(cm, decimals=2)\n",
        "\n",
        "        cm[np.isnan(cm)] = 0.0\n",
        "\n",
        "        print(\"Normalized confusion matrix\")\n",
        "\n",
        "    else:\n",
        "\n",
        "        print('Confusion matrix, without normalization')\n",
        "\n",
        "    thresh = cm.max() / 2.\n",
        "\n",
        "    for i, j in itertools.product(range(cm.shape[0]), range(cm.shape[1])):\n",
        "\n",
        "        plt.text(j, i, cm[i, j],\n",
        "\n",
        "                 horizontalalignment=\"center\",\n",
        "\n",
        "                 color=\"white\" if cm[i, j] > thresh else \"black\")\n",
        "\n",
        "    plt.tight_layout()\n",
        "\n",
        "    plt.ylabel('True label')\n",
        "\n",
        "    plt.xlabel('Predicted label')"
      ],
      "execution_count": null,
      "outputs": []
    },
    {
      "cell_type": "code",
      "metadata": {
        "id": "cMscEMa7ORH3",
        "colab": {
          "base_uri": "https://localhost:8080/"
        },
        "outputId": "9a6878d6-685b-4e0e-bdd9-a4d21a9b5b62"
      },
      "source": [
        "#Print the Target names\n",
        "\n",
        "\n",
        "\n",
        "target_names = []\n",
        "\n",
        "for key in val_it.class_indices:\n",
        "\n",
        "    target_names.append(key)\n",
        "\n",
        "\n",
        "\n",
        "print(target_names)"
      ],
      "execution_count": null,
      "outputs": [
        {
          "output_type": "stream",
          "text": [
            "['aa', 'bho', 'bishorgo', 'ga', 'la', 'po', 'rri', 'ta', 'th', 'tho']\n"
          ],
          "name": "stdout"
        }
      ]
    },
    {
      "cell_type": "code",
      "metadata": {
        "colab": {
          "base_uri": "https://localhost:8080/"
        },
        "id": "X_r71tCQmsG5",
        "outputId": "aeeb22e4-6bc9-4b12-d80c-de1f53ab63c6"
      },
      "source": [
        "y_img_batch, y_class_batch = val_it[0]\n",
        "y_pred = np.argmax(model.predict(y_img_batch),-1)\n",
        "y_true = np.argmax(y_class_batch,-1)\n",
        "print(sum(y_pred==y_true)/batch_size)"
      ],
      "execution_count": null,
      "outputs": [
        {
          "output_type": "stream",
          "text": [
            "0.9875\n"
          ],
          "name": "stdout"
        }
      ]
    },
    {
      "cell_type": "code",
      "metadata": {
        "id": "jeAFOzy_nTxJ"
      },
      "source": [
        "cm = confusion_matrix(y_true,y_pred)"
      ],
      "execution_count": null,
      "outputs": []
    },
    {
      "cell_type": "code",
      "metadata": {
        "colab": {
          "base_uri": "https://localhost:8080/",
          "height": 745
        },
        "id": "Ll49qj5_oVcv",
        "outputId": "ec7ecbd2-6ead-49f6-fa8d-7abc59077c50"
      },
      "source": [
        "plot_confusion_matrix(cm, target_names, title='Confusion Matrix')"
      ],
      "execution_count": null,
      "outputs": [
        {
          "output_type": "stream",
          "text": [
            "Normalized confusion matrix\n"
          ],
          "name": "stdout"
        },
        {
          "output_type": "display_data",
          "data": {
            "image/png": "[encoded data removed]",
            "text/plain": [
              "<Figure size 720x720 with 2 Axes>"
            ]
          },
          "metadata": {
            "tags": [],
            "needs_background": "light"
          }
        }
      ]
    },
    {
      "cell_type": "code",
      "metadata": {
        "id": "GyHd6pVlOmjU",
        "colab": {
          "base_uri": "https://localhost:8080/"
        },
        "outputId": "632eec1d-aad4-43c8-c1e5-9896b79c6420"
      },
      "source": [
        "#Print Classification Report\n",
        "\n",
        "print('Classification Report')\n",
        "\n",
        "print(classification_report(y_true, y_pred, target_names=target_names))"
      ],
      "execution_count": null,
      "outputs": [
        {
          "output_type": "stream",
          "text": [
            "Classification Report\n",
            "              precision    recall  f1-score   support\n",
            "\n",
            "          aa       1.00      1.00      1.00         8\n",
            "         bho       1.00      1.00      1.00         8\n",
            "    bishorgo       0.89      1.00      0.94         8\n",
            "          ga       1.00      1.00      1.00         8\n",
            "          la       1.00      0.88      0.93         8\n",
            "          po       1.00      1.00      1.00         8\n",
            "         rri       1.00      1.00      1.00         8\n",
            "          ta       1.00      1.00      1.00         8\n",
            "          th       1.00      1.00      1.00         8\n",
            "         tho       1.00      1.00      1.00         8\n",
            "\n",
            "    accuracy                           0.99        80\n",
            "   macro avg       0.99      0.99      0.99        80\n",
            "weighted avg       0.99      0.99      0.99        80\n",
            "\n"
          ],
          "name": "stdout"
        }
      ]
    },
    {
      "cell_type": "code",
      "metadata": {
        "id": "nfLx7xpSGkMO",
        "colab": {
          "base_uri": "https://localhost:8080/"
        },
        "outputId": "f9fcf82e-0a1d-4bc2-d0fa-e7c15afa22b1"
      },
      "source": [
        "model.save(\"/content/drive/MyDrive/Research and Project Stuffs/BdSL/Datasets/dataset1/Dataset_2_inception\")"
      ],
      "execution_count": null,
      "outputs": [
        {
          "output_type": "stream",
          "text": [
            "INFO:tensorflow:Assets written to: /content/drive/MyDrive/Research and Project Stuffs/BdSL/Datasets/dataset1/Dataset_2_inception/assets\n"
          ],
          "name": "stdout"
        }
      ]
    },
    {
      "cell_type": "code",
      "metadata": {
        "id": "pu5s5mlafxnl"
      },
      "source": [
        ""
      ],
      "execution_count": null,
      "outputs": []
    }
  ]
}