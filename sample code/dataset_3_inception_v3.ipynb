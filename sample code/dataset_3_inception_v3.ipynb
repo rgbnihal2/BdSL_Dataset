{
  "nbformat": 4,
  "nbformat_minor": 0,
  "metadata": {
    "colab": {
      "name": "dataset 3 inception v3",
      "provenance": []
    },
    "kernelspec": {
      "name": "python3",
      "display_name": "Python 3"
    },
    "language_info": {
      "name": "python"
    },
    "accelerator": "GPU"
  },
  "cells": [
    {
      "cell_type": "code",
      "metadata": {
        "colab": {
          "base_uri": "https://localhost:8080/"
        },
        "id": "wnTRugAwPiAr",
        "outputId": "47991147-cab6-44db-f5ca-fe985df88241"
      },
      "source": [
        "from google.colab import drive\n",
        "drive.mount('/content/drive')"
      ],
      "execution_count": null,
      "outputs": [
        {
          "output_type": "stream",
          "text": [
            "Mounted at /content/drive\n"
          ],
          "name": "stdout"
        }
      ]
    },
    {
      "cell_type": "code",
      "metadata": {
        "id": "-l4MRfIYQESF"
      },
      "source": [
        "\n",
        "!unzip -uq \"/content/drive/MyDrive/Research and Project Stuffs/BdSL/Datasets/dataset1.zip\" -d \"/content/drive/MyDrive/Research and Project Stuffs/BdSL/Datasets/\""
      ],
      "execution_count": null,
      "outputs": []
    },
    {
      "cell_type": "code",
      "metadata": {
        "colab": {
          "base_uri": "https://localhost:8080/"
        },
        "id": "4gCn-4avQsgn",
        "outputId": "c1e4832b-1019-41d2-8b25-6fff57e31201"
      },
      "source": [
        "# example of progressively loading images from file\n",
        "from keras.preprocessing.image import ImageDataGenerator\n",
        "# create generator\n",
        "datagen = ImageDataGenerator(rescale=1. / 255,validation_split=0.2)\n",
        "img_height = 224\n",
        "img_width = 224 \n",
        "batch_size = 128\n",
        "# prepare an iterators for each dataset\n",
        "train_it = datagen.flow_from_directory('/content/drive/MyDrive/Research and Project Stuffs/BdSL/Datasets/dataset3/dataset',target_size=(img_height, img_width),batch_size = batch_size, subset='training')\n",
        "val_it = datagen.flow_from_directory('/content/drive/MyDrive/Research and Project Stuffs/BdSL/Datasets/dataset3/dataset',target_size=(img_height, img_width), batch_size = batch_size, subset='validation')"
      ],
      "execution_count": null,
      "outputs": [
        {
          "output_type": "stream",
          "text": [
            "Found 1523 images belonging to 38 classes.\n",
            "Found 380 images belonging to 38 classes.\n"
          ],
          "name": "stdout"
        }
      ]
    },
    {
      "cell_type": "code",
      "metadata": {
        "colab": {
          "base_uri": "https://localhost:8080/"
        },
        "id": "vJxJYLGa7BCa",
        "outputId": "ec2af6a5-0b43-4d80-8963-0c795691a8ac"
      },
      "source": [
        "# confirm the iterator works\n",
        "batchX, batchy = train_it.next()\n",
        "print('Batch shape=%s, min=%.3f, max=%.3f' % (batchX.shape, batchX.min(), batchX.max()))"
      ],
      "execution_count": null,
      "outputs": [
        {
          "output_type": "stream",
          "text": [
            "Batch shape=(32, 224, 224, 3), min=5.000, max=251.000\n"
          ],
          "name": "stdout"
        }
      ]
    },
    {
      "cell_type": "code",
      "metadata": {
        "id": "nrv3Eu7q7rL6"
      },
      "source": [
        "from sklearn.model_selection import train_test_split\n"
      ],
      "execution_count": null,
      "outputs": []
    },
    {
      "cell_type": "code",
      "metadata": {
        "colab": {
          "base_uri": "https://localhost:8080/",
          "height": 299
        },
        "id": "5ojf4m6G8ZDT",
        "outputId": "02ee15ac-55d8-41f0-a67a-be04e399083e"
      },
      "source": [
        "X_train, X_test, y_train, y_test = train_test_split(train_it, test_size=0.2, random_state=42)"
      ],
      "execution_count": null,
      "outputs": [
        {
          "output_type": "error",
          "ename": "KeyboardInterrupt",
          "evalue": "ignored",
          "traceback": [
            "\u001b[0;31m---------------------------------------------------------------------------\u001b[0m",
            "\u001b[0;31mKeyboardInterrupt\u001b[0m                         Traceback (most recent call last)",
            "\u001b[0;32m<ipython-input-11-2b74e10e72d7>\u001b[0m in \u001b[0;36m<module>\u001b[0;34m()\u001b[0m\n\u001b[0;32m----> 1\u001b[0;31m \u001b[0mX_train\u001b[0m\u001b[0;34m,\u001b[0m \u001b[0mX_test\u001b[0m\u001b[0;34m,\u001b[0m \u001b[0my_train\u001b[0m\u001b[0;34m,\u001b[0m \u001b[0my_test\u001b[0m \u001b[0;34m=\u001b[0m \u001b[0mtrain_test_split\u001b[0m\u001b[0;34m(\u001b[0m\u001b[0mtrain_it\u001b[0m\u001b[0;34m,\u001b[0m \u001b[0mtest_size\u001b[0m\u001b[0;34m=\u001b[0m\u001b[0;36m0.2\u001b[0m\u001b[0;34m,\u001b[0m \u001b[0mrandom_state\u001b[0m\u001b[0;34m=\u001b[0m\u001b[0;36m42\u001b[0m\u001b[0;34m)\u001b[0m\u001b[0;34m\u001b[0m\u001b[0;34m\u001b[0m\u001b[0m\n\u001b[0m",
            "\u001b[0;32m/usr/local/lib/python3.7/dist-packages/sklearn/model_selection/_split.py\u001b[0m in \u001b[0;36mtrain_test_split\u001b[0;34m(*arrays, **options)\u001b[0m\n\u001b[1;32m   2144\u001b[0m \u001b[0;34m\u001b[0m\u001b[0m\n\u001b[1;32m   2145\u001b[0m     return list(chain.from_iterable((_safe_indexing(a, train),\n\u001b[0;32m-> 2146\u001b[0;31m                                      _safe_indexing(a, test)) for a in arrays))\n\u001b[0m\u001b[1;32m   2147\u001b[0m \u001b[0;34m\u001b[0m\u001b[0m\n\u001b[1;32m   2148\u001b[0m \u001b[0;34m\u001b[0m\u001b[0m\n",
            "\u001b[0;32m/usr/local/lib/python3.7/dist-packages/sklearn/model_selection/_split.py\u001b[0m in \u001b[0;36m<genexpr>\u001b[0;34m(.0)\u001b[0m\n\u001b[1;32m   2144\u001b[0m \u001b[0;34m\u001b[0m\u001b[0m\n\u001b[1;32m   2145\u001b[0m     return list(chain.from_iterable((_safe_indexing(a, train),\n\u001b[0;32m-> 2146\u001b[0;31m                                      _safe_indexing(a, test)) for a in arrays))\n\u001b[0m\u001b[1;32m   2147\u001b[0m \u001b[0;34m\u001b[0m\u001b[0m\n\u001b[1;32m   2148\u001b[0m \u001b[0;34m\u001b[0m\u001b[0m\n",
            "\u001b[0;32m/usr/local/lib/python3.7/dist-packages/sklearn/utils/__init__.py\u001b[0m in \u001b[0;36m_safe_indexing\u001b[0;34m(X, indices, axis)\u001b[0m\n\u001b[1;32m    413\u001b[0m         \u001b[0;32mreturn\u001b[0m \u001b[0m_array_indexing\u001b[0m\u001b[0;34m(\u001b[0m\u001b[0mX\u001b[0m\u001b[0;34m,\u001b[0m \u001b[0mindices\u001b[0m\u001b[0;34m,\u001b[0m \u001b[0mindices_dtype\u001b[0m\u001b[0;34m,\u001b[0m \u001b[0maxis\u001b[0m\u001b[0;34m=\u001b[0m\u001b[0maxis\u001b[0m\u001b[0;34m)\u001b[0m\u001b[0;34m\u001b[0m\u001b[0;34m\u001b[0m\u001b[0m\n\u001b[1;32m    414\u001b[0m     \u001b[0;32melse\u001b[0m\u001b[0;34m:\u001b[0m\u001b[0;34m\u001b[0m\u001b[0;34m\u001b[0m\u001b[0m\n\u001b[0;32m--> 415\u001b[0;31m         \u001b[0;32mreturn\u001b[0m \u001b[0m_list_indexing\u001b[0m\u001b[0;34m(\u001b[0m\u001b[0mX\u001b[0m\u001b[0;34m,\u001b[0m \u001b[0mindices\u001b[0m\u001b[0;34m,\u001b[0m \u001b[0mindices_dtype\u001b[0m\u001b[0;34m)\u001b[0m\u001b[0;34m\u001b[0m\u001b[0;34m\u001b[0m\u001b[0m\n\u001b[0m\u001b[1;32m    416\u001b[0m \u001b[0;34m\u001b[0m\u001b[0m\n\u001b[1;32m    417\u001b[0m \u001b[0;34m\u001b[0m\u001b[0m\n",
            "\u001b[0;32m/usr/local/lib/python3.7/dist-packages/sklearn/utils/__init__.py\u001b[0m in \u001b[0;36m_list_indexing\u001b[0;34m(X, key, key_dtype)\u001b[0m\n\u001b[1;32m    223\u001b[0m         \u001b[0;32mreturn\u001b[0m \u001b[0mlist\u001b[0m\u001b[0;34m(\u001b[0m\u001b[0mcompress\u001b[0m\u001b[0;34m(\u001b[0m\u001b[0mX\u001b[0m\u001b[0;34m,\u001b[0m \u001b[0mkey\u001b[0m\u001b[0;34m)\u001b[0m\u001b[0;34m)\u001b[0m\u001b[0;34m\u001b[0m\u001b[0;34m\u001b[0m\u001b[0m\n\u001b[1;32m    224\u001b[0m     \u001b[0;31m# key is a integer array-like of key\u001b[0m\u001b[0;34m\u001b[0m\u001b[0;34m\u001b[0m\u001b[0;34m\u001b[0m\u001b[0m\n\u001b[0;32m--> 225\u001b[0;31m     \u001b[0;32mreturn\u001b[0m \u001b[0;34m[\u001b[0m\u001b[0mX\u001b[0m\u001b[0;34m[\u001b[0m\u001b[0midx\u001b[0m\u001b[0;34m]\u001b[0m \u001b[0;32mfor\u001b[0m \u001b[0midx\u001b[0m \u001b[0;32min\u001b[0m \u001b[0mkey\u001b[0m\u001b[0;34m]\u001b[0m\u001b[0;34m\u001b[0m\u001b[0;34m\u001b[0m\u001b[0m\n\u001b[0m\u001b[1;32m    226\u001b[0m \u001b[0;34m\u001b[0m\u001b[0m\n\u001b[1;32m    227\u001b[0m \u001b[0;34m\u001b[0m\u001b[0m\n",
            "\u001b[0;32m/usr/local/lib/python3.7/dist-packages/sklearn/utils/__init__.py\u001b[0m in \u001b[0;36m<listcomp>\u001b[0;34m(.0)\u001b[0m\n\u001b[1;32m    223\u001b[0m         \u001b[0;32mreturn\u001b[0m \u001b[0mlist\u001b[0m\u001b[0;34m(\u001b[0m\u001b[0mcompress\u001b[0m\u001b[0;34m(\u001b[0m\u001b[0mX\u001b[0m\u001b[0;34m,\u001b[0m \u001b[0mkey\u001b[0m\u001b[0;34m)\u001b[0m\u001b[0;34m)\u001b[0m\u001b[0;34m\u001b[0m\u001b[0;34m\u001b[0m\u001b[0m\n\u001b[1;32m    224\u001b[0m     \u001b[0;31m# key is a integer array-like of key\u001b[0m\u001b[0;34m\u001b[0m\u001b[0;34m\u001b[0m\u001b[0;34m\u001b[0m\u001b[0m\n\u001b[0;32m--> 225\u001b[0;31m     \u001b[0;32mreturn\u001b[0m \u001b[0;34m[\u001b[0m\u001b[0mX\u001b[0m\u001b[0;34m[\u001b[0m\u001b[0midx\u001b[0m\u001b[0;34m]\u001b[0m \u001b[0;32mfor\u001b[0m \u001b[0midx\u001b[0m \u001b[0;32min\u001b[0m \u001b[0mkey\u001b[0m\u001b[0;34m]\u001b[0m\u001b[0;34m\u001b[0m\u001b[0;34m\u001b[0m\u001b[0m\n\u001b[0m\u001b[1;32m    226\u001b[0m \u001b[0;34m\u001b[0m\u001b[0m\n\u001b[1;32m    227\u001b[0m \u001b[0;34m\u001b[0m\u001b[0m\n",
            "\u001b[0;32m/usr/local/lib/python3.7/dist-packages/keras_preprocessing/image/iterator.py\u001b[0m in \u001b[0;36m__getitem__\u001b[0;34m(self, idx)\u001b[0m\n\u001b[1;32m     63\u001b[0m         index_array = self.index_array[self.batch_size * idx:\n\u001b[1;32m     64\u001b[0m                                        self.batch_size * (idx + 1)]\n\u001b[0;32m---> 65\u001b[0;31m         \u001b[0;32mreturn\u001b[0m \u001b[0mself\u001b[0m\u001b[0;34m.\u001b[0m\u001b[0m_get_batches_of_transformed_samples\u001b[0m\u001b[0;34m(\u001b[0m\u001b[0mindex_array\u001b[0m\u001b[0;34m)\u001b[0m\u001b[0;34m\u001b[0m\u001b[0;34m\u001b[0m\u001b[0m\n\u001b[0m\u001b[1;32m     66\u001b[0m \u001b[0;34m\u001b[0m\u001b[0m\n\u001b[1;32m     67\u001b[0m     \u001b[0;32mdef\u001b[0m \u001b[0m__len__\u001b[0m\u001b[0;34m(\u001b[0m\u001b[0mself\u001b[0m\u001b[0;34m)\u001b[0m\u001b[0;34m:\u001b[0m\u001b[0;34m\u001b[0m\u001b[0;34m\u001b[0m\u001b[0m\n",
            "\u001b[0;32m/usr/local/lib/python3.7/dist-packages/keras_preprocessing/image/iterator.py\u001b[0m in \u001b[0;36m_get_batches_of_transformed_samples\u001b[0;34m(self, index_array)\u001b[0m\n\u001b[1;32m    228\u001b[0m                            \u001b[0mcolor_mode\u001b[0m\u001b[0;34m=\u001b[0m\u001b[0mself\u001b[0m\u001b[0;34m.\u001b[0m\u001b[0mcolor_mode\u001b[0m\u001b[0;34m,\u001b[0m\u001b[0;34m\u001b[0m\u001b[0;34m\u001b[0m\u001b[0m\n\u001b[1;32m    229\u001b[0m                            \u001b[0mtarget_size\u001b[0m\u001b[0;34m=\u001b[0m\u001b[0mself\u001b[0m\u001b[0;34m.\u001b[0m\u001b[0mtarget_size\u001b[0m\u001b[0;34m,\u001b[0m\u001b[0;34m\u001b[0m\u001b[0;34m\u001b[0m\u001b[0m\n\u001b[0;32m--> 230\u001b[0;31m                            interpolation=self.interpolation)\n\u001b[0m\u001b[1;32m    231\u001b[0m             \u001b[0mx\u001b[0m \u001b[0;34m=\u001b[0m \u001b[0mimg_to_array\u001b[0m\u001b[0;34m(\u001b[0m\u001b[0mimg\u001b[0m\u001b[0;34m,\u001b[0m \u001b[0mdata_format\u001b[0m\u001b[0;34m=\u001b[0m\u001b[0mself\u001b[0m\u001b[0;34m.\u001b[0m\u001b[0mdata_format\u001b[0m\u001b[0;34m)\u001b[0m\u001b[0;34m\u001b[0m\u001b[0;34m\u001b[0m\u001b[0m\n\u001b[1;32m    232\u001b[0m             \u001b[0;31m# Pillow images should be closed after `load_img`,\u001b[0m\u001b[0;34m\u001b[0m\u001b[0;34m\u001b[0m\u001b[0;34m\u001b[0m\u001b[0m\n",
            "\u001b[0;32m/usr/local/lib/python3.7/dist-packages/keras_preprocessing/image/utils.py\u001b[0m in \u001b[0;36mload_img\u001b[0;34m(path, grayscale, color_mode, target_size, interpolation)\u001b[0m\n\u001b[1;32m    112\u001b[0m                           'The use of `load_img` requires PIL.')\n\u001b[1;32m    113\u001b[0m     \u001b[0;32mwith\u001b[0m \u001b[0mopen\u001b[0m\u001b[0;34m(\u001b[0m\u001b[0mpath\u001b[0m\u001b[0;34m,\u001b[0m \u001b[0;34m'rb'\u001b[0m\u001b[0;34m)\u001b[0m \u001b[0;32mas\u001b[0m \u001b[0mf\u001b[0m\u001b[0;34m:\u001b[0m\u001b[0;34m\u001b[0m\u001b[0;34m\u001b[0m\u001b[0m\n\u001b[0;32m--> 114\u001b[0;31m         \u001b[0mimg\u001b[0m \u001b[0;34m=\u001b[0m \u001b[0mpil_image\u001b[0m\u001b[0;34m.\u001b[0m\u001b[0mopen\u001b[0m\u001b[0;34m(\u001b[0m\u001b[0mio\u001b[0m\u001b[0;34m.\u001b[0m\u001b[0mBytesIO\u001b[0m\u001b[0;34m(\u001b[0m\u001b[0mf\u001b[0m\u001b[0;34m.\u001b[0m\u001b[0mread\u001b[0m\u001b[0;34m(\u001b[0m\u001b[0;34m)\u001b[0m\u001b[0;34m)\u001b[0m\u001b[0;34m)\u001b[0m\u001b[0;34m\u001b[0m\u001b[0;34m\u001b[0m\u001b[0m\n\u001b[0m\u001b[1;32m    115\u001b[0m         \u001b[0;32mif\u001b[0m \u001b[0mcolor_mode\u001b[0m \u001b[0;34m==\u001b[0m \u001b[0;34m'grayscale'\u001b[0m\u001b[0;34m:\u001b[0m\u001b[0;34m\u001b[0m\u001b[0;34m\u001b[0m\u001b[0m\n\u001b[1;32m    116\u001b[0m             \u001b[0;31m# if image is not already an 8-bit, 16-bit or 32-bit grayscale image\u001b[0m\u001b[0;34m\u001b[0m\u001b[0;34m\u001b[0m\u001b[0;34m\u001b[0m\u001b[0m\n",
            "\u001b[0;31mKeyboardInterrupt\u001b[0m: "
          ]
        }
      ]
    },
    {
      "cell_type": "code",
      "metadata": {
        "colab": {
          "base_uri": "https://localhost:8080/"
        },
        "id": "L0NE2Yzd_WFB",
        "outputId": "f8ef7296-6f4c-43f9-a07d-08361ba68745"
      },
      "source": [
        "from tensorflow.keras.applications import inception_v3\n",
        "# Init the VGG model\n",
        "vgg_conv = inception_v3.InceptionV3(weights='imagenet', include_top=False, input_shape=(img_height, img_height, 3))"
      ],
      "execution_count": null,
      "outputs": [
        {
          "output_type": "stream",
          "text": [
            "Downloading data from https://storage.googleapis.com/tensorflow/keras-applications/inception_v3/inception_v3_weights_tf_dim_ordering_tf_kernels_notop.h5\n",
            "87916544/87910968 [==============================] - 4s 0us/step\n"
          ],
          "name": "stdout"
        }
      ]
    },
    {
      "cell_type": "code",
      "metadata": {
        "id": "_jwVecda_f6y",
        "colab": {
          "base_uri": "https://localhost:8080/"
        },
        "outputId": "29703311-a478-4713-ca43-a23839bb3afa"
      },
      "source": [
        "# Freeze all the layers\n",
        "for layer in vgg_conv.layers[:]:\n",
        "    layer.trainable = False\n",
        "# Check the trainable status of the individual layers\n",
        "for layer in vgg_conv.layers:\n",
        "    print(layer, layer.trainable)"
      ],
      "execution_count": null,
      "outputs": [
        {
          "output_type": "stream",
          "text": [
            "<tensorflow.python.keras.engine.input_layer.InputLayer object at 0x7fb1136fa5d0> False\n",
            "<tensorflow.python.keras.layers.convolutional.Conv2D object at 0x7fb0d19e7190> False\n",
            "<tensorflow.python.keras.layers.normalization_v2.BatchNormalization object at 0x7fb0d19ceb90> False\n",
            "<tensorflow.python.keras.layers.core.Activation object at 0x7fb0d1a1ae10> False\n",
            "<tensorflow.python.keras.layers.convolutional.Conv2D object at 0x7fb0d16c37d0> False\n",
            "<tensorflow.python.keras.layers.normalization_v2.BatchNormalization object at 0x7fb0d16cde90> False\n",
            "<tensorflow.python.keras.layers.core.Activation object at 0x7fb0e0e19690> False\n",
            "<tensorflow.python.keras.layers.convolutional.Conv2D object at 0x7fb0d16d77d0> False\n",
            "<tensorflow.python.keras.layers.normalization_v2.BatchNormalization object at 0x7fb0d1660d10> False\n",
            "<tensorflow.python.keras.layers.core.Activation object at 0x7fb0d19e79d0> False\n",
            "<tensorflow.python.keras.layers.pooling.MaxPooling2D object at 0x7fb0d166ed90> False\n",
            "<tensorflow.python.keras.layers.convolutional.Conv2D object at 0x7fb0d1660310> False\n",
            "<tensorflow.python.keras.layers.normalization_v2.BatchNormalization object at 0x7fb0d1678f10> False\n",
            "<tensorflow.python.keras.layers.core.Activation object at 0x7fb0d19e7090> False\n",
            "<tensorflow.python.keras.layers.convolutional.Conv2D object at 0x7fb0d166e6d0> False\n",
            "<tensorflow.python.keras.layers.normalization_v2.BatchNormalization object at 0x7fb0d16885d0> False\n",
            "<tensorflow.python.keras.layers.core.Activation object at 0x7fb0d1688dd0> False\n",
            "<tensorflow.python.keras.layers.pooling.MaxPooling2D object at 0x7fb0d168d090> False\n",
            "<tensorflow.python.keras.layers.convolutional.Conv2D object at 0x7fb0d168dd90> False\n",
            "<tensorflow.python.keras.layers.normalization_v2.BatchNormalization object at 0x7fb0d1669d90> False\n",
            "<tensorflow.python.keras.layers.core.Activation object at 0x7fb0d2707650> False\n",
            "<tensorflow.python.keras.layers.convolutional.Conv2D object at 0x7fb0c01e9590> False\n",
            "<tensorflow.python.keras.layers.convolutional.Conv2D object at 0x7fb0d26fbb10> False\n",
            "<tensorflow.python.keras.layers.normalization_v2.BatchNormalization object at 0x7fb0d167c310> False\n",
            "<tensorflow.python.keras.layers.normalization_v2.BatchNormalization object at 0x7fb0d8ef86d0> False\n",
            "<tensorflow.python.keras.layers.core.Activation object at 0x7fb0d1674bd0> False\n",
            "<tensorflow.python.keras.layers.core.Activation object at 0x7fb0d8ef4710> False\n",
            "<tensorflow.python.keras.layers.pooling.AveragePooling2D object at 0x7fb0d1660f90> False\n",
            "<tensorflow.python.keras.layers.convolutional.Conv2D object at 0x7fb0d1688090> False\n",
            "<tensorflow.python.keras.layers.convolutional.Conv2D object at 0x7fb0c01f2d10> False\n",
            "<tensorflow.python.keras.layers.convolutional.Conv2D object at 0x7fb0d8eecc50> False\n",
            "<tensorflow.python.keras.layers.convolutional.Conv2D object at 0x7fb0d1674610> False\n",
            "<tensorflow.python.keras.layers.normalization_v2.BatchNormalization object at 0x7fb0d1690d50> False\n",
            "<tensorflow.python.keras.layers.normalization_v2.BatchNormalization object at 0x7fb0c01fb550> False\n",
            "<tensorflow.python.keras.layers.normalization_v2.BatchNormalization object at 0x7fb0c01e3cd0> False\n",
            "<tensorflow.python.keras.layers.normalization_v2.BatchNormalization object at 0x7fb0d16903d0> False\n",
            "<tensorflow.python.keras.layers.core.Activation object at 0x7fb0c01e31d0> False\n",
            "<tensorflow.python.keras.layers.core.Activation object at 0x7fb0c01fb0d0> False\n",
            "<tensorflow.python.keras.layers.core.Activation object at 0x7fb0d8ef3050> False\n",
            "<tensorflow.python.keras.layers.core.Activation object at 0x7fb0d1665dd0> False\n",
            "<tensorflow.python.keras.layers.merge.Concatenate object at 0x7fb0d1689590> False\n",
            "<tensorflow.python.keras.layers.convolutional.Conv2D object at 0x7fb0cfe4e510> False\n",
            "<tensorflow.python.keras.layers.normalization_v2.BatchNormalization object at 0x7fb0c0210fd0> False\n",
            "<tensorflow.python.keras.layers.core.Activation object at 0x7fb0c0210cd0> False\n",
            "<tensorflow.python.keras.layers.convolutional.Conv2D object at 0x7fb0d16d7590> False\n",
            "<tensorflow.python.keras.layers.convolutional.Conv2D object at 0x7fb0c01ed5d0> False\n",
            "<tensorflow.python.keras.layers.normalization_v2.BatchNormalization object at 0x7fb0d1a1ae90> False\n",
            "<tensorflow.python.keras.layers.normalization_v2.BatchNormalization object at 0x7fb0c0222e90> False\n",
            "<tensorflow.python.keras.layers.core.Activation object at 0x7fb0dd542510> False\n",
            "<tensorflow.python.keras.layers.core.Activation object at 0x7fb0c01a7f10> False\n",
            "<tensorflow.python.keras.layers.pooling.AveragePooling2D object at 0x7fb0c01bae50> False\n",
            "<tensorflow.python.keras.layers.convolutional.Conv2D object at 0x7fb0c01f2650> False\n",
            "<tensorflow.python.keras.layers.convolutional.Conv2D object at 0x7fb0c0203750> False\n",
            "<tensorflow.python.keras.layers.convolutional.Conv2D object at 0x7fb0c01ae790> False\n",
            "<tensorflow.python.keras.layers.convolutional.Conv2D object at 0x7fb0c0216110> False\n",
            "<tensorflow.python.keras.layers.normalization_v2.BatchNormalization object at 0x7fb1123fa850> False\n",
            "<tensorflow.python.keras.layers.normalization_v2.BatchNormalization object at 0x7fb0c01ffad0> False\n",
            "<tensorflow.python.keras.layers.normalization_v2.BatchNormalization object at 0x7fb0c01ae5d0> False\n",
            "<tensorflow.python.keras.layers.normalization_v2.BatchNormalization object at 0x7fb0c01c1310> False\n",
            "<tensorflow.python.keras.layers.core.Activation object at 0x7fb0c01edcd0> False\n",
            "<tensorflow.python.keras.layers.core.Activation object at 0x7fb0c0208350> False\n",
            "<tensorflow.python.keras.layers.core.Activation object at 0x7fb0c01b4090> False\n",
            "<tensorflow.python.keras.layers.core.Activation object at 0x7fb0c01c1590> False\n",
            "<tensorflow.python.keras.layers.merge.Concatenate object at 0x7fb0c01cb290> False\n",
            "<tensorflow.python.keras.layers.convolutional.Conv2D object at 0x7fb0c01ae590> False\n",
            "<tensorflow.python.keras.layers.normalization_v2.BatchNormalization object at 0x7fb0c01bac10> False\n",
            "<tensorflow.python.keras.layers.core.Activation object at 0x7fb0c01aebd0> False\n",
            "<tensorflow.python.keras.layers.convolutional.Conv2D object at 0x7fb0c01dee10> False\n",
            "<tensorflow.python.keras.layers.convolutional.Conv2D object at 0x7fb0c0203c10> False\n",
            "<tensorflow.python.keras.layers.normalization_v2.BatchNormalization object at 0x7fb0c01e2dd0> False\n",
            "<tensorflow.python.keras.layers.normalization_v2.BatchNormalization object at 0x7fb0d166ebd0> False\n",
            "<tensorflow.python.keras.layers.core.Activation object at 0x7fb0c0168390> False\n",
            "<tensorflow.python.keras.layers.core.Activation object at 0x7fb0d1a41e10> False\n",
            "<tensorflow.python.keras.layers.pooling.AveragePooling2D object at 0x7fb0c0183590> False\n",
            "<tensorflow.python.keras.layers.convolutional.Conv2D object at 0x7fb0c01c1c50> False\n",
            "<tensorflow.python.keras.layers.convolutional.Conv2D object at 0x7fb0c016c210> False\n",
            "<tensorflow.python.keras.layers.convolutional.Conv2D object at 0x7fb0cfe4e310> False\n",
            "<tensorflow.python.keras.layers.convolutional.Conv2D object at 0x7fb0c0188610> False\n",
            "<tensorflow.python.keras.layers.normalization_v2.BatchNormalization object at 0x7fb0c01d3e90> False\n",
            "<tensorflow.python.keras.layers.normalization_v2.BatchNormalization object at 0x7fb0c01e2350> False\n",
            "<tensorflow.python.keras.layers.normalization_v2.BatchNormalization object at 0x7fb0c0179e90> False\n",
            "<tensorflow.python.keras.layers.normalization_v2.BatchNormalization object at 0x7fb0c017eb50> False\n",
            "<tensorflow.python.keras.layers.core.Activation object at 0x7fb0c01d7050> False\n",
            "<tensorflow.python.keras.layers.core.Activation object at 0x7fb0c01c7d10> False\n",
            "<tensorflow.python.keras.layers.core.Activation object at 0x7fb0c017ed10> False\n",
            "<tensorflow.python.keras.layers.core.Activation object at 0x7fb113803050> False\n",
            "<tensorflow.python.keras.layers.merge.Concatenate object at 0x7fb0c018a610> False\n",
            "<tensorflow.python.keras.layers.convolutional.Conv2D object at 0x7fb0c0181350> False\n",
            "<tensorflow.python.keras.layers.normalization_v2.BatchNormalization object at 0x7fb0c0125f50> False\n",
            "<tensorflow.python.keras.layers.core.Activation object at 0x7fb0c0128390> False\n",
            "<tensorflow.python.keras.layers.convolutional.Conv2D object at 0x7fb0c01a10d0> False\n",
            "<tensorflow.python.keras.layers.normalization_v2.BatchNormalization object at 0x7fb0c012fd10> False\n",
            "<tensorflow.python.keras.layers.core.Activation object at 0x7fb0c01361d0> False\n",
            "<tensorflow.python.keras.layers.convolutional.Conv2D object at 0x7fb0c0194d10> False\n",
            "<tensorflow.python.keras.layers.convolutional.Conv2D object at 0x7fb0c012f950> False\n",
            "<tensorflow.python.keras.layers.normalization_v2.BatchNormalization object at 0x7fb0c019b510> False\n",
            "<tensorflow.python.keras.layers.normalization_v2.BatchNormalization object at 0x7fb0c013fcd0> False\n",
            "<tensorflow.python.keras.layers.core.Activation object at 0x7fb0d277a110> False\n",
            "<tensorflow.python.keras.layers.core.Activation object at 0x7fb0c0144c50> False\n",
            "<tensorflow.python.keras.layers.pooling.MaxPooling2D object at 0x7fb0c014dd50> False\n",
            "<tensorflow.python.keras.layers.merge.Concatenate object at 0x7fb0c0154810> False\n",
            "<tensorflow.python.keras.layers.convolutional.Conv2D object at 0x7fb0c010edd0> False\n",
            "<tensorflow.python.keras.layers.normalization_v2.BatchNormalization object at 0x7fb0c0105550> False\n",
            "<tensorflow.python.keras.layers.core.Activation object at 0x7fb0c0157fd0> False\n",
            "<tensorflow.python.keras.layers.convolutional.Conv2D object at 0x7fb0c0144f50> False\n",
            "<tensorflow.python.keras.layers.normalization_v2.BatchNormalization object at 0x7fb0c00e5250> False\n",
            "<tensorflow.python.keras.layers.core.Activation object at 0x7fb0c010c510> False\n",
            "<tensorflow.python.keras.layers.convolutional.Conv2D object at 0x7fb0c00e5690> False\n",
            "<tensorflow.python.keras.layers.convolutional.Conv2D object at 0x7fb0c012f9d0> False\n",
            "<tensorflow.python.keras.layers.normalization_v2.BatchNormalization object at 0x7fb0c0157290> False\n",
            "<tensorflow.python.keras.layers.normalization_v2.BatchNormalization object at 0x7fb0c0125690> False\n",
            "<tensorflow.python.keras.layers.core.Activation object at 0x7fb0c014d650> False\n",
            "<tensorflow.python.keras.layers.core.Activation object at 0x7fb0c0160090> False\n",
            "<tensorflow.python.keras.layers.convolutional.Conv2D object at 0x7fb0c00e5950> False\n",
            "<tensorflow.python.keras.layers.convolutional.Conv2D object at 0x7fb0c0179850> False\n",
            "<tensorflow.python.keras.layers.normalization_v2.BatchNormalization object at 0x7fb0c00f8ed0> False\n",
            "<tensorflow.python.keras.layers.normalization_v2.BatchNormalization object at 0x7fb0c021b850> False\n",
            "<tensorflow.python.keras.layers.core.Activation object at 0x7fb0c01da550> False\n",
            "<tensorflow.python.keras.layers.core.Activation object at 0x7fb0c0208410> False\n",
            "<tensorflow.python.keras.layers.pooling.AveragePooling2D object at 0x7fb0d2778850> False\n",
            "<tensorflow.python.keras.layers.convolutional.Conv2D object at 0x7fb0c0157410> False\n",
            "<tensorflow.python.keras.layers.convolutional.Conv2D object at 0x7fb0c00f89d0> False\n",
            "<tensorflow.python.keras.layers.convolutional.Conv2D object at 0x7fb0c0175c10> False\n",
            "<tensorflow.python.keras.layers.convolutional.Conv2D object at 0x7fb0c00aaf10> False\n",
            "<tensorflow.python.keras.layers.normalization_v2.BatchNormalization object at 0x7fb0c01607d0> False\n",
            "<tensorflow.python.keras.layers.normalization_v2.BatchNormalization object at 0x7fb0c010cd90> False\n",
            "<tensorflow.python.keras.layers.normalization_v2.BatchNormalization object at 0x7fb0c0188ad0> False\n",
            "<tensorflow.python.keras.layers.normalization_v2.BatchNormalization object at 0x7fb0c00b1d10> False\n",
            "<tensorflow.python.keras.layers.core.Activation object at 0x7fb0c01544d0> False\n",
            "<tensorflow.python.keras.layers.core.Activation object at 0x7fb0c0114d10> False\n",
            "<tensorflow.python.keras.layers.core.Activation object at 0x7fb0c00a5890> False\n",
            "<tensorflow.python.keras.layers.core.Activation object at 0x7fb0c00b9ad0> False\n",
            "<tensorflow.python.keras.layers.merge.Concatenate object at 0x7fb0c00b1dd0> False\n",
            "<tensorflow.python.keras.layers.convolutional.Conv2D object at 0x7fb0c0083110> False\n",
            "<tensorflow.python.keras.layers.normalization_v2.BatchNormalization object at 0x7fb0c0068d50> False\n",
            "<tensorflow.python.keras.layers.core.Activation object at 0x7fb0c0073590> False\n",
            "<tensorflow.python.keras.layers.convolutional.Conv2D object at 0x7fb0c00909d0> False\n",
            "<tensorflow.python.keras.layers.normalization_v2.BatchNormalization object at 0x7fb0c0093950> False\n",
            "<tensorflow.python.keras.layers.core.Activation object at 0x7fb0c008c110> False\n",
            "<tensorflow.python.keras.layers.convolutional.Conv2D object at 0x7fb0c00bd990> False\n",
            "<tensorflow.python.keras.layers.convolutional.Conv2D object at 0x7fb0c009bf10> False\n",
            "<tensorflow.python.keras.layers.normalization_v2.BatchNormalization object at 0x7fb0c00d1f10> False\n",
            "<tensorflow.python.keras.layers.normalization_v2.BatchNormalization object at 0x7fb0c00a2f90> False\n",
            "<tensorflow.python.keras.layers.core.Activation object at 0x7fb0c00d1c50> False\n",
            "<tensorflow.python.keras.layers.core.Activation object at 0x7fb0c0027ad0> False\n",
            "<tensorflow.python.keras.layers.convolutional.Conv2D object at 0x7fb0c00bd550> False\n",
            "<tensorflow.python.keras.layers.convolutional.Conv2D object at 0x7fb0c009b950> False\n",
            "<tensorflow.python.keras.layers.normalization_v2.BatchNormalization object at 0x7fb0c0065d50> False\n",
            "<tensorflow.python.keras.layers.normalization_v2.BatchNormalization object at 0x7fb0c0031b10> False\n",
            "<tensorflow.python.keras.layers.core.Activation object at 0x7fb0c006edd0> False\n",
            "<tensorflow.python.keras.layers.core.Activation object at 0x7fb0c0034150> False\n",
            "<tensorflow.python.keras.layers.pooling.AveragePooling2D object at 0x7fb0c009be90> False\n",
            "<tensorflow.python.keras.layers.convolutional.Conv2D object at 0x7fb0c00bdbd0> False\n",
            "<tensorflow.python.keras.layers.convolutional.Conv2D object at 0x7fb0c00737d0> False\n",
            "<tensorflow.python.keras.layers.convolutional.Conv2D object at 0x7fb0c002b990> False\n",
            "<tensorflow.python.keras.layers.convolutional.Conv2D object at 0x7fb0c00cdb90> False\n",
            "<tensorflow.python.keras.layers.normalization_v2.BatchNormalization object at 0x7fb0c00c5d50> False\n",
            "<tensorflow.python.keras.layers.normalization_v2.BatchNormalization object at 0x7fb0c00732d0> False\n",
            "<tensorflow.python.keras.layers.normalization_v2.BatchNormalization object at 0x7fb0c007d450> False\n",
            "<tensorflow.python.keras.layers.normalization_v2.BatchNormalization object at 0x7fb0c00b56d0> False\n",
            "<tensorflow.python.keras.layers.core.Activation object at 0x7fb0c00c5e10> False\n",
            "<tensorflow.python.keras.layers.core.Activation object at 0x7fb0c006eed0> False\n",
            "<tensorflow.python.keras.layers.core.Activation object at 0x7fb0c00d13d0> False\n",
            "<tensorflow.python.keras.layers.core.Activation object at 0x7fb0c01194d0> False\n",
            "<tensorflow.python.keras.layers.merge.Concatenate object at 0x7fb0c0031a90> False\n",
            "<tensorflow.python.keras.layers.convolutional.Conv2D object at 0x7fb089782490> False\n",
            "<tensorflow.python.keras.layers.normalization_v2.BatchNormalization object at 0x7fb089786e90> False\n",
            "<tensorflow.python.keras.layers.core.Activation object at 0x7fb08977c3d0> False\n",
            "<tensorflow.python.keras.layers.convolutional.Conv2D object at 0x7fb08978dbd0> False\n",
            "<tensorflow.python.keras.layers.normalization_v2.BatchNormalization object at 0x7fb089793e10> False\n",
            "<tensorflow.python.keras.layers.core.Activation object at 0x7fb089793650> False\n",
            "<tensorflow.python.keras.layers.convolutional.Conv2D object at 0x7fb0c0039bd0> False\n",
            "<tensorflow.python.keras.layers.convolutional.Conv2D object at 0x7fb08978ded0> False\n",
            "<tensorflow.python.keras.layers.normalization_v2.BatchNormalization object at 0x7fb0c0194510> False\n",
            "<tensorflow.python.keras.layers.normalization_v2.BatchNormalization object at 0x7fb0897a3310> False\n",
            "<tensorflow.python.keras.layers.core.Activation object at 0x7fb0c0046e10> False\n",
            "<tensorflow.python.keras.layers.core.Activation object at 0x7fb0897a3d50> False\n",
            "<tensorflow.python.keras.layers.convolutional.Conv2D object at 0x7fb0c0047190> False\n",
            "<tensorflow.python.keras.layers.convolutional.Conv2D object at 0x7fb0897b1ed0> False\n",
            "<tensorflow.python.keras.layers.normalization_v2.BatchNormalization object at 0x7fb0c004ffd0> False\n",
            "<tensorflow.python.keras.layers.normalization_v2.BatchNormalization object at 0x7fb089741ad0> False\n",
            "<tensorflow.python.keras.layers.core.Activation object at 0x7fb0c004fcd0> False\n",
            "<tensorflow.python.keras.layers.core.Activation object at 0x7fb089744310> False\n",
            "<tensorflow.python.keras.layers.pooling.AveragePooling2D object at 0x7fb08973bdd0> False\n",
            "<tensorflow.python.keras.layers.convolutional.Conv2D object at 0x7fb0c00dbc10> False\n",
            "<tensorflow.python.keras.layers.convolutional.Conv2D object at 0x7fb0c0058b10> False\n",
            "<tensorflow.python.keras.layers.convolutional.Conv2D object at 0x7fb08974b350> False\n",
            "<tensorflow.python.keras.layers.convolutional.Conv2D object at 0x7fb089763a50> False\n",
            "<tensorflow.python.keras.layers.normalization_v2.BatchNormalization object at 0x7fb0c0039e50> False\n",
            "<tensorflow.python.keras.layers.normalization_v2.BatchNormalization object at 0x7fb0c0043510> False\n",
            "<tensorflow.python.keras.layers.normalization_v2.BatchNormalization object at 0x7fb08974de50> False\n",
            "<tensorflow.python.keras.layers.normalization_v2.BatchNormalization object at 0x7fb089765f90> False\n",
            "<tensorflow.python.keras.layers.core.Activation object at 0x7fb0c0040190> False\n",
            "<tensorflow.python.keras.layers.core.Activation object at 0x7fb0c0061590> False\n",
            "<tensorflow.python.keras.layers.core.Activation object at 0x7fb089757cd0> False\n",
            "<tensorflow.python.keras.layers.core.Activation object at 0x7fb08976c290> False\n",
            "<tensorflow.python.keras.layers.merge.Concatenate object at 0x7fb089763190> False\n",
            "<tensorflow.python.keras.layers.convolutional.Conv2D object at 0x7fb0c00c3590> False\n",
            "<tensorflow.python.keras.layers.normalization_v2.BatchNormalization object at 0x7fb0c0073150> False\n",
            "<tensorflow.python.keras.layers.core.Activation object at 0x7fb0c0040710> False\n",
            "<tensorflow.python.keras.layers.convolutional.Conv2D object at 0x7fb08970ad10> False\n",
            "<tensorflow.python.keras.layers.normalization_v2.BatchNormalization object at 0x7fb08970ef90> False\n",
            "<tensorflow.python.keras.layers.core.Activation object at 0x7fb089710f90> False\n",
            "<tensorflow.python.keras.layers.convolutional.Conv2D object at 0x7fb0897785d0> False\n",
            "<tensorflow.python.keras.layers.convolutional.Conv2D object at 0x7fb08970d090> False\n",
            "<tensorflow.python.keras.layers.normalization_v2.BatchNormalization object at 0x7fb089757490> False\n",
            "<tensorflow.python.keras.layers.normalization_v2.BatchNormalization object at 0x7fb08970d2d0> False\n",
            "<tensorflow.python.keras.layers.core.Activation object at 0x7fb0897a3250> False\n",
            "<tensorflow.python.keras.layers.core.Activation object at 0x7fb089717590> False\n",
            "<tensorflow.python.keras.layers.convolutional.Conv2D object at 0x7fb08974bcd0> False\n",
            "<tensorflow.python.keras.layers.convolutional.Conv2D object at 0x7fb08970d310> False\n",
            "<tensorflow.python.keras.layers.normalization_v2.BatchNormalization object at 0x7fb0c00610d0> False\n",
            "<tensorflow.python.keras.layers.normalization_v2.BatchNormalization object at 0x7fb089722f10> False\n",
            "<tensorflow.python.keras.layers.core.Activation object at 0x7fb08977ced0> False\n",
            "<tensorflow.python.keras.layers.core.Activation object at 0x7fb089724a50> False\n",
            "<tensorflow.python.keras.layers.pooling.AveragePooling2D object at 0x7fb0896bbe10> False\n",
            "<tensorflow.python.keras.layers.convolutional.Conv2D object at 0x7fb089778990> False\n",
            "<tensorflow.python.keras.layers.convolutional.Conv2D object at 0x7fb0c012f210> False\n",
            "<tensorflow.python.keras.layers.convolutional.Conv2D object at 0x7fb08972d710> False\n",
            "<tensorflow.python.keras.layers.convolutional.Conv2D object at 0x7fb089734410> False\n",
            "<tensorflow.python.keras.layers.normalization_v2.BatchNormalization object at 0x7fb0896fef50> False\n",
            "<tensorflow.python.keras.layers.normalization_v2.BatchNormalization object at 0x7fb08978d510> False\n",
            "<tensorflow.python.keras.layers.normalization_v2.BatchNormalization object at 0x7fb089734d50> False\n",
            "<tensorflow.python.keras.layers.normalization_v2.BatchNormalization object at 0x7fb08972d490> False\n",
            "<tensorflow.python.keras.layers.core.Activation object at 0x7fb0896fee10> False\n",
            "<tensorflow.python.keras.layers.core.Activation object at 0x7fb0c019ce10> False\n",
            "<tensorflow.python.keras.layers.core.Activation object at 0x7fb089735d50> False\n",
            "<tensorflow.python.keras.layers.core.Activation object at 0x7fb0896c6810> False\n",
            "<tensorflow.python.keras.layers.merge.Concatenate object at 0x7fb0896bbc90> False\n",
            "<tensorflow.python.keras.layers.convolutional.Conv2D object at 0x7fb0896e5c90> False\n",
            "<tensorflow.python.keras.layers.normalization_v2.BatchNormalization object at 0x7fb0896d6410> False\n",
            "<tensorflow.python.keras.layers.core.Activation object at 0x7fb0896e5d50> False\n",
            "<tensorflow.python.keras.layers.convolutional.Conv2D object at 0x7fb0896e5910> False\n",
            "<tensorflow.python.keras.layers.normalization_v2.BatchNormalization object at 0x7fb0896f64d0> False\n",
            "<tensorflow.python.keras.layers.core.Activation object at 0x7fb089681190> False\n",
            "<tensorflow.python.keras.layers.convolutional.Conv2D object at 0x7fb0896d1410> False\n",
            "<tensorflow.python.keras.layers.convolutional.Conv2D object at 0x7fb0896ef650> False\n",
            "<tensorflow.python.keras.layers.normalization_v2.BatchNormalization object at 0x7fb0896cbd90> False\n",
            "<tensorflow.python.keras.layers.normalization_v2.BatchNormalization object at 0x7fb089688d90> False\n",
            "<tensorflow.python.keras.layers.core.Activation object at 0x7fb0896d6a90> False\n",
            "<tensorflow.python.keras.layers.core.Activation object at 0x7fb08968c310> False\n",
            "<tensorflow.python.keras.layers.convolutional.Conv2D object at 0x7fb0896da610> False\n",
            "<tensorflow.python.keras.layers.convolutional.Conv2D object at 0x7fb089691350> False\n",
            "<tensorflow.python.keras.layers.normalization_v2.BatchNormalization object at 0x7fb0896da590> False\n",
            "<tensorflow.python.keras.layers.normalization_v2.BatchNormalization object at 0x7fb089696e10> False\n",
            "<tensorflow.python.keras.layers.core.Activation object at 0x7fb0896c6c90> False\n",
            "<tensorflow.python.keras.layers.core.Activation object at 0x7fb089691a10> False\n",
            "<tensorflow.python.keras.layers.pooling.MaxPooling2D object at 0x7fb0896cbfd0> False\n",
            "<tensorflow.python.keras.layers.merge.Concatenate object at 0x7fb08972d9d0> False\n",
            "<tensorflow.python.keras.layers.convolutional.Conv2D object at 0x7fb0896a6cd0> False\n",
            "<tensorflow.python.keras.layers.normalization_v2.BatchNormalization object at 0x7fb08976ca10> False\n",
            "<tensorflow.python.keras.layers.core.Activation object at 0x7fb0896a8dd0> False\n",
            "<tensorflow.python.keras.layers.convolutional.Conv2D object at 0x7fb0c0083d10> False\n",
            "<tensorflow.python.keras.layers.convolutional.Conv2D object at 0x7fb0896a8e90> False\n",
            "<tensorflow.python.keras.layers.normalization_v2.BatchNormalization object at 0x7fb08970aa10> False\n",
            "<tensorflow.python.keras.layers.normalization_v2.BatchNormalization object at 0x7fb08963cf50> False\n",
            "<tensorflow.python.keras.layers.core.Activation object at 0x7fb0897a30d0> False\n",
            "<tensorflow.python.keras.layers.core.Activation object at 0x7fb089648550> False\n",
            "<tensorflow.python.keras.layers.convolutional.Conv2D object at 0x7fb08971b110> False\n",
            "<tensorflow.python.keras.layers.convolutional.Conv2D object at 0x7fb08970a710> False\n",
            "<tensorflow.python.keras.layers.convolutional.Conv2D object at 0x7fb089642e50> False\n",
            "<tensorflow.python.keras.layers.convolutional.Conv2D object at 0x7fb08965d790> False\n",
            "<tensorflow.python.keras.layers.pooling.AveragePooling2D object at 0x7fb0896669d0> False\n",
            "<tensorflow.python.keras.layers.convolutional.Conv2D object at 0x7fb089728090> False\n",
            "<tensorflow.python.keras.layers.normalization_v2.BatchNormalization object at 0x7fb0c0058c50> False\n",
            "<tensorflow.python.keras.layers.normalization_v2.BatchNormalization object at 0x7fb0896da1d0> False\n",
            "<tensorflow.python.keras.layers.normalization_v2.BatchNormalization object at 0x7fb089642350> False\n",
            "<tensorflow.python.keras.layers.normalization_v2.BatchNormalization object at 0x7fb089656a10> False\n",
            "<tensorflow.python.keras.layers.convolutional.Conv2D object at 0x7fb08966cd50> False\n",
            "<tensorflow.python.keras.layers.normalization_v2.BatchNormalization object at 0x7fb0896effd0> False\n",
            "<tensorflow.python.keras.layers.core.Activation object at 0x7fb08973b210> False\n",
            "<tensorflow.python.keras.layers.core.Activation object at 0x7fb0896a4650> False\n",
            "<tensorflow.python.keras.layers.core.Activation object at 0x7fb0896ae790> False\n",
            "<tensorflow.python.keras.layers.core.Activation object at 0x7fb0896667d0> False\n",
            "<tensorflow.python.keras.layers.normalization_v2.BatchNormalization object at 0x7fb089672310> False\n",
            "<tensorflow.python.keras.layers.core.Activation object at 0x7fb0896df790> False\n",
            "<tensorflow.python.keras.layers.merge.Concatenate object at 0x7fb08969bc50> False\n",
            "<tensorflow.python.keras.layers.merge.Concatenate object at 0x7fb08966c810> False\n",
            "<tensorflow.python.keras.layers.core.Activation object at 0x7fb089656810> False\n",
            "<tensorflow.python.keras.layers.merge.Concatenate object at 0x7fb0895fbd50> False\n",
            "<tensorflow.python.keras.layers.convolutional.Conv2D object at 0x7fb089626e10> False\n",
            "<tensorflow.python.keras.layers.normalization_v2.BatchNormalization object at 0x7fb089602610> False\n",
            "<tensorflow.python.keras.layers.core.Activation object at 0x7fb08960f3d0> False\n",
            "<tensorflow.python.keras.layers.convolutional.Conv2D object at 0x7fb089615250> False\n",
            "<tensorflow.python.keras.layers.convolutional.Conv2D object at 0x7fb08961e690> False\n",
            "<tensorflow.python.keras.layers.normalization_v2.BatchNormalization object at 0x7fb089672bd0> False\n",
            "<tensorflow.python.keras.layers.normalization_v2.BatchNormalization object at 0x7fb0896204d0> False\n",
            "<tensorflow.python.keras.layers.core.Activation object at 0x7fb089674850> False\n",
            "<tensorflow.python.keras.layers.core.Activation object at 0x7fb089656890> False\n",
            "<tensorflow.python.keras.layers.convolutional.Conv2D object at 0x7fb0896bb710> False\n",
            "<tensorflow.python.keras.layers.convolutional.Conv2D object at 0x7fb089626cd0> False\n",
            "<tensorflow.python.keras.layers.convolutional.Conv2D object at 0x7fb08964d7d0> False\n",
            "<tensorflow.python.keras.layers.convolutional.Conv2D object at 0x7fb0c004a190> False\n",
            "<tensorflow.python.keras.layers.pooling.AveragePooling2D object at 0x7fb0895ca050> False\n",
            "<tensorflow.python.keras.layers.convolutional.Conv2D object at 0x7fb0896745d0> False\n",
            "<tensorflow.python.keras.layers.normalization_v2.BatchNormalization object at 0x7fb08962fa90> False\n",
            "<tensorflow.python.keras.layers.normalization_v2.BatchNormalization object at 0x7fb0895baad0> False\n",
            "<tensorflow.python.keras.layers.normalization_v2.BatchNormalization object at 0x7fb08965d490> False\n",
            "<tensorflow.python.keras.layers.normalization_v2.BatchNormalization object at 0x7fb089711050> False\n",
            "<tensorflow.python.keras.layers.convolutional.Conv2D object at 0x7fb0895c7e90> False\n",
            "<tensorflow.python.keras.layers.normalization_v2.BatchNormalization object at 0x7fb089666190> False\n",
            "<tensorflow.python.keras.layers.core.Activation object at 0x7fb08961ef90> False\n",
            "<tensorflow.python.keras.layers.core.Activation object at 0x7fb08962f9d0> False\n",
            "<tensorflow.python.keras.layers.core.Activation object at 0x7fb0c0073a10> False\n",
            "<tensorflow.python.keras.layers.core.Activation object at 0x7fb0895c6290> False\n",
            "<tensorflow.python.keras.layers.normalization_v2.BatchNormalization object at 0x7fb0896d1510> False\n",
            "<tensorflow.python.keras.layers.core.Activation object at 0x7fb089615510> False\n",
            "<tensorflow.python.keras.layers.merge.Concatenate object at 0x7fb089637a50> False\n",
            "<tensorflow.python.keras.layers.merge.Concatenate object at 0x7fb0896cb190> False\n",
            "<tensorflow.python.keras.layers.core.Activation object at 0x7fb0895cc950> False\n",
            "<tensorflow.python.keras.layers.merge.Concatenate object at 0x7fb0895d92d0> False\n"
          ],
          "name": "stdout"
        }
      ]
    },
    {
      "cell_type": "code",
      "metadata": {
        "id": "CQsdukGnFWAR"
      },
      "source": [
        "from keras.models import Sequential, Model\n",
        "#from tensorflow.keras.models import Model\n",
        "from keras.layers import Conv2D, MaxPooling2D, Activation, Embedding, Dense, Dropout, Flatten, Input,GlobalAveragePooling2D\n",
        "from keras import activations\n",
        "#from tensorflow.python.keras.layers.core import Dense, Dropout, Flatten\n",
        "#from tensorflow.python.keras.layers import Input\n",
        "from keras.optimizers import Adam, SGD\n",
        "from keras.layers import LSTM\n",
        "#from keras.layers import Dropout\n",
        "#from keras.applications.vgg16 import VGG16\n",
        "#from tensorflow.keras.applications import vgg16\n",
        "from skimage.color import gray2rgb\n",
        "#from tensorflow.keras.applications.inception_v3 import InceptionV3 \n",
        "#from tensorflow.keras.applications import DenseNet201"
      ],
      "execution_count": null,
      "outputs": []
    },
    {
      "cell_type": "code",
      "metadata": {
        "colab": {
          "base_uri": "https://localhost:8080/"
        },
        "id": "hDUAiWIeE1Ui",
        "outputId": "0f5af1dc-bd59-437e-865d-c89162f1db55"
      },
      "source": [
        "# Create the model\n",
        "model = Sequential()\n",
        "\n",
        "# Add the vgg convolutional base model\n",
        "model.add(vgg_conv)\n",
        "\n",
        "# Add new layers\n",
        "model.add(Flatten())\n",
        "model.add(Dense(1024, activation='relu'))\n",
        "model.add(Dropout(0.5))\n",
        "model.add(Dense(38, activation='softmax'))\n",
        "\n",
        "# Show a summary of the model. Check the number of trainable parameters\n",
        "model.summary()"
      ],
      "execution_count": null,
      "outputs": [
        {
          "output_type": "stream",
          "text": [
            "Model: \"sequential\"\n",
            "_________________________________________________________________\n",
            "Layer (type)                 Output Shape              Param #   \n",
            "=================================================================\n",
            "inception_v3 (Functional)    (None, 5, 5, 2048)        21802784  \n",
            "_________________________________________________________________\n",
            "flatten (Flatten)            (None, 51200)             0         \n",
            "_________________________________________________________________\n",
            "dense (Dense)                (None, 1024)              52429824  \n",
            "_________________________________________________________________\n",
            "dropout (Dropout)            (None, 1024)              0         \n",
            "_________________________________________________________________\n",
            "dense_1 (Dense)              (None, 38)                38950     \n",
            "=================================================================\n",
            "Total params: 74,271,558\n",
            "Trainable params: 52,468,774\n",
            "Non-trainable params: 21,802,784\n",
            "_________________________________________________________________\n"
          ],
          "name": "stdout"
        }
      ]
    },
    {
      "cell_type": "code",
      "metadata": {
        "colab": {
          "base_uri": "https://localhost:8080/"
        },
        "id": "rrAx1W0gGHTb",
        "outputId": "df86522a-be4a-477d-a037-5ab0bbee2c5c"
      },
      "source": [
        "train_it.samples"
      ],
      "execution_count": null,
      "outputs": [
        {
          "output_type": "execute_result",
          "data": {
            "text/plain": [
              "10656"
            ]
          },
          "metadata": {
            "tags": []
          },
          "execution_count": 22
        }
      ]
    },
    {
      "cell_type": "code",
      "metadata": {
        "id": "Jnxc5HckGwqL"
      },
      "source": [
        "import keras\n",
        "initial_learning_rate = 0.001\n",
        "lr_schedule = keras.optimizers.schedules.ExponentialDecay(\n",
        "    initial_learning_rate,\n",
        "    decay_steps=2000,\n",
        "    decay_rate=0.16,\n",
        "    staircase=True)\n",
        "#sgd = keras.optimizers.SGD(lr=0.00001, decay=1e-6, momentum=0.9, nesterov=True)\n",
        "#model.compile(loss='categorical_crossentropy',\n",
        "#              optimizer=keras.optimizers.SGD(learning_rate=lr_schedule),\n",
        "#              metrics=['acc'])\n",
        "model.compile(loss='categorical_crossentropy',\n",
        "              optimizer=keras.optimizers.SGD(lr=1e-4),\n",
        "              metrics=['acc'])"
      ],
      "execution_count": null,
      "outputs": []
    },
    {
      "cell_type": "code",
      "metadata": {
        "colab": {
          "base_uri": "https://localhost:8080/"
        },
        "id": "EV8WD7w5FZuD",
        "outputId": "3170510c-4b6e-4529-8a8d-5d85b77510b3"
      },
      "source": [
        "nb_epochs = 70\n",
        "batch_size = 128\n",
        "model.fit_generator(\n",
        "    train_it,\n",
        "    steps_per_epoch = train_it.samples // batch_size,\n",
        "    validation_data = val_it, \n",
        "    validation_steps = val_it.samples // batch_size,\n",
        "    epochs = nb_epochs)"
      ],
      "execution_count": null,
      "outputs": [
        {
          "output_type": "stream",
          "text": [
            "/usr/local/lib/python3.7/dist-packages/tensorflow/python/keras/engine/training.py:1844: UserWarning: `Model.fit_generator` is deprecated and will be removed in a future version. Please use `Model.fit`, which supports generators.\n",
            "  warnings.warn('`Model.fit_generator` is deprecated and '\n"
          ],
          "name": "stderr"
        },
        {
          "output_type": "stream",
          "text": [
            "Epoch 1/70\n",
            "11/11 [==============================] - 817s 78s/step - loss: 5.1345 - acc: 0.0241 - val_loss: 3.9084 - val_acc: 0.0391\n",
            "Epoch 2/70\n",
            "11/11 [==============================] - 11s 988ms/step - loss: 4.4592 - acc: 0.0538 - val_loss: 3.4336 - val_acc: 0.1133\n",
            "Epoch 3/70\n",
            "11/11 [==============================] - 11s 1s/step - loss: 3.9500 - acc: 0.0685 - val_loss: 3.0129 - val_acc: 0.1836\n",
            "Epoch 4/70\n",
            "11/11 [==============================] - 11s 1s/step - loss: 3.5626 - acc: 0.1114 - val_loss: 2.6495 - val_acc: 0.3477\n",
            "Epoch 5/70\n",
            "11/11 [==============================] - 11s 987ms/step - loss: 3.2589 - acc: 0.1548 - val_loss: 2.4102 - val_acc: 0.4766\n",
            "Epoch 6/70\n",
            "11/11 [==============================] - 12s 1s/step - loss: 2.8478 - acc: 0.2400 - val_loss: 2.1640 - val_acc: 0.5859\n",
            "Epoch 7/70\n",
            "11/11 [==============================] - 11s 1s/step - loss: 2.5926 - acc: 0.2857 - val_loss: 1.9427 - val_acc: 0.6641\n",
            "Epoch 8/70\n",
            "11/11 [==============================] - 11s 1s/step - loss: 2.3283 - acc: 0.3524 - val_loss: 1.7099 - val_acc: 0.7617\n",
            "Epoch 9/70\n",
            "11/11 [==============================] - 11s 1s/step - loss: 2.2145 - acc: 0.4078 - val_loss: 1.5867 - val_acc: 0.7852\n",
            "Epoch 10/70\n",
            "11/11 [==============================] - 11s 1000ms/step - loss: 1.9502 - acc: 0.4736 - val_loss: 1.3798 - val_acc: 0.8750\n",
            "Epoch 11/70\n",
            "11/11 [==============================] - 11s 1s/step - loss: 1.8278 - acc: 0.5181 - val_loss: 1.2776 - val_acc: 0.9062\n",
            "Epoch 12/70\n",
            "11/11 [==============================] - 11s 1s/step - loss: 1.6550 - acc: 0.5857 - val_loss: 1.1690 - val_acc: 0.9336\n",
            "Epoch 13/70\n",
            "11/11 [==============================] - 11s 1s/step - loss: 1.5683 - acc: 0.6117 - val_loss: 1.0272 - val_acc: 0.9492\n",
            "Epoch 14/70\n",
            "11/11 [==============================] - 11s 1s/step - loss: 1.3887 - acc: 0.6680 - val_loss: 0.9708 - val_acc: 0.9414\n",
            "Epoch 15/70\n",
            "11/11 [==============================] - 11s 1s/step - loss: 1.2984 - acc: 0.7111 - val_loss: 0.8796 - val_acc: 0.9648\n",
            "Epoch 16/70\n",
            "11/11 [==============================] - 11s 995ms/step - loss: 1.1898 - acc: 0.7221 - val_loss: 0.8332 - val_acc: 0.9648\n",
            "Epoch 17/70\n",
            "11/11 [==============================] - 11s 1s/step - loss: 1.1409 - acc: 0.7628 - val_loss: 0.7361 - val_acc: 0.9727\n",
            "Epoch 18/70\n",
            "11/11 [==============================] - 11s 1s/step - loss: 1.0722 - acc: 0.7730 - val_loss: 0.7253 - val_acc: 0.9727\n",
            "Epoch 19/70\n",
            "11/11 [==============================] - 11s 995ms/step - loss: 0.9908 - acc: 0.7939 - val_loss: 0.5988 - val_acc: 0.9883\n",
            "Epoch 20/70\n",
            "11/11 [==============================] - 11s 995ms/step - loss: 0.8848 - acc: 0.8300 - val_loss: 0.6002 - val_acc: 0.9883\n",
            "Epoch 21/70\n",
            "11/11 [==============================] - 11s 1s/step - loss: 0.8552 - acc: 0.8382 - val_loss: 0.5511 - val_acc: 0.9883\n",
            "Epoch 22/70\n",
            "11/11 [==============================] - 11s 1s/step - loss: 0.7909 - acc: 0.8415 - val_loss: 0.5030 - val_acc: 0.9961\n",
            "Epoch 23/70\n",
            "11/11 [==============================] - 11s 1s/step - loss: 0.7487 - acc: 0.8585 - val_loss: 0.4863 - val_acc: 0.9961\n",
            "Epoch 24/70\n",
            "11/11 [==============================] - 11s 1000ms/step - loss: 0.7262 - acc: 0.8721 - val_loss: 0.4463 - val_acc: 0.9961\n",
            "Epoch 25/70\n",
            "11/11 [==============================] - 12s 1s/step - loss: 0.6667 - acc: 0.8931 - val_loss: 0.4299 - val_acc: 0.9922\n",
            "Epoch 26/70\n",
            "11/11 [==============================] - 11s 999ms/step - loss: 0.6601 - acc: 0.8951 - val_loss: 0.4001 - val_acc: 0.9883\n",
            "Epoch 27/70\n",
            "11/11 [==============================] - 11s 1s/step - loss: 0.6251 - acc: 0.8950 - val_loss: 0.3770 - val_acc: 1.0000\n",
            "Epoch 28/70\n",
            "11/11 [==============================] - 11s 996ms/step - loss: 0.6000 - acc: 0.9141 - val_loss: 0.3647 - val_acc: 0.9922\n",
            "Epoch 29/70\n",
            "11/11 [==============================] - 11s 1s/step - loss: 0.5769 - acc: 0.9195 - val_loss: 0.3160 - val_acc: 0.9961\n",
            "Epoch 30/70\n",
            "11/11 [==============================] - 11s 1s/step - loss: 0.5180 - acc: 0.9137 - val_loss: 0.3096 - val_acc: 1.0000\n",
            "Epoch 31/70\n",
            "11/11 [==============================] - 12s 1s/step - loss: 0.5230 - acc: 0.9227 - val_loss: 0.2977 - val_acc: 0.9961\n",
            "Epoch 32/70\n",
            "11/11 [==============================] - 11s 1s/step - loss: 0.5061 - acc: 0.9260 - val_loss: 0.3073 - val_acc: 1.0000\n",
            "Epoch 33/70\n",
            "11/11 [==============================] - 11s 1s/step - loss: 0.4549 - acc: 0.9410 - val_loss: 0.2779 - val_acc: 1.0000\n",
            "Epoch 34/70\n",
            "11/11 [==============================] - 11s 1s/step - loss: 0.4234 - acc: 0.9391 - val_loss: 0.2455 - val_acc: 0.9961\n",
            "Epoch 35/70\n",
            "11/11 [==============================] - 11s 1s/step - loss: 0.4260 - acc: 0.9444 - val_loss: 0.2373 - val_acc: 1.0000\n",
            "Epoch 36/70\n",
            "11/11 [==============================] - 11s 1s/step - loss: 0.4319 - acc: 0.9480 - val_loss: 0.2360 - val_acc: 0.9961\n",
            "Epoch 37/70\n",
            "11/11 [==============================] - 11s 1s/step - loss: 0.3894 - acc: 0.9442 - val_loss: 0.2296 - val_acc: 0.9961\n",
            "Epoch 38/70\n",
            "11/11 [==============================] - 11s 996ms/step - loss: 0.4081 - acc: 0.9389 - val_loss: 0.2161 - val_acc: 0.9961\n",
            "Epoch 39/70\n",
            "11/11 [==============================] - 11s 1s/step - loss: 0.3436 - acc: 0.9612 - val_loss: 0.2069 - val_acc: 0.9961\n",
            "Epoch 40/70\n",
            "11/11 [==============================] - 11s 1s/step - loss: 0.3538 - acc: 0.9567 - val_loss: 0.2004 - val_acc: 0.9961\n",
            "Epoch 41/70\n",
            "11/11 [==============================] - 11s 1s/step - loss: 0.3324 - acc: 0.9610 - val_loss: 0.1884 - val_acc: 0.9961\n",
            "Epoch 42/70\n",
            "11/11 [==============================] - 11s 1s/step - loss: 0.3256 - acc: 0.9561 - val_loss: 0.1844 - val_acc: 0.9961\n",
            "Epoch 43/70\n",
            "11/11 [==============================] - 11s 1s/step - loss: 0.3318 - acc: 0.9649 - val_loss: 0.1850 - val_acc: 0.9961\n",
            "Epoch 44/70\n",
            "11/11 [==============================] - 11s 1s/step - loss: 0.3099 - acc: 0.9691 - val_loss: 0.1643 - val_acc: 1.0000\n",
            "Epoch 45/70\n",
            "11/11 [==============================] - 11s 1s/step - loss: 0.2984 - acc: 0.9655 - val_loss: 0.1621 - val_acc: 0.9961\n",
            "Epoch 46/70\n",
            "11/11 [==============================] - 11s 1s/step - loss: 0.2980 - acc: 0.9591 - val_loss: 0.1540 - val_acc: 1.0000\n",
            "Epoch 47/70\n",
            "11/11 [==============================] - 11s 1s/step - loss: 0.2659 - acc: 0.9699 - val_loss: 0.1627 - val_acc: 0.9961\n",
            "Epoch 48/70\n",
            "11/11 [==============================] - 11s 1s/step - loss: 0.2707 - acc: 0.9691 - val_loss: 0.1475 - val_acc: 0.9961\n",
            "Epoch 49/70\n",
            "11/11 [==============================] - 11s 1s/step - loss: 0.2652 - acc: 0.9732 - val_loss: 0.1456 - val_acc: 0.9961\n",
            "Epoch 50/70\n",
            "11/11 [==============================] - 11s 1s/step - loss: 0.2608 - acc: 0.9635 - val_loss: 0.1355 - val_acc: 1.0000\n",
            "Epoch 51/70\n",
            "11/11 [==============================] - 11s 1s/step - loss: 0.2545 - acc: 0.9781 - val_loss: 0.1285 - val_acc: 0.9961\n",
            "Epoch 52/70\n",
            "11/11 [==============================] - 11s 1s/step - loss: 0.2617 - acc: 0.9720 - val_loss: 0.1416 - val_acc: 0.9961\n",
            "Epoch 53/70\n",
            "11/11 [==============================] - 11s 1s/step - loss: 0.2341 - acc: 0.9805 - val_loss: 0.1284 - val_acc: 0.9961\n",
            "Epoch 54/70\n",
            "11/11 [==============================] - 11s 1s/step - loss: 0.2317 - acc: 0.9780 - val_loss: 0.1253 - val_acc: 1.0000\n",
            "Epoch 55/70\n",
            "11/11 [==============================] - 11s 1s/step - loss: 0.2335 - acc: 0.9817 - val_loss: 0.1204 - val_acc: 0.9961\n",
            "Epoch 56/70\n",
            "11/11 [==============================] - 11s 1s/step - loss: 0.2176 - acc: 0.9813 - val_loss: 0.1224 - val_acc: 0.9961\n",
            "Epoch 57/70\n",
            "11/11 [==============================] - 11s 993ms/step - loss: 0.2336 - acc: 0.9752 - val_loss: 0.1089 - val_acc: 0.9961\n",
            "Epoch 58/70\n",
            "11/11 [==============================] - 11s 1s/step - loss: 0.1962 - acc: 0.9827 - val_loss: 0.1179 - val_acc: 1.0000\n",
            "Epoch 59/70\n",
            "11/11 [==============================] - 11s 994ms/step - loss: 0.2136 - acc: 0.9718 - val_loss: 0.1143 - val_acc: 0.9961\n",
            "Epoch 60/70\n",
            "11/11 [==============================] - 11s 1s/step - loss: 0.2087 - acc: 0.9769 - val_loss: 0.1066 - val_acc: 1.0000\n",
            "Epoch 61/70\n",
            "11/11 [==============================] - 11s 1s/step - loss: 0.2079 - acc: 0.9761 - val_loss: 0.1128 - val_acc: 0.9961\n",
            "Epoch 62/70\n",
            "11/11 [==============================] - 11s 1s/step - loss: 0.1848 - acc: 0.9845 - val_loss: 0.1017 - val_acc: 0.9961\n",
            "Epoch 63/70\n",
            "11/11 [==============================] - 11s 1s/step - loss: 0.1758 - acc: 0.9829 - val_loss: 0.1043 - val_acc: 0.9961\n",
            "Epoch 64/70\n",
            "11/11 [==============================] - 11s 1s/step - loss: 0.1729 - acc: 0.9845 - val_loss: 0.0968 - val_acc: 0.9961\n",
            "Epoch 65/70\n",
            "11/11 [==============================] - 11s 1s/step - loss: 0.1835 - acc: 0.9802 - val_loss: 0.0898 - val_acc: 0.9961\n",
            "Epoch 66/70\n",
            "11/11 [==============================] - 11s 1s/step - loss: 0.1668 - acc: 0.9862 - val_loss: 0.0982 - val_acc: 0.9961\n",
            "Epoch 67/70\n",
            "11/11 [==============================] - 11s 1s/step - loss: 0.1670 - acc: 0.9874 - val_loss: 0.0992 - val_acc: 0.9961\n",
            "Epoch 68/70\n",
            "11/11 [==============================] - 11s 1s/step - loss: 0.1721 - acc: 0.9861 - val_loss: 0.0933 - val_acc: 1.0000\n",
            "Epoch 69/70\n",
            "11/11 [==============================] - 11s 1s/step - loss: 0.1719 - acc: 0.9825 - val_loss: 0.0907 - val_acc: 0.9961\n",
            "Epoch 70/70\n",
            "11/11 [==============================] - 11s 976ms/step - loss: 0.1520 - acc: 0.9875 - val_loss: 0.0811 - val_acc: 1.0000\n"
          ],
          "name": "stdout"
        },
        {
          "output_type": "execute_result",
          "data": {
            "text/plain": [
              "<tensorflow.python.keras.callbacks.History at 0x7fb087efd410>"
            ]
          },
          "metadata": {
            "tags": []
          },
          "execution_count": 12
        }
      ]
    },
    {
      "cell_type": "code",
      "metadata": {
        "colab": {
          "base_uri": "https://localhost:8080/"
        },
        "id": "nfLx7xpSGkMO",
        "outputId": "f3cb1c58-c496-4ec6-c4f2-081ee9d8f11a"
      },
      "source": [
        "model.save(\"/content/drive/MyDrive/Research and Project Stuffs/BdSL/Datasets/Dataset_3_inception\")"
      ],
      "execution_count": null,
      "outputs": [
        {
          "output_type": "stream",
          "text": [
            "INFO:tensorflow:Assets written to: /content/drive/MyDrive/Research and Project Stuffs/BdSL/Datasets/Dataset_3_inception/assets\n"
          ],
          "name": "stdout"
        }
      ]
    },
    {
      "cell_type": "code",
      "metadata": {
        "colab": {
          "base_uri": "https://localhost:8080/"
        },
        "id": "YjS87ZEc0lGu",
        "outputId": "0e14e3d3-4d98-4b00-dd8c-767e79a16f6e"
      },
      "source": [
        "val_it.classes"
      ],
      "execution_count": null,
      "outputs": [
        {
          "output_type": "execute_result",
          "data": {
            "text/plain": [
              "array([ 0,  0,  0, ..., 36, 36, 36], dtype=int32)"
            ]
          },
          "metadata": {
            "tags": []
          },
          "execution_count": 14
        }
      ]
    },
    {
      "cell_type": "code",
      "metadata": {
        "colab": {
          "base_uri": "https://localhost:8080/"
        },
        "id": "3SUApdAiHO7V",
        "outputId": "941f319d-4c8f-4d1f-b00d-a3bbdec4e365"
      },
      "source": [
        "batch_size = 380\n",
        "# prepare an iterators for each dataset\n",
        "#train_it = datagen.flow_from_directory('/content/drive/MyDrive/Research and Project Stuffs/BdSL/Datasets/dataset3/dataset',target_size=(img_height, img_width),batch_size = batch_size, subset='training')\n",
        "val_it = datagen.flow_from_directory('/content/drive/MyDrive/Research and Project Stuffs/BdSL/Datasets/dataset3/dataset',target_size=(img_height, img_width), batch_size = batch_size, subset='validation')"
      ],
      "execution_count": null,
      "outputs": [
        {
          "output_type": "stream",
          "text": [
            "Found 380 images belonging to 38 classes.\n"
          ],
          "name": "stdout"
        }
      ]
    },
    {
      "cell_type": "code",
      "metadata": {
        "colab": {
          "base_uri": "https://localhost:8080/"
        },
        "id": "w-aSNUm7G2o-",
        "outputId": "090bcb5a-5721-4040-e2e4-bb207998e83b"
      },
      "source": [
        "test_score = model.evaluate_generator(val_it, batch_size)\n",
        "\n",
        "\n",
        "\n",
        "print(\"[INFO] accuracy: {:.2f}%\".format(test_score[1] * 100)) \n",
        "\n",
        "print(\"[INFO] Loss: \",test_score[0])"
      ],
      "execution_count": null,
      "outputs": [
        {
          "output_type": "stream",
          "text": [
            "/usr/local/lib/python3.7/dist-packages/tensorflow/python/keras/engine/training.py:1877: UserWarning: `Model.evaluate_generator` is deprecated and will be removed in a future version. Please use `Model.evaluate`, which supports generators.\n",
            "  warnings.warn('`Model.evaluate_generator` is deprecated and '\n"
          ],
          "name": "stderr"
        },
        {
          "output_type": "stream",
          "text": [
            "WARNING:tensorflow:Your input ran out of data; interrupting training. Make sure that your dataset or generator can generate at least `steps_per_epoch * epochs` batches (in this case, 380 batches). You may need to use the repeat() function when building your dataset.\n",
            "[INFO] accuracy: 99.74%\n",
            "[INFO] Loss:  0.08739648014307022\n"
          ],
          "name": "stdout"
        }
      ]
    },
    {
      "cell_type": "code",
      "metadata": {
        "id": "XqirY6xOZ4rh"
      },
      "source": [
        "import sys\n",
        "\n",
        "import numpy as np\n",
        "\n",
        "from keras import backend as K\n",
        "\n",
        "from keras.models import Sequential\n",
        "\n",
        "from keras.layers.core import Dense, Dropout, Activation, Flatten\n",
        "\n",
        "from keras.layers.convolutional import Convolution2D, MaxPooling2D\n",
        "\n",
        "from keras.preprocessing.image import ImageDataGenerator\n",
        "\n",
        "from sklearn.metrics import classification_report, confusion_matrix\n",
        "\n",
        "from keras.layers import Conv2D, Flatten, Dense, MaxPool2D,MaxPooling2D, Activation, Dropout, BatchNormalization, Input\n",
        "\n",
        "import matplotlib.pyplot as plt\n",
        "\n",
        "from keras.optimizers import Adam\n",
        "\n",
        "import itertools "
      ],
      "execution_count": null,
      "outputs": []
    },
    {
      "cell_type": "code",
      "metadata": {
        "colab": {
          "base_uri": "https://localhost:8080/",
          "height": 242
        },
        "id": "88HvCkHpZ-It",
        "outputId": "3c0e804d-dfcb-40af-8151-b1915f350aa9"
      },
      "source": [
        "# Loss Curves\n",
        "\n",
        "plt.figure(figsize=[8,6])\n",
        "\n",
        "plt.plot(model.history['loss'],'r',linewidth=3.0)\n",
        "\n",
        "plt.plot(model.history['val_loss'],'b',linewidth=3.0)\n",
        "\n",
        "plt.legend(['Training loss', 'Validation Loss'],fontsize=18)\n",
        "\n",
        "plt.xlabel('Epochs ',fontsize=16)\n",
        "\n",
        "plt.ylabel('Loss',fontsize=16)\n",
        "\n",
        "plt.title('Loss Curves',fontsize=16)"
      ],
      "execution_count": null,
      "outputs": [
        {
          "output_type": "error",
          "ename": "AttributeError",
          "evalue": "ignored",
          "traceback": [
            "\u001b[0;31m---------------------------------------------------------------------------\u001b[0m",
            "\u001b[0;31mAttributeError\u001b[0m                            Traceback (most recent call last)",
            "\u001b[0;32m<ipython-input-19-2d0c3c3f616e>\u001b[0m in \u001b[0;36m<module>\u001b[0;34m()\u001b[0m\n\u001b[1;32m      3\u001b[0m \u001b[0mplt\u001b[0m\u001b[0;34m.\u001b[0m\u001b[0mfigure\u001b[0m\u001b[0;34m(\u001b[0m\u001b[0mfigsize\u001b[0m\u001b[0;34m=\u001b[0m\u001b[0;34m[\u001b[0m\u001b[0;36m8\u001b[0m\u001b[0;34m,\u001b[0m\u001b[0;36m6\u001b[0m\u001b[0;34m]\u001b[0m\u001b[0;34m)\u001b[0m\u001b[0;34m\u001b[0m\u001b[0;34m\u001b[0m\u001b[0m\n\u001b[1;32m      4\u001b[0m \u001b[0;34m\u001b[0m\u001b[0m\n\u001b[0;32m----> 5\u001b[0;31m \u001b[0mplt\u001b[0m\u001b[0;34m.\u001b[0m\u001b[0mplot\u001b[0m\u001b[0;34m(\u001b[0m\u001b[0mmodel\u001b[0m\u001b[0;34m.\u001b[0m\u001b[0mHistory\u001b[0m\u001b[0;34m[\u001b[0m\u001b[0;34m'loss'\u001b[0m\u001b[0;34m]\u001b[0m\u001b[0;34m,\u001b[0m\u001b[0;34m'r'\u001b[0m\u001b[0;34m,\u001b[0m\u001b[0mlinewidth\u001b[0m\u001b[0;34m=\u001b[0m\u001b[0;36m3.0\u001b[0m\u001b[0;34m)\u001b[0m\u001b[0;34m\u001b[0m\u001b[0;34m\u001b[0m\u001b[0m\n\u001b[0m\u001b[1;32m      6\u001b[0m \u001b[0;34m\u001b[0m\u001b[0m\n\u001b[1;32m      7\u001b[0m \u001b[0mplt\u001b[0m\u001b[0;34m.\u001b[0m\u001b[0mplot\u001b[0m\u001b[0;34m(\u001b[0m\u001b[0mmodel\u001b[0m\u001b[0;34m.\u001b[0m\u001b[0mhistory\u001b[0m\u001b[0;34m[\u001b[0m\u001b[0;34m'val_loss'\u001b[0m\u001b[0;34m]\u001b[0m\u001b[0;34m,\u001b[0m\u001b[0;34m'b'\u001b[0m\u001b[0;34m,\u001b[0m\u001b[0mlinewidth\u001b[0m\u001b[0;34m=\u001b[0m\u001b[0;36m3.0\u001b[0m\u001b[0;34m)\u001b[0m\u001b[0;34m\u001b[0m\u001b[0;34m\u001b[0m\u001b[0m\n",
            "\u001b[0;31mAttributeError\u001b[0m: 'Sequential' object has no attribute 'History'"
          ]
        },
        {
          "output_type": "display_data",
          "data": {
            "text/plain": [
              "<Figure size 576x432 with 0 Axes>"
            ]
          },
          "metadata": {
            "tags": []
          }
        }
      ]
    },
    {
      "cell_type": "code",
      "metadata": {
        "id": "z8b7xk5oaDpe"
      },
      "source": [
        "#Plot the confusion matrix. Set Normalize = True/False\n",
        "\n",
        "\n",
        "\n",
        "def plot_confusion_matrix(cm, classes, normalize=True, title='Confusion matrix', cmap=plt.cm.Blues):\n",
        "\n",
        "    \"\"\"\n",
        "\n",
        "    This function prints and plots the confusion matrix.\n",
        "\n",
        "    Normalization can be applied by setting `normalize=True`.\n",
        "\n",
        "    \"\"\"\n",
        "\n",
        "    plt.figure(figsize=(10,10))\n",
        "\n",
        "\n",
        "\n",
        "    plt.imshow(cm, interpolation='nearest', cmap=cmap)\n",
        "\n",
        "    plt.title(title)\n",
        "\n",
        "    plt.colorbar()\n",
        "\n",
        "\n",
        "\n",
        "    tick_marks = np.arange(len(classes))\n",
        "\n",
        "    plt.xticks(tick_marks, classes, rotation=45)\n",
        "\n",
        "    plt.yticks(tick_marks, classes)\n",
        "\n",
        "\n",
        "\n",
        "    if normalize:\n",
        "\n",
        "        cm = cm.astype('float') / cm.sum(axis=1)[:, np.newaxis]\n",
        "\n",
        "        cm = np.around(cm, decimals=2)\n",
        "\n",
        "        cm[np.isnan(cm)] = 0.0\n",
        "\n",
        "        print(\"Normalized confusion matrix\")\n",
        "\n",
        "    else:\n",
        "\n",
        "        print('Confusion matrix, without normalization')\n",
        "\n",
        "    thresh = cm.max() / 2.\n",
        "\n",
        "    for i, j in itertools.product(range(cm.shape[0]), range(cm.shape[1])):\n",
        "\n",
        "        plt.text(j, i, cm[i, j],\n",
        "\n",
        "                 horizontalalignment=\"center\",\n",
        "\n",
        "                 color=\"white\" if cm[i, j] > thresh else \"black\")\n",
        "\n",
        "    plt.tight_layout()\n",
        "\n",
        "    plt.ylabel('True label')\n",
        "\n",
        "    plt.xlabel('Predicted label')"
      ],
      "execution_count": null,
      "outputs": []
    },
    {
      "cell_type": "code",
      "metadata": {
        "colab": {
          "base_uri": "https://localhost:8080/"
        },
        "id": "50pT6StIaZU2",
        "outputId": "9048a547-a698-4bae-f5e8-8256751150a8"
      },
      "source": [
        "y_img_batch, y_class_batch = val_it[0]\n",
        "y_pred = np.argmax(model.predict(y_img_batch),-1)\n",
        "y_true = np.argmax(y_class_batch,-1)\n",
        "print(sum(y_pred==y_true)/batch_size)"
      ],
      "execution_count": null,
      "outputs": [
        {
          "output_type": "stream",
          "text": [
            "0.9973684210526316\n"
          ],
          "name": "stdout"
        }
      ]
    },
    {
      "cell_type": "code",
      "metadata": {
        "colab": {
          "base_uri": "https://localhost:8080/"
        },
        "id": "-W5WEWeIatUe",
        "outputId": "d49e182e-ee5e-4276-956e-26c179e196a9"
      },
      "source": [
        "#Print the Target names\n",
        "\n",
        "\n",
        "\n",
        "target_names = []\n",
        "\n",
        "for key in val_it.class_indices:\n",
        "\n",
        "    target_names.append(key)\n",
        "\n",
        "\n",
        "\n",
        "print(target_names)"
      ],
      "execution_count": null,
      "outputs": [
        {
          "output_type": "stream",
          "text": [
            "['15cha', '16.chha', '2.ah', '31.b', '38.bsro', '38.chndro', '6.ae', 'da', 'dda', 'ddha', 'dha', 'eio', 'fa', 'ga', 'gha', 'ha', 'i', 'ja', 'jha', 'k', 'kha', 'la', 'ma', 'na', 'o', 'oha', 'oi', 'onsor', 'ou', 'pa', 'rri', 'sa', 'ta', 'tha', 'tta', 'ttha', 'u', 'umo']\n"
          ],
          "name": "stdout"
        }
      ]
    },
    {
      "cell_type": "code",
      "metadata": {
        "colab": {
          "base_uri": "https://localhost:8080/",
          "height": 745
        },
        "id": "N0mpSUunacU3",
        "outputId": "31eaa78f-7dc9-4211-dacf-a626036ae531"
      },
      "source": [
        "cm = confusion_matrix(y_true,y_pred)\n",
        "plot_confusion_matrix(cm, target_names, title='Confusion Matrix')"
      ],
      "execution_count": null,
      "outputs": [
        {
          "output_type": "stream",
          "text": [
            "Normalized confusion matrix\n"
          ],
          "name": "stdout"
        },
        {
          "output_type": "display_data",
          "data": {
            "image/png": "[encoded data removed]",
            "text/plain": [
              "<Figure size 720x720 with 2 Axes>"
            ]
          },
          "metadata": {
            "tags": [],
            "needs_background": "light"
          }
        }
      ]
    },
    {
      "cell_type": "code",
      "metadata": {
        "colab": {
          "base_uri": "https://localhost:8080/"
        },
        "id": "R9w3e0DAajrO",
        "outputId": "9fe8e321-c15e-43f2-f010-43bb3d693735"
      },
      "source": [
        "#Print Classification Report\n",
        "\n",
        "print('Classification Report')\n",
        "\n",
        "print(classification_report(y_true, y_pred, target_names=target_names))"
      ],
      "execution_count": null,
      "outputs": [
        {
          "output_type": "stream",
          "text": [
            "Classification Report\n",
            "              precision    recall  f1-score   support\n",
            "\n",
            "       15cha       1.00      1.00      1.00        10\n",
            "     16.chha       1.00      1.00      1.00        10\n",
            "        2.ah       1.00      1.00      1.00        10\n",
            "        31.b       1.00      1.00      1.00        10\n",
            "     38.bsro       1.00      1.00      1.00        10\n",
            "   38.chndro       1.00      1.00      1.00        10\n",
            "        6.ae       1.00      1.00      1.00        10\n",
            "          da       1.00      1.00      1.00        10\n",
            "         dda       0.91      1.00      0.95        10\n",
            "        ddha       1.00      0.90      0.95        10\n",
            "         dha       1.00      1.00      1.00        10\n",
            "         eio       1.00      1.00      1.00        10\n",
            "          fa       1.00      1.00      1.00        10\n",
            "          ga       1.00      1.00      1.00        10\n",
            "         gha       1.00      1.00      1.00        10\n",
            "          ha       1.00      1.00      1.00        10\n",
            "           i       1.00      1.00      1.00        10\n",
            "          ja       1.00      1.00      1.00        10\n",
            "         jha       1.00      1.00      1.00        10\n",
            "           k       1.00      1.00      1.00        10\n",
            "         kha       1.00      1.00      1.00        10\n",
            "          la       1.00      1.00      1.00        10\n",
            "          ma       1.00      1.00      1.00        10\n",
            "          na       1.00      1.00      1.00        10\n",
            "           o       1.00      1.00      1.00        10\n",
            "         oha       1.00      1.00      1.00        10\n",
            "          oi       1.00      1.00      1.00        10\n",
            "       onsor       1.00      1.00      1.00        10\n",
            "          ou       1.00      1.00      1.00        10\n",
            "          pa       1.00      1.00      1.00        10\n",
            "         rri       1.00      1.00      1.00        10\n",
            "          sa       1.00      1.00      1.00        10\n",
            "          ta       1.00      1.00      1.00        10\n",
            "         tha       1.00      1.00      1.00        10\n",
            "         tta       1.00      1.00      1.00        10\n",
            "        ttha       1.00      1.00      1.00        10\n",
            "           u       1.00      1.00      1.00        10\n",
            "         umo       1.00      1.00      1.00        10\n",
            "\n",
            "    accuracy                           1.00       380\n",
            "   macro avg       1.00      1.00      1.00       380\n",
            "weighted avg       1.00      1.00      1.00       380\n",
            "\n"
          ],
          "name": "stdout"
        }
      ]
    },
    {
      "cell_type": "code",
      "metadata": {
        "id": "HfenuZbra129"
      },
      "source": [
        ""
      ],
      "execution_count": null,
      "outputs": []
    }
  ]
}