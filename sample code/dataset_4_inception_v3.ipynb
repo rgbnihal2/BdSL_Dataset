{
  "nbformat": 4,
  "nbformat_minor": 0,
  "metadata": {
    "colab": {
      "name": "dataset 4 inception v3",
      "provenance": []
    },
    "kernelspec": {
      "name": "python3",
      "display_name": "Python 3"
    },
    "language_info": {
      "name": "python"
    },
    "accelerator": "GPU"
  },
  "cells": [
    {
      "cell_type": "code",
      "metadata": {
        "colab": {
          "base_uri": "https://localhost:8080/"
        },
        "id": "wnTRugAwPiAr",
        "outputId": "88f09c22-3bc7-4b3e-b1fe-706a4c54a451"
      },
      "source": [
        "from google.colab import drive\n",
        "drive.mount('/content/drive')"
      ],
      "execution_count": null,
      "outputs": [
        {
          "output_type": "stream",
          "text": [
            "Mounted at /content/drive\n"
          ],
          "name": "stdout"
        }
      ]
    },
    {
      "cell_type": "code",
      "metadata": {
        "id": "-l4MRfIYQESF"
      },
      "source": [
        "\n",
        "!unzip -uq \"/content/drive/MyDrive/Research and Project Stuffs/BdSL/Datasets/dataset4.zip\" -d \"/content/drive/MyDrive/Research and Project Stuffs/BdSL/Datasets/\""
      ],
      "execution_count": null,
      "outputs": []
    },
    {
      "cell_type": "code",
      "metadata": {
        "colab": {
          "base_uri": "https://localhost:8080/"
        },
        "id": "4gCn-4avQsgn",
        "outputId": "1603e326-1616-47d7-ebc7-14505f7258be"
      },
      "source": [
        "# example of progressively loading images from file\n",
        "from keras.preprocessing.image import ImageDataGenerator\n",
        "# create generator\n",
        "datagen = ImageDataGenerator(rescale=1. / 255,validation_split=0.2)\n",
        "img_height = 224\n",
        "img_width = 224 \n",
        "batch_size = 128\n",
        "# prepare an iterators for each dataset\n",
        "train_it = datagen.flow_from_directory('/content/drive/MyDrive/Research and Project Stuffs/BdSL/Datasets/dataset4',target_size=(img_height, img_width),batch_size = batch_size, subset='training')\n",
        "val_it = datagen.flow_from_directory('/content/drive/MyDrive/Research and Project Stuffs/BdSL/Datasets/dataset4',target_size=(img_height, img_width), batch_size = batch_size, subset='validation')"
      ],
      "execution_count": null,
      "outputs": [
        {
          "output_type": "stream",
          "text": [
            "Found 1480 images belonging to 37 classes.\n",
            "Found 369 images belonging to 37 classes.\n"
          ],
          "name": "stdout"
        }
      ]
    },
    {
      "cell_type": "code",
      "metadata": {
        "colab": {
          "base_uri": "https://localhost:8080/"
        },
        "id": "vJxJYLGa7BCa",
        "outputId": "ec2af6a5-0b43-4d80-8963-0c795691a8ac"
      },
      "source": [
        "# confirm the iterator works\n",
        "batchX, batchy = train_it.next()\n",
        "print('Batch shape=%s, min=%.3f, max=%.3f' % (batchX.shape, batchX.min(), batchX.max()))"
      ],
      "execution_count": null,
      "outputs": [
        {
          "output_type": "stream",
          "text": [
            "Batch shape=(32, 224, 224, 3), min=5.000, max=251.000\n"
          ],
          "name": "stdout"
        }
      ]
    },
    {
      "cell_type": "code",
      "metadata": {
        "id": "nrv3Eu7q7rL6"
      },
      "source": [
        "from sklearn.model_selection import train_test_split\n"
      ],
      "execution_count": null,
      "outputs": []
    },
    {
      "cell_type": "code",
      "metadata": {
        "colab": {
          "base_uri": "https://localhost:8080/",
          "height": 299
        },
        "id": "5ojf4m6G8ZDT",
        "outputId": "02ee15ac-55d8-41f0-a67a-be04e399083e"
      },
      "source": [
        "X_train, X_test, y_train, y_test = train_test_split(train_it, test_size=0.2, random_state=42)"
      ],
      "execution_count": null,
      "outputs": [
        {
          "output_type": "error",
          "ename": "KeyboardInterrupt",
          "evalue": "ignored",
          "traceback": [
            "\u001b[0;31m---------------------------------------------------------------------------\u001b[0m",
            "\u001b[0;31mKeyboardInterrupt\u001b[0m                         Traceback (most recent call last)",
            "\u001b[0;32m<ipython-input-11-2b74e10e72d7>\u001b[0m in \u001b[0;36m<module>\u001b[0;34m()\u001b[0m\n\u001b[0;32m----> 1\u001b[0;31m \u001b[0mX_train\u001b[0m\u001b[0;34m,\u001b[0m \u001b[0mX_test\u001b[0m\u001b[0;34m,\u001b[0m \u001b[0my_train\u001b[0m\u001b[0;34m,\u001b[0m \u001b[0my_test\u001b[0m \u001b[0;34m=\u001b[0m \u001b[0mtrain_test_split\u001b[0m\u001b[0;34m(\u001b[0m\u001b[0mtrain_it\u001b[0m\u001b[0;34m,\u001b[0m \u001b[0mtest_size\u001b[0m\u001b[0;34m=\u001b[0m\u001b[0;36m0.2\u001b[0m\u001b[0;34m,\u001b[0m \u001b[0mrandom_state\u001b[0m\u001b[0;34m=\u001b[0m\u001b[0;36m42\u001b[0m\u001b[0;34m)\u001b[0m\u001b[0;34m\u001b[0m\u001b[0;34m\u001b[0m\u001b[0m\n\u001b[0m",
            "\u001b[0;32m/usr/local/lib/python3.7/dist-packages/sklearn/model_selection/_split.py\u001b[0m in \u001b[0;36mtrain_test_split\u001b[0;34m(*arrays, **options)\u001b[0m\n\u001b[1;32m   2144\u001b[0m \u001b[0;34m\u001b[0m\u001b[0m\n\u001b[1;32m   2145\u001b[0m     return list(chain.from_iterable((_safe_indexing(a, train),\n\u001b[0;32m-> 2146\u001b[0;31m                                      _safe_indexing(a, test)) for a in arrays))\n\u001b[0m\u001b[1;32m   2147\u001b[0m \u001b[0;34m\u001b[0m\u001b[0m\n\u001b[1;32m   2148\u001b[0m \u001b[0;34m\u001b[0m\u001b[0m\n",
            "\u001b[0;32m/usr/local/lib/python3.7/dist-packages/sklearn/model_selection/_split.py\u001b[0m in \u001b[0;36m<genexpr>\u001b[0;34m(.0)\u001b[0m\n\u001b[1;32m   2144\u001b[0m \u001b[0;34m\u001b[0m\u001b[0m\n\u001b[1;32m   2145\u001b[0m     return list(chain.from_iterable((_safe_indexing(a, train),\n\u001b[0;32m-> 2146\u001b[0;31m                                      _safe_indexing(a, test)) for a in arrays))\n\u001b[0m\u001b[1;32m   2147\u001b[0m \u001b[0;34m\u001b[0m\u001b[0m\n\u001b[1;32m   2148\u001b[0m \u001b[0;34m\u001b[0m\u001b[0m\n",
            "\u001b[0;32m/usr/local/lib/python3.7/dist-packages/sklearn/utils/__init__.py\u001b[0m in \u001b[0;36m_safe_indexing\u001b[0;34m(X, indices, axis)\u001b[0m\n\u001b[1;32m    413\u001b[0m         \u001b[0;32mreturn\u001b[0m \u001b[0m_array_indexing\u001b[0m\u001b[0;34m(\u001b[0m\u001b[0mX\u001b[0m\u001b[0;34m,\u001b[0m \u001b[0mindices\u001b[0m\u001b[0;34m,\u001b[0m \u001b[0mindices_dtype\u001b[0m\u001b[0;34m,\u001b[0m \u001b[0maxis\u001b[0m\u001b[0;34m=\u001b[0m\u001b[0maxis\u001b[0m\u001b[0;34m)\u001b[0m\u001b[0;34m\u001b[0m\u001b[0;34m\u001b[0m\u001b[0m\n\u001b[1;32m    414\u001b[0m     \u001b[0;32melse\u001b[0m\u001b[0;34m:\u001b[0m\u001b[0;34m\u001b[0m\u001b[0;34m\u001b[0m\u001b[0m\n\u001b[0;32m--> 415\u001b[0;31m         \u001b[0;32mreturn\u001b[0m \u001b[0m_list_indexing\u001b[0m\u001b[0;34m(\u001b[0m\u001b[0mX\u001b[0m\u001b[0;34m,\u001b[0m \u001b[0mindices\u001b[0m\u001b[0;34m,\u001b[0m \u001b[0mindices_dtype\u001b[0m\u001b[0;34m)\u001b[0m\u001b[0;34m\u001b[0m\u001b[0;34m\u001b[0m\u001b[0m\n\u001b[0m\u001b[1;32m    416\u001b[0m \u001b[0;34m\u001b[0m\u001b[0m\n\u001b[1;32m    417\u001b[0m \u001b[0;34m\u001b[0m\u001b[0m\n",
            "\u001b[0;32m/usr/local/lib/python3.7/dist-packages/sklearn/utils/__init__.py\u001b[0m in \u001b[0;36m_list_indexing\u001b[0;34m(X, key, key_dtype)\u001b[0m\n\u001b[1;32m    223\u001b[0m         \u001b[0;32mreturn\u001b[0m \u001b[0mlist\u001b[0m\u001b[0;34m(\u001b[0m\u001b[0mcompress\u001b[0m\u001b[0;34m(\u001b[0m\u001b[0mX\u001b[0m\u001b[0;34m,\u001b[0m \u001b[0mkey\u001b[0m\u001b[0;34m)\u001b[0m\u001b[0;34m)\u001b[0m\u001b[0;34m\u001b[0m\u001b[0;34m\u001b[0m\u001b[0m\n\u001b[1;32m    224\u001b[0m     \u001b[0;31m# key is a integer array-like of key\u001b[0m\u001b[0;34m\u001b[0m\u001b[0;34m\u001b[0m\u001b[0;34m\u001b[0m\u001b[0m\n\u001b[0;32m--> 225\u001b[0;31m     \u001b[0;32mreturn\u001b[0m \u001b[0;34m[\u001b[0m\u001b[0mX\u001b[0m\u001b[0;34m[\u001b[0m\u001b[0midx\u001b[0m\u001b[0;34m]\u001b[0m \u001b[0;32mfor\u001b[0m \u001b[0midx\u001b[0m \u001b[0;32min\u001b[0m \u001b[0mkey\u001b[0m\u001b[0;34m]\u001b[0m\u001b[0;34m\u001b[0m\u001b[0;34m\u001b[0m\u001b[0m\n\u001b[0m\u001b[1;32m    226\u001b[0m \u001b[0;34m\u001b[0m\u001b[0m\n\u001b[1;32m    227\u001b[0m \u001b[0;34m\u001b[0m\u001b[0m\n",
            "\u001b[0;32m/usr/local/lib/python3.7/dist-packages/sklearn/utils/__init__.py\u001b[0m in \u001b[0;36m<listcomp>\u001b[0;34m(.0)\u001b[0m\n\u001b[1;32m    223\u001b[0m         \u001b[0;32mreturn\u001b[0m \u001b[0mlist\u001b[0m\u001b[0;34m(\u001b[0m\u001b[0mcompress\u001b[0m\u001b[0;34m(\u001b[0m\u001b[0mX\u001b[0m\u001b[0;34m,\u001b[0m \u001b[0mkey\u001b[0m\u001b[0;34m)\u001b[0m\u001b[0;34m)\u001b[0m\u001b[0;34m\u001b[0m\u001b[0;34m\u001b[0m\u001b[0m\n\u001b[1;32m    224\u001b[0m     \u001b[0;31m# key is a integer array-like of key\u001b[0m\u001b[0;34m\u001b[0m\u001b[0;34m\u001b[0m\u001b[0;34m\u001b[0m\u001b[0m\n\u001b[0;32m--> 225\u001b[0;31m     \u001b[0;32mreturn\u001b[0m \u001b[0;34m[\u001b[0m\u001b[0mX\u001b[0m\u001b[0;34m[\u001b[0m\u001b[0midx\u001b[0m\u001b[0;34m]\u001b[0m \u001b[0;32mfor\u001b[0m \u001b[0midx\u001b[0m \u001b[0;32min\u001b[0m \u001b[0mkey\u001b[0m\u001b[0;34m]\u001b[0m\u001b[0;34m\u001b[0m\u001b[0;34m\u001b[0m\u001b[0m\n\u001b[0m\u001b[1;32m    226\u001b[0m \u001b[0;34m\u001b[0m\u001b[0m\n\u001b[1;32m    227\u001b[0m \u001b[0;34m\u001b[0m\u001b[0m\n",
            "\u001b[0;32m/usr/local/lib/python3.7/dist-packages/keras_preprocessing/image/iterator.py\u001b[0m in \u001b[0;36m__getitem__\u001b[0;34m(self, idx)\u001b[0m\n\u001b[1;32m     63\u001b[0m         index_array = self.index_array[self.batch_size * idx:\n\u001b[1;32m     64\u001b[0m                                        self.batch_size * (idx + 1)]\n\u001b[0;32m---> 65\u001b[0;31m         \u001b[0;32mreturn\u001b[0m \u001b[0mself\u001b[0m\u001b[0;34m.\u001b[0m\u001b[0m_get_batches_of_transformed_samples\u001b[0m\u001b[0;34m(\u001b[0m\u001b[0mindex_array\u001b[0m\u001b[0;34m)\u001b[0m\u001b[0;34m\u001b[0m\u001b[0;34m\u001b[0m\u001b[0m\n\u001b[0m\u001b[1;32m     66\u001b[0m \u001b[0;34m\u001b[0m\u001b[0m\n\u001b[1;32m     67\u001b[0m     \u001b[0;32mdef\u001b[0m \u001b[0m__len__\u001b[0m\u001b[0;34m(\u001b[0m\u001b[0mself\u001b[0m\u001b[0;34m)\u001b[0m\u001b[0;34m:\u001b[0m\u001b[0;34m\u001b[0m\u001b[0;34m\u001b[0m\u001b[0m\n",
            "\u001b[0;32m/usr/local/lib/python3.7/dist-packages/keras_preprocessing/image/iterator.py\u001b[0m in \u001b[0;36m_get_batches_of_transformed_samples\u001b[0;34m(self, index_array)\u001b[0m\n\u001b[1;32m    228\u001b[0m                            \u001b[0mcolor_mode\u001b[0m\u001b[0;34m=\u001b[0m\u001b[0mself\u001b[0m\u001b[0;34m.\u001b[0m\u001b[0mcolor_mode\u001b[0m\u001b[0;34m,\u001b[0m\u001b[0;34m\u001b[0m\u001b[0;34m\u001b[0m\u001b[0m\n\u001b[1;32m    229\u001b[0m                            \u001b[0mtarget_size\u001b[0m\u001b[0;34m=\u001b[0m\u001b[0mself\u001b[0m\u001b[0;34m.\u001b[0m\u001b[0mtarget_size\u001b[0m\u001b[0;34m,\u001b[0m\u001b[0;34m\u001b[0m\u001b[0;34m\u001b[0m\u001b[0m\n\u001b[0;32m--> 230\u001b[0;31m                            interpolation=self.interpolation)\n\u001b[0m\u001b[1;32m    231\u001b[0m             \u001b[0mx\u001b[0m \u001b[0;34m=\u001b[0m \u001b[0mimg_to_array\u001b[0m\u001b[0;34m(\u001b[0m\u001b[0mimg\u001b[0m\u001b[0;34m,\u001b[0m \u001b[0mdata_format\u001b[0m\u001b[0;34m=\u001b[0m\u001b[0mself\u001b[0m\u001b[0;34m.\u001b[0m\u001b[0mdata_format\u001b[0m\u001b[0;34m)\u001b[0m\u001b[0;34m\u001b[0m\u001b[0;34m\u001b[0m\u001b[0m\n\u001b[1;32m    232\u001b[0m             \u001b[0;31m# Pillow images should be closed after `load_img`,\u001b[0m\u001b[0;34m\u001b[0m\u001b[0;34m\u001b[0m\u001b[0;34m\u001b[0m\u001b[0m\n",
            "\u001b[0;32m/usr/local/lib/python3.7/dist-packages/keras_preprocessing/image/utils.py\u001b[0m in \u001b[0;36mload_img\u001b[0;34m(path, grayscale, color_mode, target_size, interpolation)\u001b[0m\n\u001b[1;32m    112\u001b[0m                           'The use of `load_img` requires PIL.')\n\u001b[1;32m    113\u001b[0m     \u001b[0;32mwith\u001b[0m \u001b[0mopen\u001b[0m\u001b[0;34m(\u001b[0m\u001b[0mpath\u001b[0m\u001b[0;34m,\u001b[0m \u001b[0;34m'rb'\u001b[0m\u001b[0;34m)\u001b[0m \u001b[0;32mas\u001b[0m \u001b[0mf\u001b[0m\u001b[0;34m:\u001b[0m\u001b[0;34m\u001b[0m\u001b[0;34m\u001b[0m\u001b[0m\n\u001b[0;32m--> 114\u001b[0;31m         \u001b[0mimg\u001b[0m \u001b[0;34m=\u001b[0m \u001b[0mpil_image\u001b[0m\u001b[0;34m.\u001b[0m\u001b[0mopen\u001b[0m\u001b[0;34m(\u001b[0m\u001b[0mio\u001b[0m\u001b[0;34m.\u001b[0m\u001b[0mBytesIO\u001b[0m\u001b[0;34m(\u001b[0m\u001b[0mf\u001b[0m\u001b[0;34m.\u001b[0m\u001b[0mread\u001b[0m\u001b[0;34m(\u001b[0m\u001b[0;34m)\u001b[0m\u001b[0;34m)\u001b[0m\u001b[0;34m)\u001b[0m\u001b[0;34m\u001b[0m\u001b[0;34m\u001b[0m\u001b[0m\n\u001b[0m\u001b[1;32m    115\u001b[0m         \u001b[0;32mif\u001b[0m \u001b[0mcolor_mode\u001b[0m \u001b[0;34m==\u001b[0m \u001b[0;34m'grayscale'\u001b[0m\u001b[0;34m:\u001b[0m\u001b[0;34m\u001b[0m\u001b[0;34m\u001b[0m\u001b[0m\n\u001b[1;32m    116\u001b[0m             \u001b[0;31m# if image is not already an 8-bit, 16-bit or 32-bit grayscale image\u001b[0m\u001b[0;34m\u001b[0m\u001b[0;34m\u001b[0m\u001b[0;34m\u001b[0m\u001b[0m\n",
            "\u001b[0;31mKeyboardInterrupt\u001b[0m: "
          ]
        }
      ]
    },
    {
      "cell_type": "code",
      "metadata": {
        "colab": {
          "base_uri": "https://localhost:8080/"
        },
        "id": "L0NE2Yzd_WFB",
        "outputId": "e657bdd3-3c90-4173-a56a-7cce13b8fe04"
      },
      "source": [
        "from tensorflow.keras.applications import inception_v3\n",
        "# Init the VGG model\n",
        "vgg_conv = inception_v3.InceptionV3(weights='imagenet', include_top=False, input_shape=(img_height, img_height, 3))"
      ],
      "execution_count": null,
      "outputs": [
        {
          "output_type": "stream",
          "text": [
            "Downloading data from https://storage.googleapis.com/tensorflow/keras-applications/inception_v3/inception_v3_weights_tf_dim_ordering_tf_kernels_notop.h5\n",
            "87916544/87910968 [==============================] - 0s 0us/step\n"
          ],
          "name": "stdout"
        }
      ]
    },
    {
      "cell_type": "code",
      "metadata": {
        "id": "_jwVecda_f6y",
        "colab": {
          "base_uri": "https://localhost:8080/"
        },
        "outputId": "9d4fa103-4fe5-4425-88b6-07b000ae7a97"
      },
      "source": [
        "# Freeze all the layers\n",
        "for layer in vgg_conv.layers[:]:\n",
        "    layer.trainable = False\n",
        "# Check the trainable status of the individual layers\n",
        "for layer in vgg_conv.layers:\n",
        "    print(layer, layer.trainable)"
      ],
      "execution_count": null,
      "outputs": [
        {
          "output_type": "stream",
          "text": [
            "<tensorflow.python.keras.engine.input_layer.InputLayer object at 0x7f5f58be5310> False\n",
            "<tensorflow.python.keras.layers.convolutional.Conv2D object at 0x7f5f1d684e10> False\n",
            "<tensorflow.python.keras.layers.normalization_v2.BatchNormalization object at 0x7f5f1a786d10> False\n",
            "<tensorflow.python.keras.layers.core.Activation object at 0x7f5f1a786c50> False\n",
            "<tensorflow.python.keras.layers.convolutional.Conv2D object at 0x7f5f1aa8d290> False\n",
            "<tensorflow.python.keras.layers.normalization_v2.BatchNormalization object at 0x7f5f1aa93f50> False\n",
            "<tensorflow.python.keras.layers.core.Activation object at 0x7f5f1aa8fd10> False\n",
            "<tensorflow.python.keras.layers.convolutional.Conv2D object at 0x7f5f1aa207d0> False\n",
            "<tensorflow.python.keras.layers.normalization_v2.BatchNormalization object at 0x7f5f1aa23590> False\n",
            "<tensorflow.python.keras.layers.core.Activation object at 0x7f5f1aa1c410> False\n",
            "<tensorflow.python.keras.layers.pooling.MaxPooling2D object at 0x7f5f1aa18990> False\n",
            "<tensorflow.python.keras.layers.convolutional.Conv2D object at 0x7f5f1aa30ed0> False\n",
            "<tensorflow.python.keras.layers.normalization_v2.BatchNormalization object at 0x7f5f1aa20b90> False\n",
            "<tensorflow.python.keras.layers.core.Activation object at 0x7f5f1aa1c6d0> False\n",
            "<tensorflow.python.keras.layers.convolutional.Conv2D object at 0x7f5f1aa42450> False\n",
            "<tensorflow.python.keras.layers.normalization_v2.BatchNormalization object at 0x7f5f1aa4a8d0> False\n",
            "<tensorflow.python.keras.layers.core.Activation object at 0x7f5f1aa3fd50> False\n",
            "<tensorflow.python.keras.layers.pooling.MaxPooling2D object at 0x7f5f1aa4d490> False\n",
            "<tensorflow.python.keras.layers.convolutional.Conv2D object at 0x7f5f1d802fd0> False\n",
            "<tensorflow.python.keras.layers.normalization_v2.BatchNormalization object at 0x7f5f1d7fbe10> False\n",
            "<tensorflow.python.keras.layers.core.Activation object at 0x7f5f59278ed0> False\n",
            "<tensorflow.python.keras.layers.convolutional.Conv2D object at 0x7f5f1a9dff90> False\n",
            "<tensorflow.python.keras.layers.convolutional.Conv2D object at 0x7f5f1d801550> False\n",
            "<tensorflow.python.keras.layers.normalization_v2.BatchNormalization object at 0x7f5f1a9e7f10> False\n",
            "<tensorflow.python.keras.layers.normalization_v2.BatchNormalization object at 0x7f5f1aa18e10> False\n",
            "<tensorflow.python.keras.layers.core.Activation object at 0x7f5f1a9e7a90> False\n",
            "<tensorflow.python.keras.layers.core.Activation object at 0x7f5f1aa39490> False\n",
            "<tensorflow.python.keras.layers.pooling.AveragePooling2D object at 0x7f5f1b6d7190> False\n",
            "<tensorflow.python.keras.layers.convolutional.Conv2D object at 0x7f5f1aa54cd0> False\n",
            "<tensorflow.python.keras.layers.convolutional.Conv2D object at 0x7f5f1a9e31d0> False\n",
            "<tensorflow.python.keras.layers.convolutional.Conv2D object at 0x7f5f1a9df090> False\n",
            "<tensorflow.python.keras.layers.convolutional.Conv2D object at 0x7f5f23fbea50> False\n",
            "<tensorflow.python.keras.layers.normalization_v2.BatchNormalization object at 0x7f5f1aa1c650> False\n",
            "<tensorflow.python.keras.layers.normalization_v2.BatchNormalization object at 0x7f5f1aa1cf10> False\n",
            "<tensorflow.python.keras.layers.normalization_v2.BatchNormalization object at 0x7f5f1a9e7950> False\n",
            "<tensorflow.python.keras.layers.normalization_v2.BatchNormalization object at 0x7f5f23fbe7d0> False\n",
            "<tensorflow.python.keras.layers.core.Activation object at 0x7f5f1aa1cb50> False\n",
            "<tensorflow.python.keras.layers.core.Activation object at 0x7f5f1d7d7b50> False\n",
            "<tensorflow.python.keras.layers.core.Activation object at 0x7f5f1aa42510> False\n",
            "<tensorflow.python.keras.layers.core.Activation object at 0x7f5f1a9fbd50> False\n",
            "<tensorflow.python.keras.layers.merge.Concatenate object at 0x7f5f1a9ffd10> False\n",
            "<tensorflow.python.keras.layers.convolutional.Conv2D object at 0x7f5f1a9b1810> False\n",
            "<tensorflow.python.keras.layers.normalization_v2.BatchNormalization object at 0x7f5f1a9ba7d0> False\n",
            "<tensorflow.python.keras.layers.core.Activation object at 0x7f5f1a9a9750> False\n",
            "<tensorflow.python.keras.layers.convolutional.Conv2D object at 0x7f5f1a997a90> False\n",
            "<tensorflow.python.keras.layers.convolutional.Conv2D object at 0x7f5f1a9bed90> False\n",
            "<tensorflow.python.keras.layers.normalization_v2.BatchNormalization object at 0x7f5f1a9f6dd0> False\n",
            "<tensorflow.python.keras.layers.normalization_v2.BatchNormalization object at 0x7f5f1a9cd950> False\n",
            "<tensorflow.python.keras.layers.core.Activation object at 0x7f5f1a997310> False\n",
            "<tensorflow.python.keras.layers.core.Activation object at 0x7f5f1a9c8050> False\n",
            "<tensorflow.python.keras.layers.pooling.AveragePooling2D object at 0x7f5f1a9d29d0> False\n",
            "<tensorflow.python.keras.layers.convolutional.Conv2D object at 0x7f5f1a9f6d50> False\n",
            "<tensorflow.python.keras.layers.convolutional.Conv2D object at 0x7f5f1a9f6c90> False\n",
            "<tensorflow.python.keras.layers.convolutional.Conv2D object at 0x7f5f1a9a9610> False\n",
            "<tensorflow.python.keras.layers.convolutional.Conv2D object at 0x7f5f1a9d2910> False\n",
            "<tensorflow.python.keras.layers.normalization_v2.BatchNormalization object at 0x7f5f1aa09fd0> False\n",
            "<tensorflow.python.keras.layers.normalization_v2.BatchNormalization object at 0x7f5f1aa09450> False\n",
            "<tensorflow.python.keras.layers.normalization_v2.BatchNormalization object at 0x7f5f1a956f50> False\n",
            "<tensorflow.python.keras.layers.normalization_v2.BatchNormalization object at 0x7f5f1a968bd0> False\n",
            "<tensorflow.python.keras.layers.core.Activation object at 0x7f5f1aa0f450> False\n",
            "<tensorflow.python.keras.layers.core.Activation object at 0x7f5f1a9a6190> False\n",
            "<tensorflow.python.keras.layers.core.Activation object at 0x7f5f1a956090> False\n",
            "<tensorflow.python.keras.layers.core.Activation object at 0x7f5f1a9682d0> False\n",
            "<tensorflow.python.keras.layers.merge.Concatenate object at 0x7f5f1a96b690> False\n",
            "<tensorflow.python.keras.layers.convolutional.Conv2D object at 0x7f5f1a9d2450> False\n",
            "<tensorflow.python.keras.layers.normalization_v2.BatchNormalization object at 0x7f5f1a9976d0> False\n",
            "<tensorflow.python.keras.layers.core.Activation object at 0x7f5f1a9ffe50> False\n",
            "<tensorflow.python.keras.layers.convolutional.Conv2D object at 0x7f5f1a985d50> False\n",
            "<tensorflow.python.keras.layers.convolutional.Conv2D object at 0x7f5f25f31810> False\n",
            "<tensorflow.python.keras.layers.normalization_v2.BatchNormalization object at 0x7f5f1a98efd0> False\n",
            "<tensorflow.python.keras.layers.normalization_v2.BatchNormalization object at 0x7f5f1aa0ffd0> False\n",
            "<tensorflow.python.keras.layers.core.Activation object at 0x7f5f1a98ea10> False\n",
            "<tensorflow.python.keras.layers.core.Activation object at 0x7f5f23fc1650> False\n",
            "<tensorflow.python.keras.layers.pooling.AveragePooling2D object at 0x7f5f1a922b90> False\n",
            "<tensorflow.python.keras.layers.convolutional.Conv2D object at 0x7f5f1a9793d0> False\n",
            "<tensorflow.python.keras.layers.convolutional.Conv2D object at 0x7f5f1a9801d0> False\n",
            "<tensorflow.python.keras.layers.convolutional.Conv2D object at 0x7f5f1a91e410> False\n",
            "<tensorflow.python.keras.layers.convolutional.Conv2D object at 0x7f5f1a927790> False\n",
            "<tensorflow.python.keras.layers.normalization_v2.BatchNormalization object at 0x7f5f1a97fc90> False\n",
            "<tensorflow.python.keras.layers.normalization_v2.BatchNormalization object at 0x7f5f1a96b610> False\n",
            "<tensorflow.python.keras.layers.normalization_v2.BatchNormalization object at 0x7f5f1a9203d0> False\n",
            "<tensorflow.python.keras.layers.normalization_v2.BatchNormalization object at 0x7f5f1a927890> False\n",
            "<tensorflow.python.keras.layers.core.Activation object at 0x7f5f1a979190> False\n",
            "<tensorflow.python.keras.layers.core.Activation object at 0x7f5f1a9c8e10> False\n",
            "<tensorflow.python.keras.layers.core.Activation object at 0x7f5f1a9a0190> False\n",
            "<tensorflow.python.keras.layers.core.Activation object at 0x7f5f1a9238d0> False\n",
            "<tensorflow.python.keras.layers.merge.Concatenate object at 0x7f5f1a924590> False\n",
            "<tensorflow.python.keras.layers.convolutional.Conv2D object at 0x7f5f1a9405d0> False\n",
            "<tensorflow.python.keras.layers.normalization_v2.BatchNormalization object at 0x7f5f1a94bf50> False\n",
            "<tensorflow.python.keras.layers.core.Activation object at 0x7f5f1a940550> False\n",
            "<tensorflow.python.keras.layers.convolutional.Conv2D object at 0x7f5f1a94e750> False\n",
            "<tensorflow.python.keras.layers.normalization_v2.BatchNormalization object at 0x7f5f1a94e690> False\n",
            "<tensorflow.python.keras.layers.core.Activation object at 0x7f5f1a8d8090> False\n",
            "<tensorflow.python.keras.layers.convolutional.Conv2D object at 0x7f5f1a931b90> False\n",
            "<tensorflow.python.keras.layers.convolutional.Conv2D object at 0x7f5f1a94e990> False\n",
            "<tensorflow.python.keras.layers.normalization_v2.BatchNormalization object at 0x7f5f1a937b90> False\n",
            "<tensorflow.python.keras.layers.normalization_v2.BatchNormalization object at 0x7f5f1a8e2f50> False\n",
            "<tensorflow.python.keras.layers.core.Activation object at 0x7f5f1a922350> False\n",
            "<tensorflow.python.keras.layers.core.Activation object at 0x7f5f1a8e2e10> False\n",
            "<tensorflow.python.keras.layers.pooling.MaxPooling2D object at 0x7f5f1a8e4fd0> False\n",
            "<tensorflow.python.keras.layers.merge.Concatenate object at 0x7f5f1a8eefd0> False\n",
            "<tensorflow.python.keras.layers.convolutional.Conv2D object at 0x7f5f1a8b2550> False\n",
            "<tensorflow.python.keras.layers.normalization_v2.BatchNormalization object at 0x7f5f1a8f29d0> False\n",
            "<tensorflow.python.keras.layers.core.Activation object at 0x7f5f1a8e21d0> False\n",
            "<tensorflow.python.keras.layers.convolutional.Conv2D object at 0x7f5f1a8e4d50> False\n",
            "<tensorflow.python.keras.layers.normalization_v2.BatchNormalization object at 0x7f5f1a8dc3d0> False\n",
            "<tensorflow.python.keras.layers.core.Activation object at 0x7f5f1a924510> False\n",
            "<tensorflow.python.keras.layers.convolutional.Conv2D object at 0x7f5f1a9074d0> False\n",
            "<tensorflow.python.keras.layers.convolutional.Conv2D object at 0x7f5f1a929e90> False\n",
            "<tensorflow.python.keras.layers.normalization_v2.BatchNormalization object at 0x7f5f1a908f90> False\n",
            "<tensorflow.python.keras.layers.normalization_v2.BatchNormalization object at 0x7f5f1a8b9990> False\n",
            "<tensorflow.python.keras.layers.core.Activation object at 0x7f5f1a8f7910> False\n",
            "<tensorflow.python.keras.layers.core.Activation object at 0x7f5f1a97fd10> False\n",
            "<tensorflow.python.keras.layers.convolutional.Conv2D object at 0x7f5f1a907990> False\n",
            "<tensorflow.python.keras.layers.convolutional.Conv2D object at 0x7f5f1a8c1ad0> False\n",
            "<tensorflow.python.keras.layers.normalization_v2.BatchNormalization object at 0x7f5f1a908450> False\n",
            "<tensorflow.python.keras.layers.normalization_v2.BatchNormalization object at 0x7f5f1a8c23d0> False\n",
            "<tensorflow.python.keras.layers.core.Activation object at 0x7f5f1a8ee390> False\n",
            "<tensorflow.python.keras.layers.core.Activation object at 0x7f5f1a91e350> False\n",
            "<tensorflow.python.keras.layers.pooling.AveragePooling2D object at 0x7f5f1a8c5550> False\n",
            "<tensorflow.python.keras.layers.convolutional.Conv2D object at 0x7f5f1a8f7110> False\n",
            "<tensorflow.python.keras.layers.convolutional.Conv2D object at 0x7f5f1a8acd90> False\n",
            "<tensorflow.python.keras.layers.convolutional.Conv2D object at 0x7f5f1a8c5310> False\n",
            "<tensorflow.python.keras.layers.convolutional.Conv2D object at 0x7f5f1a8cfed0> False\n",
            "<tensorflow.python.keras.layers.normalization_v2.BatchNormalization object at 0x7f5f1a9007d0> False\n",
            "<tensorflow.python.keras.layers.normalization_v2.BatchNormalization object at 0x7f5f1a8b2c90> False\n",
            "<tensorflow.python.keras.layers.normalization_v2.BatchNormalization object at 0x7f5f1a8c6d50> False\n",
            "<tensorflow.python.keras.layers.normalization_v2.BatchNormalization object at 0x7f5f1a8d5b10> False\n",
            "<tensorflow.python.keras.layers.core.Activation object at 0x7f5f1a8e4950> False\n",
            "<tensorflow.python.keras.layers.core.Activation object at 0x7f5f1a8b9a50> False\n",
            "<tensorflow.python.keras.layers.core.Activation object at 0x7f5f1a8cae10> False\n",
            "<tensorflow.python.keras.layers.core.Activation object at 0x7f5f1a85b450> False\n",
            "<tensorflow.python.keras.layers.merge.Concatenate object at 0x7f5f1a8cfc50> False\n",
            "<tensorflow.python.keras.layers.convolutional.Conv2D object at 0x7f5f1a81ed90> False\n",
            "<tensorflow.python.keras.layers.normalization_v2.BatchNormalization object at 0x7f5f1a82bf90> False\n",
            "<tensorflow.python.keras.layers.core.Activation object at 0x7f5f1a82ba90> False\n",
            "<tensorflow.python.keras.layers.convolutional.Conv2D object at 0x7f5f1a834090> False\n",
            "<tensorflow.python.keras.layers.normalization_v2.BatchNormalization object at 0x7f5f1a81ee90> False\n",
            "<tensorflow.python.keras.layers.core.Activation object at 0x7f5f1a83ec90> False\n",
            "<tensorflow.python.keras.layers.convolutional.Conv2D object at 0x7f5f1a872ed0> False\n",
            "<tensorflow.python.keras.layers.convolutional.Conv2D object at 0x7f5f1a847250> False\n",
            "<tensorflow.python.keras.layers.normalization_v2.BatchNormalization object at 0x7f5f1a87bf90> False\n",
            "<tensorflow.python.keras.layers.normalization_v2.BatchNormalization object at 0x7f5f1a84c550> False\n",
            "<tensorflow.python.keras.layers.core.Activation object at 0x7f5f1a87ba10> False\n",
            "<tensorflow.python.keras.layers.core.Activation object at 0x7f5f1a81ec50> False\n",
            "<tensorflow.python.keras.layers.convolutional.Conv2D object at 0x7f5f1a877510> False\n",
            "<tensorflow.python.keras.layers.convolutional.Conv2D object at 0x7f5f1a851a50> False\n",
            "<tensorflow.python.keras.layers.normalization_v2.BatchNormalization object at 0x7f5f1a889a90> False\n",
            "<tensorflow.python.keras.layers.normalization_v2.BatchNormalization object at 0x7f5f1a7d8c10> False\n",
            "<tensorflow.python.keras.layers.core.Activation object at 0x7f5f1a893c90> False\n",
            "<tensorflow.python.keras.layers.core.Activation object at 0x7f5f1a8535d0> False\n",
            "<tensorflow.python.keras.layers.pooling.AveragePooling2D object at 0x7f5f1a83e250> False\n",
            "<tensorflow.python.keras.layers.convolutional.Conv2D object at 0x7f5f1a8664d0> False\n",
            "<tensorflow.python.keras.layers.convolutional.Conv2D object at 0x7f5f1a88da90> False\n",
            "<tensorflow.python.keras.layers.convolutional.Conv2D object at 0x7f5f1a851490> False\n",
            "<tensorflow.python.keras.layers.convolutional.Conv2D object at 0x7f5f1a86e390> False\n",
            "<tensorflow.python.keras.layers.normalization_v2.BatchNormalization object at 0x7f5f1a86eb90> False\n",
            "<tensorflow.python.keras.layers.normalization_v2.BatchNormalization object at 0x7f5f1a818e50> False\n",
            "<tensorflow.python.keras.layers.normalization_v2.BatchNormalization object at 0x7f5f1a81ead0> False\n",
            "<tensorflow.python.keras.layers.normalization_v2.BatchNormalization object at 0x7f5f1a86ed10> False\n",
            "<tensorflow.python.keras.layers.core.Activation object at 0x7f5f1a8d5250> False\n",
            "<tensorflow.python.keras.layers.core.Activation object at 0x7f5f1a81bdd0> False\n",
            "<tensorflow.python.keras.layers.core.Activation object at 0x7f5f1a88d3d0> False\n",
            "<tensorflow.python.keras.layers.core.Activation object at 0x7f5f1a8c34d0> False\n",
            "<tensorflow.python.keras.layers.merge.Concatenate object at 0x7f5f1a980210> False\n",
            "<tensorflow.python.keras.layers.convolutional.Conv2D object at 0x7f5f1a80ed50> False\n",
            "<tensorflow.python.keras.layers.normalization_v2.BatchNormalization object at 0x7f5f1a7fbd10> False\n",
            "<tensorflow.python.keras.layers.core.Activation object at 0x7f5f10053d10> False\n",
            "<tensorflow.python.keras.layers.convolutional.Conv2D object at 0x7f5f1005b6d0> False\n",
            "<tensorflow.python.keras.layers.normalization_v2.BatchNormalization object at 0x7f5f1005e790> False\n",
            "<tensorflow.python.keras.layers.core.Activation object at 0x7f5f10058390> False\n",
            "<tensorflow.python.keras.layers.convolutional.Conv2D object at 0x7f5f1a8fd5d0> False\n",
            "<tensorflow.python.keras.layers.convolutional.Conv2D object at 0x7f5f10065e10> False\n",
            "<tensorflow.python.keras.layers.normalization_v2.BatchNormalization object at 0x7f5f1a7ebbd0> False\n",
            "<tensorflow.python.keras.layers.normalization_v2.BatchNormalization object at 0x7f5f1006df90> False\n",
            "<tensorflow.python.keras.layers.core.Activation object at 0x7f5f1a7ef490> False\n",
            "<tensorflow.python.keras.layers.core.Activation object at 0x7f5f10072350> False\n",
            "<tensorflow.python.keras.layers.convolutional.Conv2D object at 0x7f5f1a7ed490> False\n",
            "<tensorflow.python.keras.layers.convolutional.Conv2D object at 0x7f5f10067250> False\n",
            "<tensorflow.python.keras.layers.normalization_v2.BatchNormalization object at 0x7f5f1a7f2e50> False\n",
            "<tensorflow.python.keras.layers.normalization_v2.BatchNormalization object at 0x7f5f10078c90> False\n",
            "<tensorflow.python.keras.layers.core.Activation object at 0x7f5f1a801950> False\n",
            "<tensorflow.python.keras.layers.core.Activation object at 0x7f5f10080750> False\n",
            "<tensorflow.python.keras.layers.pooling.AveragePooling2D object at 0x7f5f1001ac90> False\n",
            "<tensorflow.python.keras.layers.convolutional.Conv2D object at 0x7f5f1a8d8150> False\n",
            "<tensorflow.python.keras.layers.convolutional.Conv2D object at 0x7f5f1a7fb890> False\n",
            "<tensorflow.python.keras.layers.convolutional.Conv2D object at 0x7f5f10078990> False\n",
            "<tensorflow.python.keras.layers.convolutional.Conv2D object at 0x7f5f1001e810> False\n",
            "<tensorflow.python.keras.layers.normalization_v2.BatchNormalization object at 0x7f5f1a7e6fd0> False\n",
            "<tensorflow.python.keras.layers.normalization_v2.BatchNormalization object at 0x7f5f1a7f2890> False\n",
            "<tensorflow.python.keras.layers.normalization_v2.BatchNormalization object at 0x7f5f1008bf90> False\n",
            "<tensorflow.python.keras.layers.normalization_v2.BatchNormalization object at 0x7f5f10022e50> False\n",
            "<tensorflow.python.keras.layers.core.Activation object at 0x7f5f1a8d8850> False\n",
            "<tensorflow.python.keras.layers.core.Activation object at 0x7f5f1a7efe50> False\n",
            "<tensorflow.python.keras.layers.core.Activation object at 0x7f5f10011b50> False\n",
            "<tensorflow.python.keras.layers.core.Activation object at 0x7f5f10027410> False\n",
            "<tensorflow.python.keras.layers.merge.Concatenate object at 0x7f5f1002ce50> False\n",
            "<tensorflow.python.keras.layers.convolutional.Conv2D object at 0x7f5f1a8c39d0> False\n",
            "<tensorflow.python.keras.layers.normalization_v2.BatchNormalization object at 0x7f5f1a851910> False\n",
            "<tensorflow.python.keras.layers.core.Activation object at 0x7f5f10085e50> False\n",
            "<tensorflow.python.keras.layers.convolutional.Conv2D object at 0x7f5f1004a490> False\n",
            "<tensorflow.python.keras.layers.normalization_v2.BatchNormalization object at 0x7f5f1004bf50> False\n",
            "<tensorflow.python.keras.layers.core.Activation object at 0x7f5f10065750> False\n",
            "<tensorflow.python.keras.layers.convolutional.Conv2D object at 0x7f5f10034f10> False\n",
            "<tensorflow.python.keras.layers.convolutional.Conv2D object at 0x7f5f1004a6d0> False\n",
            "<tensorflow.python.keras.layers.normalization_v2.BatchNormalization object at 0x7f5f10015110> False\n",
            "<tensorflow.python.keras.layers.normalization_v2.BatchNormalization object at 0x7f5ece2f8e50> False\n",
            "<tensorflow.python.keras.layers.core.Activation object at 0x7f5f10078710> False\n",
            "<tensorflow.python.keras.layers.core.Activation object at 0x7f5ece302610> False\n",
            "<tensorflow.python.keras.layers.convolutional.Conv2D object at 0x7f5f10085ed0> False\n",
            "<tensorflow.python.keras.layers.convolutional.Conv2D object at 0x7f5ece2f8f10> False\n",
            "<tensorflow.python.keras.layers.normalization_v2.BatchNormalization object at 0x7f5f1a80ed90> False\n",
            "<tensorflow.python.keras.layers.normalization_v2.BatchNormalization object at 0x7f5ece302f90> False\n",
            "<tensorflow.python.keras.layers.core.Activation object at 0x7f5f1a7fb810> False\n",
            "<tensorflow.python.keras.layers.core.Activation object at 0x7f5ece30a390> False\n",
            "<tensorflow.python.keras.layers.pooling.AveragePooling2D object at 0x7f5ece321350> False\n",
            "<tensorflow.python.keras.layers.convolutional.Conv2D object at 0x7f5f10034710> False\n",
            "<tensorflow.python.keras.layers.convolutional.Conv2D object at 0x7f5f1a980790> False\n",
            "<tensorflow.python.keras.layers.convolutional.Conv2D object at 0x7f5ece30e410> False\n",
            "<tensorflow.python.keras.layers.convolutional.Conv2D object at 0x7f5ece30eb10> False\n",
            "<tensorflow.python.keras.layers.normalization_v2.BatchNormalization object at 0x7f5f10039e90> False\n",
            "<tensorflow.python.keras.layers.normalization_v2.BatchNormalization object at 0x7f5f10085050> False\n",
            "<tensorflow.python.keras.layers.normalization_v2.BatchNormalization object at 0x7f5ece30a4d0> False\n",
            "<tensorflow.python.keras.layers.normalization_v2.BatchNormalization object at 0x7f5ece30ee90> False\n",
            "<tensorflow.python.keras.layers.core.Activation object at 0x7f5f1003ce90> False\n",
            "<tensorflow.python.keras.layers.core.Activation object at 0x7f5f1a929590> False\n",
            "<tensorflow.python.keras.layers.core.Activation object at 0x7f5ece31d6d0> False\n",
            "<tensorflow.python.keras.layers.core.Activation object at 0x7f5ece32c050> False\n",
            "<tensorflow.python.keras.layers.merge.Concatenate object at 0x7f5f10034190> False\n",
            "<tensorflow.python.keras.layers.convolutional.Conv2D object at 0x7f5ece2c16d0> False\n",
            "<tensorflow.python.keras.layers.normalization_v2.BatchNormalization object at 0x7f5ece328310> False\n",
            "<tensorflow.python.keras.layers.core.Activation object at 0x7f5ece2cae10> False\n",
            "<tensorflow.python.keras.layers.convolutional.Conv2D object at 0x7f5ece2ddb10> False\n",
            "<tensorflow.python.keras.layers.normalization_v2.BatchNormalization object at 0x7f5ece2e6a50> False\n",
            "<tensorflow.python.keras.layers.core.Activation object at 0x7f5ece2ddd10> False\n",
            "<tensorflow.python.keras.layers.convolutional.Conv2D object at 0x7f5ece333fd0> False\n",
            "<tensorflow.python.keras.layers.convolutional.Conv2D object at 0x7f5ece317fd0> False\n",
            "<tensorflow.python.keras.layers.normalization_v2.BatchNormalization object at 0x7f5ece2b9350> False\n",
            "<tensorflow.python.keras.layers.normalization_v2.BatchNormalization object at 0x7f5ece2ca390> False\n",
            "<tensorflow.python.keras.layers.core.Activation object at 0x7f5ece333f10> False\n",
            "<tensorflow.python.keras.layers.core.Activation object at 0x7f5ece2cadd0> False\n",
            "<tensorflow.python.keras.layers.convolutional.Conv2D object at 0x7f5f100341d0> False\n",
            "<tensorflow.python.keras.layers.convolutional.Conv2D object at 0x7f5ece2d2d50> False\n",
            "<tensorflow.python.keras.layers.normalization_v2.BatchNormalization object at 0x7f5ece2c5f10> False\n",
            "<tensorflow.python.keras.layers.normalization_v2.BatchNormalization object at 0x7f5ece2bc810> False\n",
            "<tensorflow.python.keras.layers.core.Activation object at 0x7f5ece2c1c90> False\n",
            "<tensorflow.python.keras.layers.core.Activation object at 0x7f5f1004be10> False\n",
            "<tensorflow.python.keras.layers.pooling.MaxPooling2D object at 0x7f5f1004ac50> False\n",
            "<tensorflow.python.keras.layers.merge.Concatenate object at 0x7f5f1a866b50> False\n",
            "<tensorflow.python.keras.layers.convolutional.Conv2D object at 0x7f5ece28ead0> False\n",
            "<tensorflow.python.keras.layers.normalization_v2.BatchNormalization object at 0x7f5ece333510> False\n",
            "<tensorflow.python.keras.layers.core.Activation object at 0x7f5ece3331d0> False\n",
            "<tensorflow.python.keras.layers.convolutional.Conv2D object at 0x7f5f1a7fb950> False\n",
            "<tensorflow.python.keras.layers.convolutional.Conv2D object at 0x7f5ece29fb50> False\n",
            "<tensorflow.python.keras.layers.normalization_v2.BatchNormalization object at 0x7f5ece2f4110> False\n",
            "<tensorflow.python.keras.layers.normalization_v2.BatchNormalization object at 0x7f5ece2a6d50> False\n",
            "<tensorflow.python.keras.layers.core.Activation object at 0x7f5ece2d5c90> False\n",
            "<tensorflow.python.keras.layers.core.Activation object at 0x7f5ece2b2b50> False\n",
            "<tensorflow.python.keras.layers.convolutional.Conv2D object at 0x7f5ece3071d0> False\n",
            "<tensorflow.python.keras.layers.convolutional.Conv2D object at 0x7f5ece299ed0> False\n",
            "<tensorflow.python.keras.layers.convolutional.Conv2D object at 0x7f5ece290dd0> False\n",
            "<tensorflow.python.keras.layers.convolutional.Conv2D object at 0x7f5ece248410> False\n",
            "<tensorflow.python.keras.layers.pooling.AveragePooling2D object at 0x7f5ece2512d0> False\n",
            "<tensorflow.python.keras.layers.convolutional.Conv2D object at 0x7f5f1004d910> False\n",
            "<tensorflow.python.keras.layers.normalization_v2.BatchNormalization object at 0x7f5ece2dd050> False\n",
            "<tensorflow.python.keras.layers.normalization_v2.BatchNormalization object at 0x7f5ece2edc10> False\n",
            "<tensorflow.python.keras.layers.normalization_v2.BatchNormalization object at 0x7f5ece23d510> False\n",
            "<tensorflow.python.keras.layers.normalization_v2.BatchNormalization object at 0x7f5ece241510> False\n",
            "<tensorflow.python.keras.layers.convolutional.Conv2D object at 0x7f5ece251d50> False\n",
            "<tensorflow.python.keras.layers.normalization_v2.BatchNormalization object at 0x7f5f10085890> False\n",
            "<tensorflow.python.keras.layers.core.Activation object at 0x7f5ece2909d0> False\n",
            "<tensorflow.python.keras.layers.core.Activation object at 0x7f5ece292590> False\n",
            "<tensorflow.python.keras.layers.core.Activation object at 0x7f5ece2483d0> False\n",
            "<tensorflow.python.keras.layers.core.Activation object at 0x7f5ece23dd10> False\n",
            "<tensorflow.python.keras.layers.normalization_v2.BatchNormalization object at 0x7f5ece268050> False\n",
            "<tensorflow.python.keras.layers.core.Activation object at 0x7f5f10043bd0> False\n",
            "<tensorflow.python.keras.layers.merge.Concatenate object at 0x7f5ece2dd190> False\n",
            "<tensorflow.python.keras.layers.merge.Concatenate object at 0x7f5ece257150> False\n",
            "<tensorflow.python.keras.layers.core.Activation object at 0x7f5ece26df10> False\n",
            "<tensorflow.python.keras.layers.merge.Concatenate object at 0x7f5ece257650> False\n",
            "<tensorflow.python.keras.layers.convolutional.Conv2D object at 0x7f5ece263590> False\n",
            "<tensorflow.python.keras.layers.normalization_v2.BatchNormalization object at 0x7f5ece268c90> False\n",
            "<tensorflow.python.keras.layers.core.Activation object at 0x7f5ece205210> False\n",
            "<tensorflow.python.keras.layers.convolutional.Conv2D object at 0x7f5ece1fef90> False\n",
            "<tensorflow.python.keras.layers.convolutional.Conv2D object at 0x7f5ece248b10> False\n",
            "<tensorflow.python.keras.layers.normalization_v2.BatchNormalization object at 0x7f5ece1fac90> False\n",
            "<tensorflow.python.keras.layers.normalization_v2.BatchNormalization object at 0x7f5ece299d10> False\n",
            "<tensorflow.python.keras.layers.core.Activation object at 0x7f5ece257410> False\n",
            "<tensorflow.python.keras.layers.core.Activation object at 0x7f5ece23d850> False\n",
            "<tensorflow.python.keras.layers.convolutional.Conv2D object at 0x7f5ece272590> False\n",
            "<tensorflow.python.keras.layers.convolutional.Conv2D object at 0x7f5ece21e610> False\n",
            "<tensorflow.python.keras.layers.convolutional.Conv2D object at 0x7f5ece23dc90> False\n",
            "<tensorflow.python.keras.layers.convolutional.Conv2D object at 0x7f5f1001e2d0> False\n",
            "<tensorflow.python.keras.layers.pooling.AveragePooling2D object at 0x7f5ece28e090> False\n",
            "<tensorflow.python.keras.layers.convolutional.Conv2D object at 0x7f5ece268d90> False\n",
            "<tensorflow.python.keras.layers.normalization_v2.BatchNormalization object at 0x7f5ece20b7d0> False\n",
            "<tensorflow.python.keras.layers.normalization_v2.BatchNormalization object at 0x7f5ece21e4d0> False\n",
            "<tensorflow.python.keras.layers.normalization_v2.BatchNormalization object at 0x7f5ece205dd0> False\n",
            "<tensorflow.python.keras.layers.normalization_v2.BatchNormalization object at 0x7f5ece2d5b90> False\n",
            "<tensorflow.python.keras.layers.convolutional.Conv2D object at 0x7f5ece233290> False\n",
            "<tensorflow.python.keras.layers.normalization_v2.BatchNormalization object at 0x7f5ece272ed0> False\n",
            "<tensorflow.python.keras.layers.core.Activation object at 0x7f5ece21b9d0> False\n",
            "<tensorflow.python.keras.layers.core.Activation object at 0x7f5ece1f72d0> False\n",
            "<tensorflow.python.keras.layers.core.Activation object at 0x7f5ece30e910> False\n",
            "<tensorflow.python.keras.layers.core.Activation object at 0x7f5f1001e1d0> False\n",
            "<tensorflow.python.keras.layers.normalization_v2.BatchNormalization object at 0x7f5ece224e10> False\n",
            "<tensorflow.python.keras.layers.core.Activation object at 0x7f5ece1fa890> False\n",
            "<tensorflow.python.keras.layers.merge.Concatenate object at 0x7f5ece1f7890> False\n",
            "<tensorflow.python.keras.layers.merge.Concatenate object at 0x7f5ece22ae10> False\n",
            "<tensorflow.python.keras.layers.core.Activation object at 0x7f5ece24c190> False\n",
            "<tensorflow.python.keras.layers.merge.Concatenate object at 0x7f5ece1bdfd0> False\n"
          ],
          "name": "stdout"
        }
      ]
    },
    {
      "cell_type": "code",
      "metadata": {
        "id": "CQsdukGnFWAR"
      },
      "source": [
        "from keras.models import Sequential, Model\n",
        "#from tensorflow.keras.models import Model\n",
        "from keras.layers import Conv2D, MaxPooling2D, Activation, Embedding, Dense, Dropout, Flatten, Input,GlobalAveragePooling2D\n",
        "from keras import activations\n",
        "#from tensorflow.python.keras.layers.core import Dense, Dropout, Flatten\n",
        "#from tensorflow.python.keras.layers import Input\n",
        "from keras.optimizers import Adam, SGD\n",
        "from keras.layers import LSTM\n",
        "#from keras.layers import Dropout\n",
        "#from keras.applications.vgg16 import VGG16\n",
        "#from tensorflow.keras.applications import vgg16\n",
        "from skimage.color import gray2rgb\n",
        "#from tensorflow.keras.applications.inception_v3 import InceptionV3 \n",
        "#from tensorflow.keras.applications import DenseNet201"
      ],
      "execution_count": null,
      "outputs": []
    },
    {
      "cell_type": "code",
      "metadata": {
        "colab": {
          "base_uri": "https://localhost:8080/"
        },
        "id": "hDUAiWIeE1Ui",
        "outputId": "681463e9-5877-4547-fdd0-43dc4cbc115d"
      },
      "source": [
        "# Create the model\n",
        "model = Sequential()\n",
        "\n",
        "# Add the vgg convolutional base model\n",
        "model.add(vgg_conv)\n",
        "\n",
        "# Add new layers\n",
        "model.add(Flatten())\n",
        "model.add(Dense(1024, activation='relu'))\n",
        "model.add(Dropout(0.5))\n",
        "model.add(Dense(37, activation='softmax'))\n",
        "\n",
        "# Show a summary of the model. Check the number of trainable parameters\n",
        "model.summary()"
      ],
      "execution_count": null,
      "outputs": [
        {
          "output_type": "stream",
          "text": [
            "Model: \"sequential\"\n",
            "_________________________________________________________________\n",
            "Layer (type)                 Output Shape              Param #   \n",
            "=================================================================\n",
            "inception_v3 (Functional)    (None, 5, 5, 2048)        21802784  \n",
            "_________________________________________________________________\n",
            "flatten (Flatten)            (None, 51200)             0         \n",
            "_________________________________________________________________\n",
            "dense (Dense)                (None, 1024)              52429824  \n",
            "_________________________________________________________________\n",
            "dropout (Dropout)            (None, 1024)              0         \n",
            "_________________________________________________________________\n",
            "dense_1 (Dense)              (None, 37)                37925     \n",
            "=================================================================\n",
            "Total params: 74,270,533\n",
            "Trainable params: 52,467,749\n",
            "Non-trainable params: 21,802,784\n",
            "_________________________________________________________________\n"
          ],
          "name": "stdout"
        }
      ]
    },
    {
      "cell_type": "code",
      "metadata": {
        "colab": {
          "base_uri": "https://localhost:8080/"
        },
        "id": "rrAx1W0gGHTb",
        "outputId": "df86522a-be4a-477d-a037-5ab0bbee2c5c"
      },
      "source": [
        "train_it.samples"
      ],
      "execution_count": null,
      "outputs": [
        {
          "output_type": "execute_result",
          "data": {
            "text/plain": [
              "10656"
            ]
          },
          "metadata": {
            "tags": []
          },
          "execution_count": 22
        }
      ]
    },
    {
      "cell_type": "code",
      "metadata": {
        "id": "Jnxc5HckGwqL"
      },
      "source": [
        "import keras\n",
        "initial_learning_rate = 0.001\n",
        "lr_schedule = keras.optimizers.schedules.ExponentialDecay(\n",
        "    initial_learning_rate,\n",
        "    decay_steps=2000,\n",
        "    decay_rate=0.16,\n",
        "    staircase=True)\n",
        "#sgd = keras.optimizers.SGD(lr=0.00001, decay=1e-6, momentum=0.9, nesterov=True)\n",
        "#model.compile(loss='categorical_crossentropy',\n",
        "#              optimizer=keras.optimizers.SGD(learning_rate=lr_schedule),\n",
        "#              metrics=['acc'])\n",
        "model.compile(loss='categorical_crossentropy',\n",
        "              optimizer=keras.optimizers.SGD(lr=1e-3),\n",
        "              metrics=['acc'])"
      ],
      "execution_count": null,
      "outputs": []
    },
    {
      "cell_type": "code",
      "metadata": {
        "colab": {
          "base_uri": "https://localhost:8080/"
        },
        "id": "EV8WD7w5FZuD",
        "outputId": "91832e3e-c68b-48fb-cf15-8c685b9447d3"
      },
      "source": [
        "nb_epochs = 70\n",
        "batch_size = 128\n",
        "model.fit_generator(\n",
        "    train_it,\n",
        "    steps_per_epoch = train_it.samples // batch_size,\n",
        "    validation_data = val_it, \n",
        "    validation_steps = val_it.samples // batch_size,\n",
        "    epochs = nb_epochs)"
      ],
      "execution_count": null,
      "outputs": [
        {
          "output_type": "stream",
          "text": [
            "/usr/local/lib/python3.7/dist-packages/tensorflow/python/keras/engine/training.py:1844: UserWarning: `Model.fit_generator` is deprecated and will be removed in a future version. Please use `Model.fit`, which supports generators.\n",
            "  warnings.warn('`Model.fit_generator` is deprecated and '\n"
          ],
          "name": "stderr"
        },
        {
          "output_type": "stream",
          "text": [
            "Epoch 1/70\n",
            "11/11 [==============================] - 10s 598ms/step - loss: 1.6855 - acc: 0.5876 - val_loss: 2.2670 - val_acc: 0.4375\n",
            "Epoch 2/70\n",
            "11/11 [==============================] - 6s 496ms/step - loss: 1.3641 - acc: 0.6898 - val_loss: 2.2346 - val_acc: 0.4492\n",
            "Epoch 3/70\n",
            "11/11 [==============================] - 5s 491ms/step - loss: 1.2399 - acc: 0.7112 - val_loss: 2.1684 - val_acc: 0.4102\n",
            "Epoch 4/70\n",
            "11/11 [==============================] - 6s 520ms/step - loss: 1.1501 - acc: 0.7214 - val_loss: 2.0429 - val_acc: 0.4844\n",
            "Epoch 5/70\n",
            "11/11 [==============================] - 5s 493ms/step - loss: 1.0080 - acc: 0.7903 - val_loss: 1.8525 - val_acc: 0.5312\n",
            "Epoch 6/70\n",
            "11/11 [==============================] - 5s 491ms/step - loss: 0.8901 - acc: 0.8181 - val_loss: 1.8925 - val_acc: 0.5234\n",
            "Epoch 7/70\n",
            "11/11 [==============================] - 5s 508ms/step - loss: 0.7686 - acc: 0.8570 - val_loss: 1.9487 - val_acc: 0.4883\n",
            "Epoch 8/70\n",
            "11/11 [==============================] - 5s 492ms/step - loss: 0.6993 - acc: 0.8869 - val_loss: 1.8209 - val_acc: 0.4922\n",
            "Epoch 9/70\n",
            "11/11 [==============================] - 5s 486ms/step - loss: 0.6253 - acc: 0.9015 - val_loss: 1.7537 - val_acc: 0.5586\n",
            "Epoch 10/70\n",
            "11/11 [==============================] - 5s 486ms/step - loss: 0.5934 - acc: 0.8945 - val_loss: 1.7283 - val_acc: 0.5586\n",
            "Epoch 11/70\n",
            "11/11 [==============================] - 5s 487ms/step - loss: 0.5536 - acc: 0.8904 - val_loss: 1.7339 - val_acc: 0.5586\n",
            "Epoch 12/70\n",
            "11/11 [==============================] - 5s 489ms/step - loss: 0.5080 - acc: 0.9134 - val_loss: 1.6318 - val_acc: 0.5781\n",
            "Epoch 13/70\n",
            "11/11 [==============================] - 5s 481ms/step - loss: 0.4384 - acc: 0.9302 - val_loss: 1.7453 - val_acc: 0.5273\n",
            "Epoch 14/70\n",
            "11/11 [==============================] - 5s 490ms/step - loss: 0.4317 - acc: 0.9321 - val_loss: 1.6586 - val_acc: 0.5664\n",
            "Epoch 15/70\n",
            "11/11 [==============================] - 5s 488ms/step - loss: 0.4095 - acc: 0.9200 - val_loss: 1.6040 - val_acc: 0.5742\n",
            "Epoch 16/70\n",
            "11/11 [==============================] - 5s 489ms/step - loss: 0.3610 - acc: 0.9521 - val_loss: 1.6824 - val_acc: 0.5664\n",
            "Epoch 17/70\n",
            "11/11 [==============================] - 5s 486ms/step - loss: 0.3518 - acc: 0.9515 - val_loss: 1.6936 - val_acc: 0.5820\n",
            "Epoch 18/70\n",
            "11/11 [==============================] - 5s 488ms/step - loss: 0.3388 - acc: 0.9558 - val_loss: 1.6931 - val_acc: 0.5664\n",
            "Epoch 19/70\n",
            "11/11 [==============================] - 5s 484ms/step - loss: 0.2860 - acc: 0.9646 - val_loss: 1.6472 - val_acc: 0.5703\n",
            "Epoch 20/70\n",
            "11/11 [==============================] - 5s 489ms/step - loss: 0.2747 - acc: 0.9753 - val_loss: 1.6621 - val_acc: 0.5703\n",
            "Epoch 21/70\n",
            "11/11 [==============================] - 5s 491ms/step - loss: 0.2775 - acc: 0.9593 - val_loss: 1.4967 - val_acc: 0.6211\n",
            "Epoch 22/70\n",
            "11/11 [==============================] - 5s 493ms/step - loss: 0.2553 - acc: 0.9668 - val_loss: 1.5303 - val_acc: 0.6094\n",
            "Epoch 23/70\n",
            "11/11 [==============================] - 5s 484ms/step - loss: 0.2486 - acc: 0.9753 - val_loss: 1.4393 - val_acc: 0.6172\n",
            "Epoch 24/70\n",
            "11/11 [==============================] - 6s 495ms/step - loss: 0.2529 - acc: 0.9735 - val_loss: 1.4615 - val_acc: 0.5898\n",
            "Epoch 25/70\n",
            "11/11 [==============================] - 6s 516ms/step - loss: 0.2243 - acc: 0.9768 - val_loss: 1.5406 - val_acc: 0.6094\n",
            "Epoch 26/70\n",
            "11/11 [==============================] - 6s 494ms/step - loss: 0.2087 - acc: 0.9804 - val_loss: 1.5694 - val_acc: 0.5820\n",
            "Epoch 27/70\n",
            "11/11 [==============================] - 5s 491ms/step - loss: 0.2003 - acc: 0.9806 - val_loss: 1.5590 - val_acc: 0.6094\n",
            "Epoch 28/70\n",
            "11/11 [==============================] - 5s 492ms/step - loss: 0.2054 - acc: 0.9738 - val_loss: 1.5163 - val_acc: 0.6055\n",
            "Epoch 29/70\n",
            "11/11 [==============================] - 6s 502ms/step - loss: 0.1914 - acc: 0.9810 - val_loss: 1.5617 - val_acc: 0.5781\n",
            "Epoch 30/70\n",
            "11/11 [==============================] - 5s 493ms/step - loss: 0.1809 - acc: 0.9883 - val_loss: 1.4256 - val_acc: 0.6406\n",
            "Epoch 31/70\n",
            "11/11 [==============================] - 6s 499ms/step - loss: 0.1846 - acc: 0.9768 - val_loss: 1.4520 - val_acc: 0.6289\n",
            "Epoch 32/70\n",
            "11/11 [==============================] - 6s 495ms/step - loss: 0.1541 - acc: 0.9886 - val_loss: 1.5189 - val_acc: 0.6094\n",
            "Epoch 33/70\n",
            "11/11 [==============================] - 6s 496ms/step - loss: 0.1519 - acc: 0.9871 - val_loss: 1.5361 - val_acc: 0.6133\n",
            "Epoch 34/70\n",
            "11/11 [==============================] - 6s 516ms/step - loss: 0.1453 - acc: 0.9880 - val_loss: 1.4759 - val_acc: 0.6367\n",
            "Epoch 35/70\n",
            "11/11 [==============================] - 5s 494ms/step - loss: 0.1621 - acc: 0.9811 - val_loss: 1.5560 - val_acc: 0.5820\n",
            "Epoch 36/70\n",
            "11/11 [==============================] - 6s 495ms/step - loss: 0.1503 - acc: 0.9868 - val_loss: 1.5142 - val_acc: 0.5898\n",
            "Epoch 37/70\n",
            "11/11 [==============================] - 6s 535ms/step - loss: 0.1385 - acc: 0.9886 - val_loss: 1.3716 - val_acc: 0.6367\n",
            "Epoch 38/70\n",
            "11/11 [==============================] - 5s 494ms/step - loss: 0.1413 - acc: 0.9828 - val_loss: 1.4929 - val_acc: 0.6133\n",
            "Epoch 39/70\n",
            "11/11 [==============================] - 6s 499ms/step - loss: 0.1323 - acc: 0.9853 - val_loss: 1.4591 - val_acc: 0.6172\n",
            "Epoch 40/70\n",
            "11/11 [==============================] - 6s 494ms/step - loss: 0.1182 - acc: 0.9907 - val_loss: 1.4131 - val_acc: 0.6328\n",
            "Epoch 41/70\n",
            "11/11 [==============================] - 6s 497ms/step - loss: 0.1377 - acc: 0.9880 - val_loss: 1.4508 - val_acc: 0.6055\n",
            "Epoch 42/70\n",
            "11/11 [==============================] - 6s 503ms/step - loss: 0.1221 - acc: 0.9877 - val_loss: 1.3419 - val_acc: 0.6406\n",
            "Epoch 43/70\n",
            "11/11 [==============================] - 6s 497ms/step - loss: 0.1304 - acc: 0.9879 - val_loss: 1.4310 - val_acc: 0.6133\n",
            "Epoch 44/70\n",
            "11/11 [==============================] - 6s 494ms/step - loss: 0.1148 - acc: 0.9923 - val_loss: 1.3339 - val_acc: 0.6602\n",
            "Epoch 45/70\n",
            "11/11 [==============================] - 6s 507ms/step - loss: 0.1081 - acc: 0.9943 - val_loss: 1.4661 - val_acc: 0.6328\n",
            "Epoch 46/70\n",
            "11/11 [==============================] - 5s 493ms/step - loss: 0.1265 - acc: 0.9934 - val_loss: 1.3349 - val_acc: 0.6641\n",
            "Epoch 47/70\n",
            "11/11 [==============================] - 6s 499ms/step - loss: 0.1024 - acc: 0.9935 - val_loss: 1.4137 - val_acc: 0.6562\n",
            "Epoch 48/70\n",
            "11/11 [==============================] - 5s 494ms/step - loss: 0.1041 - acc: 0.9920 - val_loss: 1.4633 - val_acc: 0.6172\n",
            "Epoch 49/70\n",
            "11/11 [==============================] - 5s 494ms/step - loss: 0.1234 - acc: 0.9840 - val_loss: 1.4126 - val_acc: 0.6289\n",
            "Epoch 50/70\n",
            "11/11 [==============================] - 5s 486ms/step - loss: 0.0973 - acc: 0.9937 - val_loss: 1.3746 - val_acc: 0.6484\n",
            "Epoch 51/70\n",
            "11/11 [==============================] - 6s 491ms/step - loss: 0.1076 - acc: 0.9884 - val_loss: 1.4315 - val_acc: 0.6211\n",
            "Epoch 52/70\n",
            "11/11 [==============================] - 6s 497ms/step - loss: 0.0913 - acc: 0.9951 - val_loss: 1.4283 - val_acc: 0.6367\n",
            "Epoch 53/70\n",
            "11/11 [==============================] - 5s 489ms/step - loss: 0.1047 - acc: 0.9881 - val_loss: 1.4499 - val_acc: 0.6406\n",
            "Epoch 54/70\n",
            "11/11 [==============================] - 6s 501ms/step - loss: 0.0863 - acc: 0.9974 - val_loss: 1.3552 - val_acc: 0.6367\n",
            "Epoch 55/70\n",
            "11/11 [==============================] - 6s 504ms/step - loss: 0.0842 - acc: 0.9936 - val_loss: 1.3736 - val_acc: 0.6445\n",
            "Epoch 56/70\n",
            "11/11 [==============================] - 5s 489ms/step - loss: 0.0943 - acc: 0.9895 - val_loss: 1.4382 - val_acc: 0.6367\n",
            "Epoch 57/70\n",
            "11/11 [==============================] - 5s 486ms/step - loss: 0.0791 - acc: 0.9954 - val_loss: 1.4858 - val_acc: 0.6250\n",
            "Epoch 58/70\n",
            "11/11 [==============================] - 5s 490ms/step - loss: 0.0813 - acc: 0.9940 - val_loss: 1.4654 - val_acc: 0.6172\n",
            "Epoch 59/70\n",
            "11/11 [==============================] - 5s 509ms/step - loss: 0.0850 - acc: 0.9892 - val_loss: 1.5417 - val_acc: 0.5938\n",
            "Epoch 60/70\n",
            "11/11 [==============================] - 5s 487ms/step - loss: 0.0814 - acc: 0.9966 - val_loss: 1.3762 - val_acc: 0.6445\n",
            "Epoch 61/70\n",
            "11/11 [==============================] - 5s 507ms/step - loss: 0.0820 - acc: 0.9954 - val_loss: 1.4730 - val_acc: 0.6211\n",
            "Epoch 62/70\n",
            "11/11 [==============================] - 5s 486ms/step - loss: 0.0777 - acc: 0.9950 - val_loss: 1.4400 - val_acc: 0.6289\n",
            "Epoch 63/70\n",
            "11/11 [==============================] - 5s 503ms/step - loss: 0.0687 - acc: 0.9967 - val_loss: 1.5007 - val_acc: 0.5820\n",
            "Epoch 64/70\n",
            "11/11 [==============================] - 5s 501ms/step - loss: 0.0824 - acc: 0.9934 - val_loss: 1.3843 - val_acc: 0.6602\n",
            "Epoch 65/70\n",
            "11/11 [==============================] - 5s 477ms/step - loss: 0.0734 - acc: 0.9935 - val_loss: 1.3826 - val_acc: 0.6523\n",
            "Epoch 66/70\n",
            "11/11 [==============================] - 5s 482ms/step - loss: 0.0676 - acc: 0.9969 - val_loss: 1.3683 - val_acc: 0.6484\n",
            "Epoch 67/70\n",
            "11/11 [==============================] - 5s 479ms/step - loss: 0.0722 - acc: 0.9913 - val_loss: 1.5335 - val_acc: 0.5820\n",
            "Epoch 68/70\n",
            "11/11 [==============================] - 5s 489ms/step - loss: 0.0653 - acc: 0.9993 - val_loss: 1.2741 - val_acc: 0.6641\n",
            "Epoch 69/70\n",
            "11/11 [==============================] - 5s 488ms/step - loss: 0.0758 - acc: 0.9955 - val_loss: 1.4443 - val_acc: 0.6289\n",
            "Epoch 70/70\n",
            "11/11 [==============================] - 6s 498ms/step - loss: 0.0671 - acc: 0.9967 - val_loss: 1.4516 - val_acc: 0.6133\n"
          ],
          "name": "stdout"
        },
        {
          "output_type": "execute_result",
          "data": {
            "text/plain": [
              "<tensorflow.python.keras.callbacks.History at 0x7f5ec8395d10>"
            ]
          },
          "metadata": {
            "tags": []
          },
          "execution_count": 11
        }
      ]
    },
    {
      "cell_type": "code",
      "metadata": {
        "colab": {
          "base_uri": "https://localhost:8080/"
        },
        "id": "nfLx7xpSGkMO",
        "outputId": "6cba054d-c5c6-463a-a479-6a3f7ea68676"
      },
      "source": [
        "model.save(\"/content/drive/MyDrive/Research and Project Stuffs/BdSL/Datasets/Dataset_4_inception\")"
      ],
      "execution_count": null,
      "outputs": [
        {
          "output_type": "stream",
          "text": [
            "INFO:tensorflow:Assets written to: /content/drive/MyDrive/Research and Project Stuffs/BdSL/Datasets/Dataset_4_inception/assets\n"
          ],
          "name": "stdout"
        }
      ]
    },
    {
      "cell_type": "code",
      "metadata": {
        "colab": {
          "base_uri": "https://localhost:8080/"
        },
        "id": "YjS87ZEc0lGu",
        "outputId": "e9d0a883-907f-41a3-c7f8-f2d90569f755"
      },
      "source": [
        "val_it.classes"
      ],
      "execution_count": null,
      "outputs": [
        {
          "output_type": "execute_result",
          "data": {
            "text/plain": [
              "array([ 0,  0,  0,  0,  0,  0,  0,  0,  0,  0,  1,  1,  1,  1,  1,  1,  1,\n",
              "        1,  1,  1,  2,  2,  2,  2,  2,  2,  2,  2,  2,  2,  3,  3,  3,  3,\n",
              "        3,  3,  3,  3,  3,  3,  4,  4,  4,  4,  4,  4,  4,  4,  4,  4,  5,\n",
              "        5,  5,  5,  5,  5,  5,  5,  5,  5,  6,  6,  6,  6,  6,  6,  6,  6,\n",
              "        6,  6,  7,  7,  7,  7,  7,  7,  7,  7,  7,  7,  8,  8,  8,  8,  8,\n",
              "        8,  8,  8,  8,  8,  9,  9,  9,  9,  9,  9,  9,  9,  9,  9, 10, 10,\n",
              "       10, 10, 10, 10, 10, 10, 10, 10, 11, 11, 11, 11, 11, 11, 11, 11, 11,\n",
              "       11, 12, 12, 12, 12, 12, 12, 12, 12, 12, 12, 13, 13, 13, 13, 13, 13,\n",
              "       13, 13, 13, 13, 14, 14, 14, 14, 14, 14, 14, 14, 14, 14, 15, 15, 15,\n",
              "       15, 15, 15, 15, 15, 15, 15, 16, 16, 16, 16, 16, 16, 16, 16, 16, 16,\n",
              "       17, 17, 17, 17, 17, 17, 17, 17, 17, 17, 18, 18, 18, 18, 18, 18, 18,\n",
              "       18, 18, 18, 19, 19, 19, 19, 19, 19, 19, 19, 19, 19, 20, 20, 20, 20,\n",
              "       20, 20, 20, 20, 20, 21, 21, 21, 21, 21, 21, 21, 21, 21, 21, 22, 22,\n",
              "       22, 22, 22, 22, 22, 22, 22, 22, 23, 23, 23, 23, 23, 23, 23, 23, 23,\n",
              "       23, 24, 24, 24, 24, 24, 24, 24, 24, 24, 24, 25, 25, 25, 25, 25, 25,\n",
              "       25, 25, 25, 25, 26, 26, 26, 26, 26, 26, 26, 26, 26, 26, 27, 27, 27,\n",
              "       27, 27, 27, 27, 27, 27, 27, 28, 28, 28, 28, 28, 28, 28, 28, 28, 28,\n",
              "       29, 29, 29, 29, 29, 29, 29, 29, 29, 29, 30, 30, 30, 30, 30, 30, 30,\n",
              "       30, 30, 30, 31, 31, 31, 31, 31, 31, 31, 31, 31, 31, 32, 32, 32, 32,\n",
              "       32, 32, 32, 32, 32, 32, 33, 33, 33, 33, 33, 33, 33, 33, 33, 33, 34,\n",
              "       34, 34, 34, 34, 34, 34, 34, 34, 34, 35, 35, 35, 35, 35, 35, 35, 35,\n",
              "       35, 35, 36, 36, 36, 36, 36, 36, 36, 36, 36, 36], dtype=int32)"
            ]
          },
          "metadata": {
            "tags": []
          },
          "execution_count": 13
        }
      ]
    },
    {
      "cell_type": "code",
      "metadata": {
        "colab": {
          "base_uri": "https://localhost:8080/"
        },
        "id": "3SUApdAiHO7V",
        "outputId": "5c66f182-e197-462b-bb16-5cac9e4bb1cf"
      },
      "source": [
        "batch_size = 369\n",
        "# prepare an iterators for each dataset\n",
        "#train_it = datagen.flow_from_directory('/content/drive/MyDrive/Research and Project Stuffs/BdSL/Datasets/dataset3/dataset',target_size=(img_height, img_width),batch_size = batch_size, subset='training')\n",
        "val_it = datagen.flow_from_directory('/content/drive/MyDrive/Research and Project Stuffs/BdSL/Datasets/dataset4',target_size=(img_height, img_width), batch_size = batch_size, subset='validation')"
      ],
      "execution_count": null,
      "outputs": [
        {
          "output_type": "stream",
          "text": [
            "Found 369 images belonging to 37 classes.\n"
          ],
          "name": "stdout"
        }
      ]
    },
    {
      "cell_type": "code",
      "metadata": {
        "colab": {
          "base_uri": "https://localhost:8080/"
        },
        "id": "w-aSNUm7G2o-",
        "outputId": "d3851787-26ee-4da3-97e2-ddeacf70a854"
      },
      "source": [
        "test_score = model.evaluate_generator(val_it, batch_size)\n",
        "\n",
        "\n",
        "\n",
        "print(\"[INFO] accuracy: {:.2f}%\".format(test_score[1] * 100)) \n",
        "\n",
        "print(\"[INFO] Loss: \",test_score[0])"
      ],
      "execution_count": null,
      "outputs": [
        {
          "output_type": "stream",
          "text": [
            "/usr/local/lib/python3.7/dist-packages/tensorflow/python/keras/engine/training.py:1877: UserWarning: `Model.evaluate_generator` is deprecated and will be removed in a future version. Please use `Model.evaluate`, which supports generators.\n",
            "  warnings.warn('`Model.evaluate_generator` is deprecated and '\n"
          ],
          "name": "stderr"
        },
        {
          "output_type": "stream",
          "text": [
            "WARNING:tensorflow:Your input ran out of data; interrupting training. Make sure that your dataset or generator can generate at least `steps_per_epoch * epochs` batches (in this case, 369 batches). You may need to use the repeat() function when building your dataset.\n",
            "[INFO] accuracy: 62.87%\n",
            "[INFO] Loss:  1.3954707384109497\n"
          ],
          "name": "stdout"
        }
      ]
    },
    {
      "cell_type": "code",
      "metadata": {
        "id": "XqirY6xOZ4rh"
      },
      "source": [
        "import sys\n",
        "\n",
        "import numpy as np\n",
        "\n",
        "from keras import backend as K\n",
        "\n",
        "from keras.models import Sequential\n",
        "\n",
        "from keras.layers.core import Dense, Dropout, Activation, Flatten\n",
        "\n",
        "from keras.layers.convolutional import Convolution2D, MaxPooling2D\n",
        "\n",
        "from keras.preprocessing.image import ImageDataGenerator\n",
        "\n",
        "from sklearn.metrics import classification_report, confusion_matrix\n",
        "\n",
        "from keras.layers import Conv2D, Flatten, Dense, MaxPool2D,MaxPooling2D, Activation, Dropout, BatchNormalization, Input\n",
        "\n",
        "import matplotlib.pyplot as plt\n",
        "\n",
        "from keras.optimizers import Adam\n",
        "\n",
        "import itertools "
      ],
      "execution_count": null,
      "outputs": []
    },
    {
      "cell_type": "code",
      "metadata": {
        "id": "88HvCkHpZ-It"
      },
      "source": [
        "# Loss Curves\n",
        "\n",
        "plt.figure(figsize=[8,6])\n",
        "\n",
        "plt.plot(model.history['loss'],'r',linewidth=3.0)\n",
        "\n",
        "plt.plot(model.history['val_loss'],'b',linewidth=3.0)\n",
        "\n",
        "plt.legend(['Training loss', 'Validation Loss'],fontsize=18)\n",
        "\n",
        "plt.xlabel('Epochs ',fontsize=16)\n",
        "\n",
        "plt.ylabel('Loss',fontsize=16)\n",
        "\n",
        "plt.title('Loss Curves',fontsize=16)"
      ],
      "execution_count": null,
      "outputs": []
    },
    {
      "cell_type": "code",
      "metadata": {
        "id": "z8b7xk5oaDpe"
      },
      "source": [
        "#Plot the confusion matrix. Set Normalize = True/False\n",
        "\n",
        "\n",
        "\n",
        "def plot_confusion_matrix(cm, classes, normalize=True, title='Confusion matrix', cmap=plt.cm.Blues):\n",
        "\n",
        "    \"\"\"\n",
        "\n",
        "    This function prints and plots the confusion matrix.\n",
        "\n",
        "    Normalization can be applied by setting `normalize=True`.\n",
        "\n",
        "    \"\"\"\n",
        "\n",
        "    plt.figure(figsize=(10,10))\n",
        "\n",
        "\n",
        "\n",
        "    plt.imshow(cm, interpolation='nearest', cmap=cmap)\n",
        "\n",
        "    plt.title(title)\n",
        "\n",
        "    plt.colorbar()\n",
        "\n",
        "\n",
        "\n",
        "    tick_marks = np.arange(len(classes))\n",
        "\n",
        "    plt.xticks(tick_marks, classes, rotation=45)\n",
        "\n",
        "    plt.yticks(tick_marks, classes)\n",
        "\n",
        "\n",
        "\n",
        "    if normalize:\n",
        "\n",
        "        cm = cm.astype('float') / cm.sum(axis=1)[:, np.newaxis]\n",
        "\n",
        "        cm = np.around(cm, decimals=2)\n",
        "\n",
        "        cm[np.isnan(cm)] = 0.0\n",
        "\n",
        "        print(\"Normalized confusion matrix\")\n",
        "\n",
        "    else:\n",
        "\n",
        "        print('Confusion matrix, without normalization')\n",
        "\n",
        "    thresh = cm.max() / 2.\n",
        "\n",
        "    for i, j in itertools.product(range(cm.shape[0]), range(cm.shape[1])):\n",
        "\n",
        "        plt.text(j, i, cm[i, j],\n",
        "\n",
        "                 horizontalalignment=\"center\",\n",
        "\n",
        "                 color=\"white\" if cm[i, j] > thresh else \"black\")\n",
        "\n",
        "    plt.tight_layout()\n",
        "\n",
        "    plt.ylabel('True label')\n",
        "\n",
        "    plt.xlabel('Predicted label')"
      ],
      "execution_count": null,
      "outputs": []
    },
    {
      "cell_type": "code",
      "metadata": {
        "colab": {
          "base_uri": "https://localhost:8080/"
        },
        "id": "50pT6StIaZU2",
        "outputId": "330763d3-c5ea-478e-8738-cf9d07f86aa6"
      },
      "source": [
        "y_img_batch, y_class_batch = val_it[0]\n",
        "y_pred = np.argmax(model.predict(y_img_batch),-1)\n",
        "y_true = np.argmax(y_class_batch,-1)\n",
        "print(sum(y_pred==y_true)/batch_size)"
      ],
      "execution_count": null,
      "outputs": [
        {
          "output_type": "stream",
          "text": [
            "0.6287262872628726\n"
          ],
          "name": "stdout"
        }
      ]
    },
    {
      "cell_type": "code",
      "metadata": {
        "colab": {
          "base_uri": "https://localhost:8080/"
        },
        "id": "-W5WEWeIatUe",
        "outputId": "fdb6c2f9-44db-4878-e769-fc751ee43790"
      },
      "source": [
        "#Print the Target names\n",
        "\n",
        "\n",
        "\n",
        "target_names = []\n",
        "\n",
        "for key in val_it.class_indices:\n",
        "\n",
        "    target_names.append(key)\n",
        "\n",
        "\n",
        "\n",
        "print(target_names)"
      ],
      "execution_count": null,
      "outputs": [
        {
          "output_type": "stream",
          "text": [
            "['1', '10', '11', '12', '13', '14', '15', '16', '17', '18', '19', '2', '20', '21', '22', '23', '24', '25', '26', '27', '28', '29', '3', '30', '31', '32', '33', '34', '35', '36', '37', '4', '5', '6', '7', '8', '9']\n"
          ],
          "name": "stdout"
        }
      ]
    },
    {
      "cell_type": "code",
      "metadata": {
        "colab": {
          "base_uri": "https://localhost:8080/",
          "height": 745
        },
        "id": "N0mpSUunacU3",
        "outputId": "e581418f-6ae7-4320-dd9e-7f1031b1ef49"
      },
      "source": [
        "cm = confusion_matrix(y_true,y_pred)\n",
        "plot_confusion_matrix(cm, target_names, title='Confusion Matrix')"
      ],
      "execution_count": null,
      "outputs": [
        {
          "output_type": "stream",
          "text": [
            "Normalized confusion matrix\n"
          ],
          "name": "stdout"
        },
        {
          "output_type": "display_data",
          "data": {
            "image/png": "[encoded data removed]",
            "text/plain": [
              "<Figure size 720x720 with 2 Axes>"
            ]
          },
          "metadata": {
            "tags": [],
            "needs_background": "light"
          }
        }
      ]
    },
    {
      "cell_type": "code",
      "metadata": {
        "colab": {
          "base_uri": "https://localhost:8080/"
        },
        "id": "R9w3e0DAajrO",
        "outputId": "b08f4ed0-837e-4c7b-bf5e-bd1fe8e06deb"
      },
      "source": [
        "#Print Classification Report\n",
        "\n",
        "print('Classification Report')\n",
        "\n",
        "print(classification_report(y_true, y_pred, target_names=target_names))"
      ],
      "execution_count": null,
      "outputs": [
        {
          "output_type": "stream",
          "text": [
            "Classification Report\n",
            "              precision    recall  f1-score   support\n",
            "\n",
            "           1       0.67      0.80      0.73        10\n",
            "          10       0.46      0.60      0.52        10\n",
            "          11       1.00      1.00      1.00        10\n",
            "          12       0.62      0.80      0.70        10\n",
            "          13       1.00      0.40      0.57        10\n",
            "          14       0.45      0.50      0.48        10\n",
            "          15       0.44      0.80      0.57        10\n",
            "          16       0.25      0.40      0.31        10\n",
            "          17       0.75      0.60      0.67        10\n",
            "          18       0.83      1.00      0.91        10\n",
            "          19       0.75      0.30      0.43        10\n",
            "           2       0.91      1.00      0.95        10\n",
            "          20       0.50      0.50      0.50        10\n",
            "          21       1.00      0.40      0.57        10\n",
            "          22       0.12      0.20      0.15        10\n",
            "          23       0.20      0.10      0.13        10\n",
            "          24       0.50      0.50      0.50        10\n",
            "          25       0.47      0.70      0.56        10\n",
            "          26       0.64      0.90      0.75        10\n",
            "          27       1.00      0.10      0.18        10\n",
            "          28       0.20      0.22      0.21         9\n",
            "          29       0.62      1.00      0.77        10\n",
            "           3       1.00      0.80      0.89        10\n",
            "          30       0.80      0.40      0.53        10\n",
            "          31       0.83      1.00      0.91        10\n",
            "          32       1.00      0.50      0.67        10\n",
            "          33       0.57      0.40      0.47        10\n",
            "          34       0.77      1.00      0.87        10\n",
            "          35       0.59      1.00      0.74        10\n",
            "          36       0.67      0.40      0.50        10\n",
            "          37       0.43      0.30      0.35        10\n",
            "           4       1.00      0.80      0.89        10\n",
            "           5       0.59      1.00      0.74        10\n",
            "           6       1.00      0.40      0.57        10\n",
            "           7       0.75      0.60      0.67        10\n",
            "           8       1.00      0.80      0.89        10\n",
            "           9       0.91      1.00      0.95        10\n",
            "\n",
            "    accuracy                           0.63       369\n",
            "   macro avg       0.68      0.63      0.62       369\n",
            "weighted avg       0.69      0.63      0.62       369\n",
            "\n"
          ],
          "name": "stdout"
        }
      ]
    },
    {
      "cell_type": "code",
      "metadata": {
        "id": "HfenuZbra129"
      },
      "source": [
        ""
      ],
      "execution_count": null,
      "outputs": []
    }
  ]
}