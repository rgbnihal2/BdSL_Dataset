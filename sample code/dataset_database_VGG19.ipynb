{
  "nbformat": 4,
  "nbformat_minor": 0,
  "metadata": {
    "colab": {
      "name": "dataset database VGG19",
      "provenance": []
    },
    "kernelspec": {
      "name": "python3",
      "display_name": "Python 3"
    },
    "language_info": {
      "name": "python"
    },
    "accelerator": "GPU"
  },
  "cells": [
    {
      "cell_type": "code",
      "metadata": {
        "colab": {
          "base_uri": "https://localhost:8080/"
        },
        "id": "wnTRugAwPiAr",
        "outputId": "9cb84887-8ee8-401a-d337-56163db82e91"
      },
      "source": [
        "from google.colab import drive\n",
        "drive.mount('/content/drive')"
      ],
      "execution_count": null,
      "outputs": [
        {
          "output_type": "stream",
          "text": [
            "Mounted at /content/drive\n"
          ],
          "name": "stdout"
        }
      ]
    },
    {
      "cell_type": "code",
      "metadata": {
        "id": "-l4MRfIYQESF"
      },
      "source": [
        "\n",
        "!unzip -uq \"/content/drive/MyDrive/Research and Project Stuffs/BdSL/Datasets/dataset3.zip\" -d \"/content/drive/MyDrive/Research and Project Stuffs/BdSL/Datasets/\""
      ],
      "execution_count": null,
      "outputs": []
    },
    {
      "cell_type": "code",
      "metadata": {
        "colab": {
          "base_uri": "https://localhost:8080/"
        },
        "id": "4gCn-4avQsgn",
        "outputId": "17e74425-21b6-4761-cd09-aed3460932d2"
      },
      "source": [
        "# example of progressively loading images from file\n",
        "from keras.preprocessing.image import ImageDataGenerator\n",
        "# create generator\n",
        "datagen = ImageDataGenerator(validation_split=0.2)\n",
        "img_height = 224\n",
        "img_width = 224 \n",
        "batch_size = 186\n",
        "# prepare an iterators for each dataset\n",
        "train_it = datagen.flow_from_directory('/content/drive/MyDrive/Research and Project Stuffs/BdSL/Datasets/database',target_size=(img_height, img_width),batch_size = batch_size, subset='training')\n",
        "val_it = datagen.flow_from_directory('/content/drive/MyDrive/Research and Project Stuffs/BdSL/Datasets/database',target_size=(img_height, img_width), batch_size = batch_size, subset='validation')"
      ],
      "execution_count": null,
      "outputs": [
        {
          "output_type": "stream",
          "text": [
            "Found 819 images belonging to 36 classes.\n",
            "Found 186 images belonging to 36 classes.\n"
          ],
          "name": "stdout"
        }
      ]
    },
    {
      "cell_type": "code",
      "metadata": {
        "colab": {
          "base_uri": "https://localhost:8080/"
        },
        "id": "L0NE2Yzd_WFB",
        "outputId": "80652f20-0dc6-4ec3-865b-61b961aab69d"
      },
      "source": [
        "from tensorflow.keras.applications import vgg19\n",
        "# Init the VGG model\n",
        "vgg_conv = vgg19.VGG19(weights='imagenet', include_top=False, input_shape=(img_height, img_height, 3))"
      ],
      "execution_count": null,
      "outputs": [
        {
          "output_type": "stream",
          "text": [
            "Downloading data from https://storage.googleapis.com/tensorflow/keras-applications/vgg19/vgg19_weights_tf_dim_ordering_tf_kernels_notop.h5\n",
            "80142336/80134624 [==============================] - 1s 0us/step\n"
          ],
          "name": "stdout"
        }
      ]
    },
    {
      "cell_type": "code",
      "metadata": {
        "colab": {
          "base_uri": "https://localhost:8080/"
        },
        "id": "_jwVecda_f6y",
        "outputId": "9ee7315e-3b5a-4078-8e0f-0b1c15cee64a"
      },
      "source": [
        "# Freeze all the layers\n",
        "for layer in vgg_conv.layers[:]:\n",
        "    layer.trainable = False\n",
        "# Check the trainable status of the individual layers\n",
        "for layer in vgg_conv.layers:\n",
        "    print(layer, layer.trainable)"
      ],
      "execution_count": null,
      "outputs": [
        {
          "output_type": "stream",
          "text": [
            "<tensorflow.python.keras.engine.input_layer.InputLayer object at 0x7f5be7f62110> False\n",
            "<tensorflow.python.keras.layers.convolutional.Conv2D object at 0x7f5be6828910> False\n",
            "<tensorflow.python.keras.layers.convolutional.Conv2D object at 0x7f5be7f60cd0> False\n",
            "<tensorflow.python.keras.layers.pooling.MaxPooling2D object at 0x7f5be7f75990> False\n",
            "<tensorflow.python.keras.layers.convolutional.Conv2D object at 0x7f5be585df10> False\n",
            "<tensorflow.python.keras.layers.convolutional.Conv2D object at 0x7f5be7f75310> False\n",
            "<tensorflow.python.keras.layers.pooling.MaxPooling2D object at 0x7f5be7f4ea10> False\n",
            "<tensorflow.python.keras.layers.convolutional.Conv2D object at 0x7f5be5864a10> False\n",
            "<tensorflow.python.keras.layers.convolutional.Conv2D object at 0x7f5be6356710> False\n",
            "<tensorflow.python.keras.layers.convolutional.Conv2D object at 0x7f5be7f70450> False\n",
            "<tensorflow.python.keras.layers.convolutional.Conv2D object at 0x7f5be635efd0> False\n",
            "<tensorflow.python.keras.layers.pooling.MaxPooling2D object at 0x7f5be6367390> False\n",
            "<tensorflow.python.keras.layers.convolutional.Conv2D object at 0x7f5be5863a50> False\n",
            "<tensorflow.python.keras.layers.convolutional.Conv2D object at 0x7f5be636cd10> False\n",
            "<tensorflow.python.keras.layers.convolutional.Conv2D object at 0x7f5be62f8210> False\n",
            "<tensorflow.python.keras.layers.convolutional.Conv2D object at 0x7f5be636c090> False\n",
            "<tensorflow.python.keras.layers.pooling.MaxPooling2D object at 0x7f5be6300fd0> False\n",
            "<tensorflow.python.keras.layers.convolutional.Conv2D object at 0x7f5be630bd90> False\n",
            "<tensorflow.python.keras.layers.convolutional.Conv2D object at 0x7f5be630bf90> False\n",
            "<tensorflow.python.keras.layers.convolutional.Conv2D object at 0x7f5be6304e10> False\n",
            "<tensorflow.python.keras.layers.convolutional.Conv2D object at 0x7f5be630e450> False\n",
            "<tensorflow.python.keras.layers.pooling.MaxPooling2D object at 0x7f5be631c610> False\n"
          ],
          "name": "stdout"
        }
      ]
    },
    {
      "cell_type": "code",
      "metadata": {
        "id": "CQsdukGnFWAR"
      },
      "source": [
        "from keras.models import Sequential, Model\n",
        "#from tensorflow.keras.models import Model\n",
        "from keras.layers import Conv2D, MaxPooling2D, Activation, Embedding, Dense, Dropout, Flatten, Input,GlobalAveragePooling2D\n",
        "from keras import activations\n",
        "#from tensorflow.python.keras.layers.core import Dense, Dropout, Flatten\n",
        "#from tensorflow.python.keras.layers import Input\n",
        "from keras.optimizers import Adam, SGD\n",
        "from keras.layers import LSTM\n",
        "#from keras.layers import Dropout\n",
        "#from keras.applications.vgg16 import VGG16\n",
        "#from tensorflow.keras.applications import vgg16\n",
        "from skimage.color import gray2rgb\n",
        "#from tensorflow.keras.applications.inception_v3 import InceptionV3 \n",
        "#from tensorflow.keras.applications import DenseNet201"
      ],
      "execution_count": null,
      "outputs": []
    },
    {
      "cell_type": "code",
      "metadata": {
        "colab": {
          "base_uri": "https://localhost:8080/"
        },
        "id": "hDUAiWIeE1Ui",
        "outputId": "9bc9ad50-417e-4f9a-a9f1-0df1aa6234a3"
      },
      "source": [
        "# Create the model\n",
        "model = Sequential()\n",
        "\n",
        "# Add the vgg convolutional base model\n",
        "model.add(vgg_conv)\n",
        "\n",
        "# Add new layers\n",
        "model.add(Flatten())\n",
        "model.add(Dense(1024, activation='relu'))\n",
        "model.add(Dropout(0.5))\n",
        "model.add(Dense(36, activation='softmax'))\n",
        "\n",
        "# Show a summary of the model. Check the number of trainable parameters\n",
        "model.summary()"
      ],
      "execution_count": null,
      "outputs": [
        {
          "output_type": "stream",
          "text": [
            "Model: \"sequential\"\n",
            "_________________________________________________________________\n",
            "Layer (type)                 Output Shape              Param #   \n",
            "=================================================================\n",
            "vgg19 (Functional)           (None, 7, 7, 512)         20024384  \n",
            "_________________________________________________________________\n",
            "flatten (Flatten)            (None, 25088)             0         \n",
            "_________________________________________________________________\n",
            "dense (Dense)                (None, 1024)              25691136  \n",
            "_________________________________________________________________\n",
            "dropout (Dropout)            (None, 1024)              0         \n",
            "_________________________________________________________________\n",
            "dense_1 (Dense)              (None, 36)                36900     \n",
            "=================================================================\n",
            "Total params: 45,752,420\n",
            "Trainable params: 25,728,036\n",
            "Non-trainable params: 20,024,384\n",
            "_________________________________________________________________\n"
          ],
          "name": "stdout"
        }
      ]
    },
    {
      "cell_type": "code",
      "metadata": {
        "colab": {
          "base_uri": "https://localhost:8080/"
        },
        "id": "rrAx1W0gGHTb",
        "outputId": "d59fbf91-760c-4749-b5bc-18f4e9dc9ed5"
      },
      "source": [
        "train_it.samples"
      ],
      "execution_count": null,
      "outputs": [
        {
          "output_type": "execute_result",
          "data": {
            "text/plain": [
              "819"
            ]
          },
          "metadata": {
            "tags": []
          },
          "execution_count": 8
        }
      ]
    },
    {
      "cell_type": "code",
      "metadata": {
        "id": "Jnxc5HckGwqL"
      },
      "source": [
        "import keras\n",
        "#sgd = keras.optimizers.SGD(lr=0.00001, decay=1e-6, momentum=0.9, nesterov=True)\n",
        "model.compile(loss='categorical_crossentropy',\n",
        "              optimizer=keras.optimizers.SGD(lr=1e-3),\n",
        "              metrics=['acc'])"
      ],
      "execution_count": null,
      "outputs": []
    },
    {
      "cell_type": "code",
      "metadata": {
        "colab": {
          "base_uri": "https://localhost:8080/"
        },
        "id": "EV8WD7w5FZuD",
        "outputId": "33a04510-185a-41b0-96a7-3376756a11e8"
      },
      "source": [
        "nb_epochs = 100\n",
        "#batch_size = 186\n",
        "history = model.fit_generator(\n",
        "    train_it,\n",
        "    steps_per_epoch = train_it.samples // batch_size,\n",
        "    validation_data = val_it, \n",
        "    validation_steps = val_it.samples // batch_size,\n",
        "    epochs = nb_epochs)"
      ],
      "execution_count": null,
      "outputs": [
        {
          "output_type": "stream",
          "text": [
            "/usr/local/lib/python3.7/dist-packages/tensorflow/python/keras/engine/training.py:1844: UserWarning: `Model.fit_generator` is deprecated and will be removed in a future version. Please use `Model.fit`, which supports generators.\n",
            "  warnings.warn('`Model.fit_generator` is deprecated and '\n"
          ],
          "name": "stderr"
        },
        {
          "output_type": "stream",
          "text": [
            "Epoch 1/100\n",
            "4/4 [==============================] - 201s 33s/step - loss: 30.4507 - acc: 0.0334 - val_loss: 12.2011 - val_acc: 0.0968\n",
            "Epoch 2/100\n",
            "4/4 [==============================] - 5s 1s/step - loss: 14.3687 - acc: 0.1674 - val_loss: 7.2976 - val_acc: 0.2151\n",
            "Epoch 3/100\n",
            "4/4 [==============================] - 5s 1s/step - loss: 7.4491 - acc: 0.3604 - val_loss: 6.2548 - val_acc: 0.2312\n",
            "Epoch 4/100\n",
            "4/4 [==============================] - 5s 1s/step - loss: 4.6232 - acc: 0.4637 - val_loss: 6.3325 - val_acc: 0.2258\n",
            "Epoch 5/100\n",
            "4/4 [==============================] - 5s 1s/step - loss: 3.3965 - acc: 0.5249 - val_loss: 5.5213 - val_acc: 0.2366\n",
            "Epoch 6/100\n",
            "4/4 [==============================] - 5s 1s/step - loss: 2.4499 - acc: 0.6143 - val_loss: 5.4307 - val_acc: 0.2903\n",
            "Epoch 7/100\n",
            "4/4 [==============================] - 6s 1s/step - loss: 1.8712 - acc: 0.6554 - val_loss: 5.2351 - val_acc: 0.2419\n",
            "Epoch 8/100\n",
            "4/4 [==============================] - 5s 1s/step - loss: 1.3362 - acc: 0.7214 - val_loss: 5.2346 - val_acc: 0.2903\n",
            "Epoch 9/100\n",
            "4/4 [==============================] - 5s 1s/step - loss: 1.0394 - acc: 0.7704 - val_loss: 5.0239 - val_acc: 0.2903\n",
            "Epoch 10/100\n",
            "4/4 [==============================] - 5s 1s/step - loss: 0.9206 - acc: 0.7813 - val_loss: 5.0149 - val_acc: 0.2742\n",
            "Epoch 11/100\n",
            "4/4 [==============================] - 5s 1s/step - loss: 0.6803 - acc: 0.8233 - val_loss: 4.8411 - val_acc: 0.2796\n",
            "Epoch 12/100\n",
            "4/4 [==============================] - 5s 1s/step - loss: 0.5273 - acc: 0.8467 - val_loss: 4.8683 - val_acc: 0.2903\n",
            "Epoch 13/100\n",
            "4/4 [==============================] - 5s 1s/step - loss: 0.4827 - acc: 0.8677 - val_loss: 4.7420 - val_acc: 0.3011\n",
            "Epoch 14/100\n",
            "4/4 [==============================] - 5s 1s/step - loss: 0.4804 - acc: 0.8595 - val_loss: 4.5774 - val_acc: 0.2796\n",
            "Epoch 15/100\n",
            "4/4 [==============================] - 5s 1s/step - loss: 0.4034 - acc: 0.8927 - val_loss: 4.5405 - val_acc: 0.2957\n",
            "Epoch 16/100\n",
            "4/4 [==============================] - 5s 1s/step - loss: 0.4779 - acc: 0.8661 - val_loss: 4.5906 - val_acc: 0.2742\n",
            "Epoch 17/100\n",
            "4/4 [==============================] - 5s 1s/step - loss: 0.4416 - acc: 0.8823 - val_loss: 4.5314 - val_acc: 0.2796\n",
            "Epoch 18/100\n",
            "4/4 [==============================] - 6s 1s/step - loss: 0.3409 - acc: 0.9125 - val_loss: 4.5499 - val_acc: 0.2742\n",
            "Epoch 19/100\n",
            "4/4 [==============================] - 5s 1s/step - loss: 0.3473 - acc: 0.9155 - val_loss: 4.5394 - val_acc: 0.2742\n",
            "Epoch 20/100\n",
            "4/4 [==============================] - 5s 1s/step - loss: 0.2236 - acc: 0.9253 - val_loss: 4.5292 - val_acc: 0.3011\n",
            "Epoch 21/100\n",
            "4/4 [==============================] - 5s 1s/step - loss: 0.2593 - acc: 0.9253 - val_loss: 4.4156 - val_acc: 0.2688\n",
            "Epoch 22/100\n",
            "4/4 [==============================] - 6s 1s/step - loss: 0.1940 - acc: 0.9441 - val_loss: 4.4769 - val_acc: 0.2796\n",
            "Epoch 23/100\n",
            "4/4 [==============================] - 6s 1s/step - loss: 0.1777 - acc: 0.9405 - val_loss: 4.4459 - val_acc: 0.3011\n",
            "Epoch 24/100\n",
            "4/4 [==============================] - 5s 1s/step - loss: 0.2708 - acc: 0.9282 - val_loss: 4.5144 - val_acc: 0.3065\n",
            "Epoch 25/100\n",
            "4/4 [==============================] - 5s 1s/step - loss: 0.1999 - acc: 0.9321 - val_loss: 4.6190 - val_acc: 0.3011\n",
            "Epoch 26/100\n",
            "4/4 [==============================] - 6s 1s/step - loss: 0.1714 - acc: 0.9536 - val_loss: 4.5328 - val_acc: 0.2849\n",
            "Epoch 27/100\n",
            "4/4 [==============================] - 5s 1s/step - loss: 0.2277 - acc: 0.9411 - val_loss: 4.4615 - val_acc: 0.2957\n",
            "Epoch 28/100\n",
            "4/4 [==============================] - 5s 1s/step - loss: 0.0976 - acc: 0.9680 - val_loss: 4.4292 - val_acc: 0.2957\n",
            "Epoch 29/100\n",
            "4/4 [==============================] - 5s 1s/step - loss: 0.1123 - acc: 0.9595 - val_loss: 4.4306 - val_acc: 0.2796\n",
            "Epoch 30/100\n",
            "4/4 [==============================] - 5s 1s/step - loss: 0.1682 - acc: 0.9525 - val_loss: 4.4419 - val_acc: 0.3065\n",
            "Epoch 31/100\n",
            "4/4 [==============================] - 6s 1s/step - loss: 0.1038 - acc: 0.9593 - val_loss: 4.4570 - val_acc: 0.2957\n",
            "Epoch 32/100\n",
            "4/4 [==============================] - 5s 1s/step - loss: 0.1351 - acc: 0.9667 - val_loss: 4.4094 - val_acc: 0.2957\n",
            "Epoch 33/100\n",
            "4/4 [==============================] - 6s 1s/step - loss: 0.1098 - acc: 0.9611 - val_loss: 4.4668 - val_acc: 0.3172\n",
            "Epoch 34/100\n",
            "4/4 [==============================] - 5s 1s/step - loss: 0.1792 - acc: 0.9542 - val_loss: 4.4666 - val_acc: 0.3011\n",
            "Epoch 35/100\n",
            "4/4 [==============================] - 5s 2s/step - loss: 0.1057 - acc: 0.9663 - val_loss: 4.4566 - val_acc: 0.2957\n",
            "Epoch 36/100\n",
            "4/4 [==============================] - 5s 2s/step - loss: 0.0965 - acc: 0.9677 - val_loss: 4.4192 - val_acc: 0.3118\n",
            "Epoch 37/100\n",
            "4/4 [==============================] - 5s 1s/step - loss: 0.1281 - acc: 0.9708 - val_loss: 4.4092 - val_acc: 0.3226\n",
            "Epoch 38/100\n",
            "4/4 [==============================] - 6s 1s/step - loss: 0.0856 - acc: 0.9729 - val_loss: 4.4317 - val_acc: 0.3065\n",
            "Epoch 39/100\n",
            "4/4 [==============================] - 5s 1s/step - loss: 0.0630 - acc: 0.9817 - val_loss: 4.4354 - val_acc: 0.3011\n",
            "Epoch 40/100\n",
            "4/4 [==============================] - 6s 1s/step - loss: 0.0575 - acc: 0.9832 - val_loss: 4.3754 - val_acc: 0.3118\n",
            "Epoch 41/100\n",
            "4/4 [==============================] - 5s 1s/step - loss: 0.0991 - acc: 0.9654 - val_loss: 4.4032 - val_acc: 0.3118\n",
            "Epoch 42/100\n",
            "4/4 [==============================] - 6s 1s/step - loss: 0.0783 - acc: 0.9797 - val_loss: 4.3593 - val_acc: 0.3226\n",
            "Epoch 43/100\n",
            "4/4 [==============================] - 5s 1s/step - loss: 0.0721 - acc: 0.9796 - val_loss: 4.3986 - val_acc: 0.3172\n",
            "Epoch 44/100\n",
            "4/4 [==============================] - 5s 1s/step - loss: 0.0434 - acc: 0.9898 - val_loss: 4.3878 - val_acc: 0.3118\n",
            "Epoch 45/100\n",
            "4/4 [==============================] - 5s 1s/step - loss: 0.1161 - acc: 0.9703 - val_loss: 4.4385 - val_acc: 0.3065\n",
            "Epoch 46/100\n",
            "4/4 [==============================] - 5s 1s/step - loss: 0.0666 - acc: 0.9805 - val_loss: 4.4822 - val_acc: 0.3011\n",
            "Epoch 47/100\n",
            "4/4 [==============================] - 6s 1s/step - loss: 0.0979 - acc: 0.9695 - val_loss: 4.4454 - val_acc: 0.3172\n",
            "Epoch 48/100\n",
            "4/4 [==============================] - 5s 1s/step - loss: 0.0429 - acc: 0.9906 - val_loss: 4.4541 - val_acc: 0.3172\n",
            "Epoch 49/100\n",
            "4/4 [==============================] - 5s 1s/step - loss: 0.0834 - acc: 0.9674 - val_loss: 4.4501 - val_acc: 0.3226\n",
            "Epoch 50/100\n",
            "4/4 [==============================] - 5s 1s/step - loss: 0.1183 - acc: 0.9639 - val_loss: 4.4117 - val_acc: 0.3172\n",
            "Epoch 51/100\n",
            "4/4 [==============================] - 5s 1s/step - loss: 0.0805 - acc: 0.9851 - val_loss: 4.4468 - val_acc: 0.3118\n",
            "Epoch 52/100\n",
            "4/4 [==============================] - 5s 1s/step - loss: 0.0670 - acc: 0.9804 - val_loss: 4.4089 - val_acc: 0.3172\n",
            "Epoch 53/100\n",
            "4/4 [==============================] - 5s 1s/step - loss: 0.0264 - acc: 0.9946 - val_loss: 4.4315 - val_acc: 0.3172\n",
            "Epoch 54/100\n",
            "4/4 [==============================] - 5s 1s/step - loss: 0.0437 - acc: 0.9881 - val_loss: 4.4256 - val_acc: 0.3226\n",
            "Epoch 55/100\n",
            "4/4 [==============================] - 5s 1s/step - loss: 0.0422 - acc: 0.9827 - val_loss: 4.3828 - val_acc: 0.3118\n",
            "Epoch 56/100\n",
            "4/4 [==============================] - 5s 1s/step - loss: 0.0703 - acc: 0.9782 - val_loss: 4.3743 - val_acc: 0.3172\n",
            "Epoch 57/100\n",
            "4/4 [==============================] - 6s 1s/step - loss: 0.0818 - acc: 0.9747 - val_loss: 4.3889 - val_acc: 0.3011\n",
            "Epoch 58/100\n",
            "4/4 [==============================] - 5s 1s/step - loss: 0.0564 - acc: 0.9831 - val_loss: 4.3449 - val_acc: 0.3011\n",
            "Epoch 59/100\n",
            "4/4 [==============================] - 5s 1s/step - loss: 0.0477 - acc: 0.9819 - val_loss: 4.3318 - val_acc: 0.3065\n",
            "Epoch 60/100\n",
            "4/4 [==============================] - 5s 1s/step - loss: 0.0342 - acc: 0.9924 - val_loss: 4.3429 - val_acc: 0.3118\n",
            "Epoch 61/100\n",
            "4/4 [==============================] - 5s 1s/step - loss: 0.0570 - acc: 0.9790 - val_loss: 4.3761 - val_acc: 0.3226\n",
            "Epoch 62/100\n",
            "4/4 [==============================] - 6s 1s/step - loss: 0.0462 - acc: 0.9826 - val_loss: 4.3846 - val_acc: 0.3226\n",
            "Epoch 63/100\n",
            "4/4 [==============================] - 6s 1s/step - loss: 0.0614 - acc: 0.9849 - val_loss: 4.3903 - val_acc: 0.3118\n",
            "Epoch 64/100\n",
            "4/4 [==============================] - 6s 1s/step - loss: 0.0335 - acc: 0.9892 - val_loss: 4.3911 - val_acc: 0.3118\n",
            "Epoch 65/100\n",
            "4/4 [==============================] - 5s 1s/step - loss: 0.0459 - acc: 0.9816 - val_loss: 4.4214 - val_acc: 0.3118\n",
            "Epoch 66/100\n",
            "4/4 [==============================] - 5s 1s/step - loss: 0.0565 - acc: 0.9743 - val_loss: 4.4134 - val_acc: 0.3118\n",
            "Epoch 67/100\n",
            "4/4 [==============================] - 5s 1s/step - loss: 0.0239 - acc: 0.9925 - val_loss: 4.4297 - val_acc: 0.3172\n",
            "Epoch 68/100\n",
            "4/4 [==============================] - 5s 1s/step - loss: 0.0340 - acc: 0.9864 - val_loss: 4.4152 - val_acc: 0.3280\n",
            "Epoch 69/100\n",
            "4/4 [==============================] - 5s 1s/step - loss: 0.0397 - acc: 0.9826 - val_loss: 4.4016 - val_acc: 0.3333\n",
            "Epoch 70/100\n",
            "4/4 [==============================] - 5s 1s/step - loss: 0.0229 - acc: 0.9928 - val_loss: 4.3907 - val_acc: 0.3333\n",
            "Epoch 71/100\n",
            "4/4 [==============================] - 6s 2s/step - loss: 0.0382 - acc: 0.9892 - val_loss: 4.4190 - val_acc: 0.3333\n",
            "Epoch 72/100\n",
            "4/4 [==============================] - 5s 1s/step - loss: 0.0187 - acc: 0.9929 - val_loss: 4.4472 - val_acc: 0.3387\n",
            "Epoch 73/100\n",
            "4/4 [==============================] - 5s 1s/step - loss: 0.0394 - acc: 0.9873 - val_loss: 4.4644 - val_acc: 0.3280\n",
            "Epoch 74/100\n",
            "4/4 [==============================] - 5s 1s/step - loss: 0.0507 - acc: 0.9829 - val_loss: 4.4387 - val_acc: 0.3226\n",
            "Epoch 75/100\n",
            "4/4 [==============================] - 5s 1s/step - loss: 0.0345 - acc: 0.9912 - val_loss: 4.4420 - val_acc: 0.3280\n",
            "Epoch 76/100\n",
            "4/4 [==============================] - 5s 1s/step - loss: 0.0491 - acc: 0.9884 - val_loss: 4.4620 - val_acc: 0.3226\n",
            "Epoch 77/100\n",
            "4/4 [==============================] - 5s 1s/step - loss: 0.0395 - acc: 0.9836 - val_loss: 4.4777 - val_acc: 0.3280\n",
            "Epoch 78/100\n",
            "4/4 [==============================] - 5s 1s/step - loss: 0.0353 - acc: 0.9901 - val_loss: 4.4488 - val_acc: 0.3280\n",
            "Epoch 79/100\n",
            "4/4 [==============================] - 5s 1s/step - loss: 0.0617 - acc: 0.9853 - val_loss: 4.4337 - val_acc: 0.3387\n",
            "Epoch 80/100\n",
            "4/4 [==============================] - 5s 1s/step - loss: 0.0380 - acc: 0.9878 - val_loss: 4.4584 - val_acc: 0.3333\n",
            "Epoch 81/100\n",
            "4/4 [==============================] - 5s 1s/step - loss: 0.0309 - acc: 0.9893 - val_loss: 4.4736 - val_acc: 0.3226\n",
            "Epoch 82/100\n",
            "4/4 [==============================] - 5s 1s/step - loss: 0.0226 - acc: 0.9928 - val_loss: 4.4627 - val_acc: 0.3280\n",
            "Epoch 83/100\n",
            "4/4 [==============================] - 5s 1s/step - loss: 0.0478 - acc: 0.9825 - val_loss: 4.4628 - val_acc: 0.3387\n",
            "Epoch 84/100\n",
            "4/4 [==============================] - 5s 1s/step - loss: 0.0225 - acc: 0.9917 - val_loss: 4.4591 - val_acc: 0.3280\n",
            "Epoch 85/100\n",
            "4/4 [==============================] - 5s 1s/step - loss: 0.0395 - acc: 0.9855 - val_loss: 4.4177 - val_acc: 0.3280\n",
            "Epoch 86/100\n",
            "4/4 [==============================] - 5s 2s/step - loss: 0.0358 - acc: 0.9867 - val_loss: 4.4382 - val_acc: 0.3172\n",
            "Epoch 87/100\n",
            "4/4 [==============================] - 5s 1s/step - loss: 0.0316 - acc: 0.9939 - val_loss: 4.4340 - val_acc: 0.3172\n",
            "Epoch 88/100\n",
            "4/4 [==============================] - 5s 1s/step - loss: 0.0264 - acc: 0.9920 - val_loss: 4.4105 - val_acc: 0.3226\n",
            "Epoch 89/100\n",
            "4/4 [==============================] - 6s 1s/step - loss: 0.0248 - acc: 0.9918 - val_loss: 4.4127 - val_acc: 0.3226\n",
            "Epoch 90/100\n",
            "4/4 [==============================] - 5s 1s/step - loss: 0.0592 - acc: 0.9852 - val_loss: 4.4337 - val_acc: 0.3226\n",
            "Epoch 91/100\n",
            "4/4 [==============================] - 5s 1s/step - loss: 0.0168 - acc: 0.9948 - val_loss: 4.4447 - val_acc: 0.3172\n",
            "Epoch 92/100\n",
            "4/4 [==============================] - 5s 1s/step - loss: 0.0121 - acc: 0.9950 - val_loss: 4.4388 - val_acc: 0.3172\n",
            "Epoch 93/100\n",
            "4/4 [==============================] - 5s 1s/step - loss: 0.0268 - acc: 0.9932 - val_loss: 4.4406 - val_acc: 0.3118\n",
            "Epoch 94/100\n",
            "4/4 [==============================] - 6s 1s/step - loss: 0.0417 - acc: 0.9878 - val_loss: 4.4083 - val_acc: 0.3226\n",
            "Epoch 95/100\n",
            "4/4 [==============================] - 5s 1s/step - loss: 0.0577 - acc: 0.9844 - val_loss: 4.4074 - val_acc: 0.3226\n",
            "Epoch 96/100\n",
            "4/4 [==============================] - 6s 1s/step - loss: 0.0285 - acc: 0.9921 - val_loss: 4.4066 - val_acc: 0.3172\n",
            "Epoch 97/100\n",
            "4/4 [==============================] - 5s 1s/step - loss: 0.0251 - acc: 0.9924 - val_loss: 4.4325 - val_acc: 0.3226\n",
            "Epoch 98/100\n",
            "4/4 [==============================] - 5s 1s/step - loss: 0.0250 - acc: 0.9935 - val_loss: 4.4286 - val_acc: 0.3333\n",
            "Epoch 99/100\n",
            "4/4 [==============================] - 5s 1s/step - loss: 0.0102 - acc: 0.9972 - val_loss: 4.4245 - val_acc: 0.3226\n",
            "Epoch 100/100\n",
            "4/4 [==============================] - 5s 1s/step - loss: 0.0351 - acc: 0.9937 - val_loss: 4.4125 - val_acc: 0.3280\n"
          ],
          "name": "stdout"
        }
      ]
    },
    {
      "cell_type": "code",
      "metadata": {
        "colab": {
          "base_uri": "https://localhost:8080/"
        },
        "id": "nfLx7xpSGkMO",
        "outputId": "af696777-c6b5-49cc-ed36-f86f0e8779f7"
      },
      "source": [
        "model.save(\"/content/drive/MyDrive/Research and Project Stuffs/BdSL/Datasets/Dataset_database_VGG19\")"
      ],
      "execution_count": null,
      "outputs": [
        {
          "output_type": "stream",
          "text": [
            "INFO:tensorflow:Assets written to: /content/drive/MyDrive/Research and Project Stuffs/BdSL/Datasets/Dataset_database_VGG19/assets\n"
          ],
          "name": "stdout"
        }
      ]
    },
    {
      "cell_type": "code",
      "metadata": {
        "colab": {
          "base_uri": "https://localhost:8080/"
        },
        "id": "YjS87ZEc0lGu",
        "outputId": "0e14e3d3-4d98-4b00-dd8c-767e79a16f6e"
      },
      "source": [
        "val_it.classes"
      ],
      "execution_count": null,
      "outputs": [
        {
          "output_type": "execute_result",
          "data": {
            "text/plain": [
              "array([ 0,  0,  0, ..., 36, 36, 36], dtype=int32)"
            ]
          },
          "metadata": {
            "tags": []
          },
          "execution_count": 14
        }
      ]
    },
    {
      "cell_type": "code",
      "metadata": {
        "colab": {
          "base_uri": "https://localhost:8080/"
        },
        "id": "PeFawWaJ0leT",
        "outputId": "85a3c552-e021-404f-cd70-b3525971e62c"
      },
      "source": [
        "from sklearn.metrics import classification_report, confusion_matrix\n",
        "import numpy as np\n",
        "num_of_test_samples = val_it.samples\n",
        "batch_size = 128\n",
        "Y_pred = model.predict(val_it)\n",
        "y_pred = np.argmax(Y_pred, axis=1)\n",
        "print('Confusion Matrix')\n",
        "print(confusion_matrix(val_it.classes, y_pred))\n",
        "print('Classification Report')\n",
        "target_names = ['1', '10', '11', '12', '13', '14', '15', '16', '17',  '18', '19', '2', '20', '21',  '22',  '23',  '24',  '25',  '26',  '27','28', '29', '3', '30', '31', '32', '33', '34','35', '36', '38', '4', '5', '6', '7', '8', '9']\n",
        "print(classification_report(val_it.classes, y_pred, target_names=target_names))"
      ],
      "execution_count": null,
      "outputs": [
        {
          "output_type": "stream",
          "text": [
            "Confusion Matrix\n",
            "[[0 3 1 ... 1 1 3]\n",
            " [0 3 1 ... 4 2 4]\n",
            " [0 3 1 ... 2 2 2]\n",
            " ...\n",
            " [4 3 3 ... 2 2 0]\n",
            " [0 3 4 ... 2 4 1]\n",
            " [2 3 2 ... 0 3 2]]\n",
            "Classification Report\n",
            "              precision    recall  f1-score   support\n",
            "\n",
            "           1       0.00      0.00      0.00        72\n",
            "          10       0.04      0.04      0.04        72\n",
            "          11       0.01      0.01      0.01        72\n",
            "          12       0.03      0.03      0.03        72\n",
            "          13       0.00      0.00      0.00        72\n",
            "          14       0.03      0.03      0.03        72\n",
            "          15       0.01      0.01      0.01        72\n",
            "          16       0.03      0.03      0.03        72\n",
            "          17       0.03      0.03      0.03        72\n",
            "          18       0.06      0.06      0.06        72\n",
            "          19       0.06      0.06      0.06        72\n",
            "           2       0.07      0.07      0.07        72\n",
            "          20       0.04      0.04      0.04        72\n",
            "          21       0.03      0.03      0.03        72\n",
            "          22       0.06      0.06      0.06        72\n",
            "          23       0.00      0.00      0.00        72\n",
            "          24       0.06      0.07      0.07        72\n",
            "          25       0.04      0.04      0.04        72\n",
            "          26       0.03      0.03      0.03        72\n",
            "          27       0.03      0.03      0.03        72\n",
            "          28       0.04      0.04      0.04        72\n",
            "          29       0.04      0.04      0.04        72\n",
            "           3       0.04      0.04      0.04        72\n",
            "          30       0.01      0.01      0.01        72\n",
            "          31       0.03      0.03      0.03        72\n",
            "          32       0.01      0.01      0.01        72\n",
            "          33       0.03      0.03      0.03        72\n",
            "          34       0.01      0.01      0.01        72\n",
            "          35       0.01      0.01      0.01        72\n",
            "          36       0.06      0.06      0.06        72\n",
            "          38       0.01      0.01      0.01        72\n",
            "           4       0.04      0.04      0.04        72\n",
            "           5       0.01      0.01      0.01        72\n",
            "           6       0.06      0.06      0.06        72\n",
            "           7       0.03      0.03      0.03        72\n",
            "           8       0.05      0.06      0.05        72\n",
            "           9       0.03      0.03      0.03        72\n",
            "\n",
            "    accuracy                           0.03      2664\n",
            "   macro avg       0.03      0.03      0.03      2664\n",
            "weighted avg       0.03      0.03      0.03      2664\n",
            "\n"
          ],
          "name": "stdout"
        }
      ]
    },
    {
      "cell_type": "code",
      "metadata": {
        "colab": {
          "base_uri": "https://localhost:8080/"
        },
        "id": "0f7UTYKS4qKZ",
        "outputId": "ba698d83-33db-45e3-e599-cc628c471a4c"
      },
      "source": [
        "val_it.classes"
      ],
      "execution_count": null,
      "outputs": [
        {
          "output_type": "execute_result",
          "data": {
            "text/plain": [
              "array([ 0,  0,  0, ..., 36, 36, 36], dtype=int32)"
            ]
          },
          "metadata": {
            "tags": []
          },
          "execution_count": 27
        }
      ]
    },
    {
      "cell_type": "code",
      "metadata": {
        "id": "0tWPdkQ5BVKo"
      },
      "source": [
        "import keras\n",
        "import numpy as np\n",
        "model = keras.models.load_model(\"/content/drive/MyDrive/Research and Project Stuffs/BdSL/Datasets/Dataset_2_VGG19\")"
      ],
      "execution_count": null,
      "outputs": []
    },
    {
      "cell_type": "code",
      "metadata": {
        "colab": {
          "base_uri": "https://localhost:8080/"
        },
        "id": "FyBKF8HuCDtt",
        "outputId": "0f49a4a9-ed14-4d65-d010-fc7d0e6a91b3"
      },
      "source": [
        "import keras\n",
        "import numpy as np\n",
        "y_img_batch, y_class_batch = val_it[0]\n",
        "y_pred = np.argmax(model.predict(y_img_batch),-1)\n",
        "y_true = np.argmax(y_class_batch,-1)\n",
        "print(sum(y_pred==y_true)/batch_size)"
      ],
      "execution_count": null,
      "outputs": [
        {
          "output_type": "stream",
          "text": [
            "0.3279569892473118\n"
          ],
          "name": "stdout"
        }
      ]
    },
    {
      "cell_type": "code",
      "metadata": {
        "colab": {
          "base_uri": "https://localhost:8080/"
        },
        "id": "qSKJE8thCVBz",
        "outputId": "399b3888-4ec3-4236-d7d0-4ff8700b61c8"
      },
      "source": [
        "test_score = model.evaluate_generator(val_it, batch_size)\n",
        "\n",
        "\n",
        "\n",
        "print(\"[INFO] accuracy: {:.2f}%\".format(test_score[1] * 100)) \n",
        "\n",
        "print(\"[INFO] Loss: \",test_score[0])"
      ],
      "execution_count": null,
      "outputs": [
        {
          "output_type": "stream",
          "text": [
            "/usr/local/lib/python3.7/dist-packages/tensorflow/python/keras/engine/training.py:1877: UserWarning: `Model.evaluate_generator` is deprecated and will be removed in a future version. Please use `Model.evaluate`, which supports generators.\n",
            "  warnings.warn('`Model.evaluate_generator` is deprecated and '\n"
          ],
          "name": "stderr"
        },
        {
          "output_type": "stream",
          "text": [
            "WARNING:tensorflow:Your input ran out of data; interrupting training. Make sure that your dataset or generator can generate at least `steps_per_epoch * epochs` batches (in this case, 186 batches). You may need to use the repeat() function when building your dataset.\n",
            "[INFO] accuracy: 32.80%\n",
            "[INFO] Loss:  4.412536144256592\n"
          ],
          "name": "stdout"
        }
      ]
    },
    {
      "cell_type": "code",
      "metadata": {
        "id": "y4Rs57JULgCL"
      },
      "source": [
        "import sys\n",
        "\n",
        "import numpy as np\n",
        "\n",
        "from keras import backend as K\n",
        "\n",
        "from keras.models import Sequential\n",
        "\n",
        "from keras.layers.core import Dense, Dropout, Activation, Flatten\n",
        "\n",
        "from keras.layers.convolutional import Convolution2D, MaxPooling2D\n",
        "\n",
        "from keras.preprocessing.image import ImageDataGenerator\n",
        "\n",
        "from sklearn.metrics import classification_report, confusion_matrix\n",
        "\n",
        "from keras.layers import Conv2D, Flatten, Dense, MaxPool2D,MaxPooling2D, Activation, Dropout, BatchNormalization, Input\n",
        "\n",
        "import matplotlib.pyplot as plt\n",
        "\n",
        "from keras.optimizers import Adam\n",
        "\n",
        "import itertools "
      ],
      "execution_count": null,
      "outputs": []
    },
    {
      "cell_type": "code",
      "metadata": {
        "id": "mym2oImJLkhL"
      },
      "source": [
        "#Plot the confusion matrix. Set Normalize = True/False\n",
        "\n",
        "\n",
        "\n",
        "def plot_confusion_matrix(cm, classes, normalize=True, title='Confusion matrix', cmap=plt.cm.Blues):\n",
        "\n",
        "    \"\"\"\n",
        "\n",
        "    This function prints and plots the confusion matrix.\n",
        "\n",
        "    Normalization can be applied by setting `normalize=True`.\n",
        "\n",
        "    \"\"\"\n",
        "\n",
        "    plt.figure(figsize=(10,10))\n",
        "\n",
        "\n",
        "\n",
        "    plt.imshow(cm, interpolation='nearest', cmap=cmap)\n",
        "\n",
        "    plt.title(title)\n",
        "\n",
        "    plt.colorbar()\n",
        "\n",
        "\n",
        "\n",
        "    tick_marks = np.arange(len(classes))\n",
        "\n",
        "    plt.xticks(tick_marks, classes, rotation=45)\n",
        "\n",
        "    plt.yticks(tick_marks, classes)\n",
        "\n",
        "\n",
        "\n",
        "    if normalize:\n",
        "\n",
        "        cm = cm.astype('float') / cm.sum(axis=1)[:, np.newaxis]\n",
        "\n",
        "        cm = np.around(cm, decimals=2)\n",
        "\n",
        "        cm[np.isnan(cm)] = 0.0\n",
        "\n",
        "        print(\"Normalized confusion matrix\")\n",
        "\n",
        "    else:\n",
        "\n",
        "        print('Confusion matrix, without normalization')\n",
        "\n",
        "    thresh = cm.max() / 2.\n",
        "\n",
        "    for i, j in itertools.product(range(cm.shape[0]), range(cm.shape[1])):\n",
        "\n",
        "        plt.text(j, i, cm[i, j],\n",
        "\n",
        "                 horizontalalignment=\"center\",\n",
        "\n",
        "                 color=\"white\" if cm[i, j] > thresh else \"black\")\n",
        "\n",
        "    plt.tight_layout()\n",
        "\n",
        "    plt.ylabel('True label')\n",
        "\n",
        "    plt.xlabel('Predicted label')"
      ],
      "execution_count": null,
      "outputs": []
    },
    {
      "cell_type": "code",
      "metadata": {
        "id": "7gSq4LyqLnII",
        "colab": {
          "base_uri": "https://localhost:8080/"
        },
        "outputId": "0ef53263-e13d-4ee9-c53a-a94b4eba803a"
      },
      "source": [
        "#Print the Target names\n",
        "\n",
        "\n",
        "\n",
        "target_names = []\n",
        "\n",
        "for key in val_it.class_indices:\n",
        "\n",
        "    target_names.append(key)\n",
        "\n",
        "\n",
        "\n",
        "print(target_names)"
      ],
      "execution_count": null,
      "outputs": [
        {
          "output_type": "stream",
          "text": [
            "['1', '10', '11', '12', '13', '14', '15', '16', '17', '18', '19', '2', '20', '21', '22', '23', '24', '25', '26', '27', '28', '29', '3', '30', '31', '32', '33', '34', '35', '36', '4', '5', '6', '7', '8', '9']\n"
          ],
          "name": "stdout"
        }
      ]
    },
    {
      "cell_type": "code",
      "metadata": {
        "id": "KfSKzZtBLrzz",
        "colab": {
          "base_uri": "https://localhost:8080/",
          "height": 745
        },
        "outputId": "3f38b373-0b33-4e12-da1a-02c8ebac4869"
      },
      "source": [
        "from sklearn.metrics import classification_report, confusion_matrix\n",
        "cm = confusion_matrix(y_true,y_pred)\n",
        "plot_confusion_matrix(cm, target_names, title='Confusion Matrix')"
      ],
      "execution_count": null,
      "outputs": [
        {
          "output_type": "stream",
          "text": [
            "Normalized confusion matrix\n"
          ],
          "name": "stdout"
        },
        {
          "output_type": "display_data",
          "data": {
            "image/png": "[encoded data removed]",
            "text/plain": [
              "<Figure size 720x720 with 2 Axes>"
            ]
          },
          "metadata": {
            "tags": [],
            "needs_background": "light"
          }
        }
      ]
    },
    {
      "cell_type": "code",
      "metadata": {
        "id": "Gcda_EraLzrR",
        "colab": {
          "base_uri": "https://localhost:8080/"
        },
        "outputId": "18e82cd6-7e79-405b-d342-d69e7ac396c9"
      },
      "source": [
        "#Print Classification Report\n",
        "\n",
        "print('Classification Report')\n",
        "\n",
        "print(classification_report(y_true, y_pred))"
      ],
      "execution_count": null,
      "outputs": [
        {
          "output_type": "stream",
          "text": [
            "Classification Report\n",
            "              precision    recall  f1-score   support\n",
            "\n",
            "           0       0.67      0.33      0.44         6\n",
            "           1       0.20      0.17      0.18         6\n",
            "           2       0.50      0.60      0.55         5\n",
            "           3       0.00      0.00      0.00         4\n",
            "           4       0.50      0.40      0.44         5\n",
            "           5       0.00      0.00      0.00         6\n",
            "           6       0.33      0.20      0.25         5\n",
            "           7       0.38      0.83      0.53         6\n",
            "           8       1.00      0.60      0.75         5\n",
            "           9       0.50      0.50      0.50         6\n",
            "          10       0.50      0.25      0.33         4\n",
            "          11       1.00      0.40      0.57         5\n",
            "          12       1.00      0.20      0.33         5\n",
            "          13       0.21      0.60      0.32         5\n",
            "          14       0.00      0.00      0.00         5\n",
            "          15       1.00      0.40      0.57         5\n",
            "          16       0.75      0.50      0.60         6\n",
            "          17       0.29      0.40      0.33         5\n",
            "          18       0.14      0.20      0.17         5\n",
            "          19       0.33      0.20      0.25         5\n",
            "          20       0.60      0.60      0.60         5\n",
            "          21       0.50      0.40      0.44         5\n",
            "          22       0.33      0.43      0.38         7\n",
            "          23       0.25      0.20      0.22         5\n",
            "          24       0.14      0.20      0.17         5\n",
            "          25       0.12      0.20      0.15         5\n",
            "          26       0.00      0.00      0.00         5\n",
            "          27       0.42      1.00      0.59         5\n",
            "          28       0.33      0.25      0.29         4\n",
            "          29       0.33      0.20      0.25         5\n",
            "          30       0.33      0.20      0.25         5\n",
            "          31       0.00      0.00      0.00         5\n",
            "          32       0.27      0.50      0.35         6\n",
            "          33       0.00      0.00      0.00         5\n",
            "          34       0.20      0.20      0.20         5\n",
            "          35       0.29      0.40      0.33         5\n",
            "\n",
            "    accuracy                           0.33       186\n",
            "   macro avg       0.37      0.32      0.32       186\n",
            "weighted avg       0.38      0.33      0.32       186\n",
            "\n"
          ],
          "name": "stdout"
        }
      ]
    },
    {
      "cell_type": "code",
      "metadata": {
        "id": "X2PIw23kL4eT"
      },
      "source": [
        ""
      ],
      "execution_count": null,
      "outputs": []
    }
  ]
}