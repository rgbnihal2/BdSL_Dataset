{
  "nbformat": 4,
  "nbformat_minor": 0,
  "metadata": {
    "colab": {
      "name": "BdSL ZSL.ipynb",
      "provenance": [],
      "collapsed_sections": [],
      "machine_shape": "hm"
    },
    "kernelspec": {
      "name": "python3",
      "display_name": "Python 3"
    },
    "accelerator": "GPU"
  },
  "cells": [
    {
      "cell_type": "markdown",
      "metadata": {
        "id": "4cbgwZWWfWpp"
      },
      "source": [
        "# New Section"
      ]
    },
    {
      "cell_type": "code",
      "metadata": {
        "colab": {
          "base_uri": "https://localhost:8080/"
        },
        "id": "72ALTFdRiLB7",
        "outputId": "bb3c4269-2841-46f9-892c-e51af60133a8"
      },
      "source": [
        "from google.colab import drive\n",
        "drive.mount('/content/drive')"
      ],
      "execution_count": null,
      "outputs": [
        {
          "output_type": "stream",
          "text": [
            "Mounted at /content/drive\n"
          ],
          "name": "stdout"
        }
      ]
    },
    {
      "cell_type": "code",
      "metadata": {
        "colab": {
          "base_uri": "https://localhost:8080/"
        },
        "id": "_qUlBbJoirLN",
        "outputId": "030ea8d3-dbbd-400a-f2d0-c4e48ac1d0a1"
      },
      "source": [
        "!pip install hdf5storage"
      ],
      "execution_count": null,
      "outputs": [
        {
          "output_type": "stream",
          "text": [
            "Collecting hdf5storage\n",
            "\u001b[?25l  Downloading https://files.pythonhosted.org/packages/79/e0/5dd25068a231cd817265529368aca2f918049b290dcb2fd9b24ce136adf4/hdf5storage-0.1.15-py2.py3-none-any.whl (56kB)\n",
            "\r\u001b[K     |█████▊                          | 10kB 28.1MB/s eta 0:00:01\r\u001b[K     |███████████▌                    | 20kB 18.1MB/s eta 0:00:01\r\u001b[K     |█████████████████▎              | 30kB 14.7MB/s eta 0:00:01\r\u001b[K     |███████████████████████         | 40kB 13.2MB/s eta 0:00:01\r\u001b[K     |████████████████████████████▉   | 51kB 8.4MB/s eta 0:00:01\r\u001b[K     |████████████████████████████████| 61kB 5.3MB/s \n",
            "\u001b[?25hRequirement already satisfied: h5py>=2.1; python_version >= \"3.3\" in /usr/local/lib/python3.6/dist-packages (from hdf5storage) (2.10.0)\n",
            "Requirement already satisfied: numpy; python_version >= \"3.4\" in /usr/local/lib/python3.6/dist-packages (from hdf5storage) (1.19.5)\n",
            "Requirement already satisfied: six in /usr/local/lib/python3.6/dist-packages (from h5py>=2.1; python_version >= \"3.3\"->hdf5storage) (1.15.0)\n",
            "Installing collected packages: hdf5storage\n",
            "Successfully installed hdf5storage-0.1.15\n"
          ],
          "name": "stdout"
        }
      ]
    },
    {
      "cell_type": "code",
      "metadata": {
        "id": "tAb77yZ9fzMG"
      },
      "source": [
        "from keras.models import Sequential, Model\n",
        "from keras.layers import Dense\n",
        "from keras.layers import Flatten\n",
        "from keras.layers.convolutional import Conv2D\n",
        "from keras.layers.convolutional import MaxPooling2D\n",
        "from keras import backend as K\n",
        "from keras.utils import np_utils, to_categorical\n",
        "from sklearn.model_selection import train_test_split\n",
        "from sklearn.preprocessing import MinMaxScaler\n",
        "from sklearn.metrics import accuracy_score\n",
        "from scipy.spatial import distance\n",
        "import numpy as np\n",
        "import pandas as pd \n",
        "import matplotlib.pyplot as plt\n",
        "import string\n",
        "from scipy.io import loadmat\n",
        "import hdf5storage"
      ],
      "execution_count": null,
      "outputs": []
    },
    {
      "cell_type": "code",
      "metadata": {
        "id": "pafL7Li0jyXW",
        "colab": {
          "base_uri": "https://localhost:8080/"
        },
        "outputId": "b0b09001-6ff2-41e6-812a-ed2b8f651bc5"
      },
      "source": [
        "x_train = hdf5storage.loadmat(\"/content/drive/MyDrive/Research and Project Stuffs/BdSL/features.mat\")\n",
        "x_train.keys()"
      ],
      "execution_count": null,
      "outputs": [
        {
          "output_type": "execute_result",
          "data": {
            "text/plain": [
              "dict_keys(['__header__', '__version__', '__globals__', 'features'])"
            ]
          },
          "metadata": {
            "tags": []
          },
          "execution_count": 4
        }
      ]
    },
    {
      "cell_type": "code",
      "metadata": {
        "id": "Pl03-jiZiihX"
      },
      "source": [
        "x_train = x_train['features']"
      ],
      "execution_count": null,
      "outputs": []
    },
    {
      "cell_type": "code",
      "metadata": {
        "colab": {
          "base_uri": "https://localhost:8080/"
        },
        "id": "gPKxj6eQi8K3",
        "outputId": "f6b7b3de-bfab-4cd9-f448-72f639d1d3be"
      },
      "source": [
        "x_train.shape"
      ],
      "execution_count": null,
      "outputs": [
        {
          "output_type": "execute_result",
          "data": {
            "text/plain": [
              "(20977, 1920)"
            ]
          },
          "metadata": {
            "tags": []
          },
          "execution_count": 64
        }
      ]
    },
    {
      "cell_type": "code",
      "metadata": {
        "id": "7PH2xjbDjWnf"
      },
      "source": [
        "data = pd.read_csv('/content/drive/MyDrive/Research and Project Stuffs/BdSL/fullTable2.csv',low_memory=False,index_col=False)"
      ],
      "execution_count": null,
      "outputs": []
    },
    {
      "cell_type": "code",
      "metadata": {
        "colab": {
          "base_uri": "https://localhost:8080/",
          "height": 246
        },
        "id": "AYz7sTu8kQln",
        "outputId": "6c28d3c3-9bf5-47c4-916e-9c253d68105a"
      },
      "source": [
        "data.head()"
      ],
      "execution_count": null,
      "outputs": [
        {
          "output_type": "execute_result",
          "data": {
            "text/html": [
              "<div>\n",
              "<style scoped>\n",
              "    .dataframe tbody tr th:only-of-type {\n",
              "        vertical-align: middle;\n",
              "    }\n",
              "\n",
              "    .dataframe tbody tr th {\n",
              "        vertical-align: top;\n",
              "    }\n",
              "\n",
              "    .dataframe thead th {\n",
              "        text-align: right;\n",
              "    }\n",
              "</style>\n",
              "<table border=\"1\" class=\"dataframe\">\n",
              "  <thead>\n",
              "    <tr style=\"text-align: right;\">\n",
              "      <th></th>\n",
              "      <th>0</th>\n",
              "      <th>48</th>\n",
              "      <th>49</th>\n",
              "      <th>50</th>\n",
              "      <th>53</th>\n",
              "      <th>57</th>\n",
              "      <th>58</th>\n",
              "      <th>52</th>\n",
              "      <th>46</th>\n",
              "      <th>47</th>\n",
              "      <th>49.1</th>\n",
              "      <th>54</th>\n",
              "      <th>54.1</th>\n",
              "      <th>51</th>\n",
              "      <th>47.1</th>\n",
              "      <th>43</th>\n",
              "      <th>42</th>\n",
              "      <th>45</th>\n",
              "      <th>51.1</th>\n",
              "      <th>58.1</th>\n",
              "      <th>54.2</th>\n",
              "      <th>54.3</th>\n",
              "      <th>56</th>\n",
              "      <th>54.4</th>\n",
              "      <th>50.1</th>\n",
              "      <th>50.2</th>\n",
              "      <th>50.3</th>\n",
              "      <th>51.2</th>\n",
              "      <th>53.1</th>\n",
              "      <th>51.3</th>\n",
              "      <th>52.1</th>\n",
              "      <th>56.1</th>\n",
              "      <th>54.5</th>\n",
              "      <th>58.2</th>\n",
              "      <th>60</th>\n",
              "      <th>59</th>\n",
              "      <th>55</th>\n",
              "      <th>54.6</th>\n",
              "      <th>57.1</th>\n",
              "      <th>56.2</th>\n",
              "      <th>...</th>\n",
              "      <th>73.154</th>\n",
              "      <th>73.155</th>\n",
              "      <th>75.144</th>\n",
              "      <th>74.111</th>\n",
              "      <th>72.137</th>\n",
              "      <th>73.156</th>\n",
              "      <th>73.157</th>\n",
              "      <th>72.138</th>\n",
              "      <th>72.139</th>\n",
              "      <th>74.112</th>\n",
              "      <th>78.154</th>\n",
              "      <th>79.105</th>\n",
              "      <th>78.155</th>\n",
              "      <th>79.106</th>\n",
              "      <th>80.64</th>\n",
              "      <th>78.156</th>\n",
              "      <th>76.164</th>\n",
              "      <th>76.165</th>\n",
              "      <th>77.179</th>\n",
              "      <th>80.65</th>\n",
              "      <th>79.107</th>\n",
              "      <th>80.66</th>\n",
              "      <th>81.32</th>\n",
              "      <th>80.67</th>\n",
              "      <th>80.68</th>\n",
              "      <th>79.108</th>\n",
              "      <th>80.69</th>\n",
              "      <th>81.33</th>\n",
              "      <th>78.157</th>\n",
              "      <th>75.145</th>\n",
              "      <th>75.146</th>\n",
              "      <th>76.166</th>\n",
              "      <th>76.167</th>\n",
              "      <th>76.168</th>\n",
              "      <th>79.109</th>\n",
              "      <th>79.110</th>\n",
              "      <th>76.169</th>\n",
              "      <th>76.170</th>\n",
              "      <th>79.111</th>\n",
              "      <th>80.70</th>\n",
              "    </tr>\n",
              "  </thead>\n",
              "  <tbody>\n",
              "    <tr>\n",
              "      <th>0</th>\n",
              "      <td>0.0</td>\n",
              "      <td>191.0</td>\n",
              "      <td>190.0</td>\n",
              "      <td>191.0</td>\n",
              "      <td>190.0</td>\n",
              "      <td>192.0</td>\n",
              "      <td>193.0</td>\n",
              "      <td>191.0</td>\n",
              "      <td>187.0</td>\n",
              "      <td>186.0</td>\n",
              "      <td>184.0</td>\n",
              "      <td>184.0</td>\n",
              "      <td>182.0</td>\n",
              "      <td>181.0</td>\n",
              "      <td>179.0</td>\n",
              "      <td>180.0</td>\n",
              "      <td>178.0</td>\n",
              "      <td>176.0</td>\n",
              "      <td>176.0</td>\n",
              "      <td>176.0</td>\n",
              "      <td>176.0</td>\n",
              "      <td>175.0</td>\n",
              "      <td>175.0</td>\n",
              "      <td>174.0</td>\n",
              "      <td>176.0</td>\n",
              "      <td>175.0</td>\n",
              "      <td>174.0</td>\n",
              "      <td>174.0</td>\n",
              "      <td>174.0</td>\n",
              "      <td>173.0</td>\n",
              "      <td>173.0</td>\n",
              "      <td>173.0</td>\n",
              "      <td>173.0</td>\n",
              "      <td>171.0</td>\n",
              "      <td>171.0</td>\n",
              "      <td>170.0</td>\n",
              "      <td>170.0</td>\n",
              "      <td>171.0</td>\n",
              "      <td>172.0</td>\n",
              "      <td>171.0</td>\n",
              "      <td>...</td>\n",
              "      <td>163.0</td>\n",
              "      <td>163.0</td>\n",
              "      <td>163.0</td>\n",
              "      <td>163.0</td>\n",
              "      <td>164.0</td>\n",
              "      <td>162.0</td>\n",
              "      <td>161.0</td>\n",
              "      <td>162.0</td>\n",
              "      <td>162.0</td>\n",
              "      <td>162.0</td>\n",
              "      <td>161.0</td>\n",
              "      <td>160.0</td>\n",
              "      <td>162.0</td>\n",
              "      <td>161.0</td>\n",
              "      <td>159.0</td>\n",
              "      <td>158.0</td>\n",
              "      <td>156.0</td>\n",
              "      <td>156.0</td>\n",
              "      <td>153.0</td>\n",
              "      <td>152.0</td>\n",
              "      <td>151.0</td>\n",
              "      <td>149.0</td>\n",
              "      <td>148.0</td>\n",
              "      <td>145.0</td>\n",
              "      <td>141.0</td>\n",
              "      <td>140.0</td>\n",
              "      <td>137.0</td>\n",
              "      <td>135.0</td>\n",
              "      <td>131.0</td>\n",
              "      <td>129.0</td>\n",
              "      <td>123.0</td>\n",
              "      <td>121.0</td>\n",
              "      <td>117.0</td>\n",
              "      <td>112.0</td>\n",
              "      <td>103.0</td>\n",
              "      <td>54.0</td>\n",
              "      <td>45.0</td>\n",
              "      <td>41.0</td>\n",
              "      <td>42.0</td>\n",
              "      <td>38.0</td>\n",
              "    </tr>\n",
              "    <tr>\n",
              "      <th>1</th>\n",
              "      <td>0.0</td>\n",
              "      <td>197.0</td>\n",
              "      <td>198.0</td>\n",
              "      <td>196.0</td>\n",
              "      <td>195.0</td>\n",
              "      <td>195.0</td>\n",
              "      <td>194.0</td>\n",
              "      <td>193.0</td>\n",
              "      <td>194.0</td>\n",
              "      <td>195.0</td>\n",
              "      <td>195.0</td>\n",
              "      <td>194.0</td>\n",
              "      <td>194.0</td>\n",
              "      <td>194.0</td>\n",
              "      <td>194.0</td>\n",
              "      <td>194.0</td>\n",
              "      <td>193.0</td>\n",
              "      <td>193.0</td>\n",
              "      <td>193.0</td>\n",
              "      <td>193.0</td>\n",
              "      <td>193.0</td>\n",
              "      <td>191.0</td>\n",
              "      <td>189.0</td>\n",
              "      <td>187.0</td>\n",
              "      <td>186.0</td>\n",
              "      <td>185.0</td>\n",
              "      <td>183.0</td>\n",
              "      <td>182.0</td>\n",
              "      <td>182.0</td>\n",
              "      <td>181.0</td>\n",
              "      <td>181.0</td>\n",
              "      <td>180.0</td>\n",
              "      <td>179.0</td>\n",
              "      <td>178.0</td>\n",
              "      <td>176.0</td>\n",
              "      <td>175.0</td>\n",
              "      <td>175.0</td>\n",
              "      <td>174.0</td>\n",
              "      <td>172.0</td>\n",
              "      <td>171.0</td>\n",
              "      <td>...</td>\n",
              "      <td>188.0</td>\n",
              "      <td>188.0</td>\n",
              "      <td>188.0</td>\n",
              "      <td>188.0</td>\n",
              "      <td>186.0</td>\n",
              "      <td>186.0</td>\n",
              "      <td>187.0</td>\n",
              "      <td>187.0</td>\n",
              "      <td>185.0</td>\n",
              "      <td>184.0</td>\n",
              "      <td>184.0</td>\n",
              "      <td>183.0</td>\n",
              "      <td>181.0</td>\n",
              "      <td>179.0</td>\n",
              "      <td>179.0</td>\n",
              "      <td>178.0</td>\n",
              "      <td>177.0</td>\n",
              "      <td>173.0</td>\n",
              "      <td>172.0</td>\n",
              "      <td>170.0</td>\n",
              "      <td>166.0</td>\n",
              "      <td>157.0</td>\n",
              "      <td>154.0</td>\n",
              "      <td>136.0</td>\n",
              "      <td>95.0</td>\n",
              "      <td>91.0</td>\n",
              "      <td>86.0</td>\n",
              "      <td>82.0</td>\n",
              "      <td>78.0</td>\n",
              "      <td>74.0</td>\n",
              "      <td>74.0</td>\n",
              "      <td>75.0</td>\n",
              "      <td>75.0</td>\n",
              "      <td>74.0</td>\n",
              "      <td>74.0</td>\n",
              "      <td>74.0</td>\n",
              "      <td>73.0</td>\n",
              "      <td>73.0</td>\n",
              "      <td>71.0</td>\n",
              "      <td>69.0</td>\n",
              "    </tr>\n",
              "    <tr>\n",
              "      <th>2</th>\n",
              "      <td>0.0</td>\n",
              "      <td>114.0</td>\n",
              "      <td>107.0</td>\n",
              "      <td>110.0</td>\n",
              "      <td>115.0</td>\n",
              "      <td>118.0</td>\n",
              "      <td>110.0</td>\n",
              "      <td>112.0</td>\n",
              "      <td>112.0</td>\n",
              "      <td>119.0</td>\n",
              "      <td>119.0</td>\n",
              "      <td>114.0</td>\n",
              "      <td>98.0</td>\n",
              "      <td>90.0</td>\n",
              "      <td>95.0</td>\n",
              "      <td>99.0</td>\n",
              "      <td>104.0</td>\n",
              "      <td>106.0</td>\n",
              "      <td>101.0</td>\n",
              "      <td>102.0</td>\n",
              "      <td>102.0</td>\n",
              "      <td>94.0</td>\n",
              "      <td>93.0</td>\n",
              "      <td>96.0</td>\n",
              "      <td>85.0</td>\n",
              "      <td>49.0</td>\n",
              "      <td>75.0</td>\n",
              "      <td>104.0</td>\n",
              "      <td>105.0</td>\n",
              "      <td>104.0</td>\n",
              "      <td>95.0</td>\n",
              "      <td>99.0</td>\n",
              "      <td>107.0</td>\n",
              "      <td>105.0</td>\n",
              "      <td>95.0</td>\n",
              "      <td>96.0</td>\n",
              "      <td>103.0</td>\n",
              "      <td>101.0</td>\n",
              "      <td>103.0</td>\n",
              "      <td>104.0</td>\n",
              "      <td>...</td>\n",
              "      <td>89.0</td>\n",
              "      <td>91.0</td>\n",
              "      <td>93.0</td>\n",
              "      <td>87.0</td>\n",
              "      <td>80.0</td>\n",
              "      <td>77.0</td>\n",
              "      <td>77.0</td>\n",
              "      <td>78.0</td>\n",
              "      <td>80.0</td>\n",
              "      <td>82.0</td>\n",
              "      <td>77.0</td>\n",
              "      <td>83.0</td>\n",
              "      <td>81.0</td>\n",
              "      <td>81.0</td>\n",
              "      <td>85.0</td>\n",
              "      <td>84.0</td>\n",
              "      <td>83.0</td>\n",
              "      <td>89.0</td>\n",
              "      <td>91.0</td>\n",
              "      <td>80.0</td>\n",
              "      <td>85.0</td>\n",
              "      <td>79.0</td>\n",
              "      <td>74.0</td>\n",
              "      <td>70.0</td>\n",
              "      <td>68.0</td>\n",
              "      <td>69.0</td>\n",
              "      <td>71.0</td>\n",
              "      <td>69.0</td>\n",
              "      <td>64.0</td>\n",
              "      <td>62.0</td>\n",
              "      <td>62.0</td>\n",
              "      <td>64.0</td>\n",
              "      <td>58.0</td>\n",
              "      <td>59.0</td>\n",
              "      <td>54.0</td>\n",
              "      <td>50.0</td>\n",
              "      <td>48.0</td>\n",
              "      <td>49.0</td>\n",
              "      <td>45.0</td>\n",
              "      <td>43.0</td>\n",
              "    </tr>\n",
              "    <tr>\n",
              "      <th>3</th>\n",
              "      <td>0.0</td>\n",
              "      <td>169.0</td>\n",
              "      <td>170.0</td>\n",
              "      <td>171.0</td>\n",
              "      <td>173.0</td>\n",
              "      <td>173.0</td>\n",
              "      <td>173.0</td>\n",
              "      <td>172.0</td>\n",
              "      <td>175.0</td>\n",
              "      <td>177.0</td>\n",
              "      <td>176.0</td>\n",
              "      <td>175.0</td>\n",
              "      <td>176.0</td>\n",
              "      <td>178.0</td>\n",
              "      <td>178.0</td>\n",
              "      <td>178.0</td>\n",
              "      <td>179.0</td>\n",
              "      <td>180.0</td>\n",
              "      <td>178.0</td>\n",
              "      <td>175.0</td>\n",
              "      <td>181.0</td>\n",
              "      <td>182.0</td>\n",
              "      <td>183.0</td>\n",
              "      <td>183.0</td>\n",
              "      <td>184.0</td>\n",
              "      <td>184.0</td>\n",
              "      <td>184.0</td>\n",
              "      <td>186.0</td>\n",
              "      <td>185.0</td>\n",
              "      <td>185.0</td>\n",
              "      <td>185.0</td>\n",
              "      <td>185.0</td>\n",
              "      <td>185.0</td>\n",
              "      <td>185.0</td>\n",
              "      <td>184.0</td>\n",
              "      <td>185.0</td>\n",
              "      <td>184.0</td>\n",
              "      <td>181.0</td>\n",
              "      <td>176.0</td>\n",
              "      <td>171.0</td>\n",
              "      <td>...</td>\n",
              "      <td>117.0</td>\n",
              "      <td>117.0</td>\n",
              "      <td>117.0</td>\n",
              "      <td>119.0</td>\n",
              "      <td>119.0</td>\n",
              "      <td>120.0</td>\n",
              "      <td>119.0</td>\n",
              "      <td>119.0</td>\n",
              "      <td>121.0</td>\n",
              "      <td>119.0</td>\n",
              "      <td>120.0</td>\n",
              "      <td>119.0</td>\n",
              "      <td>120.0</td>\n",
              "      <td>116.0</td>\n",
              "      <td>115.0</td>\n",
              "      <td>113.0</td>\n",
              "      <td>112.0</td>\n",
              "      <td>112.0</td>\n",
              "      <td>112.0</td>\n",
              "      <td>109.0</td>\n",
              "      <td>105.0</td>\n",
              "      <td>104.0</td>\n",
              "      <td>102.0</td>\n",
              "      <td>96.0</td>\n",
              "      <td>88.0</td>\n",
              "      <td>83.0</td>\n",
              "      <td>85.0</td>\n",
              "      <td>79.0</td>\n",
              "      <td>75.0</td>\n",
              "      <td>71.0</td>\n",
              "      <td>69.0</td>\n",
              "      <td>67.0</td>\n",
              "      <td>67.0</td>\n",
              "      <td>65.0</td>\n",
              "      <td>68.0</td>\n",
              "      <td>68.0</td>\n",
              "      <td>63.0</td>\n",
              "      <td>63.0</td>\n",
              "      <td>51.0</td>\n",
              "      <td>32.0</td>\n",
              "    </tr>\n",
              "    <tr>\n",
              "      <th>4</th>\n",
              "      <td>0.0</td>\n",
              "      <td>228.0</td>\n",
              "      <td>228.0</td>\n",
              "      <td>226.0</td>\n",
              "      <td>225.0</td>\n",
              "      <td>223.0</td>\n",
              "      <td>226.0</td>\n",
              "      <td>226.0</td>\n",
              "      <td>225.0</td>\n",
              "      <td>226.0</td>\n",
              "      <td>228.0</td>\n",
              "      <td>226.0</td>\n",
              "      <td>226.0</td>\n",
              "      <td>226.0</td>\n",
              "      <td>224.0</td>\n",
              "      <td>226.0</td>\n",
              "      <td>224.0</td>\n",
              "      <td>221.0</td>\n",
              "      <td>219.0</td>\n",
              "      <td>220.0</td>\n",
              "      <td>221.0</td>\n",
              "      <td>219.0</td>\n",
              "      <td>216.0</td>\n",
              "      <td>217.0</td>\n",
              "      <td>214.0</td>\n",
              "      <td>217.0</td>\n",
              "      <td>216.0</td>\n",
              "      <td>216.0</td>\n",
              "      <td>212.0</td>\n",
              "      <td>215.0</td>\n",
              "      <td>211.0</td>\n",
              "      <td>208.0</td>\n",
              "      <td>207.0</td>\n",
              "      <td>203.0</td>\n",
              "      <td>203.0</td>\n",
              "      <td>203.0</td>\n",
              "      <td>198.0</td>\n",
              "      <td>200.0</td>\n",
              "      <td>202.0</td>\n",
              "      <td>202.0</td>\n",
              "      <td>...</td>\n",
              "      <td>202.0</td>\n",
              "      <td>203.0</td>\n",
              "      <td>203.0</td>\n",
              "      <td>201.0</td>\n",
              "      <td>197.0</td>\n",
              "      <td>196.0</td>\n",
              "      <td>191.0</td>\n",
              "      <td>185.0</td>\n",
              "      <td>185.0</td>\n",
              "      <td>187.0</td>\n",
              "      <td>182.0</td>\n",
              "      <td>179.0</td>\n",
              "      <td>172.0</td>\n",
              "      <td>169.0</td>\n",
              "      <td>149.0</td>\n",
              "      <td>133.0</td>\n",
              "      <td>144.0</td>\n",
              "      <td>143.0</td>\n",
              "      <td>138.0</td>\n",
              "      <td>123.0</td>\n",
              "      <td>100.0</td>\n",
              "      <td>65.0</td>\n",
              "      <td>49.0</td>\n",
              "      <td>34.0</td>\n",
              "      <td>109.0</td>\n",
              "      <td>149.0</td>\n",
              "      <td>137.0</td>\n",
              "      <td>114.0</td>\n",
              "      <td>96.0</td>\n",
              "      <td>98.0</td>\n",
              "      <td>138.0</td>\n",
              "      <td>154.0</td>\n",
              "      <td>155.0</td>\n",
              "      <td>151.0</td>\n",
              "      <td>153.0</td>\n",
              "      <td>145.0</td>\n",
              "      <td>106.0</td>\n",
              "      <td>77.0</td>\n",
              "      <td>71.0</td>\n",
              "      <td>74.0</td>\n",
              "    </tr>\n",
              "  </tbody>\n",
              "</table>\n",
              "<p>5 rows × 4097 columns</p>\n",
              "</div>"
            ],
            "text/plain": [
              "     0     48     49     50     53  ...  79.110  76.169  76.170  79.111  80.70\n",
              "0  0.0  191.0  190.0  191.0  190.0  ...    54.0    45.0    41.0    42.0   38.0\n",
              "1  0.0  197.0  198.0  196.0  195.0  ...    74.0    73.0    73.0    71.0   69.0\n",
              "2  0.0  114.0  107.0  110.0  115.0  ...    50.0    48.0    49.0    45.0   43.0\n",
              "3  0.0  169.0  170.0  171.0  173.0  ...    68.0    63.0    63.0    51.0   32.0\n",
              "4  0.0  228.0  228.0  226.0  225.0  ...   145.0   106.0    77.0    71.0   74.0\n",
              "\n",
              "[5 rows x 4097 columns]"
            ]
          },
          "metadata": {
            "tags": []
          },
          "execution_count": 25
        }
      ]
    },
    {
      "cell_type": "code",
      "metadata": {
        "colab": {
          "base_uri": "https://localhost:8080/",
          "height": 246
        },
        "id": "3thahTeakbPn",
        "outputId": "2c792111-f33b-45e7-99cb-7c6f53057f69"
      },
      "source": [
        "#data.rename(columns={'0':'label'})\n",
        "data.head()"
      ],
      "execution_count": null,
      "outputs": [
        {
          "output_type": "execute_result",
          "data": {
            "text/html": [
              "<div>\n",
              "<style scoped>\n",
              "    .dataframe tbody tr th:only-of-type {\n",
              "        vertical-align: middle;\n",
              "    }\n",
              "\n",
              "    .dataframe tbody tr th {\n",
              "        vertical-align: top;\n",
              "    }\n",
              "\n",
              "    .dataframe thead th {\n",
              "        text-align: right;\n",
              "    }\n",
              "</style>\n",
              "<table border=\"1\" class=\"dataframe\">\n",
              "  <thead>\n",
              "    <tr style=\"text-align: right;\">\n",
              "      <th></th>\n",
              "      <th>Names</th>\n",
              "      <th>48</th>\n",
              "      <th>49</th>\n",
              "      <th>50</th>\n",
              "      <th>53</th>\n",
              "      <th>57</th>\n",
              "      <th>58</th>\n",
              "      <th>52</th>\n",
              "      <th>46</th>\n",
              "      <th>47</th>\n",
              "      <th>49.1</th>\n",
              "      <th>54</th>\n",
              "      <th>54.1</th>\n",
              "      <th>51</th>\n",
              "      <th>47.1</th>\n",
              "      <th>43</th>\n",
              "      <th>42</th>\n",
              "      <th>45</th>\n",
              "      <th>51.1</th>\n",
              "      <th>58.1</th>\n",
              "      <th>54.2</th>\n",
              "      <th>54.3</th>\n",
              "      <th>56</th>\n",
              "      <th>54.4</th>\n",
              "      <th>50.1</th>\n",
              "      <th>50.2</th>\n",
              "      <th>50.3</th>\n",
              "      <th>51.2</th>\n",
              "      <th>53.1</th>\n",
              "      <th>51.3</th>\n",
              "      <th>52.1</th>\n",
              "      <th>56.1</th>\n",
              "      <th>54.5</th>\n",
              "      <th>58.2</th>\n",
              "      <th>60</th>\n",
              "      <th>59</th>\n",
              "      <th>55</th>\n",
              "      <th>54.6</th>\n",
              "      <th>57.1</th>\n",
              "      <th>56.2</th>\n",
              "      <th>...</th>\n",
              "      <th>73.154</th>\n",
              "      <th>73.155</th>\n",
              "      <th>75.144</th>\n",
              "      <th>74.111</th>\n",
              "      <th>72.137</th>\n",
              "      <th>73.156</th>\n",
              "      <th>73.157</th>\n",
              "      <th>72.138</th>\n",
              "      <th>72.139</th>\n",
              "      <th>74.112</th>\n",
              "      <th>78.154</th>\n",
              "      <th>79.105</th>\n",
              "      <th>78.155</th>\n",
              "      <th>79.106</th>\n",
              "      <th>80.64</th>\n",
              "      <th>78.156</th>\n",
              "      <th>76.164</th>\n",
              "      <th>76.165</th>\n",
              "      <th>77.179</th>\n",
              "      <th>80.65</th>\n",
              "      <th>79.107</th>\n",
              "      <th>80.66</th>\n",
              "      <th>81.32</th>\n",
              "      <th>80.67</th>\n",
              "      <th>80.68</th>\n",
              "      <th>79.108</th>\n",
              "      <th>80.69</th>\n",
              "      <th>81.33</th>\n",
              "      <th>78.157</th>\n",
              "      <th>75.145</th>\n",
              "      <th>75.146</th>\n",
              "      <th>76.166</th>\n",
              "      <th>76.167</th>\n",
              "      <th>76.168</th>\n",
              "      <th>79.109</th>\n",
              "      <th>79.110</th>\n",
              "      <th>76.169</th>\n",
              "      <th>76.170</th>\n",
              "      <th>79.111</th>\n",
              "      <th>80.70</th>\n",
              "    </tr>\n",
              "  </thead>\n",
              "  <tbody>\n",
              "    <tr>\n",
              "      <th>0</th>\n",
              "      <td>0.0</td>\n",
              "      <td>191.0</td>\n",
              "      <td>190.0</td>\n",
              "      <td>191.0</td>\n",
              "      <td>190.0</td>\n",
              "      <td>192.0</td>\n",
              "      <td>193.0</td>\n",
              "      <td>191.0</td>\n",
              "      <td>187.0</td>\n",
              "      <td>186.0</td>\n",
              "      <td>184.0</td>\n",
              "      <td>184.0</td>\n",
              "      <td>182.0</td>\n",
              "      <td>181.0</td>\n",
              "      <td>179.0</td>\n",
              "      <td>180.0</td>\n",
              "      <td>178.0</td>\n",
              "      <td>176.0</td>\n",
              "      <td>176.0</td>\n",
              "      <td>176.0</td>\n",
              "      <td>176.0</td>\n",
              "      <td>175.0</td>\n",
              "      <td>175.0</td>\n",
              "      <td>174.0</td>\n",
              "      <td>176.0</td>\n",
              "      <td>175.0</td>\n",
              "      <td>174.0</td>\n",
              "      <td>174.0</td>\n",
              "      <td>174.0</td>\n",
              "      <td>173.0</td>\n",
              "      <td>173.0</td>\n",
              "      <td>173.0</td>\n",
              "      <td>173.0</td>\n",
              "      <td>171.0</td>\n",
              "      <td>171.0</td>\n",
              "      <td>170.0</td>\n",
              "      <td>170.0</td>\n",
              "      <td>171.0</td>\n",
              "      <td>172.0</td>\n",
              "      <td>171.0</td>\n",
              "      <td>...</td>\n",
              "      <td>163.0</td>\n",
              "      <td>163.0</td>\n",
              "      <td>163.0</td>\n",
              "      <td>163.0</td>\n",
              "      <td>164.0</td>\n",
              "      <td>162.0</td>\n",
              "      <td>161.0</td>\n",
              "      <td>162.0</td>\n",
              "      <td>162.0</td>\n",
              "      <td>162.0</td>\n",
              "      <td>161.0</td>\n",
              "      <td>160.0</td>\n",
              "      <td>162.0</td>\n",
              "      <td>161.0</td>\n",
              "      <td>159.0</td>\n",
              "      <td>158.0</td>\n",
              "      <td>156.0</td>\n",
              "      <td>156.0</td>\n",
              "      <td>153.0</td>\n",
              "      <td>152.0</td>\n",
              "      <td>151.0</td>\n",
              "      <td>149.0</td>\n",
              "      <td>148.0</td>\n",
              "      <td>145.0</td>\n",
              "      <td>141.0</td>\n",
              "      <td>140.0</td>\n",
              "      <td>137.0</td>\n",
              "      <td>135.0</td>\n",
              "      <td>131.0</td>\n",
              "      <td>129.0</td>\n",
              "      <td>123.0</td>\n",
              "      <td>121.0</td>\n",
              "      <td>117.0</td>\n",
              "      <td>112.0</td>\n",
              "      <td>103.0</td>\n",
              "      <td>54.0</td>\n",
              "      <td>45.0</td>\n",
              "      <td>41.0</td>\n",
              "      <td>42.0</td>\n",
              "      <td>38.0</td>\n",
              "    </tr>\n",
              "    <tr>\n",
              "      <th>1</th>\n",
              "      <td>0.0</td>\n",
              "      <td>197.0</td>\n",
              "      <td>198.0</td>\n",
              "      <td>196.0</td>\n",
              "      <td>195.0</td>\n",
              "      <td>195.0</td>\n",
              "      <td>194.0</td>\n",
              "      <td>193.0</td>\n",
              "      <td>194.0</td>\n",
              "      <td>195.0</td>\n",
              "      <td>195.0</td>\n",
              "      <td>194.0</td>\n",
              "      <td>194.0</td>\n",
              "      <td>194.0</td>\n",
              "      <td>194.0</td>\n",
              "      <td>194.0</td>\n",
              "      <td>193.0</td>\n",
              "      <td>193.0</td>\n",
              "      <td>193.0</td>\n",
              "      <td>193.0</td>\n",
              "      <td>193.0</td>\n",
              "      <td>191.0</td>\n",
              "      <td>189.0</td>\n",
              "      <td>187.0</td>\n",
              "      <td>186.0</td>\n",
              "      <td>185.0</td>\n",
              "      <td>183.0</td>\n",
              "      <td>182.0</td>\n",
              "      <td>182.0</td>\n",
              "      <td>181.0</td>\n",
              "      <td>181.0</td>\n",
              "      <td>180.0</td>\n",
              "      <td>179.0</td>\n",
              "      <td>178.0</td>\n",
              "      <td>176.0</td>\n",
              "      <td>175.0</td>\n",
              "      <td>175.0</td>\n",
              "      <td>174.0</td>\n",
              "      <td>172.0</td>\n",
              "      <td>171.0</td>\n",
              "      <td>...</td>\n",
              "      <td>188.0</td>\n",
              "      <td>188.0</td>\n",
              "      <td>188.0</td>\n",
              "      <td>188.0</td>\n",
              "      <td>186.0</td>\n",
              "      <td>186.0</td>\n",
              "      <td>187.0</td>\n",
              "      <td>187.0</td>\n",
              "      <td>185.0</td>\n",
              "      <td>184.0</td>\n",
              "      <td>184.0</td>\n",
              "      <td>183.0</td>\n",
              "      <td>181.0</td>\n",
              "      <td>179.0</td>\n",
              "      <td>179.0</td>\n",
              "      <td>178.0</td>\n",
              "      <td>177.0</td>\n",
              "      <td>173.0</td>\n",
              "      <td>172.0</td>\n",
              "      <td>170.0</td>\n",
              "      <td>166.0</td>\n",
              "      <td>157.0</td>\n",
              "      <td>154.0</td>\n",
              "      <td>136.0</td>\n",
              "      <td>95.0</td>\n",
              "      <td>91.0</td>\n",
              "      <td>86.0</td>\n",
              "      <td>82.0</td>\n",
              "      <td>78.0</td>\n",
              "      <td>74.0</td>\n",
              "      <td>74.0</td>\n",
              "      <td>75.0</td>\n",
              "      <td>75.0</td>\n",
              "      <td>74.0</td>\n",
              "      <td>74.0</td>\n",
              "      <td>74.0</td>\n",
              "      <td>73.0</td>\n",
              "      <td>73.0</td>\n",
              "      <td>71.0</td>\n",
              "      <td>69.0</td>\n",
              "    </tr>\n",
              "    <tr>\n",
              "      <th>2</th>\n",
              "      <td>0.0</td>\n",
              "      <td>114.0</td>\n",
              "      <td>107.0</td>\n",
              "      <td>110.0</td>\n",
              "      <td>115.0</td>\n",
              "      <td>118.0</td>\n",
              "      <td>110.0</td>\n",
              "      <td>112.0</td>\n",
              "      <td>112.0</td>\n",
              "      <td>119.0</td>\n",
              "      <td>119.0</td>\n",
              "      <td>114.0</td>\n",
              "      <td>98.0</td>\n",
              "      <td>90.0</td>\n",
              "      <td>95.0</td>\n",
              "      <td>99.0</td>\n",
              "      <td>104.0</td>\n",
              "      <td>106.0</td>\n",
              "      <td>101.0</td>\n",
              "      <td>102.0</td>\n",
              "      <td>102.0</td>\n",
              "      <td>94.0</td>\n",
              "      <td>93.0</td>\n",
              "      <td>96.0</td>\n",
              "      <td>85.0</td>\n",
              "      <td>49.0</td>\n",
              "      <td>75.0</td>\n",
              "      <td>104.0</td>\n",
              "      <td>105.0</td>\n",
              "      <td>104.0</td>\n",
              "      <td>95.0</td>\n",
              "      <td>99.0</td>\n",
              "      <td>107.0</td>\n",
              "      <td>105.0</td>\n",
              "      <td>95.0</td>\n",
              "      <td>96.0</td>\n",
              "      <td>103.0</td>\n",
              "      <td>101.0</td>\n",
              "      <td>103.0</td>\n",
              "      <td>104.0</td>\n",
              "      <td>...</td>\n",
              "      <td>89.0</td>\n",
              "      <td>91.0</td>\n",
              "      <td>93.0</td>\n",
              "      <td>87.0</td>\n",
              "      <td>80.0</td>\n",
              "      <td>77.0</td>\n",
              "      <td>77.0</td>\n",
              "      <td>78.0</td>\n",
              "      <td>80.0</td>\n",
              "      <td>82.0</td>\n",
              "      <td>77.0</td>\n",
              "      <td>83.0</td>\n",
              "      <td>81.0</td>\n",
              "      <td>81.0</td>\n",
              "      <td>85.0</td>\n",
              "      <td>84.0</td>\n",
              "      <td>83.0</td>\n",
              "      <td>89.0</td>\n",
              "      <td>91.0</td>\n",
              "      <td>80.0</td>\n",
              "      <td>85.0</td>\n",
              "      <td>79.0</td>\n",
              "      <td>74.0</td>\n",
              "      <td>70.0</td>\n",
              "      <td>68.0</td>\n",
              "      <td>69.0</td>\n",
              "      <td>71.0</td>\n",
              "      <td>69.0</td>\n",
              "      <td>64.0</td>\n",
              "      <td>62.0</td>\n",
              "      <td>62.0</td>\n",
              "      <td>64.0</td>\n",
              "      <td>58.0</td>\n",
              "      <td>59.0</td>\n",
              "      <td>54.0</td>\n",
              "      <td>50.0</td>\n",
              "      <td>48.0</td>\n",
              "      <td>49.0</td>\n",
              "      <td>45.0</td>\n",
              "      <td>43.0</td>\n",
              "    </tr>\n",
              "    <tr>\n",
              "      <th>3</th>\n",
              "      <td>0.0</td>\n",
              "      <td>169.0</td>\n",
              "      <td>170.0</td>\n",
              "      <td>171.0</td>\n",
              "      <td>173.0</td>\n",
              "      <td>173.0</td>\n",
              "      <td>173.0</td>\n",
              "      <td>172.0</td>\n",
              "      <td>175.0</td>\n",
              "      <td>177.0</td>\n",
              "      <td>176.0</td>\n",
              "      <td>175.0</td>\n",
              "      <td>176.0</td>\n",
              "      <td>178.0</td>\n",
              "      <td>178.0</td>\n",
              "      <td>178.0</td>\n",
              "      <td>179.0</td>\n",
              "      <td>180.0</td>\n",
              "      <td>178.0</td>\n",
              "      <td>175.0</td>\n",
              "      <td>181.0</td>\n",
              "      <td>182.0</td>\n",
              "      <td>183.0</td>\n",
              "      <td>183.0</td>\n",
              "      <td>184.0</td>\n",
              "      <td>184.0</td>\n",
              "      <td>184.0</td>\n",
              "      <td>186.0</td>\n",
              "      <td>185.0</td>\n",
              "      <td>185.0</td>\n",
              "      <td>185.0</td>\n",
              "      <td>185.0</td>\n",
              "      <td>185.0</td>\n",
              "      <td>185.0</td>\n",
              "      <td>184.0</td>\n",
              "      <td>185.0</td>\n",
              "      <td>184.0</td>\n",
              "      <td>181.0</td>\n",
              "      <td>176.0</td>\n",
              "      <td>171.0</td>\n",
              "      <td>...</td>\n",
              "      <td>117.0</td>\n",
              "      <td>117.0</td>\n",
              "      <td>117.0</td>\n",
              "      <td>119.0</td>\n",
              "      <td>119.0</td>\n",
              "      <td>120.0</td>\n",
              "      <td>119.0</td>\n",
              "      <td>119.0</td>\n",
              "      <td>121.0</td>\n",
              "      <td>119.0</td>\n",
              "      <td>120.0</td>\n",
              "      <td>119.0</td>\n",
              "      <td>120.0</td>\n",
              "      <td>116.0</td>\n",
              "      <td>115.0</td>\n",
              "      <td>113.0</td>\n",
              "      <td>112.0</td>\n",
              "      <td>112.0</td>\n",
              "      <td>112.0</td>\n",
              "      <td>109.0</td>\n",
              "      <td>105.0</td>\n",
              "      <td>104.0</td>\n",
              "      <td>102.0</td>\n",
              "      <td>96.0</td>\n",
              "      <td>88.0</td>\n",
              "      <td>83.0</td>\n",
              "      <td>85.0</td>\n",
              "      <td>79.0</td>\n",
              "      <td>75.0</td>\n",
              "      <td>71.0</td>\n",
              "      <td>69.0</td>\n",
              "      <td>67.0</td>\n",
              "      <td>67.0</td>\n",
              "      <td>65.0</td>\n",
              "      <td>68.0</td>\n",
              "      <td>68.0</td>\n",
              "      <td>63.0</td>\n",
              "      <td>63.0</td>\n",
              "      <td>51.0</td>\n",
              "      <td>32.0</td>\n",
              "    </tr>\n",
              "    <tr>\n",
              "      <th>4</th>\n",
              "      <td>0.0</td>\n",
              "      <td>228.0</td>\n",
              "      <td>228.0</td>\n",
              "      <td>226.0</td>\n",
              "      <td>225.0</td>\n",
              "      <td>223.0</td>\n",
              "      <td>226.0</td>\n",
              "      <td>226.0</td>\n",
              "      <td>225.0</td>\n",
              "      <td>226.0</td>\n",
              "      <td>228.0</td>\n",
              "      <td>226.0</td>\n",
              "      <td>226.0</td>\n",
              "      <td>226.0</td>\n",
              "      <td>224.0</td>\n",
              "      <td>226.0</td>\n",
              "      <td>224.0</td>\n",
              "      <td>221.0</td>\n",
              "      <td>219.0</td>\n",
              "      <td>220.0</td>\n",
              "      <td>221.0</td>\n",
              "      <td>219.0</td>\n",
              "      <td>216.0</td>\n",
              "      <td>217.0</td>\n",
              "      <td>214.0</td>\n",
              "      <td>217.0</td>\n",
              "      <td>216.0</td>\n",
              "      <td>216.0</td>\n",
              "      <td>212.0</td>\n",
              "      <td>215.0</td>\n",
              "      <td>211.0</td>\n",
              "      <td>208.0</td>\n",
              "      <td>207.0</td>\n",
              "      <td>203.0</td>\n",
              "      <td>203.0</td>\n",
              "      <td>203.0</td>\n",
              "      <td>198.0</td>\n",
              "      <td>200.0</td>\n",
              "      <td>202.0</td>\n",
              "      <td>202.0</td>\n",
              "      <td>...</td>\n",
              "      <td>202.0</td>\n",
              "      <td>203.0</td>\n",
              "      <td>203.0</td>\n",
              "      <td>201.0</td>\n",
              "      <td>197.0</td>\n",
              "      <td>196.0</td>\n",
              "      <td>191.0</td>\n",
              "      <td>185.0</td>\n",
              "      <td>185.0</td>\n",
              "      <td>187.0</td>\n",
              "      <td>182.0</td>\n",
              "      <td>179.0</td>\n",
              "      <td>172.0</td>\n",
              "      <td>169.0</td>\n",
              "      <td>149.0</td>\n",
              "      <td>133.0</td>\n",
              "      <td>144.0</td>\n",
              "      <td>143.0</td>\n",
              "      <td>138.0</td>\n",
              "      <td>123.0</td>\n",
              "      <td>100.0</td>\n",
              "      <td>65.0</td>\n",
              "      <td>49.0</td>\n",
              "      <td>34.0</td>\n",
              "      <td>109.0</td>\n",
              "      <td>149.0</td>\n",
              "      <td>137.0</td>\n",
              "      <td>114.0</td>\n",
              "      <td>96.0</td>\n",
              "      <td>98.0</td>\n",
              "      <td>138.0</td>\n",
              "      <td>154.0</td>\n",
              "      <td>155.0</td>\n",
              "      <td>151.0</td>\n",
              "      <td>153.0</td>\n",
              "      <td>145.0</td>\n",
              "      <td>106.0</td>\n",
              "      <td>77.0</td>\n",
              "      <td>71.0</td>\n",
              "      <td>74.0</td>\n",
              "    </tr>\n",
              "  </tbody>\n",
              "</table>\n",
              "<p>5 rows × 4097 columns</p>\n",
              "</div>"
            ],
            "text/plain": [
              "   Names     48     49     50     53  ...  79.110  76.169  76.170  79.111  80.70\n",
              "0    0.0  191.0  190.0  191.0  190.0  ...    54.0    45.0    41.0    42.0   38.0\n",
              "1    0.0  197.0  198.0  196.0  195.0  ...    74.0    73.0    73.0    71.0   69.0\n",
              "2    0.0  114.0  107.0  110.0  115.0  ...    50.0    48.0    49.0    45.0   43.0\n",
              "3    0.0  169.0  170.0  171.0  173.0  ...    68.0    63.0    63.0    51.0   32.0\n",
              "4    0.0  228.0  228.0  226.0  225.0  ...   145.0   106.0    77.0    71.0   74.0\n",
              "\n",
              "[5 rows x 4097 columns]"
            ]
          },
          "metadata": {
            "tags": []
          },
          "execution_count": 30
        }
      ]
    },
    {
      "cell_type": "code",
      "metadata": {
        "colab": {
          "base_uri": "https://localhost:8080/"
        },
        "id": "8jtqEdiTkdHv",
        "outputId": "7da59eb3-4f29-4097-c2c2-aa35fcdd9373"
      },
      "source": [
        "data['Names'].value_counts()"
      ],
      "execution_count": null,
      "outputs": [
        {
          "output_type": "execute_result",
          "data": {
            "text/plain": [
              "9.0     640\n",
              "20.0    632\n",
              "11.0    630\n",
              "16.0    629\n",
              "24.0    628\n",
              "19.0    628\n",
              "33.0    628\n",
              "15.0    627\n",
              "18.0    627\n",
              "35.0    622\n",
              "17.0    622\n",
              "30.0    621\n",
              "22.0    621\n",
              "13.0    617\n",
              "25.0    614\n",
              "28.0    606\n",
              "36.0    605\n",
              "21.0    602\n",
              "12.0    602\n",
              "29.0    602\n",
              "26.0    600\n",
              "32.0    599\n",
              "31.0    599\n",
              "34.0    591\n",
              "23.0    578\n",
              "14.0    578\n",
              "2.0     476\n",
              "8.0     475\n",
              "5.0     473\n",
              "1.0     473\n",
              "6.0     472\n",
              "0.0     472\n",
              "7.0     470\n",
              "3.0     469\n",
              "4.0     445\n",
              "10.0    407\n",
              "27.0    396\n",
              "Name: Names, dtype: int64"
            ]
          },
          "metadata": {
            "tags": []
          },
          "execution_count": 35
        }
      ]
    },
    {
      "cell_type": "code",
      "metadata": {
        "id": "UJfJlWdbq9cB"
      },
      "source": [
        "zero_shot_categories = ['4.0', '5.0', '6.0', '7.0', '8.0', '9.0']"
      ],
      "execution_count": null,
      "outputs": []
    },
    {
      "cell_type": "code",
      "metadata": {
        "id": "skAdio0J2ihh"
      },
      "source": [
        "category_vectors = {\n",
        "    '0.0': x_train[1],\n",
        "    '1.0': x_train[475],\n",
        "    '10.0': x_train[948],\n",
        "    '11.0': x_train[1355],\n",
        "    '12.0': x_train[1985],\n",
        "    '13.0': x_train[2587],\n",
        "    '14.0': x_train[3665],\n",
        "    '15.0': x_train[4113],\n",
        "    '16.0': x_train[4409],\n",
        "    '17.0': x_train[5086],\n",
        "    '18.0': x_train[5662],\n",
        "    '19.0': x_train[6288],\n",
        "    '2.0': x_train[6917],\n",
        "    '20.0': x_train[7394],\n",
        "    '21.0': x_train[8026],\n",
        "    '22.0': x_train[8628],\n",
        "    '23.0': x_train[9248],\n",
        "    '24.0': x_train[9825],\n",
        "    '25.0': x_train[10455],\n",
        "    '26.0': x_train[11068],\n",
        "    '27.0': x_train[11668],\n",
        "    '28.0': x_train[12066],\n",
        "    '29.0': x_train[12672],\n",
        "    '3.0': x_train[13272],\n",
        "    '30.0': x_train[13744],\n",
        "    '31.0': x_train[14363],\n",
        "    '32.0': x_train[14962],\n",
        "    '33.0': x_train[15563],\n",
        "    '34.0': x_train[16192],\n",
        "    '35.0': x_train[16803],\n",
        "    '36.0': x_train[17407],\n",
        "    '4.0': x_train[18018],\n",
        "    '5.0': x_train[18459],\n",
        "    '6.0': x_train[18931],\n",
        "    '7.0': x_train[19400],\n",
        "    '8.0': x_train[19875],\n",
        "    '9.0': x_train[20343],\n",
        "}"
      ],
      "execution_count": null,
      "outputs": []
    },
    {
      "cell_type": "code",
      "metadata": {
        "id": "GrTLi50uTKQ7"
      },
      "source": [
        "for d in category_vectors.keys():\n",
        "    category_vectors[d] = sum(to_categorical([v-1 for v in category_vectors[d]], num_classes=37))"
      ],
      "execution_count": null,
      "outputs": []
    },
    {
      "cell_type": "code",
      "metadata": {
        "colab": {
          "base_uri": "https://localhost:8080/"
        },
        "id": "E6e337U7839b",
        "outputId": "92b09989-21ed-4feb-87ba-21c85088e630"
      },
      "source": [
        "category_vectors"
      ],
      "execution_count": null,
      "outputs": [
        {
          "output_type": "execute_result",
          "data": {
            "text/plain": [
              "{'0.0': array([ 4.2074076e-05, -1.9642327e-04,  1.7427305e-03, ...,\n",
              "        -1.7522478e-02,  1.4497128e+00,  1.5117691e-01], dtype=float32),\n",
              " '1.0': array([1.2544563e-04, 9.9519704e-05, 1.3387207e-03, ..., 1.8076587e-02,\n",
              "        5.7491803e-01, 4.5311335e-01], dtype=float32),\n",
              " '10.0': array([ 1.9036608e-05,  1.5844556e-04,  1.1686254e-03, ...,\n",
              "        -5.7664204e-01,  5.4981637e-01,  1.0884321e-01], dtype=float32),\n",
              " '11.0': array([ 7.3657735e-05,  1.1684058e-03,  7.4338593e-04, ...,\n",
              "         3.5842344e-01,  3.7891665e+00, -4.4952872e-01], dtype=float32),\n",
              " '12.0': array([ 7.6259406e-05, -2.9057202e-05,  1.6062229e-03, ...,\n",
              "        -1.4744608e-01,  1.4710288e-02, -1.4988531e-01], dtype=float32),\n",
              " '13.0': array([ 7.2855291e-05, -3.7737479e-04,  1.5142316e-03, ...,\n",
              "        -1.5680693e-01,  1.3093038e+00,  2.8242821e-01], dtype=float32),\n",
              " '14.0': array([1.5967073e-04, 9.4860839e-04, 1.1758186e-03, ..., 1.3940502e+00,\n",
              "        2.9272955e-02, 2.4554927e+00], dtype=float32),\n",
              " '15.0': array([ 8.4748055e-05, -2.8536230e-04,  2.0748812e-03, ...,\n",
              "        -2.2841983e-01,  1.6190578e+00, -2.1549033e-01], dtype=float32),\n",
              " '16.0': array([ 7.8538433e-05,  3.7383451e-04,  1.0997744e-03, ...,\n",
              "         1.7930636e-02, -3.0364496e-01, -2.2347722e-02], dtype=float32),\n",
              " '17.0': array([ 8.4795858e-05, -3.7610048e-04,  7.4791309e-04, ...,\n",
              "         4.9680459e-01,  9.2742842e-01, -6.1912376e-02], dtype=float32),\n",
              " '18.0': array([ 2.0029260e-04,  1.8342446e-06,  9.8640088e-04, ...,\n",
              "        -1.9909993e-01,  1.4785377e+00,  6.5708715e-01], dtype=float32),\n",
              " '19.0': array([ 1.5248946e-05, -6.8530993e-04,  2.1030526e-03, ...,\n",
              "        -2.7266389e-01,  1.6706257e+00, -3.2612571e-01], dtype=float32),\n",
              " '2.0': array([ 1.15023695e-05,  1.72054162e-04,  1.38171529e-03, ...,\n",
              "        -2.22140864e-01,  5.22834599e-01, -9.58754271e-02], dtype=float32),\n",
              " '20.0': array([ 3.6312002e-05, -1.5893184e-04,  2.0254552e-03, ...,\n",
              "        -1.5236028e-01, -2.6613951e-01,  4.9951023e-01], dtype=float32),\n",
              " '21.0': array([ 5.6593566e-05,  2.8122676e-04,  1.3062770e-03, ...,\n",
              "        -3.7839466e-01, -4.5168798e-02, -1.5752909e-01], dtype=float32),\n",
              " '22.0': array([ 1.0575838e-04, -1.3533438e-04,  2.1147671e-04, ...,\n",
              "         2.7353808e-01, -1.0852876e-01, -2.7457199e-01], dtype=float32),\n",
              " '23.0': array([ 1.6433531e-05, -4.2905225e-04,  8.2045910e-04, ...,\n",
              "        -1.9421814e-01,  1.1667972e-01,  1.5255702e-01], dtype=float32),\n",
              " '24.0': array([-2.8147551e-05,  4.4941800e-04,  1.0145707e-03, ...,\n",
              "        -6.3656145e-01,  1.9875522e-01, -3.3694378e-01], dtype=float32),\n",
              " '25.0': array([-9.2660048e-06,  3.7059290e-04,  1.2050412e-03, ...,\n",
              "         6.7251587e-01,  2.1741213e-03, -2.4037024e-01], dtype=float32),\n",
              " '26.0': array([ 1.99221977e-05, -1.09943256e-04,  1.76595792e-03, ...,\n",
              "        -8.63356888e-02,  6.20980501e-01,  1.63994163e-01], dtype=float32),\n",
              " '27.0': array([ 4.3613122e-06, -3.4026490e-04,  1.9255168e-03, ...,\n",
              "        -3.5651121e-01,  4.4062471e-01,  8.7819539e-02], dtype=float32),\n",
              " '28.0': array([ 1.7046875e-04, -1.6531926e-04,  8.8382611e-04, ...,\n",
              "         3.0804206e-02,  4.5363727e-01, -2.3330763e-01], dtype=float32),\n",
              " '29.0': array([ 5.1710129e-05, -6.3029159e-04,  1.1723328e-03, ...,\n",
              "        -4.1989121e-01,  7.5895190e-01, -3.8654986e-01], dtype=float32),\n",
              " '3.0': array([ 6.1970815e-05, -3.7376351e-06,  2.1084617e-03, ...,\n",
              "        -5.5677998e-01,  4.6071336e-01, -2.3838003e-01], dtype=float32),\n",
              " '30.0': array([ 1.3753283e-05,  1.2990529e-05,  1.4908141e-03, ...,\n",
              "        -7.3903584e-01,  2.2804415e-01,  2.0863870e-01], dtype=float32),\n",
              " '31.0': array([ 9.7760319e-05,  6.4401806e-04,  1.0221152e-03, ...,\n",
              "        -4.5124203e-01,  4.2934808e-01, -3.5346159e-01], dtype=float32),\n",
              " '32.0': array([ 1.8108009e-04, -3.9572903e-04,  8.8321796e-04, ...,\n",
              "        -2.9462519e-01,  1.7202193e+00,  1.0716007e+00], dtype=float32),\n",
              " '33.0': array([ 9.9674093e-05, -2.8238184e-04,  1.1559706e-03, ...,\n",
              "        -5.9684610e-01, -1.2116985e-01,  1.1316000e+00], dtype=float32),\n",
              " '34.0': array([ 9.7274478e-06,  6.0865213e-04,  1.0021320e-03, ...,\n",
              "         1.4328626e-02,  9.0542102e-01, -3.5398027e-01], dtype=float32),\n",
              " '35.0': array([ 1.9877580e-04,  3.7744999e-04,  9.9145190e-04, ...,\n",
              "        -4.7981426e-01,  1.0909131e+00,  2.4641249e+00], dtype=float32),\n",
              " '36.0': array([ 7.6851858e-05,  7.9737464e-04,  1.3011734e-03, ...,\n",
              "         3.0477303e-01,  1.4134374e-01, -1.9110963e-02], dtype=float32),\n",
              " '4.0': array([-1.3208249e-05,  4.8727059e-05,  1.1416241e-03, ...,\n",
              "        -5.5450892e-01,  1.3645768e-01, -1.4334716e-01], dtype=float32),\n",
              " '5.0': array([ 1.4303974e-04,  1.8984645e-04,  1.1187876e-03, ...,\n",
              "        -9.7353132e-03,  8.1786495e-01,  7.6726413e-01], dtype=float32),\n",
              " '6.0': array([ 4.4492226e-05,  1.2769784e-04,  1.5927146e-03, ...,\n",
              "        -3.5087734e-01, -5.7526704e-02, -1.6440266e-01], dtype=float32),\n",
              " '7.0': array([1.0445974e-04, 5.6917354e-04, 1.2416691e-03, ..., 3.8747010e-01,\n",
              "        6.1821781e-02, 2.0138176e-01], dtype=float32),\n",
              " '8.0': array([-1.4530022e-05,  8.4647047e-04,  1.0079580e-03, ...,\n",
              "        -7.7142215e-01, -5.4888211e-02,  5.1486589e-02], dtype=float32),\n",
              " '9.0': array([ 6.0439110e-05,  2.1630922e-05,  2.0853765e-03, ...,\n",
              "        -3.8306457e-01,  9.2084311e-02, -2.0390554e-01], dtype=float32)}"
            ]
          },
          "metadata": {
            "tags": []
          },
          "execution_count": 49
        }
      ]
    },
    {
      "cell_type": "code",
      "metadata": {
        "colab": {
          "base_uri": "https://localhost:8080/",
          "height": 233
        },
        "id": "vMoWGNLg8-GZ",
        "outputId": "f8cb9460-de32-4561-bbb0-f1bb062e127a"
      },
      "source": [
        "data[\"category_vector\"] = data.apply(lambda x: category_vectors[x['Names']], axis=1)"
      ],
      "execution_count": null,
      "outputs": [
        {
          "output_type": "error",
          "ename": "KeyError",
          "evalue": "ignored",
          "traceback": [
            "\u001b[0;31m---------------------------------------------------------------------------\u001b[0m",
            "\u001b[0;31mKeyError\u001b[0m                                  Traceback (most recent call last)",
            "\u001b[0;32m<ipython-input-56-b7e3607ac494>\u001b[0m in \u001b[0;36m<module>\u001b[0;34m()\u001b[0m\n\u001b[0;32m----> 1\u001b[0;31m \u001b[0mdata\u001b[0m\u001b[0;34m[\u001b[0m\u001b[0;34m\"category_vector\"\u001b[0m\u001b[0;34m]\u001b[0m \u001b[0;34m=\u001b[0m \u001b[0mdata\u001b[0m\u001b[0;34m.\u001b[0m\u001b[0mapply\u001b[0m\u001b[0;34m(\u001b[0m\u001b[0;32mlambda\u001b[0m \u001b[0mx\u001b[0m\u001b[0;34m:\u001b[0m \u001b[0mcategory_vectors\u001b[0m\u001b[0;34m[\u001b[0m\u001b[0mx\u001b[0m\u001b[0;34m[\u001b[0m\u001b[0;34m'Names'\u001b[0m\u001b[0;34m]\u001b[0m\u001b[0;34m]\u001b[0m\u001b[0;34m,\u001b[0m \u001b[0maxis\u001b[0m\u001b[0;34m=\u001b[0m\u001b[0;36m1\u001b[0m\u001b[0;34m)\u001b[0m\u001b[0;34m\u001b[0m\u001b[0;34m\u001b[0m\u001b[0m\n\u001b[0m",
            "\u001b[0;32m/usr/local/lib/python3.6/dist-packages/pandas/core/frame.py\u001b[0m in \u001b[0;36mapply\u001b[0;34m(self, func, axis, raw, result_type, args, **kwds)\u001b[0m\n\u001b[1;32m   7550\u001b[0m             \u001b[0mkwds\u001b[0m\u001b[0;34m=\u001b[0m\u001b[0mkwds\u001b[0m\u001b[0;34m,\u001b[0m\u001b[0;34m\u001b[0m\u001b[0;34m\u001b[0m\u001b[0m\n\u001b[1;32m   7551\u001b[0m         )\n\u001b[0;32m-> 7552\u001b[0;31m         \u001b[0;32mreturn\u001b[0m \u001b[0mop\u001b[0m\u001b[0;34m.\u001b[0m\u001b[0mget_result\u001b[0m\u001b[0;34m(\u001b[0m\u001b[0;34m)\u001b[0m\u001b[0;34m\u001b[0m\u001b[0;34m\u001b[0m\u001b[0m\n\u001b[0m\u001b[1;32m   7553\u001b[0m \u001b[0;34m\u001b[0m\u001b[0m\n\u001b[1;32m   7554\u001b[0m     \u001b[0;32mdef\u001b[0m \u001b[0mapplymap\u001b[0m\u001b[0;34m(\u001b[0m\u001b[0mself\u001b[0m\u001b[0;34m,\u001b[0m \u001b[0mfunc\u001b[0m\u001b[0;34m)\u001b[0m \u001b[0;34m->\u001b[0m \u001b[0;34m\"DataFrame\"\u001b[0m\u001b[0;34m:\u001b[0m\u001b[0;34m\u001b[0m\u001b[0;34m\u001b[0m\u001b[0m\n",
            "\u001b[0;32m/usr/local/lib/python3.6/dist-packages/pandas/core/apply.py\u001b[0m in \u001b[0;36mget_result\u001b[0;34m(self)\u001b[0m\n\u001b[1;32m    183\u001b[0m             \u001b[0;32mreturn\u001b[0m \u001b[0mself\u001b[0m\u001b[0;34m.\u001b[0m\u001b[0mapply_raw\u001b[0m\u001b[0;34m(\u001b[0m\u001b[0;34m)\u001b[0m\u001b[0;34m\u001b[0m\u001b[0;34m\u001b[0m\u001b[0m\n\u001b[1;32m    184\u001b[0m \u001b[0;34m\u001b[0m\u001b[0m\n\u001b[0;32m--> 185\u001b[0;31m         \u001b[0;32mreturn\u001b[0m \u001b[0mself\u001b[0m\u001b[0;34m.\u001b[0m\u001b[0mapply_standard\u001b[0m\u001b[0;34m(\u001b[0m\u001b[0;34m)\u001b[0m\u001b[0;34m\u001b[0m\u001b[0;34m\u001b[0m\u001b[0m\n\u001b[0m\u001b[1;32m    186\u001b[0m \u001b[0;34m\u001b[0m\u001b[0m\n\u001b[1;32m    187\u001b[0m     \u001b[0;32mdef\u001b[0m \u001b[0mapply_empty_result\u001b[0m\u001b[0;34m(\u001b[0m\u001b[0mself\u001b[0m\u001b[0;34m)\u001b[0m\u001b[0;34m:\u001b[0m\u001b[0;34m\u001b[0m\u001b[0;34m\u001b[0m\u001b[0m\n",
            "\u001b[0;32m/usr/local/lib/python3.6/dist-packages/pandas/core/apply.py\u001b[0m in \u001b[0;36mapply_standard\u001b[0;34m(self)\u001b[0m\n\u001b[1;32m    274\u001b[0m \u001b[0;34m\u001b[0m\u001b[0m\n\u001b[1;32m    275\u001b[0m     \u001b[0;32mdef\u001b[0m \u001b[0mapply_standard\u001b[0m\u001b[0;34m(\u001b[0m\u001b[0mself\u001b[0m\u001b[0;34m)\u001b[0m\u001b[0;34m:\u001b[0m\u001b[0;34m\u001b[0m\u001b[0;34m\u001b[0m\u001b[0m\n\u001b[0;32m--> 276\u001b[0;31m         \u001b[0mresults\u001b[0m\u001b[0;34m,\u001b[0m \u001b[0mres_index\u001b[0m \u001b[0;34m=\u001b[0m \u001b[0mself\u001b[0m\u001b[0;34m.\u001b[0m\u001b[0mapply_series_generator\u001b[0m\u001b[0;34m(\u001b[0m\u001b[0;34m)\u001b[0m\u001b[0;34m\u001b[0m\u001b[0;34m\u001b[0m\u001b[0m\n\u001b[0m\u001b[1;32m    277\u001b[0m \u001b[0;34m\u001b[0m\u001b[0m\n\u001b[1;32m    278\u001b[0m         \u001b[0;31m# wrap results\u001b[0m\u001b[0;34m\u001b[0m\u001b[0;34m\u001b[0m\u001b[0;34m\u001b[0m\u001b[0m\n",
            "\u001b[0;32m/usr/local/lib/python3.6/dist-packages/pandas/core/apply.py\u001b[0m in \u001b[0;36mapply_series_generator\u001b[0;34m(self)\u001b[0m\n\u001b[1;32m    303\u001b[0m                 \u001b[0;32mfor\u001b[0m \u001b[0mi\u001b[0m\u001b[0;34m,\u001b[0m \u001b[0mv\u001b[0m \u001b[0;32min\u001b[0m \u001b[0menumerate\u001b[0m\u001b[0;34m(\u001b[0m\u001b[0mseries_gen\u001b[0m\u001b[0;34m)\u001b[0m\u001b[0;34m:\u001b[0m\u001b[0;34m\u001b[0m\u001b[0;34m\u001b[0m\u001b[0m\n\u001b[1;32m    304\u001b[0m                     \u001b[0;31m# ignore SettingWithCopy here in case the user mutates\u001b[0m\u001b[0;34m\u001b[0m\u001b[0;34m\u001b[0m\u001b[0;34m\u001b[0m\u001b[0m\n\u001b[0;32m--> 305\u001b[0;31m                     \u001b[0mresults\u001b[0m\u001b[0;34m[\u001b[0m\u001b[0mi\u001b[0m\u001b[0;34m]\u001b[0m \u001b[0;34m=\u001b[0m \u001b[0mself\u001b[0m\u001b[0;34m.\u001b[0m\u001b[0mf\u001b[0m\u001b[0;34m(\u001b[0m\u001b[0mv\u001b[0m\u001b[0;34m)\u001b[0m\u001b[0;34m\u001b[0m\u001b[0;34m\u001b[0m\u001b[0m\n\u001b[0m\u001b[1;32m    306\u001b[0m                     \u001b[0;32mif\u001b[0m \u001b[0misinstance\u001b[0m\u001b[0;34m(\u001b[0m\u001b[0mresults\u001b[0m\u001b[0;34m[\u001b[0m\u001b[0mi\u001b[0m\u001b[0;34m]\u001b[0m\u001b[0;34m,\u001b[0m \u001b[0mABCSeries\u001b[0m\u001b[0;34m)\u001b[0m\u001b[0;34m:\u001b[0m\u001b[0;34m\u001b[0m\u001b[0;34m\u001b[0m\u001b[0m\n\u001b[1;32m    307\u001b[0m                         \u001b[0;31m# If we have a view on v, we need to make a copy because\u001b[0m\u001b[0;34m\u001b[0m\u001b[0;34m\u001b[0m\u001b[0;34m\u001b[0m\u001b[0m\n",
            "\u001b[0;32m<ipython-input-56-b7e3607ac494>\u001b[0m in \u001b[0;36m<lambda>\u001b[0;34m(x)\u001b[0m\n\u001b[0;32m----> 1\u001b[0;31m \u001b[0mdata\u001b[0m\u001b[0;34m[\u001b[0m\u001b[0;34m\"category_vector\"\u001b[0m\u001b[0;34m]\u001b[0m \u001b[0;34m=\u001b[0m \u001b[0mdata\u001b[0m\u001b[0;34m.\u001b[0m\u001b[0mapply\u001b[0m\u001b[0;34m(\u001b[0m\u001b[0;32mlambda\u001b[0m \u001b[0mx\u001b[0m\u001b[0;34m:\u001b[0m \u001b[0mcategory_vectors\u001b[0m\u001b[0;34m[\u001b[0m\u001b[0mx\u001b[0m\u001b[0;34m[\u001b[0m\u001b[0;34m'Names'\u001b[0m\u001b[0;34m]\u001b[0m\u001b[0;34m]\u001b[0m\u001b[0;34m,\u001b[0m \u001b[0maxis\u001b[0m\u001b[0;34m=\u001b[0m\u001b[0;36m1\u001b[0m\u001b[0;34m)\u001b[0m\u001b[0;34m\u001b[0m\u001b[0;34m\u001b[0m\u001b[0m\n\u001b[0m",
            "\u001b[0;31mKeyError\u001b[0m: 0.0"
          ]
        }
      ]
    },
    {
      "cell_type": "code",
      "metadata": {
        "id": "AnZCQzAvJz7v"
      },
      "source": [
        "data.rename(columns = {\"0\": \"Names\"},  \n",
        "          inplace = True)"
      ],
      "execution_count": null,
      "outputs": []
    },
    {
      "cell_type": "code",
      "metadata": {
        "colab": {
          "base_uri": "https://localhost:8080/"
        },
        "id": "QRQ_rCtb9LnY",
        "outputId": "8961a336-2f01-4ea9-dc2e-4dd059d42144"
      },
      "source": [
        "data.columns"
      ],
      "execution_count": null,
      "outputs": [
        {
          "output_type": "execute_result",
          "data": {
            "text/plain": [
              "Index(['Names', '48', '49', '50', '53', '57', '58', '52', '46', '47',\n",
              "       ...\n",
              "       '75.146', '76.166', '76.167', '76.168', '79.109', '79.110', '76.169',\n",
              "       '76.170', '79.111', '80.70'],\n",
              "      dtype='object', length=4097)"
            ]
          },
          "metadata": {
            "tags": []
          },
          "execution_count": 31
        }
      ]
    },
    {
      "cell_type": "code",
      "metadata": {
        "colab": {
          "base_uri": "https://localhost:8080/",
          "height": 274
        },
        "id": "yaWzm2Yr9wIY",
        "outputId": "2b66621f-d443-4f98-8628-e510056d4cc3"
      },
      "source": [
        "category_vectors[data['Names']]"
      ],
      "execution_count": null,
      "outputs": [
        {
          "output_type": "error",
          "ename": "TypeError",
          "evalue": "ignored",
          "traceback": [
            "\u001b[0;31m---------------------------------------------------------------------------\u001b[0m",
            "\u001b[0;31mTypeError\u001b[0m                                 Traceback (most recent call last)",
            "\u001b[0;32m<ipython-input-46-6593c089517d>\u001b[0m in \u001b[0;36m<module>\u001b[0;34m()\u001b[0m\n\u001b[0;32m----> 1\u001b[0;31m \u001b[0mcategory_vectors\u001b[0m\u001b[0;34m[\u001b[0m\u001b[0mdata\u001b[0m\u001b[0;34m[\u001b[0m\u001b[0;34m'Names'\u001b[0m\u001b[0;34m]\u001b[0m\u001b[0;34m]\u001b[0m\u001b[0;34m\u001b[0m\u001b[0;34m\u001b[0m\u001b[0m\n\u001b[0m",
            "\u001b[0;32m/usr/local/lib/python3.6/dist-packages/pandas/core/generic.py\u001b[0m in \u001b[0;36m__hash__\u001b[0;34m(self)\u001b[0m\n\u001b[1;32m   1667\u001b[0m     \u001b[0;32mdef\u001b[0m \u001b[0m__hash__\u001b[0m\u001b[0;34m(\u001b[0m\u001b[0mself\u001b[0m\u001b[0;34m)\u001b[0m\u001b[0;34m:\u001b[0m\u001b[0;34m\u001b[0m\u001b[0;34m\u001b[0m\u001b[0m\n\u001b[1;32m   1668\u001b[0m         raise TypeError(\n\u001b[0;32m-> 1669\u001b[0;31m             \u001b[0;34mf\"{repr(type(self).__name__)} objects are mutable, \"\u001b[0m\u001b[0;34m\u001b[0m\u001b[0;34m\u001b[0m\u001b[0m\n\u001b[0m\u001b[1;32m   1670\u001b[0m             \u001b[0;34mf\"thus they cannot be hashed\"\u001b[0m\u001b[0;34m\u001b[0m\u001b[0;34m\u001b[0m\u001b[0m\n\u001b[1;32m   1671\u001b[0m         )\n",
            "\u001b[0;31mTypeError\u001b[0m: 'Series' objects are mutable, thus they cannot be hashed"
          ]
        }
      ]
    },
    {
      "cell_type": "code",
      "metadata": {
        "colab": {
          "base_uri": "https://localhost:8080/"
        },
        "id": "Jr0Z-LKf-AcA",
        "outputId": "83d1a4fa-cba3-4eb1-af71-eb9643403787"
      },
      "source": [
        "data['Names'][500]"
      ],
      "execution_count": null,
      "outputs": [
        {
          "output_type": "execute_result",
          "data": {
            "text/plain": [
              "1.0"
            ]
          },
          "metadata": {
            "tags": []
          },
          "execution_count": 59
        }
      ]
    },
    {
      "cell_type": "code",
      "metadata": {
        "colab": {
          "base_uri": "https://localhost:8080/"
        },
        "id": "qmf8QvZZMC74",
        "outputId": "6449e202-8820-4a54-960f-4d8f53d63fcb"
      },
      "source": [
        "data.shape"
      ],
      "execution_count": null,
      "outputs": [
        {
          "output_type": "execute_result",
          "data": {
            "text/plain": [
              "(20984, 4097)"
            ]
          },
          "metadata": {
            "tags": []
          },
          "execution_count": 66
        }
      ]
    },
    {
      "cell_type": "code",
      "metadata": {
        "colab": {
          "base_uri": "https://localhost:8080/",
          "height": 299
        },
        "id": "BWMAzbuCPNoQ",
        "outputId": "920a46ec-2c46-4372-b644-f4f3182608c9"
      },
      "source": [
        "data[\"category_vector\"] = x_train"
      ],
      "execution_count": null,
      "outputs": [
        {
          "output_type": "error",
          "ename": "ValueError",
          "evalue": "ignored",
          "traceback": [
            "\u001b[0;31m---------------------------------------------------------------------------\u001b[0m",
            "\u001b[0;31mValueError\u001b[0m                                Traceback (most recent call last)",
            "\u001b[0;32m<ipython-input-63-76d5e96c615c>\u001b[0m in \u001b[0;36m<module>\u001b[0;34m()\u001b[0m\n\u001b[0;32m----> 1\u001b[0;31m \u001b[0mdata\u001b[0m\u001b[0;34m[\u001b[0m\u001b[0;34m\"category_vector\"\u001b[0m\u001b[0;34m]\u001b[0m\u001b[0;34m=\u001b[0m \u001b[0mx_train\u001b[0m\u001b[0;34m\u001b[0m\u001b[0;34m\u001b[0m\u001b[0m\n\u001b[0m",
            "\u001b[0;32m/usr/local/lib/python3.6/dist-packages/pandas/core/frame.py\u001b[0m in \u001b[0;36m__setitem__\u001b[0;34m(self, key, value)\u001b[0m\n\u001b[1;32m   3042\u001b[0m         \u001b[0;32melse\u001b[0m\u001b[0;34m:\u001b[0m\u001b[0;34m\u001b[0m\u001b[0;34m\u001b[0m\u001b[0m\n\u001b[1;32m   3043\u001b[0m             \u001b[0;31m# set column\u001b[0m\u001b[0;34m\u001b[0m\u001b[0;34m\u001b[0m\u001b[0;34m\u001b[0m\u001b[0m\n\u001b[0;32m-> 3044\u001b[0;31m             \u001b[0mself\u001b[0m\u001b[0;34m.\u001b[0m\u001b[0m_set_item\u001b[0m\u001b[0;34m(\u001b[0m\u001b[0mkey\u001b[0m\u001b[0;34m,\u001b[0m \u001b[0mvalue\u001b[0m\u001b[0;34m)\u001b[0m\u001b[0;34m\u001b[0m\u001b[0;34m\u001b[0m\u001b[0m\n\u001b[0m\u001b[1;32m   3045\u001b[0m \u001b[0;34m\u001b[0m\u001b[0m\n\u001b[1;32m   3046\u001b[0m     \u001b[0;32mdef\u001b[0m \u001b[0m_setitem_slice\u001b[0m\u001b[0;34m(\u001b[0m\u001b[0mself\u001b[0m\u001b[0;34m,\u001b[0m \u001b[0mkey\u001b[0m\u001b[0;34m:\u001b[0m \u001b[0mslice\u001b[0m\u001b[0;34m,\u001b[0m \u001b[0mvalue\u001b[0m\u001b[0;34m)\u001b[0m\u001b[0;34m:\u001b[0m\u001b[0;34m\u001b[0m\u001b[0;34m\u001b[0m\u001b[0m\n",
            "\u001b[0;32m/usr/local/lib/python3.6/dist-packages/pandas/core/frame.py\u001b[0m in \u001b[0;36m_set_item\u001b[0;34m(self, key, value)\u001b[0m\n\u001b[1;32m   3118\u001b[0m         \"\"\"\n\u001b[1;32m   3119\u001b[0m         \u001b[0mself\u001b[0m\u001b[0;34m.\u001b[0m\u001b[0m_ensure_valid_index\u001b[0m\u001b[0;34m(\u001b[0m\u001b[0mvalue\u001b[0m\u001b[0;34m)\u001b[0m\u001b[0;34m\u001b[0m\u001b[0;34m\u001b[0m\u001b[0m\n\u001b[0;32m-> 3120\u001b[0;31m         \u001b[0mvalue\u001b[0m \u001b[0;34m=\u001b[0m \u001b[0mself\u001b[0m\u001b[0;34m.\u001b[0m\u001b[0m_sanitize_column\u001b[0m\u001b[0;34m(\u001b[0m\u001b[0mkey\u001b[0m\u001b[0;34m,\u001b[0m \u001b[0mvalue\u001b[0m\u001b[0;34m)\u001b[0m\u001b[0;34m\u001b[0m\u001b[0;34m\u001b[0m\u001b[0m\n\u001b[0m\u001b[1;32m   3121\u001b[0m         \u001b[0mNDFrame\u001b[0m\u001b[0;34m.\u001b[0m\u001b[0m_set_item\u001b[0m\u001b[0;34m(\u001b[0m\u001b[0mself\u001b[0m\u001b[0;34m,\u001b[0m \u001b[0mkey\u001b[0m\u001b[0;34m,\u001b[0m \u001b[0mvalue\u001b[0m\u001b[0;34m)\u001b[0m\u001b[0;34m\u001b[0m\u001b[0;34m\u001b[0m\u001b[0m\n\u001b[1;32m   3122\u001b[0m \u001b[0;34m\u001b[0m\u001b[0m\n",
            "\u001b[0;32m/usr/local/lib/python3.6/dist-packages/pandas/core/frame.py\u001b[0m in \u001b[0;36m_sanitize_column\u001b[0;34m(self, key, value, broadcast)\u001b[0m\n\u001b[1;32m   3766\u001b[0m \u001b[0;34m\u001b[0m\u001b[0m\n\u001b[1;32m   3767\u001b[0m             \u001b[0;31m# turn me into an ndarray\u001b[0m\u001b[0;34m\u001b[0m\u001b[0;34m\u001b[0m\u001b[0;34m\u001b[0m\u001b[0m\n\u001b[0;32m-> 3768\u001b[0;31m             \u001b[0mvalue\u001b[0m \u001b[0;34m=\u001b[0m \u001b[0msanitize_index\u001b[0m\u001b[0;34m(\u001b[0m\u001b[0mvalue\u001b[0m\u001b[0;34m,\u001b[0m \u001b[0mself\u001b[0m\u001b[0;34m.\u001b[0m\u001b[0mindex\u001b[0m\u001b[0;34m)\u001b[0m\u001b[0;34m\u001b[0m\u001b[0;34m\u001b[0m\u001b[0m\n\u001b[0m\u001b[1;32m   3769\u001b[0m             \u001b[0;32mif\u001b[0m \u001b[0;32mnot\u001b[0m \u001b[0misinstance\u001b[0m\u001b[0;34m(\u001b[0m\u001b[0mvalue\u001b[0m\u001b[0;34m,\u001b[0m \u001b[0;34m(\u001b[0m\u001b[0mnp\u001b[0m\u001b[0;34m.\u001b[0m\u001b[0mndarray\u001b[0m\u001b[0;34m,\u001b[0m \u001b[0mIndex\u001b[0m\u001b[0;34m)\u001b[0m\u001b[0;34m)\u001b[0m\u001b[0;34m:\u001b[0m\u001b[0;34m\u001b[0m\u001b[0;34m\u001b[0m\u001b[0m\n\u001b[1;32m   3770\u001b[0m                 \u001b[0;32mif\u001b[0m \u001b[0misinstance\u001b[0m\u001b[0;34m(\u001b[0m\u001b[0mvalue\u001b[0m\u001b[0;34m,\u001b[0m \u001b[0mlist\u001b[0m\u001b[0;34m)\u001b[0m \u001b[0;32mand\u001b[0m \u001b[0mlen\u001b[0m\u001b[0;34m(\u001b[0m\u001b[0mvalue\u001b[0m\u001b[0;34m)\u001b[0m \u001b[0;34m>\u001b[0m \u001b[0;36m0\u001b[0m\u001b[0;34m:\u001b[0m\u001b[0;34m\u001b[0m\u001b[0;34m\u001b[0m\u001b[0m\n",
            "\u001b[0;32m/usr/local/lib/python3.6/dist-packages/pandas/core/internals/construction.py\u001b[0m in \u001b[0;36msanitize_index\u001b[0;34m(data, index)\u001b[0m\n\u001b[1;32m    746\u001b[0m     \u001b[0;32mif\u001b[0m \u001b[0mlen\u001b[0m\u001b[0;34m(\u001b[0m\u001b[0mdata\u001b[0m\u001b[0;34m)\u001b[0m \u001b[0;34m!=\u001b[0m \u001b[0mlen\u001b[0m\u001b[0;34m(\u001b[0m\u001b[0mindex\u001b[0m\u001b[0;34m)\u001b[0m\u001b[0;34m:\u001b[0m\u001b[0;34m\u001b[0m\u001b[0;34m\u001b[0m\u001b[0m\n\u001b[1;32m    747\u001b[0m         raise ValueError(\n\u001b[0;32m--> 748\u001b[0;31m             \u001b[0;34m\"Length of values \"\u001b[0m\u001b[0;34m\u001b[0m\u001b[0;34m\u001b[0m\u001b[0m\n\u001b[0m\u001b[1;32m    749\u001b[0m             \u001b[0;34mf\"({len(data)}) \"\u001b[0m\u001b[0;34m\u001b[0m\u001b[0;34m\u001b[0m\u001b[0m\n\u001b[1;32m    750\u001b[0m             \u001b[0;34m\"does not match length of index \"\u001b[0m\u001b[0;34m\u001b[0m\u001b[0;34m\u001b[0m\u001b[0m\n",
            "\u001b[0;31mValueError\u001b[0m: Length of values (20977) does not match length of index (20984)"
          ]
        }
      ]
    },
    {
      "cell_type": "code",
      "metadata": {
        "colab": {
          "base_uri": "https://localhost:8080/",
          "height": 225
        },
        "id": "Zp-gQi6Oqehk",
        "outputId": "10120963-ccb0-4b4d-b465-f9e0266e2cdc"
      },
      "source": [
        "import numpy as np\n",
        "\n",
        "xy = x_train[0]\n",
        "#xy.append(x_train[1])\n",
        "np.concatenate(xy , x_train[1])"
      ],
      "execution_count": null,
      "outputs": [
        {
          "output_type": "error",
          "ename": "TypeError",
          "evalue": "ignored",
          "traceback": [
            "\u001b[0;31m---------------------------------------------------------------------------\u001b[0m",
            "\u001b[0;31mTypeError\u001b[0m                                 Traceback (most recent call last)",
            "\u001b[0;32m<ipython-input-11-d5f6261a569c>\u001b[0m in \u001b[0;36m<module>\u001b[0;34m()\u001b[0m\n\u001b[1;32m      3\u001b[0m \u001b[0mxy\u001b[0m \u001b[0;34m=\u001b[0m \u001b[0mx_train\u001b[0m\u001b[0;34m[\u001b[0m\u001b[0;36m0\u001b[0m\u001b[0;34m]\u001b[0m\u001b[0;34m\u001b[0m\u001b[0;34m\u001b[0m\u001b[0m\n\u001b[1;32m      4\u001b[0m \u001b[0;31m#xy.append(x_train[1])\u001b[0m\u001b[0;34m\u001b[0m\u001b[0;34m\u001b[0m\u001b[0;34m\u001b[0m\u001b[0m\n\u001b[0;32m----> 5\u001b[0;31m \u001b[0mnp\u001b[0m\u001b[0;34m.\u001b[0m\u001b[0mconcatenate\u001b[0m\u001b[0;34m(\u001b[0m\u001b[0mxy\u001b[0m \u001b[0;34m,\u001b[0m \u001b[0mx_train\u001b[0m\u001b[0;34m[\u001b[0m\u001b[0;36m1\u001b[0m\u001b[0;34m]\u001b[0m\u001b[0;34m)\u001b[0m\u001b[0;34m\u001b[0m\u001b[0;34m\u001b[0m\u001b[0m\n\u001b[0m",
            "\u001b[0;32m<__array_function__ internals>\u001b[0m in \u001b[0;36mconcatenate\u001b[0;34m(*args, **kwargs)\u001b[0m\n",
            "\u001b[0;31mTypeError\u001b[0m: only integer scalar arrays can be converted to a scalar index"
          ]
        }
      ]
    },
    {
      "cell_type": "code",
      "metadata": {
        "colab": {
          "base_uri": "https://localhost:8080/"
        },
        "id": "UjRG7K2kr7-g",
        "outputId": "476cf768-80ef-461f-c206-d6f5b4d85a37"
      },
      "source": [
        "type(list(x_train[0]))"
      ],
      "execution_count": null,
      "outputs": [
        {
          "output_type": "execute_result",
          "data": {
            "text/plain": [
              "list"
            ]
          },
          "metadata": {
            "tags": []
          },
          "execution_count": 14
        }
      ]
    },
    {
      "cell_type": "code",
      "metadata": {
        "id": "qgg5m-QcsH7r"
      },
      "source": [
        "xy = list(x_train[0])\n",
        "xy.append(list(x_train[1]))\n",
        "xy"
      ],
      "execution_count": null,
      "outputs": []
    },
    {
      "cell_type": "code",
      "metadata": {
        "colab": {
          "base_uri": "https://localhost:8080/"
        },
        "id": "Hr2j56SCsUmB",
        "outputId": "7dcc1753-3fe4-4073-f7b0-3b6340a115b2"
      },
      "source": [
        "x_train[0:2]"
      ],
      "execution_count": null,
      "outputs": [
        {
          "output_type": "execute_result",
          "data": {
            "text/plain": [
              "array([[ 1.8737353e-04, -3.6036414e-05,  9.9660538e-04, ...,\n",
              "        -4.2834189e-02,  1.8525475e+00,  7.3349339e-01],\n",
              "       [ 4.2074076e-05, -1.9642327e-04,  1.7427305e-03, ...,\n",
              "        -1.7522478e-02,  1.4497128e+00,  1.5117691e-01]], dtype=float32)"
            ]
          },
          "metadata": {
            "tags": []
          },
          "execution_count": 20
        }
      ]
    },
    {
      "cell_type": "code",
      "metadata": {
        "id": "LUTnnHwJtPay"
      },
      "source": [
        "data_Y = x_train[0:18001]"
      ],
      "execution_count": null,
      "outputs": []
    },
    {
      "cell_type": "code",
      "metadata": {
        "colab": {
          "base_uri": "https://localhost:8080/"
        },
        "id": "blR2qoS4tXfu",
        "outputId": "a2961029-9630-4fb0-c6e9-17cf3907bde2"
      },
      "source": [
        "data_Y"
      ],
      "execution_count": null,
      "outputs": [
        {
          "output_type": "execute_result",
          "data": {
            "text/plain": [
              "array([[ 1.87373531e-04, -3.60364138e-05,  9.96605377e-04, ...,\n",
              "        -4.28341888e-02,  1.85254753e+00,  7.33493388e-01],\n",
              "       [ 4.20740762e-05, -1.96423265e-04,  1.74273050e-03, ...,\n",
              "        -1.75224785e-02,  1.44971275e+00,  1.51176915e-01],\n",
              "       [ 1.30430590e-05, -2.46108652e-06,  2.05942476e-03, ...,\n",
              "        -4.37833190e-01,  3.59158576e-01,  1.12347975e-01],\n",
              "       ...,\n",
              "       [-4.22935364e-06, -1.65513135e-04,  1.72536378e-03, ...,\n",
              "        -3.27480465e-01,  2.35634938e-01, -1.79877907e-01],\n",
              "       [ 1.07004220e-04,  7.55684858e-04,  1.80991238e-03, ...,\n",
              "         1.93879500e-01,  7.93787658e-01,  5.09644091e-01],\n",
              "       [ 1.08637665e-04, -2.20800575e-05,  1.96550763e-03, ...,\n",
              "        -1.17972620e-01, -7.22661614e-01, -2.16550872e-01]], dtype=float32)"
            ]
          },
          "metadata": {
            "tags": []
          },
          "execution_count": 23
        }
      ]
    },
    {
      "cell_type": "code",
      "metadata": {
        "id": "Sj2i20ZAtiBq"
      },
      "source": [
        "zero_Y = x_train[18002:20977]"
      ],
      "execution_count": null,
      "outputs": []
    },
    {
      "cell_type": "code",
      "metadata": {
        "id": "xuG_v0Tyt5E5"
      },
      "source": [
        "predata_X = data.iloc[0:18001, 1:4097]"
      ],
      "execution_count": null,
      "outputs": []
    },
    {
      "cell_type": "code",
      "metadata": {
        "colab": {
          "base_uri": "https://localhost:8080/"
        },
        "id": "wPg8a0ATxzEr",
        "outputId": "b5246291-5120-4802-a90d-8c2bace40897"
      },
      "source": [
        "type(predata_X)"
      ],
      "execution_count": null,
      "outputs": [
        {
          "output_type": "execute_result",
          "data": {
            "text/plain": [
              "pandas.core.frame.DataFrame"
            ]
          },
          "metadata": {
            "tags": []
          },
          "execution_count": 33
        }
      ]
    },
    {
      "cell_type": "code",
      "metadata": {
        "colab": {
          "base_uri": "https://localhost:8080/"
        },
        "id": "094xhIXDyjMW",
        "outputId": "39490d90-9942-463f-cb88-f98dc8a88142"
      },
      "source": [
        "predata_X.shape"
      ],
      "execution_count": null,
      "outputs": [
        {
          "output_type": "execute_result",
          "data": {
            "text/plain": [
              "(18001, 4096)"
            ]
          },
          "metadata": {
            "tags": []
          },
          "execution_count": 38
        }
      ]
    },
    {
      "cell_type": "code",
      "metadata": {
        "colab": {
          "base_uri": "https://localhost:8080/"
        },
        "id": "zIzE_eBEyqS1",
        "outputId": "c1452d87-b9d2-4432-a4f4-c755a49bb6dd"
      },
      "source": [
        "predata_X.iloc[0]"
      ],
      "execution_count": null,
      "outputs": [
        {
          "output_type": "execute_result",
          "data": {
            "text/plain": [
              "48        191.0\n",
              "49        190.0\n",
              "50        191.0\n",
              "53        190.0\n",
              "57        192.0\n",
              "          ...  \n",
              "79.110     54.0\n",
              "76.169     45.0\n",
              "76.170     41.0\n",
              "79.111     42.0\n",
              "80.70      38.0\n",
              "Name: 0, Length: 4096, dtype: float64"
            ]
          },
          "metadata": {
            "tags": []
          },
          "execution_count": 40
        }
      ]
    },
    {
      "cell_type": "code",
      "metadata": {
        "id": "gJWc7hBKyCxD"
      },
      "source": [
        "data_X = data.iloc[0:18001, 1:4097]"
      ],
      "execution_count": null,
      "outputs": []
    },
    {
      "cell_type": "code",
      "metadata": {
        "id": "7iq4pxVryDRZ"
      },
      "source": [
        "zero_X = data.iloc[18002:20977, 1:4097]"
      ],
      "execution_count": null,
      "outputs": []
    },
    {
      "cell_type": "code",
      "metadata": {
        "id": "Qx3zNEgXyRkN"
      },
      "source": [
        "train_X, test_X, train_Y, test_Y = train_test_split(data_X, data_Y, random_state=42)"
      ],
      "execution_count": null,
      "outputs": []
    },
    {
      "cell_type": "code",
      "metadata": {
        "id": "bCL3eykpySV5"
      },
      "source": [
        "standard_scaler = MinMaxScaler()\n",
        "\n",
        "train_X = standard_scaler.fit_transform(train_X)\n",
        "test_X = standard_scaler.transform(test_X)\n",
        "zero_X = standard_scaler.transform(zero_X)\n",
        "\n",
        "train_X = train_X.reshape((train_X.shape[0], 64, 64, 1)).astype('float32')\n",
        "test_X = test_X.reshape((test_X.shape[0], 64, 64, 1)).astype('float32')\n",
        "zero_X = zero_X.reshape((zero_X.shape[0], 64, 64, 1)).astype('float32')"
      ],
      "execution_count": null,
      "outputs": []
    },
    {
      "cell_type": "code",
      "metadata": {
        "colab": {
          "base_uri": "https://localhost:8080/",
          "height": 307
        },
        "id": "V4wHJ6pA2_HE",
        "outputId": "89848108-ae30-41df-c7b0-1af8931e3529"
      },
      "source": [
        "train_X = train_X.reshape((train_X.shape[0], 64, 64, 1)).astype('float32')\n",
        "test_X = test_X.reshape((test_X.shape[0], 64, 64, 1)).astype('float32')\n",
        "zero_X = zero_X.reshape((zero_X.shape[0], 64, 64, 1)).astype('float32')"
      ],
      "execution_count": null,
      "outputs": [
        {
          "output_type": "error",
          "ename": "AttributeError",
          "evalue": "ignored",
          "traceback": [
            "\u001b[0;31m---------------------------------------------------------------------------\u001b[0m",
            "\u001b[0;31mAttributeError\u001b[0m                            Traceback (most recent call last)",
            "\u001b[0;32m<ipython-input-66-29a739bdb23a>\u001b[0m in \u001b[0;36m<module>\u001b[0;34m()\u001b[0m\n\u001b[0;32m----> 1\u001b[0;31m \u001b[0mtrain_X\u001b[0m \u001b[0;34m=\u001b[0m \u001b[0mtrain_X\u001b[0m\u001b[0;34m.\u001b[0m\u001b[0mreshape\u001b[0m\u001b[0;34m(\u001b[0m\u001b[0;34m(\u001b[0m\u001b[0mtrain_X\u001b[0m\u001b[0;34m.\u001b[0m\u001b[0mshape\u001b[0m\u001b[0;34m[\u001b[0m\u001b[0;36m0\u001b[0m\u001b[0;34m]\u001b[0m\u001b[0;34m,\u001b[0m \u001b[0;36m64\u001b[0m\u001b[0;34m,\u001b[0m \u001b[0;36m64\u001b[0m\u001b[0;34m,\u001b[0m \u001b[0;36m1\u001b[0m\u001b[0;34m)\u001b[0m\u001b[0;34m)\u001b[0m\u001b[0;34m.\u001b[0m\u001b[0mastype\u001b[0m\u001b[0;34m(\u001b[0m\u001b[0;34m'float32'\u001b[0m\u001b[0;34m)\u001b[0m\u001b[0;34m\u001b[0m\u001b[0;34m\u001b[0m\u001b[0m\n\u001b[0m\u001b[1;32m      2\u001b[0m \u001b[0mtest_X\u001b[0m \u001b[0;34m=\u001b[0m \u001b[0mtest_X\u001b[0m\u001b[0;34m.\u001b[0m\u001b[0mreshape\u001b[0m\u001b[0;34m(\u001b[0m\u001b[0;34m(\u001b[0m\u001b[0mtest_X\u001b[0m\u001b[0;34m.\u001b[0m\u001b[0mshape\u001b[0m\u001b[0;34m[\u001b[0m\u001b[0;36m0\u001b[0m\u001b[0;34m]\u001b[0m\u001b[0;34m,\u001b[0m \u001b[0;36m64\u001b[0m\u001b[0;34m,\u001b[0m \u001b[0;36m64\u001b[0m\u001b[0;34m,\u001b[0m \u001b[0;36m1\u001b[0m\u001b[0;34m)\u001b[0m\u001b[0;34m)\u001b[0m\u001b[0;34m.\u001b[0m\u001b[0mastype\u001b[0m\u001b[0;34m(\u001b[0m\u001b[0;34m'float32'\u001b[0m\u001b[0;34m)\u001b[0m\u001b[0;34m\u001b[0m\u001b[0;34m\u001b[0m\u001b[0m\n\u001b[1;32m      3\u001b[0m \u001b[0mzero_X\u001b[0m \u001b[0;34m=\u001b[0m \u001b[0mzero_X\u001b[0m\u001b[0;34m.\u001b[0m\u001b[0mreshape\u001b[0m\u001b[0;34m(\u001b[0m\u001b[0;34m(\u001b[0m\u001b[0mzero_X\u001b[0m\u001b[0;34m.\u001b[0m\u001b[0mshape\u001b[0m\u001b[0;34m[\u001b[0m\u001b[0;36m0\u001b[0m\u001b[0;34m]\u001b[0m\u001b[0;34m,\u001b[0m \u001b[0;36m64\u001b[0m\u001b[0;34m,\u001b[0m \u001b[0;36m64\u001b[0m\u001b[0;34m,\u001b[0m \u001b[0;36m1\u001b[0m\u001b[0;34m)\u001b[0m\u001b[0;34m)\u001b[0m\u001b[0;34m.\u001b[0m\u001b[0mastype\u001b[0m\u001b[0;34m(\u001b[0m\u001b[0;34m'float32'\u001b[0m\u001b[0;34m)\u001b[0m\u001b[0;34m\u001b[0m\u001b[0;34m\u001b[0m\u001b[0m\n",
            "\u001b[0;32m/usr/local/lib/python3.6/dist-packages/pandas/core/generic.py\u001b[0m in \u001b[0;36m__getattr__\u001b[0;34m(self, name)\u001b[0m\n\u001b[1;32m   5139\u001b[0m             \u001b[0;32mif\u001b[0m \u001b[0mself\u001b[0m\u001b[0;34m.\u001b[0m\u001b[0m_info_axis\u001b[0m\u001b[0;34m.\u001b[0m\u001b[0m_can_hold_identifiers_and_holds_name\u001b[0m\u001b[0;34m(\u001b[0m\u001b[0mname\u001b[0m\u001b[0;34m)\u001b[0m\u001b[0;34m:\u001b[0m\u001b[0;34m\u001b[0m\u001b[0;34m\u001b[0m\u001b[0m\n\u001b[1;32m   5140\u001b[0m                 \u001b[0;32mreturn\u001b[0m \u001b[0mself\u001b[0m\u001b[0;34m[\u001b[0m\u001b[0mname\u001b[0m\u001b[0;34m]\u001b[0m\u001b[0;34m\u001b[0m\u001b[0;34m\u001b[0m\u001b[0m\n\u001b[0;32m-> 5141\u001b[0;31m             \u001b[0;32mreturn\u001b[0m \u001b[0mobject\u001b[0m\u001b[0;34m.\u001b[0m\u001b[0m__getattribute__\u001b[0m\u001b[0;34m(\u001b[0m\u001b[0mself\u001b[0m\u001b[0;34m,\u001b[0m \u001b[0mname\u001b[0m\u001b[0;34m)\u001b[0m\u001b[0;34m\u001b[0m\u001b[0;34m\u001b[0m\u001b[0m\n\u001b[0m\u001b[1;32m   5142\u001b[0m \u001b[0;34m\u001b[0m\u001b[0m\n\u001b[1;32m   5143\u001b[0m     \u001b[0;32mdef\u001b[0m \u001b[0m__setattr__\u001b[0m\u001b[0;34m(\u001b[0m\u001b[0mself\u001b[0m\u001b[0;34m,\u001b[0m \u001b[0mname\u001b[0m\u001b[0;34m:\u001b[0m \u001b[0mstr\u001b[0m\u001b[0;34m,\u001b[0m \u001b[0mvalue\u001b[0m\u001b[0;34m)\u001b[0m \u001b[0;34m->\u001b[0m \u001b[0;32mNone\u001b[0m\u001b[0;34m:\u001b[0m\u001b[0;34m\u001b[0m\u001b[0;34m\u001b[0m\u001b[0m\n",
            "\u001b[0;31mAttributeError\u001b[0m: 'DataFrame' object has no attribute 'reshape'"
          ]
        }
      ]
    },
    {
      "cell_type": "code",
      "metadata": {
        "id": "GJ1KD--G2Vb8"
      },
      "source": [
        "train_X"
      ],
      "execution_count": null,
      "outputs": []
    },
    {
      "cell_type": "code",
      "metadata": {
        "colab": {
          "base_uri": "https://localhost:8080/"
        },
        "id": "kwYnAHEgyeEB",
        "outputId": "4206712e-4b8e-496a-b3d3-b42b46970118"
      },
      "source": [
        "model = Sequential()\n",
        "model.add(Conv2D(64, (5, 5), padding=\"same\", activation='relu', input_shape=(64, 64, 1)))\n",
        "model.add(MaxPooling2D((2, 2)))\n",
        "model.add(Conv2D(32, (3, 3), padding=\"same\", activation='relu'))\n",
        "model.add(MaxPooling2D((2, 2)))\n",
        "model.add(Flatten())\n",
        "model.add(Dense(1920, activation='sigmoid'))\n",
        "model.compile(optimizer=\"Adam\", loss='binary_crossentropy', metrics=['binary_accuracy'])\n",
        "model.summary()"
      ],
      "execution_count": null,
      "outputs": [
        {
          "output_type": "stream",
          "text": [
            "Model: \"sequential_1\"\n",
            "_________________________________________________________________\n",
            "Layer (type)                 Output Shape              Param #   \n",
            "=================================================================\n",
            "conv2d_2 (Conv2D)            (None, 64, 64, 64)        1664      \n",
            "_________________________________________________________________\n",
            "max_pooling2d_2 (MaxPooling2 (None, 32, 32, 64)        0         \n",
            "_________________________________________________________________\n",
            "conv2d_3 (Conv2D)            (None, 32, 32, 32)        18464     \n",
            "_________________________________________________________________\n",
            "max_pooling2d_3 (MaxPooling2 (None, 16, 16, 32)        0         \n",
            "_________________________________________________________________\n",
            "flatten_1 (Flatten)          (None, 8192)              0         \n",
            "_________________________________________________________________\n",
            "dense_1 (Dense)              (None, 1920)              15730560  \n",
            "=================================================================\n",
            "Total params: 15,750,688\n",
            "Trainable params: 15,750,688\n",
            "Non-trainable params: 0\n",
            "_________________________________________________________________\n"
          ],
          "name": "stdout"
        }
      ]
    },
    {
      "cell_type": "code",
      "metadata": {
        "colab": {
          "base_uri": "https://localhost:8080/",
          "height": 660
        },
        "id": "91FczKOnzARR",
        "outputId": "b69087f2-9ebb-4223-fe12-3a3921d01623"
      },
      "source": [
        "model.fit(train_X, train_Y, epochs=50, batch_size=256, validation_data=(test_X, test_Y))"
      ],
      "execution_count": null,
      "outputs": [
        {
          "output_type": "stream",
          "text": [
            "Epoch 1/50\n"
          ],
          "name": "stdout"
        },
        {
          "output_type": "error",
          "ename": "ValueError",
          "evalue": "ignored",
          "traceback": [
            "\u001b[0;31m---------------------------------------------------------------------------\u001b[0m",
            "\u001b[0;31mValueError\u001b[0m                                Traceback (most recent call last)",
            "\u001b[0;32m<ipython-input-67-6cf4d86f4b39>\u001b[0m in \u001b[0;36m<module>\u001b[0;34m()\u001b[0m\n\u001b[0;32m----> 1\u001b[0;31m \u001b[0mmodel\u001b[0m\u001b[0;34m.\u001b[0m\u001b[0mfit\u001b[0m\u001b[0;34m(\u001b[0m\u001b[0mtrain_X\u001b[0m\u001b[0;34m,\u001b[0m \u001b[0mtrain_Y\u001b[0m\u001b[0;34m,\u001b[0m \u001b[0mepochs\u001b[0m\u001b[0;34m=\u001b[0m\u001b[0;36m50\u001b[0m\u001b[0;34m,\u001b[0m \u001b[0mbatch_size\u001b[0m\u001b[0;34m=\u001b[0m\u001b[0;36m256\u001b[0m\u001b[0;34m,\u001b[0m \u001b[0mvalidation_data\u001b[0m\u001b[0;34m=\u001b[0m\u001b[0;34m(\u001b[0m\u001b[0mtest_X\u001b[0m\u001b[0;34m,\u001b[0m \u001b[0mtest_Y\u001b[0m\u001b[0;34m)\u001b[0m\u001b[0;34m)\u001b[0m\u001b[0;34m\u001b[0m\u001b[0;34m\u001b[0m\u001b[0m\n\u001b[0m",
            "\u001b[0;32m/usr/local/lib/python3.6/dist-packages/tensorflow/python/keras/engine/training.py\u001b[0m in \u001b[0;36mfit\u001b[0;34m(self, x, y, batch_size, epochs, verbose, callbacks, validation_split, validation_data, shuffle, class_weight, sample_weight, initial_epoch, steps_per_epoch, validation_steps, validation_batch_size, validation_freq, max_queue_size, workers, use_multiprocessing)\u001b[0m\n\u001b[1;32m   1098\u001b[0m                 _r=1):\n\u001b[1;32m   1099\u001b[0m               \u001b[0mcallbacks\u001b[0m\u001b[0;34m.\u001b[0m\u001b[0mon_train_batch_begin\u001b[0m\u001b[0;34m(\u001b[0m\u001b[0mstep\u001b[0m\u001b[0;34m)\u001b[0m\u001b[0;34m\u001b[0m\u001b[0;34m\u001b[0m\u001b[0m\n\u001b[0;32m-> 1100\u001b[0;31m               \u001b[0mtmp_logs\u001b[0m \u001b[0;34m=\u001b[0m \u001b[0mself\u001b[0m\u001b[0;34m.\u001b[0m\u001b[0mtrain_function\u001b[0m\u001b[0;34m(\u001b[0m\u001b[0miterator\u001b[0m\u001b[0;34m)\u001b[0m\u001b[0;34m\u001b[0m\u001b[0;34m\u001b[0m\u001b[0m\n\u001b[0m\u001b[1;32m   1101\u001b[0m               \u001b[0;32mif\u001b[0m \u001b[0mdata_handler\u001b[0m\u001b[0;34m.\u001b[0m\u001b[0mshould_sync\u001b[0m\u001b[0;34m:\u001b[0m\u001b[0;34m\u001b[0m\u001b[0;34m\u001b[0m\u001b[0m\n\u001b[1;32m   1102\u001b[0m                 \u001b[0mcontext\u001b[0m\u001b[0;34m.\u001b[0m\u001b[0masync_wait\u001b[0m\u001b[0;34m(\u001b[0m\u001b[0;34m)\u001b[0m\u001b[0;34m\u001b[0m\u001b[0;34m\u001b[0m\u001b[0m\n",
            "\u001b[0;32m/usr/local/lib/python3.6/dist-packages/tensorflow/python/eager/def_function.py\u001b[0m in \u001b[0;36m__call__\u001b[0;34m(self, *args, **kwds)\u001b[0m\n\u001b[1;32m    826\u001b[0m     \u001b[0mtracing_count\u001b[0m \u001b[0;34m=\u001b[0m \u001b[0mself\u001b[0m\u001b[0;34m.\u001b[0m\u001b[0mexperimental_get_tracing_count\u001b[0m\u001b[0;34m(\u001b[0m\u001b[0;34m)\u001b[0m\u001b[0;34m\u001b[0m\u001b[0;34m\u001b[0m\u001b[0m\n\u001b[1;32m    827\u001b[0m     \u001b[0;32mwith\u001b[0m \u001b[0mtrace\u001b[0m\u001b[0;34m.\u001b[0m\u001b[0mTrace\u001b[0m\u001b[0;34m(\u001b[0m\u001b[0mself\u001b[0m\u001b[0;34m.\u001b[0m\u001b[0m_name\u001b[0m\u001b[0;34m)\u001b[0m \u001b[0;32mas\u001b[0m \u001b[0mtm\u001b[0m\u001b[0;34m:\u001b[0m\u001b[0;34m\u001b[0m\u001b[0;34m\u001b[0m\u001b[0m\n\u001b[0;32m--> 828\u001b[0;31m       \u001b[0mresult\u001b[0m \u001b[0;34m=\u001b[0m \u001b[0mself\u001b[0m\u001b[0;34m.\u001b[0m\u001b[0m_call\u001b[0m\u001b[0;34m(\u001b[0m\u001b[0;34m*\u001b[0m\u001b[0margs\u001b[0m\u001b[0;34m,\u001b[0m \u001b[0;34m**\u001b[0m\u001b[0mkwds\u001b[0m\u001b[0;34m)\u001b[0m\u001b[0;34m\u001b[0m\u001b[0;34m\u001b[0m\u001b[0m\n\u001b[0m\u001b[1;32m    829\u001b[0m       \u001b[0mcompiler\u001b[0m \u001b[0;34m=\u001b[0m \u001b[0;34m\"xla\"\u001b[0m \u001b[0;32mif\u001b[0m \u001b[0mself\u001b[0m\u001b[0;34m.\u001b[0m\u001b[0m_experimental_compile\u001b[0m \u001b[0;32melse\u001b[0m \u001b[0;34m\"nonXla\"\u001b[0m\u001b[0;34m\u001b[0m\u001b[0;34m\u001b[0m\u001b[0m\n\u001b[1;32m    830\u001b[0m       \u001b[0mnew_tracing_count\u001b[0m \u001b[0;34m=\u001b[0m \u001b[0mself\u001b[0m\u001b[0;34m.\u001b[0m\u001b[0mexperimental_get_tracing_count\u001b[0m\u001b[0;34m(\u001b[0m\u001b[0;34m)\u001b[0m\u001b[0;34m\u001b[0m\u001b[0;34m\u001b[0m\u001b[0m\n",
            "\u001b[0;32m/usr/local/lib/python3.6/dist-packages/tensorflow/python/eager/def_function.py\u001b[0m in \u001b[0;36m_call\u001b[0;34m(self, *args, **kwds)\u001b[0m\n\u001b[1;32m    853\u001b[0m       \u001b[0;31m# In this case we have created variables on the first call, so we run the\u001b[0m\u001b[0;34m\u001b[0m\u001b[0;34m\u001b[0m\u001b[0;34m\u001b[0m\u001b[0m\n\u001b[1;32m    854\u001b[0m       \u001b[0;31m# defunned version which is guaranteed to never create variables.\u001b[0m\u001b[0;34m\u001b[0m\u001b[0;34m\u001b[0m\u001b[0;34m\u001b[0m\u001b[0m\n\u001b[0;32m--> 855\u001b[0;31m       \u001b[0;32mreturn\u001b[0m \u001b[0mself\u001b[0m\u001b[0;34m.\u001b[0m\u001b[0m_stateless_fn\u001b[0m\u001b[0;34m(\u001b[0m\u001b[0;34m*\u001b[0m\u001b[0margs\u001b[0m\u001b[0;34m,\u001b[0m \u001b[0;34m**\u001b[0m\u001b[0mkwds\u001b[0m\u001b[0;34m)\u001b[0m  \u001b[0;31m# pylint: disable=not-callable\u001b[0m\u001b[0;34m\u001b[0m\u001b[0;34m\u001b[0m\u001b[0m\n\u001b[0m\u001b[1;32m    856\u001b[0m     \u001b[0;32melif\u001b[0m \u001b[0mself\u001b[0m\u001b[0;34m.\u001b[0m\u001b[0m_stateful_fn\u001b[0m \u001b[0;32mis\u001b[0m \u001b[0;32mnot\u001b[0m \u001b[0;32mNone\u001b[0m\u001b[0;34m:\u001b[0m\u001b[0;34m\u001b[0m\u001b[0;34m\u001b[0m\u001b[0m\n\u001b[1;32m    857\u001b[0m       \u001b[0;31m# Release the lock early so that multiple threads can perform the call\u001b[0m\u001b[0;34m\u001b[0m\u001b[0;34m\u001b[0m\u001b[0;34m\u001b[0m\u001b[0m\n",
            "\u001b[0;32m/usr/local/lib/python3.6/dist-packages/tensorflow/python/eager/function.py\u001b[0m in \u001b[0;36m__call__\u001b[0;34m(self, *args, **kwargs)\u001b[0m\n\u001b[1;32m   2939\u001b[0m     \u001b[0;32mwith\u001b[0m \u001b[0mself\u001b[0m\u001b[0;34m.\u001b[0m\u001b[0m_lock\u001b[0m\u001b[0;34m:\u001b[0m\u001b[0;34m\u001b[0m\u001b[0;34m\u001b[0m\u001b[0m\n\u001b[1;32m   2940\u001b[0m       (graph_function,\n\u001b[0;32m-> 2941\u001b[0;31m        filtered_flat_args) = self._maybe_define_function(args, kwargs)\n\u001b[0m\u001b[1;32m   2942\u001b[0m     return graph_function._call_flat(\n\u001b[1;32m   2943\u001b[0m         filtered_flat_args, captured_inputs=graph_function.captured_inputs)  # pylint: disable=protected-access\n",
            "\u001b[0;32m/usr/local/lib/python3.6/dist-packages/tensorflow/python/eager/function.py\u001b[0m in \u001b[0;36m_maybe_define_function\u001b[0;34m(self, args, kwargs)\u001b[0m\n\u001b[1;32m   3356\u001b[0m               call_context_key in self._function_cache.missed):\n\u001b[1;32m   3357\u001b[0m             return self._define_function_with_shape_relaxation(\n\u001b[0;32m-> 3358\u001b[0;31m                 args, kwargs, flat_args, filtered_flat_args, cache_key_context)\n\u001b[0m\u001b[1;32m   3359\u001b[0m \u001b[0;34m\u001b[0m\u001b[0m\n\u001b[1;32m   3360\u001b[0m           \u001b[0mself\u001b[0m\u001b[0;34m.\u001b[0m\u001b[0m_function_cache\u001b[0m\u001b[0;34m.\u001b[0m\u001b[0mmissed\u001b[0m\u001b[0;34m.\u001b[0m\u001b[0madd\u001b[0m\u001b[0;34m(\u001b[0m\u001b[0mcall_context_key\u001b[0m\u001b[0;34m)\u001b[0m\u001b[0;34m\u001b[0m\u001b[0;34m\u001b[0m\u001b[0m\n",
            "\u001b[0;32m/usr/local/lib/python3.6/dist-packages/tensorflow/python/eager/function.py\u001b[0m in \u001b[0;36m_define_function_with_shape_relaxation\u001b[0;34m(self, args, kwargs, flat_args, filtered_flat_args, cache_key_context)\u001b[0m\n\u001b[1;32m   3278\u001b[0m \u001b[0;34m\u001b[0m\u001b[0m\n\u001b[1;32m   3279\u001b[0m     graph_function = self._create_graph_function(\n\u001b[0;32m-> 3280\u001b[0;31m         args, kwargs, override_flat_arg_shapes=relaxed_arg_shapes)\n\u001b[0m\u001b[1;32m   3281\u001b[0m     \u001b[0mself\u001b[0m\u001b[0;34m.\u001b[0m\u001b[0m_function_cache\u001b[0m\u001b[0;34m.\u001b[0m\u001b[0marg_relaxed\u001b[0m\u001b[0;34m[\u001b[0m\u001b[0mrank_only_cache_key\u001b[0m\u001b[0;34m]\u001b[0m \u001b[0;34m=\u001b[0m \u001b[0mgraph_function\u001b[0m\u001b[0;34m\u001b[0m\u001b[0;34m\u001b[0m\u001b[0m\n\u001b[1;32m   3282\u001b[0m \u001b[0;34m\u001b[0m\u001b[0m\n",
            "\u001b[0;32m/usr/local/lib/python3.6/dist-packages/tensorflow/python/eager/function.py\u001b[0m in \u001b[0;36m_create_graph_function\u001b[0;34m(self, args, kwargs, override_flat_arg_shapes)\u001b[0m\n\u001b[1;32m   3204\u001b[0m             \u001b[0marg_names\u001b[0m\u001b[0;34m=\u001b[0m\u001b[0marg_names\u001b[0m\u001b[0;34m,\u001b[0m\u001b[0;34m\u001b[0m\u001b[0;34m\u001b[0m\u001b[0m\n\u001b[1;32m   3205\u001b[0m             \u001b[0moverride_flat_arg_shapes\u001b[0m\u001b[0;34m=\u001b[0m\u001b[0moverride_flat_arg_shapes\u001b[0m\u001b[0;34m,\u001b[0m\u001b[0;34m\u001b[0m\u001b[0;34m\u001b[0m\u001b[0m\n\u001b[0;32m-> 3206\u001b[0;31m             capture_by_value=self._capture_by_value),\n\u001b[0m\u001b[1;32m   3207\u001b[0m         \u001b[0mself\u001b[0m\u001b[0;34m.\u001b[0m\u001b[0m_function_attributes\u001b[0m\u001b[0;34m,\u001b[0m\u001b[0;34m\u001b[0m\u001b[0;34m\u001b[0m\u001b[0m\n\u001b[1;32m   3208\u001b[0m         \u001b[0mfunction_spec\u001b[0m\u001b[0;34m=\u001b[0m\u001b[0mself\u001b[0m\u001b[0;34m.\u001b[0m\u001b[0mfunction_spec\u001b[0m\u001b[0;34m,\u001b[0m\u001b[0;34m\u001b[0m\u001b[0;34m\u001b[0m\u001b[0m\n",
            "\u001b[0;32m/usr/local/lib/python3.6/dist-packages/tensorflow/python/framework/func_graph.py\u001b[0m in \u001b[0;36mfunc_graph_from_py_func\u001b[0;34m(name, python_func, args, kwargs, signature, func_graph, autograph, autograph_options, add_control_dependencies, arg_names, op_return_value, collections, capture_by_value, override_flat_arg_shapes)\u001b[0m\n\u001b[1;32m    988\u001b[0m         \u001b[0m_\u001b[0m\u001b[0;34m,\u001b[0m \u001b[0moriginal_func\u001b[0m \u001b[0;34m=\u001b[0m \u001b[0mtf_decorator\u001b[0m\u001b[0;34m.\u001b[0m\u001b[0munwrap\u001b[0m\u001b[0;34m(\u001b[0m\u001b[0mpython_func\u001b[0m\u001b[0;34m)\u001b[0m\u001b[0;34m\u001b[0m\u001b[0;34m\u001b[0m\u001b[0m\n\u001b[1;32m    989\u001b[0m \u001b[0;34m\u001b[0m\u001b[0m\n\u001b[0;32m--> 990\u001b[0;31m       \u001b[0mfunc_outputs\u001b[0m \u001b[0;34m=\u001b[0m \u001b[0mpython_func\u001b[0m\u001b[0;34m(\u001b[0m\u001b[0;34m*\u001b[0m\u001b[0mfunc_args\u001b[0m\u001b[0;34m,\u001b[0m \u001b[0;34m**\u001b[0m\u001b[0mfunc_kwargs\u001b[0m\u001b[0;34m)\u001b[0m\u001b[0;34m\u001b[0m\u001b[0;34m\u001b[0m\u001b[0m\n\u001b[0m\u001b[1;32m    991\u001b[0m \u001b[0;34m\u001b[0m\u001b[0m\n\u001b[1;32m    992\u001b[0m       \u001b[0;31m# invariant: `func_outputs` contains only Tensors, CompositeTensors,\u001b[0m\u001b[0;34m\u001b[0m\u001b[0;34m\u001b[0m\u001b[0;34m\u001b[0m\u001b[0m\n",
            "\u001b[0;32m/usr/local/lib/python3.6/dist-packages/tensorflow/python/eager/def_function.py\u001b[0m in \u001b[0;36mwrapped_fn\u001b[0;34m(*args, **kwds)\u001b[0m\n\u001b[1;32m    632\u001b[0m             \u001b[0mxla_context\u001b[0m\u001b[0;34m.\u001b[0m\u001b[0mExit\u001b[0m\u001b[0;34m(\u001b[0m\u001b[0;34m)\u001b[0m\u001b[0;34m\u001b[0m\u001b[0;34m\u001b[0m\u001b[0m\n\u001b[1;32m    633\u001b[0m         \u001b[0;32melse\u001b[0m\u001b[0;34m:\u001b[0m\u001b[0;34m\u001b[0m\u001b[0;34m\u001b[0m\u001b[0m\n\u001b[0;32m--> 634\u001b[0;31m           \u001b[0mout\u001b[0m \u001b[0;34m=\u001b[0m \u001b[0mweak_wrapped_fn\u001b[0m\u001b[0;34m(\u001b[0m\u001b[0;34m)\u001b[0m\u001b[0;34m.\u001b[0m\u001b[0m__wrapped__\u001b[0m\u001b[0;34m(\u001b[0m\u001b[0;34m*\u001b[0m\u001b[0margs\u001b[0m\u001b[0;34m,\u001b[0m \u001b[0;34m**\u001b[0m\u001b[0mkwds\u001b[0m\u001b[0;34m)\u001b[0m\u001b[0;34m\u001b[0m\u001b[0;34m\u001b[0m\u001b[0m\n\u001b[0m\u001b[1;32m    635\u001b[0m         \u001b[0;32mreturn\u001b[0m \u001b[0mout\u001b[0m\u001b[0;34m\u001b[0m\u001b[0;34m\u001b[0m\u001b[0m\n\u001b[1;32m    636\u001b[0m \u001b[0;34m\u001b[0m\u001b[0m\n",
            "\u001b[0;32m/usr/local/lib/python3.6/dist-packages/tensorflow/python/framework/func_graph.py\u001b[0m in \u001b[0;36mwrapper\u001b[0;34m(*args, **kwargs)\u001b[0m\n\u001b[1;32m    975\u001b[0m           \u001b[0;32mexcept\u001b[0m \u001b[0mException\u001b[0m \u001b[0;32mas\u001b[0m \u001b[0me\u001b[0m\u001b[0;34m:\u001b[0m  \u001b[0;31m# pylint:disable=broad-except\u001b[0m\u001b[0;34m\u001b[0m\u001b[0;34m\u001b[0m\u001b[0m\n\u001b[1;32m    976\u001b[0m             \u001b[0;32mif\u001b[0m \u001b[0mhasattr\u001b[0m\u001b[0;34m(\u001b[0m\u001b[0me\u001b[0m\u001b[0;34m,\u001b[0m \u001b[0;34m\"ag_error_metadata\"\u001b[0m\u001b[0;34m)\u001b[0m\u001b[0;34m:\u001b[0m\u001b[0;34m\u001b[0m\u001b[0;34m\u001b[0m\u001b[0m\n\u001b[0;32m--> 977\u001b[0;31m               \u001b[0;32mraise\u001b[0m \u001b[0me\u001b[0m\u001b[0;34m.\u001b[0m\u001b[0mag_error_metadata\u001b[0m\u001b[0;34m.\u001b[0m\u001b[0mto_exception\u001b[0m\u001b[0;34m(\u001b[0m\u001b[0me\u001b[0m\u001b[0;34m)\u001b[0m\u001b[0;34m\u001b[0m\u001b[0;34m\u001b[0m\u001b[0m\n\u001b[0m\u001b[1;32m    978\u001b[0m             \u001b[0;32melse\u001b[0m\u001b[0;34m:\u001b[0m\u001b[0;34m\u001b[0m\u001b[0;34m\u001b[0m\u001b[0m\n\u001b[1;32m    979\u001b[0m               \u001b[0;32mraise\u001b[0m\u001b[0;34m\u001b[0m\u001b[0;34m\u001b[0m\u001b[0m\n",
            "\u001b[0;31mValueError\u001b[0m: in user code:\n\n    /usr/local/lib/python3.6/dist-packages/tensorflow/python/keras/engine/training.py:805 train_function  *\n        return step_function(self, iterator)\n    /usr/local/lib/python3.6/dist-packages/tensorflow/python/keras/engine/training.py:795 step_function  **\n        outputs = model.distribute_strategy.run(run_step, args=(data,))\n    /usr/local/lib/python3.6/dist-packages/tensorflow/python/distribute/distribute_lib.py:1259 run\n        return self._extended.call_for_each_replica(fn, args=args, kwargs=kwargs)\n    /usr/local/lib/python3.6/dist-packages/tensorflow/python/distribute/distribute_lib.py:2730 call_for_each_replica\n        return self._call_for_each_replica(fn, args, kwargs)\n    /usr/local/lib/python3.6/dist-packages/tensorflow/python/distribute/distribute_lib.py:3417 _call_for_each_replica\n        return fn(*args, **kwargs)\n    /usr/local/lib/python3.6/dist-packages/tensorflow/python/keras/engine/training.py:788 run_step  **\n        outputs = model.train_step(data)\n    /usr/local/lib/python3.6/dist-packages/tensorflow/python/keras/engine/training.py:754 train_step\n        y_pred = self(x, training=True)\n    /usr/local/lib/python3.6/dist-packages/tensorflow/python/keras/engine/base_layer.py:998 __call__\n        input_spec.assert_input_compatibility(self.input_spec, inputs, self.name)\n    /usr/local/lib/python3.6/dist-packages/tensorflow/python/keras/engine/input_spec.py:239 assert_input_compatibility\n        str(tuple(shape)))\n\n    ValueError: Input 0 of layer sequential_1 is incompatible with the layer: : expected min_ndim=4, found ndim=2. Full shape received: (None, 4096)\n"
          ]
        }
      ]
    },
    {
      "cell_type": "code",
      "metadata": {
        "id": "1boB0gEkzC6S"
      },
      "source": [
        "def nearest_category(vector, only_zero_shot=False):\n",
        "    nearest = \"\"\n",
        "    value = -1\n",
        "    if only_zero_shot:\n",
        "        categories = zero_shot_categories\n",
        "    else:\n",
        "        categories = category_vectors.keys() #all categories\n",
        "    for k in categories:\n",
        "        d = distance.euclidean(vector, category_vectors[k])\n",
        "        if d < value or value == -1:\n",
        "            nearest = k\n",
        "            value = d\n",
        "    return nearest"
      ],
      "execution_count": null,
      "outputs": []
    },
    {
      "cell_type": "code",
      "metadata": {
        "id": "B3hsIcJnzUUR"
      },
      "source": [
        "def hard_decision(predictions, only_zero_shot=False):\n",
        "    output = []\n",
        "    for pred in predictions:\n",
        "        output.append(nearest_category([round(p) for p in pred], only_zero_shot))\n",
        "    return output"
      ],
      "execution_count": null,
      "outputs": []
    },
    {
      "cell_type": "code",
      "metadata": {
        "id": "6P6dK-C_zWVS"
      },
      "source": [
        "train_pred = model.predict(train_X)\n",
        "test_pred = model.predict(test_X)\n",
        "zero_pred = model.predict(zero_X)"
      ],
      "execution_count": null,
      "outputs": []
    },
    {
      "cell_type": "code",
      "metadata": {
        "colab": {
          "base_uri": "https://localhost:8080/"
        },
        "id": "MoPvkgStzYmS",
        "outputId": "48470b43-24fa-459a-fa6e-244360fd0e21"
      },
      "source": [
        "accuracy_score(hard_decision(test_Y), hard_decision(test_pred))"
      ],
      "execution_count": null,
      "outputs": [
        {
          "output_type": "execute_result",
          "data": {
            "text/plain": [
              "0.05598755832037325"
            ]
          },
          "metadata": {
            "tags": []
          },
          "execution_count": 50
        }
      ]
    },
    {
      "cell_type": "code",
      "metadata": {
        "colab": {
          "base_uri": "https://localhost:8080/"
        },
        "id": "1dMVkBf4zb7h",
        "outputId": "f53c312a-a4e1-448d-d62f-4f676355f37c"
      },
      "source": [
        "accuracy_score(hard_decision(zero_Y), hard_decision(zero_pred, only_zero_shot=True))"
      ],
      "execution_count": null,
      "outputs": [
        {
          "output_type": "execute_result",
          "data": {
            "text/plain": [
              "0.2480672268907563"
            ]
          },
          "metadata": {
            "tags": []
          },
          "execution_count": 55
        }
      ]
    },
    {
      "cell_type": "code",
      "metadata": {
        "colab": {
          "base_uri": "https://localhost:8080/"
        },
        "id": "x3eh4Hahz2bQ",
        "outputId": "a035a8f1-0972-452d-8121-91bd8357244d"
      },
      "source": [
        "accuracy_score(hard_decision(zero_Y), hard_decision(zero_pred))"
      ],
      "execution_count": null,
      "outputs": [
        {
          "output_type": "execute_result",
          "data": {
            "text/plain": [
              "0.03697478991596639"
            ]
          },
          "metadata": {
            "tags": []
          },
          "execution_count": 56
        }
      ]
    }
  ]
}