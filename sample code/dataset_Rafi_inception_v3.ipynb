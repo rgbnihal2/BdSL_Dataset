{
  "nbformat": 4,
  "nbformat_minor": 0,
  "metadata": {
    "colab": {
      "name": "dataset Rafi inception v3",
      "provenance": [],
      "collapsed_sections": []
    },
    "kernelspec": {
      "name": "python3",
      "display_name": "Python 3"
    },
    "language_info": {
      "name": "python"
    },
    "accelerator": "GPU"
  },
  "cells": [
    {
      "cell_type": "code",
      "metadata": {
        "colab": {
          "base_uri": "https://localhost:8080/",
          "height": 512
        },
        "id": "wnTRugAwPiAr",
        "outputId": "4662a6a1-4320-4f22-e0f5-d7a8646e8c7c"
      },
      "source": [
        "from google.colab import drive\n",
        "drive.mount('/content/drive')"
      ],
      "execution_count": null,
      "outputs": [
        {
          "output_type": "error",
          "ename": "KeyboardInterrupt",
          "evalue": "ignored",
          "traceback": [
            "\u001b[0;31m---------------------------------------------------------------------------\u001b[0m",
            "\u001b[0;31mKeyboardInterrupt\u001b[0m                         Traceback (most recent call last)",
            "\u001b[0;32m/usr/local/lib/python3.7/dist-packages/ipykernel/kernelbase.py\u001b[0m in \u001b[0;36m_input_request\u001b[0;34m(self, prompt, ident, parent, password)\u001b[0m\n\u001b[1;32m    728\u001b[0m             \u001b[0;32mtry\u001b[0m\u001b[0;34m:\u001b[0m\u001b[0;34m\u001b[0m\u001b[0;34m\u001b[0m\u001b[0m\n\u001b[0;32m--> 729\u001b[0;31m                 \u001b[0mident\u001b[0m\u001b[0;34m,\u001b[0m \u001b[0mreply\u001b[0m \u001b[0;34m=\u001b[0m \u001b[0mself\u001b[0m\u001b[0;34m.\u001b[0m\u001b[0msession\u001b[0m\u001b[0;34m.\u001b[0m\u001b[0mrecv\u001b[0m\u001b[0;34m(\u001b[0m\u001b[0mself\u001b[0m\u001b[0;34m.\u001b[0m\u001b[0mstdin_socket\u001b[0m\u001b[0;34m,\u001b[0m \u001b[0;36m0\u001b[0m\u001b[0;34m)\u001b[0m\u001b[0;34m\u001b[0m\u001b[0;34m\u001b[0m\u001b[0m\n\u001b[0m\u001b[1;32m    730\u001b[0m             \u001b[0;32mexcept\u001b[0m \u001b[0mException\u001b[0m\u001b[0;34m:\u001b[0m\u001b[0;34m\u001b[0m\u001b[0;34m\u001b[0m\u001b[0m\n",
            "\u001b[0;32m/usr/local/lib/python3.7/dist-packages/jupyter_client/session.py\u001b[0m in \u001b[0;36mrecv\u001b[0;34m(self, socket, mode, content, copy)\u001b[0m\n\u001b[1;32m    802\u001b[0m         \u001b[0;32mtry\u001b[0m\u001b[0;34m:\u001b[0m\u001b[0;34m\u001b[0m\u001b[0;34m\u001b[0m\u001b[0m\n\u001b[0;32m--> 803\u001b[0;31m             \u001b[0mmsg_list\u001b[0m \u001b[0;34m=\u001b[0m \u001b[0msocket\u001b[0m\u001b[0;34m.\u001b[0m\u001b[0mrecv_multipart\u001b[0m\u001b[0;34m(\u001b[0m\u001b[0mmode\u001b[0m\u001b[0;34m,\u001b[0m \u001b[0mcopy\u001b[0m\u001b[0;34m=\u001b[0m\u001b[0mcopy\u001b[0m\u001b[0;34m)\u001b[0m\u001b[0;34m\u001b[0m\u001b[0;34m\u001b[0m\u001b[0m\n\u001b[0m\u001b[1;32m    804\u001b[0m         \u001b[0;32mexcept\u001b[0m \u001b[0mzmq\u001b[0m\u001b[0;34m.\u001b[0m\u001b[0mZMQError\u001b[0m \u001b[0;32mas\u001b[0m \u001b[0me\u001b[0m\u001b[0;34m:\u001b[0m\u001b[0;34m\u001b[0m\u001b[0;34m\u001b[0m\u001b[0m\n",
            "\u001b[0;32m/usr/local/lib/python3.7/dist-packages/zmq/sugar/socket.py\u001b[0m in \u001b[0;36mrecv_multipart\u001b[0;34m(self, flags, copy, track)\u001b[0m\n\u001b[1;32m    582\u001b[0m         \"\"\"\n\u001b[0;32m--> 583\u001b[0;31m         \u001b[0mparts\u001b[0m \u001b[0;34m=\u001b[0m \u001b[0;34m[\u001b[0m\u001b[0mself\u001b[0m\u001b[0;34m.\u001b[0m\u001b[0mrecv\u001b[0m\u001b[0;34m(\u001b[0m\u001b[0mflags\u001b[0m\u001b[0;34m,\u001b[0m \u001b[0mcopy\u001b[0m\u001b[0;34m=\u001b[0m\u001b[0mcopy\u001b[0m\u001b[0;34m,\u001b[0m \u001b[0mtrack\u001b[0m\u001b[0;34m=\u001b[0m\u001b[0mtrack\u001b[0m\u001b[0;34m)\u001b[0m\u001b[0;34m]\u001b[0m\u001b[0;34m\u001b[0m\u001b[0;34m\u001b[0m\u001b[0m\n\u001b[0m\u001b[1;32m    584\u001b[0m         \u001b[0;31m# have first part already, only loop while more to receive\u001b[0m\u001b[0;34m\u001b[0m\u001b[0;34m\u001b[0m\u001b[0;34m\u001b[0m\u001b[0m\n",
            "\u001b[0;32mzmq/backend/cython/socket.pyx\u001b[0m in \u001b[0;36mzmq.backend.cython.socket.Socket.recv\u001b[0;34m()\u001b[0m\n",
            "\u001b[0;32mzmq/backend/cython/socket.pyx\u001b[0m in \u001b[0;36mzmq.backend.cython.socket.Socket.recv\u001b[0;34m()\u001b[0m\n",
            "\u001b[0;32mzmq/backend/cython/socket.pyx\u001b[0m in \u001b[0;36mzmq.backend.cython.socket._recv_copy\u001b[0;34m()\u001b[0m\n",
            "\u001b[0;32m/usr/local/lib/python3.7/dist-packages/zmq/backend/cython/checkrc.pxd\u001b[0m in \u001b[0;36mzmq.backend.cython.checkrc._check_rc\u001b[0;34m()\u001b[0m\n",
            "\u001b[0;31mKeyboardInterrupt\u001b[0m: ",
            "\nDuring handling of the above exception, another exception occurred:\n",
            "\u001b[0;31mKeyboardInterrupt\u001b[0m                         Traceback (most recent call last)",
            "\u001b[0;32m<ipython-input-1-d5df0069828e>\u001b[0m in \u001b[0;36m<module>\u001b[0;34m()\u001b[0m\n\u001b[1;32m      1\u001b[0m \u001b[0;32mfrom\u001b[0m \u001b[0mgoogle\u001b[0m\u001b[0;34m.\u001b[0m\u001b[0mcolab\u001b[0m \u001b[0;32mimport\u001b[0m \u001b[0mdrive\u001b[0m\u001b[0;34m\u001b[0m\u001b[0;34m\u001b[0m\u001b[0m\n\u001b[0;32m----> 2\u001b[0;31m \u001b[0mdrive\u001b[0m\u001b[0;34m.\u001b[0m\u001b[0mmount\u001b[0m\u001b[0;34m(\u001b[0m\u001b[0;34m'/content/drive'\u001b[0m\u001b[0;34m)\u001b[0m\u001b[0;34m\u001b[0m\u001b[0;34m\u001b[0m\u001b[0m\n\u001b[0m",
            "\u001b[0;32m/usr/local/lib/python3.7/dist-packages/google/colab/drive.py\u001b[0m in \u001b[0;36mmount\u001b[0;34m(mountpoint, force_remount, timeout_ms, use_metadata_server)\u001b[0m\n\u001b[1;32m    258\u001b[0m       \u001b[0;32mwith\u001b[0m \u001b[0m_output\u001b[0m\u001b[0;34m.\u001b[0m\u001b[0muse_tags\u001b[0m\u001b[0;34m(\u001b[0m\u001b[0;34m'dfs-auth-dance'\u001b[0m\u001b[0;34m)\u001b[0m\u001b[0;34m:\u001b[0m\u001b[0;34m\u001b[0m\u001b[0;34m\u001b[0m\u001b[0m\n\u001b[1;32m    259\u001b[0m         \u001b[0;32mwith\u001b[0m \u001b[0mopen\u001b[0m\u001b[0;34m(\u001b[0m\u001b[0mfifo\u001b[0m\u001b[0;34m,\u001b[0m \u001b[0;34m'w'\u001b[0m\u001b[0;34m)\u001b[0m \u001b[0;32mas\u001b[0m \u001b[0mfifo_file\u001b[0m\u001b[0;34m:\u001b[0m\u001b[0;34m\u001b[0m\u001b[0;34m\u001b[0m\u001b[0m\n\u001b[0;32m--> 260\u001b[0;31m           \u001b[0mfifo_file\u001b[0m\u001b[0;34m.\u001b[0m\u001b[0mwrite\u001b[0m\u001b[0;34m(\u001b[0m\u001b[0mget_code\u001b[0m\u001b[0;34m(\u001b[0m\u001b[0mauth_prompt\u001b[0m\u001b[0;34m)\u001b[0m \u001b[0;34m+\u001b[0m \u001b[0;34m'\\n'\u001b[0m\u001b[0;34m)\u001b[0m\u001b[0;34m\u001b[0m\u001b[0;34m\u001b[0m\u001b[0m\n\u001b[0m\u001b[1;32m    261\u001b[0m       \u001b[0mwrote_to_fifo\u001b[0m \u001b[0;34m=\u001b[0m \u001b[0;32mTrue\u001b[0m\u001b[0;34m\u001b[0m\u001b[0;34m\u001b[0m\u001b[0m\n\u001b[1;32m    262\u001b[0m     \u001b[0;32melif\u001b[0m \u001b[0mcase\u001b[0m \u001b[0;34m==\u001b[0m \u001b[0;36m5\u001b[0m\u001b[0;34m:\u001b[0m\u001b[0;34m\u001b[0m\u001b[0;34m\u001b[0m\u001b[0m\n",
            "\u001b[0;32m/usr/local/lib/python3.7/dist-packages/ipykernel/kernelbase.py\u001b[0m in \u001b[0;36mraw_input\u001b[0;34m(self, prompt)\u001b[0m\n\u001b[1;32m    702\u001b[0m             \u001b[0mself\u001b[0m\u001b[0;34m.\u001b[0m\u001b[0m_parent_ident\u001b[0m\u001b[0;34m,\u001b[0m\u001b[0;34m\u001b[0m\u001b[0;34m\u001b[0m\u001b[0m\n\u001b[1;32m    703\u001b[0m             \u001b[0mself\u001b[0m\u001b[0;34m.\u001b[0m\u001b[0m_parent_header\u001b[0m\u001b[0;34m,\u001b[0m\u001b[0;34m\u001b[0m\u001b[0;34m\u001b[0m\u001b[0m\n\u001b[0;32m--> 704\u001b[0;31m             \u001b[0mpassword\u001b[0m\u001b[0;34m=\u001b[0m\u001b[0;32mFalse\u001b[0m\u001b[0;34m,\u001b[0m\u001b[0;34m\u001b[0m\u001b[0;34m\u001b[0m\u001b[0m\n\u001b[0m\u001b[1;32m    705\u001b[0m         )\n\u001b[1;32m    706\u001b[0m \u001b[0;34m\u001b[0m\u001b[0m\n",
            "\u001b[0;32m/usr/local/lib/python3.7/dist-packages/ipykernel/kernelbase.py\u001b[0m in \u001b[0;36m_input_request\u001b[0;34m(self, prompt, ident, parent, password)\u001b[0m\n\u001b[1;32m    732\u001b[0m             \u001b[0;32mexcept\u001b[0m \u001b[0mKeyboardInterrupt\u001b[0m\u001b[0;34m:\u001b[0m\u001b[0;34m\u001b[0m\u001b[0;34m\u001b[0m\u001b[0m\n\u001b[1;32m    733\u001b[0m                 \u001b[0;31m# re-raise KeyboardInterrupt, to truncate traceback\u001b[0m\u001b[0;34m\u001b[0m\u001b[0;34m\u001b[0m\u001b[0;34m\u001b[0m\u001b[0m\n\u001b[0;32m--> 734\u001b[0;31m                 \u001b[0;32mraise\u001b[0m \u001b[0mKeyboardInterrupt\u001b[0m\u001b[0;34m\u001b[0m\u001b[0;34m\u001b[0m\u001b[0m\n\u001b[0m\u001b[1;32m    735\u001b[0m             \u001b[0;32melse\u001b[0m\u001b[0;34m:\u001b[0m\u001b[0;34m\u001b[0m\u001b[0;34m\u001b[0m\u001b[0m\n\u001b[1;32m    736\u001b[0m                 \u001b[0;32mbreak\u001b[0m\u001b[0;34m\u001b[0m\u001b[0;34m\u001b[0m\u001b[0m\n",
            "\u001b[0;31mKeyboardInterrupt\u001b[0m: "
          ]
        }
      ]
    },
    {
      "cell_type": "code",
      "metadata": {
        "id": "-l4MRfIYQESF"
      },
      "source": [
        "\n",
        "!unzip -uq \"/content/drive/MyDrive/Research and Project Stuffs/BdSL/Datasets/dataset1.zip\" -d \"/content/drive/MyDrive/Research and Project Stuffs/BdSL/Datasets/\""
      ],
      "execution_count": null,
      "outputs": []
    },
    {
      "cell_type": "code",
      "metadata": {
        "colab": {
          "base_uri": "https://localhost:8080/"
        },
        "id": "4gCn-4avQsgn",
        "outputId": "5b3283a8-7ad6-40dc-de7f-b8bcd573e359"
      },
      "source": [
        "# example of progressively loading images from file\n",
        "from keras.preprocessing.image import ImageDataGenerator\n",
        "# create generator\n",
        "datagen = ImageDataGenerator(rescale=1. / 255, validation_split=0.1)\n",
        "datagen2 = ImageDataGenerator(rescale=1. / 255)\n",
        "img_height = 224\n",
        "img_width = 224 \n",
        "batch_size = 80\n",
        "test_batch = 1520\n",
        "# prepare an iterators for each dataset\n",
        "train_it = datagen.flow_from_directory('/content/drive/MyDrive/Research and Project Stuffs/dataset Rafi/RESIZED_DATASET',target_size=(img_height, img_width),batch_size = batch_size, subset='training')\n",
        "val_it = datagen.flow_from_directory('/content/drive/MyDrive/Research and Project Stuffs/dataset Rafi/RESIZED_DATASET',target_size=(img_height, img_width), batch_size = batch_size, subset='validation')\n",
        "test_it = datagen2.flow_from_directory('/content/drive/MyDrive/Research and Project Stuffs/dataset Rafi/RESIZED_TESTING_DATA',target_size=(img_height, img_width), batch_size = batch_size)"
      ],
      "execution_count": null,
      "outputs": [
        {
          "output_type": "stream",
          "text": [
            "Found 9972 images belonging to 38 classes.\n",
            "Found 1089 images belonging to 38 classes.\n",
            "Found 1520 images belonging to 38 classes.\n"
          ],
          "name": "stdout"
        }
      ]
    },
    {
      "cell_type": "code",
      "metadata": {
        "colab": {
          "base_uri": "https://localhost:8080/"
        },
        "id": "ORrDBUOWVnqd",
        "outputId": "2aed489f-5b66-4084-b185-22e58363f133"
      },
      "source": [
        "test_batch = 1520\n",
        "test_it = datagen2.flow_from_directory('/content/drive/MyDrive/Research and Project Stuffs/dataset Rafi/RESIZED_TESTING_DATA',target_size=(img_height, img_width), batch_size = test_batch)"
      ],
      "execution_count": null,
      "outputs": [
        {
          "output_type": "stream",
          "text": [
            "Found 1520 images belonging to 38 classes.\n"
          ],
          "name": "stdout"
        }
      ]
    },
    {
      "cell_type": "code",
      "metadata": {
        "colab": {
          "base_uri": "https://localhost:8080/"
        },
        "id": "L0NE2Yzd_WFB",
        "outputId": "4a680031-fd9c-455f-9996-1ad35151f290"
      },
      "source": [
        "from tensorflow.keras.applications import inception_v3\n",
        "# Init the VGG model\n",
        "vgg_conv = inception_v3.InceptionV3(weights='imagenet', include_top=False, input_shape=(img_height, img_height, 3))"
      ],
      "execution_count": null,
      "outputs": [
        {
          "output_type": "stream",
          "text": [
            "Downloading data from https://storage.googleapis.com/tensorflow/keras-applications/inception_v3/inception_v3_weights_tf_dim_ordering_tf_kernels_notop.h5\n",
            "87916544/87910968 [==============================] - 1s 0us/step\n"
          ],
          "name": "stdout"
        }
      ]
    },
    {
      "cell_type": "code",
      "metadata": {
        "id": "_jwVecda_f6y"
      },
      "source": [
        "# Freeze all the layers\n",
        "for layer in vgg_conv.layers[:]:\n",
        "    layer.trainable = False\n",
        "# Check the trainable status of the individual layers\n",
        "for layer in vgg_conv.layers:\n",
        "    print(layer, layer.trainable)"
      ],
      "execution_count": null,
      "outputs": []
    },
    {
      "cell_type": "code",
      "metadata": {
        "id": "CQsdukGnFWAR"
      },
      "source": [
        "from keras.models import Sequential, Model\n",
        "#from tensorflow.keras.models import Model\n",
        "from keras.layers import Conv2D, MaxPooling2D, Activation, Embedding, Dense, Dropout, Flatten, Input,GlobalAveragePooling2D\n",
        "from keras import activations\n",
        "#from tensorflow.python.keras.layers.core import Dense, Dropout, Flatten\n",
        "#from tensorflow.python.keras.layers import Input\n",
        "from keras.optimizers import Adam, SGD\n",
        "from keras.layers import LSTM\n",
        "#from keras.layers import Dropout\n",
        "#from keras.applications.vgg16 import VGG16\n",
        "#from tensorflow.keras.applications import vgg16\n",
        "from skimage.color import gray2rgb\n",
        "#from tensorflow.keras.applications.inception_v3 import InceptionV3 \n",
        "#from tensorflow.keras.applications import DenseNet201"
      ],
      "execution_count": null,
      "outputs": []
    },
    {
      "cell_type": "code",
      "metadata": {
        "colab": {
          "base_uri": "https://localhost:8080/"
        },
        "id": "hDUAiWIeE1Ui",
        "outputId": "58c28a45-c74b-4852-8d74-33bed3b6ff9c"
      },
      "source": [
        "# Create the model\n",
        "model = Sequential()\n",
        "\n",
        "# Add the vgg convolutional base model\n",
        "model.add(vgg_conv)\n",
        "\n",
        "# Add new layers\n",
        "model.add(Flatten())\n",
        "#model.add(Dense(1024, activation='relu'))\n",
        "#model.add(Dropout(0.5))\n",
        "model.add(Dense(38, activation='softmax'))\n",
        "\n",
        "# Show a summary of the model. Check the number of trainable parameters\n",
        "model.summary()"
      ],
      "execution_count": null,
      "outputs": [
        {
          "output_type": "stream",
          "text": [
            "Model: \"sequential\"\n",
            "_________________________________________________________________\n",
            "Layer (type)                 Output Shape              Param #   \n",
            "=================================================================\n",
            "inception_v3 (Functional)    (None, 5, 5, 2048)        21802784  \n",
            "_________________________________________________________________\n",
            "flatten (Flatten)            (None, 51200)             0         \n",
            "_________________________________________________________________\n",
            "dense (Dense)                (None, 38)                1945638   \n",
            "=================================================================\n",
            "Total params: 23,748,422\n",
            "Trainable params: 1,945,638\n",
            "Non-trainable params: 21,802,784\n",
            "_________________________________________________________________\n"
          ],
          "name": "stdout"
        }
      ]
    },
    {
      "cell_type": "code",
      "metadata": {
        "id": "Jnxc5HckGwqL"
      },
      "source": [
        "import keras\n",
        "initial_learning_rate = 0.001\n",
        "lr_schedule = keras.optimizers.schedules.ExponentialDecay(\n",
        "    initial_learning_rate,\n",
        "    decay_steps=2000,\n",
        "    decay_rate=0.16,\n",
        "    staircase=True)\n",
        "#sgd = keras.optimizers.SGD(lr=0.00001, decay=1e-6, momentum=0.9, nesterov=True)\n",
        "model.compile(loss='categorical_crossentropy',\n",
        "              optimizer=keras.optimizers.SGD(learning_rate=lr_schedule),\n",
        "              metrics=['acc'])"
      ],
      "execution_count": null,
      "outputs": []
    },
    {
      "cell_type": "code",
      "metadata": {
        "colab": {
          "base_uri": "https://localhost:8080/"
        },
        "id": "EV8WD7w5FZuD",
        "outputId": "b329ec0a-9da8-4f1b-cbf8-4cced2795f95"
      },
      "source": [
        "nb_epochs = 35\n",
        "batch_size = 80\n",
        "history = model.fit_generator(\n",
        "    train_it,\n",
        "    steps_per_epoch = train_it.samples // batch_size,\n",
        "    validation_data = val_it, \n",
        "    validation_steps = val_it.samples // batch_size,\n",
        "    epochs = nb_epochs)"
      ],
      "execution_count": null,
      "outputs": [
        {
          "output_type": "stream",
          "text": [
            "/usr/local/lib/python3.7/dist-packages/tensorflow/python/keras/engine/training.py:1844: UserWarning: `Model.fit_generator` is deprecated and will be removed in a future version. Please use `Model.fit`, which supports generators.\n",
            "  warnings.warn('`Model.fit_generator` is deprecated and '\n"
          ],
          "name": "stderr"
        },
        {
          "output_type": "stream",
          "text": [
            "Epoch 1/35\n",
            "124/124 [==============================] - 2657s 21s/step - loss: 3.0097 - acc: 0.2296 - val_loss: 2.2143 - val_acc: 0.3894\n",
            "Epoch 2/35\n",
            "124/124 [==============================] - 32s 258ms/step - loss: 1.2927 - acc: 0.6330 - val_loss: 1.8534 - val_acc: 0.4837\n",
            "Epoch 3/35\n",
            "124/124 [==============================] - 32s 258ms/step - loss: 0.9405 - acc: 0.7423 - val_loss: 1.6727 - val_acc: 0.5183\n",
            "Epoch 4/35\n",
            "124/124 [==============================] - 32s 259ms/step - loss: 0.7535 - acc: 0.8003 - val_loss: 1.6103 - val_acc: 0.5567\n",
            "Epoch 5/35\n",
            "124/124 [==============================] - 32s 257ms/step - loss: 0.6254 - acc: 0.8404 - val_loss: 1.4966 - val_acc: 0.5702\n",
            "Epoch 6/35\n",
            "124/124 [==============================] - 32s 258ms/step - loss: 0.5398 - acc: 0.8697 - val_loss: 1.4982 - val_acc: 0.5750\n",
            "Epoch 7/35\n",
            "124/124 [==============================] - 32s 257ms/step - loss: 0.4667 - acc: 0.8916 - val_loss: 1.4617 - val_acc: 0.5798\n",
            "Epoch 8/35\n",
            "124/124 [==============================] - 32s 257ms/step - loss: 0.4153 - acc: 0.9107 - val_loss: 1.4065 - val_acc: 0.6038\n",
            "Epoch 9/35\n",
            "124/124 [==============================] - 32s 258ms/step - loss: 0.3779 - acc: 0.9267 - val_loss: 1.3795 - val_acc: 0.6029\n",
            "Epoch 10/35\n",
            "124/124 [==============================] - 32s 257ms/step - loss: 0.3283 - acc: 0.9417 - val_loss: 1.3680 - val_acc: 0.6183\n",
            "Epoch 11/35\n",
            "124/124 [==============================] - 32s 257ms/step - loss: 0.2960 - acc: 0.9526 - val_loss: 1.3557 - val_acc: 0.6115\n",
            "Epoch 12/35\n",
            "124/124 [==============================] - 32s 257ms/step - loss: 0.2800 - acc: 0.9556 - val_loss: 1.3393 - val_acc: 0.6125\n",
            "Epoch 13/35\n",
            "124/124 [==============================] - 32s 258ms/step - loss: 0.2577 - acc: 0.9652 - val_loss: 1.3371 - val_acc: 0.6221\n",
            "Epoch 14/35\n",
            "124/124 [==============================] - 32s 259ms/step - loss: 0.2314 - acc: 0.9698 - val_loss: 1.3261 - val_acc: 0.6231\n",
            "Epoch 15/35\n",
            "124/124 [==============================] - 32s 257ms/step - loss: 0.2244 - acc: 0.9726 - val_loss: 1.3010 - val_acc: 0.6288\n",
            "Epoch 16/35\n",
            "124/124 [==============================] - 32s 257ms/step - loss: 0.2101 - acc: 0.9765 - val_loss: 1.3148 - val_acc: 0.6356\n",
            "Epoch 17/35\n",
            "124/124 [==============================] - 32s 257ms/step - loss: 0.1880 - acc: 0.9858 - val_loss: 1.2804 - val_acc: 0.6394\n",
            "Epoch 18/35\n",
            "124/124 [==============================] - 32s 258ms/step - loss: 0.1802 - acc: 0.9836 - val_loss: 1.2951 - val_acc: 0.6394\n",
            "Epoch 19/35\n",
            "124/124 [==============================] - 32s 257ms/step - loss: 0.1834 - acc: 0.9858 - val_loss: 1.3024 - val_acc: 0.6337\n",
            "Epoch 20/35\n",
            "124/124 [==============================] - 32s 258ms/step - loss: 0.1799 - acc: 0.9872 - val_loss: 1.2746 - val_acc: 0.6433\n",
            "Epoch 21/35\n",
            "124/124 [==============================] - 32s 258ms/step - loss: 0.1814 - acc: 0.9849 - val_loss: 1.2951 - val_acc: 0.6433\n",
            "Epoch 22/35\n",
            "124/124 [==============================] - 32s 256ms/step - loss: 0.1752 - acc: 0.9866 - val_loss: 1.2732 - val_acc: 0.6404\n",
            "Epoch 23/35\n",
            "124/124 [==============================] - 32s 258ms/step - loss: 0.1744 - acc: 0.9863 - val_loss: 1.2722 - val_acc: 0.6442\n",
            "Epoch 24/35\n",
            "124/124 [==============================] - 32s 257ms/step - loss: 0.1777 - acc: 0.9850 - val_loss: 1.3084 - val_acc: 0.6404\n",
            "Epoch 25/35\n",
            "124/124 [==============================] - 32s 256ms/step - loss: 0.1701 - acc: 0.9857 - val_loss: 1.2823 - val_acc: 0.6442\n",
            "Epoch 26/35\n",
            "124/124 [==============================] - 32s 256ms/step - loss: 0.1686 - acc: 0.9871 - val_loss: 1.3148 - val_acc: 0.6365\n",
            "Epoch 27/35\n",
            "124/124 [==============================] - 32s 255ms/step - loss: 0.1742 - acc: 0.9856 - val_loss: 1.2788 - val_acc: 0.6462\n",
            "Epoch 28/35\n",
            "124/124 [==============================] - 32s 256ms/step - loss: 0.1635 - acc: 0.9896 - val_loss: 1.2833 - val_acc: 0.6404\n",
            "Epoch 29/35\n",
            "124/124 [==============================] - 32s 256ms/step - loss: 0.1615 - acc: 0.9905 - val_loss: 1.2780 - val_acc: 0.6394\n",
            "Epoch 30/35\n",
            "124/124 [==============================] - 32s 257ms/step - loss: 0.1610 - acc: 0.9898 - val_loss: 1.2872 - val_acc: 0.6413\n",
            "Epoch 31/35\n",
            "124/124 [==============================] - 32s 257ms/step - loss: 0.1656 - acc: 0.9874 - val_loss: 1.2654 - val_acc: 0.6452\n",
            "Epoch 32/35\n",
            "124/124 [==============================] - 32s 255ms/step - loss: 0.1600 - acc: 0.9896 - val_loss: 1.2850 - val_acc: 0.6452\n",
            "Epoch 33/35\n",
            "124/124 [==============================] - 32s 257ms/step - loss: 0.1655 - acc: 0.9859 - val_loss: 1.2954 - val_acc: 0.6375\n",
            "Epoch 34/35\n",
            "124/124 [==============================] - 32s 255ms/step - loss: 0.1569 - acc: 0.9894 - val_loss: 1.2731 - val_acc: 0.6500\n",
            "Epoch 35/35\n",
            "124/124 [==============================] - 32s 257ms/step - loss: 0.1590 - acc: 0.9891 - val_loss: 1.2932 - val_acc: 0.6433\n"
          ],
          "name": "stdout"
        }
      ]
    },
    {
      "cell_type": "code",
      "metadata": {
        "id": "S60LYSAjNuZx",
        "colab": {
          "base_uri": "https://localhost:8080/"
        },
        "outputId": "acc4467e-99ea-4b7c-e2af-cf6ac2631e2b"
      },
      "source": [
        "test_score = model.evaluate_generator(test_it, batch_size)\n",
        "\n",
        "\n",
        "\n",
        "print(\"[INFO] accuracy: {:.2f}%\".format(test_score[1] * 100)) \n",
        "\n",
        "print(\"[INFO] Loss: \",test_score[0])"
      ],
      "execution_count": null,
      "outputs": [
        {
          "output_type": "stream",
          "text": [
            "/usr/local/lib/python3.7/dist-packages/tensorflow/python/keras/engine/training.py:1877: UserWarning: `Model.evaluate_generator` is deprecated and will be removed in a future version. Please use `Model.evaluate`, which supports generators.\n",
            "  warnings.warn('`Model.evaluate_generator` is deprecated and '\n"
          ],
          "name": "stderr"
        },
        {
          "output_type": "stream",
          "text": [
            "WARNING:tensorflow:Your input ran out of data; interrupting training. Make sure that your dataset or generator can generate at least `steps_per_epoch * epochs` batches (in this case, 80 batches). You may need to use the repeat() function when building your dataset.\n",
            "[INFO] accuracy: 76.84%\n",
            "[INFO] Loss:  0.7329228520393372\n"
          ],
          "name": "stdout"
        }
      ]
    },
    {
      "cell_type": "code",
      "metadata": {
        "id": "qTJ1HhwCNvlr"
      },
      "source": [
        "import sys\n",
        "\n",
        "import numpy as np\n",
        "\n",
        "from keras import backend as K\n",
        "\n",
        "from keras.models import Sequential\n",
        "\n",
        "from keras.layers.core import Dense, Dropout, Activation, Flatten\n",
        "\n",
        "from keras.layers.convolutional import Convolution2D, MaxPooling2D\n",
        "\n",
        "from keras.preprocessing.image import ImageDataGenerator\n",
        "\n",
        "from sklearn.metrics import classification_report, confusion_matrix\n",
        "\n",
        "from keras.layers import Conv2D, Flatten, Dense, MaxPool2D,MaxPooling2D, Activation, Dropout, BatchNormalization, Input\n",
        "\n",
        "import matplotlib.pyplot as plt\n",
        "\n",
        "from keras.optimizers import Adam\n",
        "\n",
        "import itertools "
      ],
      "execution_count": null,
      "outputs": []
    },
    {
      "cell_type": "code",
      "metadata": {
        "id": "oeO2GrnAOIUS",
        "colab": {
          "base_uri": "https://localhost:8080/",
          "height": 427
        },
        "outputId": "e4bd0e2b-fba5-4055-85d1-910f44c35e5c"
      },
      "source": [
        "# Loss Curves\n",
        "\n",
        "plt.figure(figsize=[8,6])\n",
        "\n",
        "plt.plot(history.history['loss'],'r',linewidth=3.0)\n",
        "\n",
        "plt.plot(history.history['val_loss'],'b',linewidth=3.0)\n",
        "\n",
        "plt.legend(['Training loss', 'Validation Loss'],fontsize=18)\n",
        "\n",
        "plt.xlabel('Epochs ',fontsize=16)\n",
        "\n",
        "plt.ylabel('Loss',fontsize=16)\n",
        "\n",
        "plt.title('Loss Curves',fontsize=16)"
      ],
      "execution_count": null,
      "outputs": [
        {
          "output_type": "execute_result",
          "data": {
            "text/plain": [
              "Text(0.5, 1.0, 'Loss Curves')"
            ]
          },
          "metadata": {
            "tags": []
          },
          "execution_count": 12
        },
        {
          "output_type": "display_data",
          "data": {
            "image/png": "[encoded data removed]",
            "text/plain": [
              "<Figure size 576x432 with 1 Axes>"
            ]
          },
          "metadata": {
            "tags": [],
            "needs_background": "light"
          }
        }
      ]
    },
    {
      "cell_type": "code",
      "metadata": {
        "id": "ADOwD36WOJPy",
        "colab": {
          "base_uri": "https://localhost:8080/",
          "height": 427
        },
        "outputId": "b53aca40-9d6d-4738-8a79-589932e784c2"
      },
      "source": [
        "# Accuracy Curves\n",
        "\n",
        "plt.figure(figsize=[8,6])\n",
        "\n",
        "plt.plot(history.history['acc'],'r',linewidth=3.0)\n",
        "\n",
        "plt.plot(history.history['val_acc'],'b',linewidth=3.0)\n",
        "\n",
        "plt.legend(['Training Accuracy', 'Validation Accuracy'],fontsize=18)\n",
        "\n",
        "plt.xlabel('Epochs ',fontsize=16)\n",
        "\n",
        "plt.ylabel('Accuracy',fontsize=16)\n",
        "\n",
        "plt.title('Accuracy Curves',fontsize=16)"
      ],
      "execution_count": null,
      "outputs": [
        {
          "output_type": "execute_result",
          "data": {
            "text/plain": [
              "Text(0.5, 1.0, 'Accuracy Curves')"
            ]
          },
          "metadata": {
            "tags": []
          },
          "execution_count": 13
        },
        {
          "output_type": "display_data",
          "data": {
            "image/png": "[encoded data removed]",
            "text/plain": [
              "<Figure size 576x432 with 1 Axes>"
            ]
          },
          "metadata": {
            "tags": [],
            "needs_background": "light"
          }
        }
      ]
    },
    {
      "cell_type": "code",
      "metadata": {
        "id": "s-ThzIyUOMOe"
      },
      "source": [
        "#Plot the confusion matrix. Set Normalize = True/False\n",
        "\n",
        "\n",
        "\n",
        "def plot_confusion_matrix(cm, classes, normalize=True, title='Confusion matrix', cmap=plt.cm.Blues):\n",
        "\n",
        "    \"\"\"\n",
        "\n",
        "    This function prints and plots the confusion matrix.\n",
        "\n",
        "    Normalization can be applied by setting `normalize=True`.\n",
        "\n",
        "    \"\"\"\n",
        "\n",
        "    plt.figure(figsize=(10,10))\n",
        "\n",
        "\n",
        "\n",
        "    plt.imshow(cm, interpolation='nearest', cmap=cmap)\n",
        "\n",
        "    plt.title(title)\n",
        "\n",
        "    plt.colorbar()\n",
        "\n",
        "\n",
        "\n",
        "    tick_marks = np.arange(len(classes))\n",
        "\n",
        "    plt.xticks(tick_marks, classes, rotation=45)\n",
        "\n",
        "    plt.yticks(tick_marks, classes)\n",
        "\n",
        "\n",
        "\n",
        "    if normalize:\n",
        "\n",
        "        cm = cm.astype('float') / cm.sum(axis=1)[:, np.newaxis]\n",
        "\n",
        "        cm = np.around(cm, decimals=2)\n",
        "\n",
        "        cm[np.isnan(cm)] = 0.0\n",
        "\n",
        "        print(\"Normalized confusion matrix\")\n",
        "\n",
        "    else:\n",
        "\n",
        "        print('Confusion matrix, without normalization')\n",
        "\n",
        "    thresh = cm.max() / 2.\n",
        "\n",
        "    for i, j in itertools.product(range(cm.shape[0]), range(cm.shape[1])):\n",
        "\n",
        "        plt.text(j, i, cm[i, j],\n",
        "\n",
        "                 horizontalalignment=\"center\",\n",
        "\n",
        "                 color=\"white\" if cm[i, j] > thresh else \"black\")\n",
        "\n",
        "    plt.tight_layout()\n",
        "\n",
        "    plt.ylabel('True label')\n",
        "\n",
        "    plt.xlabel('Predicted label')"
      ],
      "execution_count": null,
      "outputs": []
    },
    {
      "cell_type": "code",
      "metadata": {
        "id": "cMscEMa7ORH3",
        "colab": {
          "base_uri": "https://localhost:8080/"
        },
        "outputId": "9859a23d-b041-466a-8187-24618d07a521"
      },
      "source": [
        "#Print the Target names\n",
        "\n",
        "\n",
        "\n",
        "target_names = []\n",
        "\n",
        "for key in val_it.class_indices:\n",
        "\n",
        "    target_names.append(key)\n",
        "\n",
        "\n",
        "\n",
        "print(target_names)"
      ],
      "execution_count": null,
      "outputs": [
        {
          "output_type": "stream",
          "text": [
            "['0', '1', '10', '11', '12', '13', '14', '15', '16', '17', '18', '19', '2', '20', '21', '22', '23', '24', '25', '26', '27', '28', '29', '3', '30', '31', '32', '33', '34', '35', '36', '37', '4', '5', '6', '7', '8', '9']\n"
          ],
          "name": "stdout"
        }
      ]
    },
    {
      "cell_type": "code",
      "metadata": {
        "colab": {
          "base_uri": "https://localhost:8080/"
        },
        "id": "tkA0hMGBUdvU",
        "outputId": "aa3da7b5-e92c-4a48-fb20-5ca7bead5f28"
      },
      "source": [
        "y_class_batch.shape"
      ],
      "execution_count": null,
      "outputs": [
        {
          "output_type": "execute_result",
          "data": {
            "text/plain": [
              "(80, 38)"
            ]
          },
          "metadata": {
            "tags": []
          },
          "execution_count": 31
        }
      ]
    },
    {
      "cell_type": "code",
      "metadata": {
        "colab": {
          "base_uri": "https://localhost:8080/"
        },
        "id": "X_r71tCQmsG5",
        "outputId": "2d0c087c-6085-4ec0-92f2-c92e67b47788"
      },
      "source": [
        "y_img_batch, y_class_batch = test_it[0]\n",
        "y_pred = np.argmax(model.predict(y_img_batch),-1)\n",
        "y_true = np.argmax(y_class_batch,-1)\n",
        "print(sum(y_pred==y_true)/batch_size)"
      ],
      "execution_count": null,
      "outputs": [
        {
          "output_type": "stream",
          "text": [
            "14.6\n"
          ],
          "name": "stdout"
        }
      ]
    },
    {
      "cell_type": "code",
      "metadata": {
        "id": "jeAFOzy_nTxJ"
      },
      "source": [
        "cm = confusion_matrix(y_true,y_pred)"
      ],
      "execution_count": null,
      "outputs": []
    },
    {
      "cell_type": "code",
      "metadata": {
        "colab": {
          "base_uri": "https://localhost:8080/",
          "height": 761
        },
        "id": "Ll49qj5_oVcv",
        "outputId": "8759fcf5-c426-41c2-fb4b-8b6b470619c3"
      },
      "source": [
        "plot_confusion_matrix(cm, target_names, title='Confusion Matrix')"
      ],
      "execution_count": null,
      "outputs": [
        {
          "output_type": "stream",
          "text": [
            "/usr/local/lib/python3.7/dist-packages/ipykernel_launcher.py:37: RuntimeWarning: invalid value encountered in true_divide\n"
          ],
          "name": "stderr"
        },
        {
          "output_type": "stream",
          "text": [
            "Normalized confusion matrix\n"
          ],
          "name": "stdout"
        },
        {
          "output_type": "display_data",
          "data": {
            "image/png": "[encoded data removed]",
            "text/plain": [
              "<Figure size 720x720 with 2 Axes>"
            ]
          },
          "metadata": {
            "tags": [],
            "needs_background": "light"
          }
        }
      ]
    },
    {
      "cell_type": "code",
      "metadata": {
        "id": "GyHd6pVlOmjU",
        "colab": {
          "base_uri": "https://localhost:8080/"
        },
        "outputId": "edaf1617-7ae8-460d-f8d3-ef19faa458e1"
      },
      "source": [
        "#Print Classification Report\n",
        "\n",
        "print('Classification Report')\n",
        "\n",
        "print(classification_report(y_true, y_pred))"
      ],
      "execution_count": null,
      "outputs": [
        {
          "output_type": "stream",
          "text": [
            "Classification Report\n",
            "              precision    recall  f1-score   support\n",
            "\n",
            "           0       0.64      0.75      0.69        40\n",
            "           1       0.80      0.82      0.81        40\n",
            "           2       0.79      0.82      0.80        40\n",
            "           3       0.85      0.85      0.85        40\n",
            "           4       0.87      0.68      0.76        40\n",
            "           5       0.72      0.70      0.71        40\n",
            "           6       0.67      0.65      0.66        40\n",
            "           7       0.61      0.62      0.62        40\n",
            "           8       0.92      0.82      0.87        40\n",
            "           9       0.88      0.88      0.88        40\n",
            "          10       0.61      0.55      0.58        40\n",
            "          11       0.74      0.78      0.76        40\n",
            "          12       0.85      0.70      0.77        40\n",
            "          13       0.88      0.88      0.88        40\n",
            "          14       0.71      0.90      0.79        40\n",
            "          15       0.53      0.60      0.56        40\n",
            "          16       0.68      0.53      0.59        40\n",
            "          17       0.75      0.68      0.71        40\n",
            "          18       0.76      0.93      0.83        40\n",
            "          19       0.83      0.62      0.71        40\n",
            "          20       0.89      0.80      0.84        40\n",
            "          21       0.92      0.88      0.90        40\n",
            "          22       0.87      0.97      0.92        40\n",
            "          23       0.49      0.55      0.52        40\n",
            "          24       0.80      0.82      0.81        40\n",
            "          25       0.78      0.88      0.82        40\n",
            "          26       0.78      0.80      0.79        40\n",
            "          27       0.54      0.78      0.64        40\n",
            "          28       0.97      0.95      0.96        40\n",
            "          29       0.91      0.72      0.81        40\n",
            "          30       0.81      0.88      0.84        40\n",
            "          31       1.00      1.00      1.00        40\n",
            "          32       0.80      0.60      0.69        40\n",
            "          33       0.80      0.82      0.81        40\n",
            "          34       0.74      0.72      0.73        40\n",
            "          35       0.81      0.88      0.84        40\n",
            "          36       0.67      0.75      0.71        40\n",
            "          37       0.84      0.65      0.73        40\n",
            "\n",
            "    accuracy                           0.77      1520\n",
            "   macro avg       0.78      0.77      0.77      1520\n",
            "weighted avg       0.78      0.77      0.77      1520\n",
            "\n"
          ],
          "name": "stdout"
        }
      ]
    },
    {
      "cell_type": "code",
      "metadata": {
        "id": "nfLx7xpSGkMO",
        "colab": {
          "base_uri": "https://localhost:8080/"
        },
        "outputId": "1fb55161-b69b-44e6-939d-2a128a75c9d9"
      },
      "source": [
        "model.save(\"/content/drive/MyDrive/Research and Project Stuffs/BdSL/Datasets/Dataset_Rafi_inception\")"
      ],
      "execution_count": null,
      "outputs": [
        {
          "output_type": "stream",
          "text": [
            "INFO:tensorflow:Assets written to: /content/drive/MyDrive/Research and Project Stuffs/BdSL/Datasets/dataset1/Dataset_Rafi_inception/assets\n"
          ],
          "name": "stdout"
        }
      ]
    },
    {
      "cell_type": "code",
      "metadata": {
        "id": "pu5s5mlafxnl"
      },
      "source": [
        ""
      ],
      "execution_count": null,
      "outputs": []
    }
  ]
}