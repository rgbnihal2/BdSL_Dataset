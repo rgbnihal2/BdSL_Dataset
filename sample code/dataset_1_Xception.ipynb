{
  "nbformat": 4,
  "nbformat_minor": 0,
  "metadata": {
    "colab": {
      "name": "dataset 1 Xception",
      "provenance": []
    },
    "kernelspec": {
      "name": "python3",
      "display_name": "Python 3"
    },
    "language_info": {
      "name": "python"
    },
    "accelerator": "GPU"
  },
  "cells": [
    {
      "cell_type": "code",
      "metadata": {
        "colab": {
          "base_uri": "https://localhost:8080/"
        },
        "id": "wnTRugAwPiAr",
        "outputId": "6b7cb7d3-a1aa-42d5-d09d-391483e2eb5a"
      },
      "source": [
        "from google.colab import drive\n",
        "drive.mount('/content/drive')"
      ],
      "execution_count": null,
      "outputs": [
        {
          "output_type": "stream",
          "text": [
            "Mounted at /content/drive\n"
          ],
          "name": "stdout"
        }
      ]
    },
    {
      "cell_type": "code",
      "metadata": {
        "id": "-l4MRfIYQESF"
      },
      "source": [
        "\n",
        "!unzip -uq \"/content/drive/MyDrive/Research and Project Stuffs/BdSL/Datasets/dataset1.zip\" -d \"/content/drive/MyDrive/Research and Project Stuffs/BdSL/Datasets/\""
      ],
      "execution_count": null,
      "outputs": []
    },
    {
      "cell_type": "code",
      "metadata": {
        "colab": {
          "base_uri": "https://localhost:8080/"
        },
        "id": "4gCn-4avQsgn",
        "outputId": "8134dca0-9c33-4816-df14-d5af5b592686"
      },
      "source": [
        "# example of progressively loading images from file\n",
        "from keras.preprocessing.image import ImageDataGenerator\n",
        "# create generator\n",
        "datagen = ImageDataGenerator(rescale=1. / 255,validation_split=0.2)\n",
        "img_height = 224\n",
        "img_width = 224 \n",
        "batch_size = 128\n",
        "# prepare an iterators for each dataset\n",
        "train_it = datagen.flow_from_directory('/content/drive/MyDrive/Research and Project Stuffs/BdSL/Datasets/dataset1',target_size=(img_height, img_width),batch_size = batch_size, subset='training')\n",
        "val_it = datagen.flow_from_directory('/content/drive/MyDrive/Research and Project Stuffs/BdSL/Datasets/dataset1',target_size=(img_height, img_width), batch_size = batch_size, subset='validation')"
      ],
      "execution_count": null,
      "outputs": [
        {
          "output_type": "stream",
          "text": [
            "Found 10656 images belonging to 38 classes.\n",
            "Found 2664 images belonging to 38 classes.\n"
          ],
          "name": "stdout"
        }
      ]
    },
    {
      "cell_type": "code",
      "metadata": {
        "colab": {
          "base_uri": "https://localhost:8080/"
        },
        "id": "L0NE2Yzd_WFB",
        "outputId": "12eff9b3-2974-4009-8d2e-b256a6d84a09"
      },
      "source": [
        "from tensorflow.keras.applications import xception\n",
        "# Init the VGG model\n",
        "vgg_conv = xception.Xception(weights='imagenet', include_top=False, input_shape=(img_height, img_height, 3))"
      ],
      "execution_count": null,
      "outputs": [
        {
          "output_type": "stream",
          "text": [
            "Downloading data from https://storage.googleapis.com/tensorflow/keras-applications/xception/xception_weights_tf_dim_ordering_tf_kernels_notop.h5\n",
            "83689472/83683744 [==============================] - 1s 0us/step\n"
          ],
          "name": "stdout"
        }
      ]
    },
    {
      "cell_type": "code",
      "metadata": {
        "id": "_jwVecda_f6y"
      },
      "source": [
        "# Freeze all the layers\n",
        "for layer in vgg_conv.layers[0:84]:\n",
        "    layer.trainable = False\n",
        "# Check the trainable status of the individual layers\n",
        "for layer in vgg_conv.layers:\n",
        "    print(layer, layer.trainable)"
      ],
      "execution_count": null,
      "outputs": []
    },
    {
      "cell_type": "code",
      "metadata": {
        "id": "CQsdukGnFWAR"
      },
      "source": [
        "from keras.models import Sequential, Model\n",
        "#from tensorflow.keras.models import Model\n",
        "from keras.layers import Conv2D, MaxPooling2D, Activation, Embedding, Dense, Dropout, Flatten, Input,GlobalAveragePooling2D\n",
        "from keras import activations\n",
        "#from tensorflow.python.keras.layers.core import Dense, Dropout, Flatten\n",
        "#from tensorflow.python.keras.layers import Input\n",
        "from keras.optimizers import Adam, SGD\n",
        "from keras.layers import LSTM\n",
        "#from keras.layers import Dropout\n",
        "#from keras.applications.vgg16 import VGG16\n",
        "#from tensorflow.keras.applications import vgg16\n",
        "from skimage.color import gray2rgb\n",
        "#from tensorflow.keras.applications.inception_v3 import InceptionV3 \n",
        "#from tensorflow.keras.applications import DenseNet201"
      ],
      "execution_count": null,
      "outputs": []
    },
    {
      "cell_type": "code",
      "metadata": {
        "colab": {
          "base_uri": "https://localhost:8080/"
        },
        "id": "hDUAiWIeE1Ui",
        "outputId": "e9daa84e-a37b-447c-a913-7d794e6c3482"
      },
      "source": [
        "# Create the model\n",
        "model = Sequential()\n",
        "\n",
        "# Add the vgg convolutional base model\n",
        "model.add(vgg_conv)\n",
        "\n",
        "# Add new layers\n",
        "model.add(Flatten())\n",
        "model.add(Dense(1024, activation='relu'))\n",
        "model.add(Dense(768, activation='relu'))\n",
        "model.add(Dense(512, activation='relu'))\n",
        "model.add(Dense(256, activation='relu'))\n",
        "model.add(Dense(128, activation='relu'))\n",
        "model.add(Dense(38, activation='softmax'))\n",
        "\n",
        "# Show a summary of the model. Check the number of trainable parameters\n",
        "model.summary()"
      ],
      "execution_count": null,
      "outputs": [
        {
          "output_type": "stream",
          "text": [
            "Model: \"sequential\"\n",
            "_________________________________________________________________\n",
            "Layer (type)                 Output Shape              Param #   \n",
            "=================================================================\n",
            "xception (Functional)        (None, 7, 7, 2048)        20861480  \n",
            "_________________________________________________________________\n",
            "flatten (Flatten)            (None, 100352)            0         \n",
            "_________________________________________________________________\n",
            "dense (Dense)                (None, 1024)              102761472 \n",
            "_________________________________________________________________\n",
            "dense_1 (Dense)              (None, 768)               787200    \n",
            "_________________________________________________________________\n",
            "dense_2 (Dense)              (None, 512)               393728    \n",
            "_________________________________________________________________\n",
            "dense_3 (Dense)              (None, 256)               131328    \n",
            "_________________________________________________________________\n",
            "dense_4 (Dense)              (None, 128)               32896     \n",
            "_________________________________________________________________\n",
            "dense_5 (Dense)              (None, 38)                4902      \n",
            "=================================================================\n",
            "Total params: 124,973,006\n",
            "Trainable params: 115,743,294\n",
            "Non-trainable params: 9,229,712\n",
            "_________________________________________________________________\n"
          ],
          "name": "stdout"
        }
      ]
    },
    {
      "cell_type": "code",
      "metadata": {
        "id": "Jnxc5HckGwqL"
      },
      "source": [
        "import keras\n",
        "#sgd = keras.optimizers.SGD(lr=0.00001, decay=1e-6, momentum=0.9, nesterov=True)\n",
        "model.compile(loss='categorical_crossentropy',\n",
        "              optimizer=keras.optimizers.RMSprop(lr=1e-3),\n",
        "              metrics=['acc'])"
      ],
      "execution_count": null,
      "outputs": []
    },
    {
      "cell_type": "code",
      "metadata": {
        "colab": {
          "base_uri": "https://localhost:8080/"
        },
        "id": "EV8WD7w5FZuD",
        "outputId": "9077acd5-526a-4bb8-ee08-da2b91cc6fdd"
      },
      "source": [
        "nb_epochs = 35\n",
        "batch_size = 128\n",
        "history = model.fit_generator(\n",
        "    train_it,\n",
        "    steps_per_epoch = train_it.samples // batch_size,\n",
        "    validation_data = val_it, \n",
        "    validation_steps = val_it.samples // batch_size,\n",
        "    epochs = nb_epochs)"
      ],
      "execution_count": null,
      "outputs": [
        {
          "output_type": "stream",
          "text": [
            "/usr/local/lib/python3.7/dist-packages/tensorflow/python/keras/engine/training.py:1844: UserWarning: `Model.fit_generator` is deprecated and will be removed in a future version. Please use `Model.fit`, which supports generators.\n",
            "  warnings.warn('`Model.fit_generator` is deprecated and '\n"
          ],
          "name": "stderr"
        },
        {
          "output_type": "stream",
          "text": [
            "Epoch 1/35\n",
            "83/83 [==============================] - 3715s 44s/step - loss: 4.8339 - acc: 0.0249 - val_loss: 3.6220 - val_acc: 0.0277\n",
            "Epoch 2/35\n",
            "83/83 [==============================] - 81s 974ms/step - loss: 3.3631 - acc: 0.0697 - val_loss: 2.5442 - val_acc: 0.2004\n",
            "Epoch 3/35\n",
            "83/83 [==============================] - 86s 1s/step - loss: 2.2547 - acc: 0.2698 - val_loss: 2.6305 - val_acc: 0.3656\n",
            "Epoch 4/35\n",
            "83/83 [==============================] - 88s 1s/step - loss: 1.6444 - acc: 0.4661 - val_loss: 1.3034 - val_acc: 0.5367\n",
            "Epoch 5/35\n",
            "83/83 [==============================] - 90s 1s/step - loss: 1.0079 - acc: 0.6366 - val_loss: 0.6091 - val_acc: 0.7578\n",
            "Epoch 6/35\n",
            "83/83 [==============================] - 91s 1s/step - loss: 0.5140 - acc: 0.8062 - val_loss: 0.3848 - val_acc: 0.8715\n",
            "Epoch 7/35\n",
            "83/83 [==============================] - 92s 1s/step - loss: 0.3116 - acc: 0.8989 - val_loss: 0.4023 - val_acc: 0.8629\n",
            "Epoch 8/35\n",
            "83/83 [==============================] - 92s 1s/step - loss: 0.2968 - acc: 0.9229 - val_loss: 0.2259 - val_acc: 0.9125\n",
            "Epoch 9/35\n",
            "83/83 [==============================] - 92s 1s/step - loss: 0.2365 - acc: 0.9372 - val_loss: 0.7770 - val_acc: 0.9102\n",
            "Epoch 10/35\n",
            "83/83 [==============================] - 92s 1s/step - loss: 0.3119 - acc: 0.9196 - val_loss: 0.7238 - val_acc: 0.8996\n",
            "Epoch 11/35\n",
            "83/83 [==============================] - 92s 1s/step - loss: 0.2636 - acc: 0.9519 - val_loss: 0.1638 - val_acc: 0.9512\n",
            "Epoch 12/35\n",
            "83/83 [==============================] - 92s 1s/step - loss: 0.2379 - acc: 0.9587 - val_loss: 0.5935 - val_acc: 0.9293\n",
            "Epoch 13/35\n",
            "83/83 [==============================] - 92s 1s/step - loss: 0.1986 - acc: 0.9686 - val_loss: 0.2080 - val_acc: 0.9660\n",
            "Epoch 14/35\n",
            "83/83 [==============================] - 92s 1s/step - loss: 0.1777 - acc: 0.9794 - val_loss: 0.1358 - val_acc: 0.9820\n",
            "Epoch 15/35\n",
            "83/83 [==============================] - 92s 1s/step - loss: 0.1394 - acc: 0.9849 - val_loss: 0.3157 - val_acc: 0.9602\n",
            "Epoch 16/35\n",
            "83/83 [==============================] - 92s 1s/step - loss: 0.1380 - acc: 0.9804 - val_loss: 1.9495 - val_acc: 0.9625\n",
            "Epoch 17/35\n",
            "83/83 [==============================] - 92s 1s/step - loss: 0.1616 - acc: 0.9844 - val_loss: 0.0896 - val_acc: 0.9898\n",
            "Epoch 18/35\n",
            "83/83 [==============================] - 92s 1s/step - loss: 0.0544 - acc: 0.9914 - val_loss: 0.4209 - val_acc: 0.9340\n",
            "Epoch 19/35\n",
            "83/83 [==============================] - 92s 1s/step - loss: 0.1235 - acc: 0.9879 - val_loss: 1.0184 - val_acc: 0.9449\n",
            "Epoch 20/35\n",
            "83/83 [==============================] - 92s 1s/step - loss: 0.1302 - acc: 0.9860 - val_loss: 0.3790 - val_acc: 0.9543\n",
            "Epoch 21/35\n",
            "83/83 [==============================] - 92s 1s/step - loss: 0.0979 - acc: 0.9867 - val_loss: 0.2546 - val_acc: 0.9504\n",
            "Epoch 22/35\n",
            "83/83 [==============================] - 92s 1s/step - loss: 0.1497 - acc: 0.9876 - val_loss: 0.0377 - val_acc: 0.9937\n",
            "Epoch 23/35\n",
            "83/83 [==============================] - 92s 1s/step - loss: 0.0578 - acc: 0.9923 - val_loss: 0.0960 - val_acc: 0.9875\n",
            "Epoch 24/35\n",
            "83/83 [==============================] - 92s 1s/step - loss: 0.0627 - acc: 0.9928 - val_loss: 0.0769 - val_acc: 0.9902\n",
            "Epoch 25/35\n",
            "83/83 [==============================] - 92s 1s/step - loss: 0.0804 - acc: 0.9907 - val_loss: 0.1101 - val_acc: 0.9836\n",
            "Epoch 26/35\n",
            "83/83 [==============================] - 92s 1s/step - loss: 0.0810 - acc: 0.9891 - val_loss: 0.2797 - val_acc: 0.9867\n",
            "Epoch 27/35\n",
            "83/83 [==============================] - 92s 1s/step - loss: 0.2247 - acc: 0.9870 - val_loss: 0.1818 - val_acc: 0.9801\n",
            "Epoch 28/35\n",
            "83/83 [==============================] - 93s 1s/step - loss: 0.1215 - acc: 0.9887 - val_loss: 0.4729 - val_acc: 0.9566\n",
            "Epoch 29/35\n",
            "83/83 [==============================] - 92s 1s/step - loss: 0.1142 - acc: 0.9882 - val_loss: 0.1268 - val_acc: 0.9906\n",
            "Epoch 30/35\n",
            "83/83 [==============================] - 92s 1s/step - loss: 0.5181 - acc: 0.9882 - val_loss: 0.4486 - val_acc: 0.9414\n",
            "Epoch 31/35\n",
            "83/83 [==============================] - 92s 1s/step - loss: 0.1256 - acc: 0.9907 - val_loss: 0.1964 - val_acc: 0.9773\n",
            "Epoch 32/35\n",
            "83/83 [==============================] - 92s 1s/step - loss: 0.0693 - acc: 0.9922 - val_loss: 0.1079 - val_acc: 0.9910\n",
            "Epoch 33/35\n",
            "83/83 [==============================] - 92s 1s/step - loss: 0.1228 - acc: 0.9937 - val_loss: 0.9122 - val_acc: 0.9469\n",
            "Epoch 34/35\n",
            "83/83 [==============================] - 92s 1s/step - loss: 0.1806 - acc: 0.9836 - val_loss: 0.1839 - val_acc: 0.9867\n",
            "Epoch 35/35\n",
            "83/83 [==============================] - 92s 1s/step - loss: 0.1748 - acc: 0.9865 - val_loss: 0.2226 - val_acc: 0.9855\n"
          ],
          "name": "stdout"
        },
        {
          "output_type": "execute_result",
          "data": {
            "text/plain": [
              "<tensorflow.python.keras.callbacks.History at 0x7f3c3216e050>"
            ]
          },
          "metadata": {
            "tags": []
          },
          "execution_count": 9
        }
      ]
    },
    {
      "cell_type": "code",
      "metadata": {
        "id": "C5YOysId10lC"
      },
      "source": [
        "model.save(\"/content/drive/MyDrive/Research and Project Stuffs/BdSL/Datasets/dataset1/Dataset_1_Xception\")"
      ],
      "execution_count": null,
      "outputs": []
    },
    {
      "cell_type": "code",
      "metadata": {
        "colab": {
          "base_uri": "https://localhost:8080/"
        },
        "id": "z-zpFxZp0E7S",
        "outputId": "6689883e-18ef-47f0-b4c3-80ec21c56991"
      },
      "source": [
        "test_score = model.evaluate_generator(val_it, batch_size)\n",
        "\n",
        "\n",
        "\n",
        "print(\"[INFO] accuracy: {:.2f}%\".format(test_score[1] * 100)) \n",
        "\n",
        "print(\"[INFO] Loss: \",test_score[0])"
      ],
      "execution_count": null,
      "outputs": [
        {
          "output_type": "stream",
          "text": [
            "/usr/local/lib/python3.7/dist-packages/tensorflow/python/keras/engine/training.py:1877: UserWarning: `Model.evaluate_generator` is deprecated and will be removed in a future version. Please use `Model.evaluate`, which supports generators.\n",
            "  warnings.warn('`Model.evaluate_generator` is deprecated and '\n"
          ],
          "name": "stderr"
        },
        {
          "output_type": "stream",
          "text": [
            "WARNING:tensorflow:Your input ran out of data; interrupting training. Make sure that your dataset or generator can generate at least `steps_per_epoch * epochs` batches (in this case, 128 batches). You may need to use the repeat() function when building your dataset.\n",
            "[INFO] accuracy: 98.54%\n",
            "[INFO] Loss:  0.24507664144039154\n"
          ],
          "name": "stdout"
        }
      ]
    },
    {
      "cell_type": "code",
      "metadata": {
        "id": "dMaJdKxv0GYr"
      },
      "source": [
        "import sys\n",
        "\n",
        "import numpy as np\n",
        "\n",
        "from keras import backend as K\n",
        "\n",
        "from keras.models import Sequential\n",
        "\n",
        "from keras.layers.core import Dense, Dropout, Activation, Flatten\n",
        "\n",
        "from keras.layers.convolutional import Convolution2D, MaxPooling2D\n",
        "\n",
        "from keras.preprocessing.image import ImageDataGenerator\n",
        "\n",
        "from sklearn.metrics import classification_report, confusion_matrix\n",
        "\n",
        "from keras.layers import Conv2D, Flatten, Dense, MaxPool2D,MaxPooling2D, Activation, Dropout, BatchNormalization, Input\n",
        "\n",
        "import matplotlib.pyplot as plt\n",
        "\n",
        "from keras.optimizers import Adam\n",
        "\n",
        "import itertools "
      ],
      "execution_count": null,
      "outputs": []
    },
    {
      "cell_type": "code",
      "metadata": {
        "id": "b8uIIIZLyEwx"
      },
      "source": [
        "history = model"
      ],
      "execution_count": null,
      "outputs": []
    },
    {
      "cell_type": "code",
      "metadata": {
        "colab": {
          "base_uri": "https://localhost:8080/",
          "height": 242
        },
        "id": "hZZ5bABe0J87",
        "outputId": "94cfb61a-ef75-46fd-b6c2-f03eba5f3cb0"
      },
      "source": [
        "# Loss Curves\n",
        "\n",
        "plt.figure(figsize=[8,6])\n",
        "\n",
        "plt.plot(history.history['loss'],'r',linewidth=3.0)\n",
        "\n",
        "plt.plot(history.history['val_loss'],'b',linewidth=3.0)\n",
        "\n",
        "plt.legend(['Training loss', 'Validation Loss'],fontsize=18)\n",
        "\n",
        "plt.xlabel('Epochs ',fontsize=16)\n",
        "\n",
        "plt.ylabel('Loss',fontsize=16)\n",
        "\n",
        "plt.title('Loss Curves',fontsize=16)"
      ],
      "execution_count": null,
      "outputs": [
        {
          "output_type": "error",
          "ename": "TypeError",
          "evalue": "ignored",
          "traceback": [
            "\u001b[0;31m---------------------------------------------------------------------------\u001b[0m",
            "\u001b[0;31mTypeError\u001b[0m                                 Traceback (most recent call last)",
            "\u001b[0;32m<ipython-input-14-1421e7433ae9>\u001b[0m in \u001b[0;36m<module>\u001b[0;34m()\u001b[0m\n\u001b[1;32m      3\u001b[0m \u001b[0mplt\u001b[0m\u001b[0;34m.\u001b[0m\u001b[0mfigure\u001b[0m\u001b[0;34m(\u001b[0m\u001b[0mfigsize\u001b[0m\u001b[0;34m=\u001b[0m\u001b[0;34m[\u001b[0m\u001b[0;36m8\u001b[0m\u001b[0;34m,\u001b[0m\u001b[0;36m6\u001b[0m\u001b[0;34m]\u001b[0m\u001b[0;34m)\u001b[0m\u001b[0;34m\u001b[0m\u001b[0;34m\u001b[0m\u001b[0m\n\u001b[1;32m      4\u001b[0m \u001b[0;34m\u001b[0m\u001b[0m\n\u001b[0;32m----> 5\u001b[0;31m \u001b[0mplt\u001b[0m\u001b[0;34m.\u001b[0m\u001b[0mplot\u001b[0m\u001b[0;34m(\u001b[0m\u001b[0mhistory\u001b[0m\u001b[0;34m.\u001b[0m\u001b[0mhistory\u001b[0m\u001b[0;34m[\u001b[0m\u001b[0;34m'loss'\u001b[0m\u001b[0;34m]\u001b[0m\u001b[0;34m,\u001b[0m\u001b[0;34m'r'\u001b[0m\u001b[0;34m,\u001b[0m\u001b[0mlinewidth\u001b[0m\u001b[0;34m=\u001b[0m\u001b[0;36m3.0\u001b[0m\u001b[0;34m)\u001b[0m\u001b[0;34m\u001b[0m\u001b[0;34m\u001b[0m\u001b[0m\n\u001b[0m\u001b[1;32m      6\u001b[0m \u001b[0;34m\u001b[0m\u001b[0m\n\u001b[1;32m      7\u001b[0m \u001b[0mplt\u001b[0m\u001b[0;34m.\u001b[0m\u001b[0mplot\u001b[0m\u001b[0;34m(\u001b[0m\u001b[0mhistory\u001b[0m\u001b[0;34m.\u001b[0m\u001b[0mhistory\u001b[0m\u001b[0;34m[\u001b[0m\u001b[0;34m'val_loss'\u001b[0m\u001b[0;34m]\u001b[0m\u001b[0;34m,\u001b[0m\u001b[0;34m'b'\u001b[0m\u001b[0;34m,\u001b[0m\u001b[0mlinewidth\u001b[0m\u001b[0;34m=\u001b[0m\u001b[0;36m3.0\u001b[0m\u001b[0;34m)\u001b[0m\u001b[0;34m\u001b[0m\u001b[0;34m\u001b[0m\u001b[0m\n",
            "\u001b[0;31mTypeError\u001b[0m: 'History' object is not subscriptable"
          ]
        },
        {
          "output_type": "display_data",
          "data": {
            "text/plain": [
              "<Figure size 576x432 with 0 Axes>"
            ]
          },
          "metadata": {
            "tags": []
          }
        }
      ]
    },
    {
      "cell_type": "code",
      "metadata": {
        "id": "1j3KfluZ0NTL"
      },
      "source": [
        "# Accuracy Curves\n",
        "\n",
        "plt.figure(figsize=[8,6])\n",
        "\n",
        "plt.plot(history.history['acc'],'r',linewidth=3.0)\n",
        "\n",
        "plt.plot(history.history['val_acc'],'b',linewidth=3.0)\n",
        "\n",
        "plt.legend(['Training Accuracy', 'Validation Accuracy'],fontsize=18)\n",
        "\n",
        "plt.xlabel('Epochs ',fontsize=16)\n",
        "\n",
        "plt.ylabel('Accuracy',fontsize=16)\n",
        "\n",
        "plt.title('Accuracy Curves',fontsize=16)"
      ],
      "execution_count": null,
      "outputs": []
    },
    {
      "cell_type": "code",
      "metadata": {
        "id": "9dJ7PRDQ0QaT"
      },
      "source": [
        "#Plot the confusion matrix. Set Normalize = True/False\n",
        "\n",
        "\n",
        "\n",
        "def plot_confusion_matrix(cm, classes, normalize=True, title='Confusion matrix', cmap=plt.cm.Blues):\n",
        "\n",
        "    \"\"\"\n",
        "\n",
        "    This function prints and plots the confusion matrix.\n",
        "\n",
        "    Normalization can be applied by setting `normalize=True`.\n",
        "\n",
        "    \"\"\"\n",
        "\n",
        "    plt.figure(figsize=(10,10))\n",
        "\n",
        "\n",
        "\n",
        "    plt.imshow(cm, interpolation='nearest', cmap=cmap)\n",
        "\n",
        "    plt.title(title)\n",
        "\n",
        "    plt.colorbar()\n",
        "\n",
        "\n",
        "\n",
        "    tick_marks = np.arange(len(classes))\n",
        "\n",
        "    plt.xticks(tick_marks, classes, rotation=45)\n",
        "\n",
        "    plt.yticks(tick_marks, classes)\n",
        "\n",
        "\n",
        "\n",
        "    if normalize:\n",
        "\n",
        "        cm = cm.astype('float') / cm.sum(axis=1)[:, np.newaxis]\n",
        "\n",
        "        cm = np.around(cm, decimals=2)\n",
        "\n",
        "        cm[np.isnan(cm)] = 0.0\n",
        "\n",
        "        print(\"Normalized confusion matrix\")\n",
        "\n",
        "    else:\n",
        "\n",
        "        print('Confusion matrix, without normalization')\n",
        "\n",
        "    thresh = cm.max() / 2.\n",
        "\n",
        "    for i, j in itertools.product(range(cm.shape[0]), range(cm.shape[1])):\n",
        "\n",
        "        plt.text(j, i, cm[i, j],\n",
        "\n",
        "                 horizontalalignment=\"center\",\n",
        "\n",
        "                 color=\"white\" if cm[i, j] > thresh else \"black\")\n",
        "\n",
        "    plt.tight_layout()\n",
        "\n",
        "    plt.ylabel('True label')\n",
        "\n",
        "    plt.xlabel('Predicted label')"
      ],
      "execution_count": null,
      "outputs": []
    },
    {
      "cell_type": "code",
      "metadata": {
        "colab": {
          "base_uri": "https://localhost:8080/"
        },
        "id": "5z3MaxcC0mDG",
        "outputId": "241a9e44-f368-40e7-bca4-d0f0282511ba"
      },
      "source": [
        "#Print the Target names\n",
        "\n",
        "\n",
        "\n",
        "target_names = []\n",
        "\n",
        "for key in val_it.class_indices:\n",
        "\n",
        "    target_names.append(key)\n",
        "\n",
        "\n",
        "\n",
        "print(target_names)"
      ],
      "execution_count": null,
      "outputs": [
        {
          "output_type": "stream",
          "text": [
            "['1', '10', '11', '12', '13', '14', '15', '16', '17', '18', '19', '2', '20', '21', '22', '23', '24', '25', '26', '27', '28', '29', '3', '30', '31', '32', '33', '34', '35', '36', '38', '4', '5', '6', '7', '8', '9', 'Dataset_2_inception']\n"
          ],
          "name": "stdout"
        }
      ]
    },
    {
      "cell_type": "code",
      "metadata": {
        "colab": {
          "base_uri": "https://localhost:8080/"
        },
        "id": "Il6RkOwx0qHM",
        "outputId": "328d35e0-100f-4b62-f9cc-84e753318a9b"
      },
      "source": [
        "y_img_batch, y_class_batch = val_it[0]\n",
        "y_pred = np.argmax(model.predict(y_img_batch),-1)\n",
        "y_true = np.argmax(y_class_batch,-1)\n",
        "print(sum(y_pred==y_true)/batch_size)"
      ],
      "execution_count": null,
      "outputs": [
        {
          "output_type": "stream",
          "text": [
            "1.0\n"
          ],
          "name": "stdout"
        }
      ]
    },
    {
      "cell_type": "code",
      "metadata": {
        "colab": {
          "base_uri": "https://localhost:8080/",
          "height": 716
        },
        "id": "hlMMCHWK0yCE",
        "outputId": "94bd5721-a8ac-426c-b451-412207f9e1d3"
      },
      "source": [
        "from sklearn.metrics import classification_report, confusion_matrix\n",
        "cm = confusion_matrix(y_true,y_pred)\n",
        "plot_confusion_matrix(cm, target_names, title='Confusion Matrix')"
      ],
      "execution_count": null,
      "outputs": [
        {
          "output_type": "stream",
          "text": [
            "Normalized confusion matrix\n"
          ],
          "name": "stdout"
        },
        {
          "output_type": "display_data",
          "data": {
            "image/png": "[encoded data removed]",
            "text/plain": [
              "<Figure size 720x720 with 2 Axes>"
            ]
          },
          "metadata": {
            "tags": [],
            "needs_background": "light"
          }
        }
      ]
    },
    {
      "cell_type": "code",
      "metadata": {
        "colab": {
          "base_uri": "https://localhost:8080/",
          "height": 340
        },
        "id": "xjV2ghW81xWI",
        "outputId": "33bcd4f6-d09d-42e2-cb8e-a32d75c1b54c"
      },
      "source": [
        "#Print Classification Report\n",
        "\n",
        "print('Classification Report')\n",
        "\n",
        "print(classification_report(y_true, y_pred, target_names=target_names[0:-1]))"
      ],
      "execution_count": null,
      "outputs": [
        {
          "output_type": "stream",
          "text": [
            "Classification Report\n"
          ],
          "name": "stdout"
        },
        {
          "output_type": "error",
          "ename": "ValueError",
          "evalue": "ignored",
          "traceback": [
            "\u001b[0;31m---------------------------------------------------------------------------\u001b[0m",
            "\u001b[0;31mValueError\u001b[0m                                Traceback (most recent call last)",
            "\u001b[0;32m<ipython-input-20-51e6cc05a57f>\u001b[0m in \u001b[0;36m<module>\u001b[0;34m()\u001b[0m\n\u001b[1;32m      3\u001b[0m \u001b[0mprint\u001b[0m\u001b[0;34m(\u001b[0m\u001b[0;34m'Classification Report'\u001b[0m\u001b[0;34m)\u001b[0m\u001b[0;34m\u001b[0m\u001b[0;34m\u001b[0m\u001b[0m\n\u001b[1;32m      4\u001b[0m \u001b[0;34m\u001b[0m\u001b[0m\n\u001b[0;32m----> 5\u001b[0;31m \u001b[0mprint\u001b[0m\u001b[0;34m(\u001b[0m\u001b[0mclassification_report\u001b[0m\u001b[0;34m(\u001b[0m\u001b[0my_true\u001b[0m\u001b[0;34m,\u001b[0m \u001b[0my_pred\u001b[0m\u001b[0;34m,\u001b[0m \u001b[0mtarget_names\u001b[0m\u001b[0;34m=\u001b[0m\u001b[0mtarget_names\u001b[0m\u001b[0;34m[\u001b[0m\u001b[0;36m0\u001b[0m\u001b[0;34m:\u001b[0m\u001b[0;34m-\u001b[0m\u001b[0;36m1\u001b[0m\u001b[0;34m]\u001b[0m\u001b[0;34m)\u001b[0m\u001b[0;34m)\u001b[0m\u001b[0;34m\u001b[0m\u001b[0;34m\u001b[0m\u001b[0m\n\u001b[0m",
            "\u001b[0;32m/usr/local/lib/python3.7/dist-packages/sklearn/metrics/_classification.py\u001b[0m in \u001b[0;36mclassification_report\u001b[0;34m(y_true, y_pred, labels, target_names, sample_weight, digits, output_dict, zero_division)\u001b[0m\n\u001b[1;32m   1993\u001b[0m                 \u001b[0;34m\"Number of classes, {0}, does not match size of \"\u001b[0m\u001b[0;34m\u001b[0m\u001b[0;34m\u001b[0m\u001b[0m\n\u001b[1;32m   1994\u001b[0m                 \u001b[0;34m\"target_names, {1}. Try specifying the labels \"\u001b[0m\u001b[0;34m\u001b[0m\u001b[0;34m\u001b[0m\u001b[0m\n\u001b[0;32m-> 1995\u001b[0;31m                 \u001b[0;34m\"parameter\"\u001b[0m\u001b[0;34m.\u001b[0m\u001b[0mformat\u001b[0m\u001b[0;34m(\u001b[0m\u001b[0mlen\u001b[0m\u001b[0;34m(\u001b[0m\u001b[0mlabels\u001b[0m\u001b[0;34m)\u001b[0m\u001b[0;34m,\u001b[0m \u001b[0mlen\u001b[0m\u001b[0;34m(\u001b[0m\u001b[0mtarget_names\u001b[0m\u001b[0;34m)\u001b[0m\u001b[0;34m)\u001b[0m\u001b[0;34m\u001b[0m\u001b[0;34m\u001b[0m\u001b[0m\n\u001b[0m\u001b[1;32m   1996\u001b[0m             )\n\u001b[1;32m   1997\u001b[0m     \u001b[0;32mif\u001b[0m \u001b[0mtarget_names\u001b[0m \u001b[0;32mis\u001b[0m \u001b[0;32mNone\u001b[0m\u001b[0;34m:\u001b[0m\u001b[0;34m\u001b[0m\u001b[0;34m\u001b[0m\u001b[0m\n",
            "\u001b[0;31mValueError\u001b[0m: Number of classes, 35, does not match size of target_names, 37. Try specifying the labels parameter"
          ]
        }
      ]
    },
    {
      "cell_type": "code",
      "metadata": {
        "id": "lHXK7lMw16Pl"
      },
      "source": [
        ""
      ],
      "execution_count": null,
      "outputs": []
    }
  ]
}