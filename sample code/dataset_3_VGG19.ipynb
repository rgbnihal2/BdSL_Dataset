{
  "nbformat": 4,
  "nbformat_minor": 0,
  "metadata": {
    "colab": {
      "name": "dataset 3 VGG19",
      "provenance": []
    },
    "kernelspec": {
      "name": "python3",
      "display_name": "Python 3"
    },
    "language_info": {
      "name": "python"
    },
    "accelerator": "GPU"
  },
  "cells": [
    {
      "cell_type": "code",
      "metadata": {
        "colab": {
          "base_uri": "https://localhost:8080/"
        },
        "id": "wnTRugAwPiAr",
        "outputId": "47dc0dd4-dfed-4692-ff6a-ec81265344b1"
      },
      "source": [
        "from google.colab import drive\n",
        "drive.mount('/content/drive')"
      ],
      "execution_count": null,
      "outputs": [
        {
          "output_type": "stream",
          "text": [
            "Mounted at /content/drive\n"
          ],
          "name": "stdout"
        }
      ]
    },
    {
      "cell_type": "code",
      "metadata": {
        "id": "-l4MRfIYQESF"
      },
      "source": [
        "\n",
        "!unzip -uq \"/content/drive/MyDrive/Research and Project Stuffs/BdSL/Datasets/dataset3.zip\" -d \"/content/drive/MyDrive/Research and Project Stuffs/BdSL/Datasets/\""
      ],
      "execution_count": null,
      "outputs": []
    },
    {
      "cell_type": "code",
      "metadata": {
        "colab": {
          "base_uri": "https://localhost:8080/"
        },
        "id": "4gCn-4avQsgn",
        "outputId": "6ae26210-6980-4c5e-c5c5-ef17b2da23a2"
      },
      "source": [
        "# example of progressively loading images from file\n",
        "from keras.preprocessing.image import ImageDataGenerator\n",
        "# create generator\n",
        "datagen = ImageDataGenerator(validation_split=0.2)\n",
        "img_height = 224\n",
        "img_width = 224 \n",
        "batch_size = 380\n",
        "# prepare an iterators for each dataset\n",
        "train_it = datagen.flow_from_directory('/content/drive/MyDrive/Research and Project Stuffs/BdSL/Datasets/dataset3/dataset',target_size=(img_height, img_width),batch_size = batch_size, subset='training')\n",
        "val_it = datagen.flow_from_directory('/content/drive/MyDrive/Research and Project Stuffs/BdSL/Datasets/dataset3/dataset',target_size=(img_height, img_width), batch_size = batch_size, subset='validation')"
      ],
      "execution_count": null,
      "outputs": [
        {
          "output_type": "stream",
          "text": [
            "Found 1523 images belonging to 38 classes.\n",
            "Found 380 images belonging to 38 classes.\n"
          ],
          "name": "stdout"
        }
      ]
    },
    {
      "cell_type": "code",
      "metadata": {
        "colab": {
          "base_uri": "https://localhost:8080/"
        },
        "id": "L0NE2Yzd_WFB",
        "outputId": "0e4bc2c8-4746-4fd8-e6fd-1e4ccd0b2d21"
      },
      "source": [
        "from tensorflow.keras.applications import vgg19\n",
        "# Init the VGG model\n",
        "vgg_conv = vgg19.VGG19(weights='imagenet', include_top=False, input_shape=(img_height, img_height, 3))"
      ],
      "execution_count": null,
      "outputs": [
        {
          "output_type": "stream",
          "text": [
            "Downloading data from https://storage.googleapis.com/tensorflow/keras-applications/vgg19/vgg19_weights_tf_dim_ordering_tf_kernels_notop.h5\n",
            "80142336/80134624 [==============================] - 1s 0us/step\n"
          ],
          "name": "stdout"
        }
      ]
    },
    {
      "cell_type": "code",
      "metadata": {
        "colab": {
          "base_uri": "https://localhost:8080/"
        },
        "id": "_jwVecda_f6y",
        "outputId": "37fdebe1-1187-42a3-c305-8e69ef8b535f"
      },
      "source": [
        "# Freeze all the layers\n",
        "for layer in vgg_conv.layers[:]:\n",
        "    layer.trainable = False\n",
        "# Check the trainable status of the individual layers\n",
        "for layer in vgg_conv.layers:\n",
        "    print(layer, layer.trainable)"
      ],
      "execution_count": null,
      "outputs": [
        {
          "output_type": "stream",
          "text": [
            "<tensorflow.python.keras.engine.input_layer.InputLayer object at 0x7fc14a4f74d0> False\n",
            "<tensorflow.python.keras.layers.convolutional.Conv2D object at 0x7fc14a623a10> False\n",
            "<tensorflow.python.keras.layers.convolutional.Conv2D object at 0x7fc14a3c5750> False\n",
            "<tensorflow.python.keras.layers.pooling.MaxPooling2D object at 0x7fc14a3d4e50> False\n",
            "<tensorflow.python.keras.layers.convolutional.Conv2D object at 0x7fc14a3dee90> False\n",
            "<tensorflow.python.keras.layers.convolutional.Conv2D object at 0x7fc14a3e3e50> False\n",
            "<tensorflow.python.keras.layers.pooling.MaxPooling2D object at 0x7fc14a3d9750> False\n",
            "<tensorflow.python.keras.layers.convolutional.Conv2D object at 0x7fc14a61e2d0> False\n",
            "<tensorflow.python.keras.layers.convolutional.Conv2D object at 0x7fc14a3f5850> False\n",
            "<tensorflow.python.keras.layers.convolutional.Conv2D object at 0x7fc14a3fb5d0> False\n",
            "<tensorflow.python.keras.layers.convolutional.Conv2D object at 0x7fc14a3dea50> False\n",
            "<tensorflow.python.keras.layers.pooling.MaxPooling2D object at 0x7fc14a3c5950> False\n",
            "<tensorflow.python.keras.layers.convolutional.Conv2D object at 0x7fc14a3c5c10> False\n",
            "<tensorflow.python.keras.layers.convolutional.Conv2D object at 0x7fc14a380cd0> False\n",
            "<tensorflow.python.keras.layers.convolutional.Conv2D object at 0x7fc14a384e90> False\n",
            "<tensorflow.python.keras.layers.convolutional.Conv2D object at 0x7fc14a390d50> False\n",
            "<tensorflow.python.keras.layers.pooling.MaxPooling2D object at 0x7fc14a384810> False\n",
            "<tensorflow.python.keras.layers.convolutional.Conv2D object at 0x7fc14a397ed0> False\n",
            "<tensorflow.python.keras.layers.convolutional.Conv2D object at 0x7fc14a39ae90> False\n",
            "<tensorflow.python.keras.layers.convolutional.Conv2D object at 0x7fc14a39dd10> False\n",
            "<tensorflow.python.keras.layers.convolutional.Conv2D object at 0x7fc14a3efa90> False\n",
            "<tensorflow.python.keras.layers.pooling.MaxPooling2D object at 0x7fc14a3a4f10> False\n"
          ],
          "name": "stdout"
        }
      ]
    },
    {
      "cell_type": "code",
      "metadata": {
        "id": "CQsdukGnFWAR"
      },
      "source": [
        "from keras.models import Sequential, Model\n",
        "#from tensorflow.keras.models import Model\n",
        "from keras.layers import Conv2D, MaxPooling2D, Activation, Embedding, Dense, Dropout, Flatten, Input,GlobalAveragePooling2D\n",
        "from keras import activations\n",
        "#from tensorflow.python.keras.layers.core import Dense, Dropout, Flatten\n",
        "#from tensorflow.python.keras.layers import Input\n",
        "from keras.optimizers import Adam, SGD\n",
        "from keras.layers import LSTM\n",
        "#from keras.layers import Dropout\n",
        "#from keras.applications.vgg16 import VGG16\n",
        "#from tensorflow.keras.applications import vgg16\n",
        "from skimage.color import gray2rgb\n",
        "#from tensorflow.keras.applications.inception_v3 import InceptionV3 \n",
        "#from tensorflow.keras.applications import DenseNet201"
      ],
      "execution_count": null,
      "outputs": []
    },
    {
      "cell_type": "code",
      "metadata": {
        "colab": {
          "base_uri": "https://localhost:8080/"
        },
        "id": "hDUAiWIeE1Ui",
        "outputId": "8cd8a357-b12c-4845-e0c3-cb8786cf771f"
      },
      "source": [
        "# Create the model\n",
        "model = Sequential()\n",
        "\n",
        "# Add the vgg convolutional base model\n",
        "model.add(vgg_conv)\n",
        "\n",
        "# Add new layers\n",
        "model.add(Flatten())\n",
        "model.add(Dense(1024, activation='relu'))\n",
        "model.add(Dropout(0.5))\n",
        "model.add(Dense(38, activation='softmax'))\n",
        "\n",
        "# Show a summary of the model. Check the number of trainable parameters\n",
        "model.summary()"
      ],
      "execution_count": null,
      "outputs": [
        {
          "output_type": "stream",
          "text": [
            "Model: \"sequential\"\n",
            "_________________________________________________________________\n",
            "Layer (type)                 Output Shape              Param #   \n",
            "=================================================================\n",
            "vgg19 (Functional)           (None, 7, 7, 512)         20024384  \n",
            "_________________________________________________________________\n",
            "flatten (Flatten)            (None, 25088)             0         \n",
            "_________________________________________________________________\n",
            "dense (Dense)                (None, 1024)              25691136  \n",
            "_________________________________________________________________\n",
            "dropout (Dropout)            (None, 1024)              0         \n",
            "_________________________________________________________________\n",
            "dense_1 (Dense)              (None, 38)                38950     \n",
            "=================================================================\n",
            "Total params: 45,754,470\n",
            "Trainable params: 25,730,086\n",
            "Non-trainable params: 20,024,384\n",
            "_________________________________________________________________\n"
          ],
          "name": "stdout"
        }
      ]
    },
    {
      "cell_type": "code",
      "metadata": {
        "colab": {
          "base_uri": "https://localhost:8080/"
        },
        "id": "rrAx1W0gGHTb",
        "outputId": "a5667a1b-3a1a-4b5b-ba57-e681f2b2e31e"
      },
      "source": [
        "train_it.samples"
      ],
      "execution_count": null,
      "outputs": [
        {
          "output_type": "execute_result",
          "data": {
            "text/plain": [
              "1523"
            ]
          },
          "metadata": {
            "tags": []
          },
          "execution_count": 12
        }
      ]
    },
    {
      "cell_type": "code",
      "metadata": {
        "id": "Jnxc5HckGwqL"
      },
      "source": [
        "import keras\n",
        "#sgd = keras.optimizers.SGD(lr=0.00001, decay=1e-6, momentum=0.9, nesterov=True)\n",
        "model.compile(loss='categorical_crossentropy',\n",
        "              optimizer=keras.optimizers.SGD(lr=1e-3),\n",
        "              metrics=['acc'])"
      ],
      "execution_count": null,
      "outputs": []
    },
    {
      "cell_type": "code",
      "metadata": {
        "colab": {
          "base_uri": "https://localhost:8080/"
        },
        "id": "EV8WD7w5FZuD",
        "outputId": "fa33857c-8df2-46d0-a300-4ebff685487d"
      },
      "source": [
        "nb_epochs = 100\n",
        "batch_size = 380\n",
        "history = model.fit_generator(\n",
        "    train_it,\n",
        "    steps_per_epoch = train_it.samples // batch_size,\n",
        "    validation_data = val_it, \n",
        "    validation_steps = val_it.samples // batch_size,\n",
        "    epochs = nb_epochs)"
      ],
      "execution_count": null,
      "outputs": [
        {
          "output_type": "stream",
          "text": [
            "/usr/local/lib/python3.7/dist-packages/tensorflow/python/keras/engine/training.py:1844: UserWarning: `Model.fit_generator` is deprecated and will be removed in a future version. Please use `Model.fit`, which supports generators.\n",
            "  warnings.warn('`Model.fit_generator` is deprecated and '\n"
          ],
          "name": "stderr"
        },
        {
          "output_type": "stream",
          "text": [
            "Epoch 1/100\n",
            "4/4 [==============================] - 224s 28s/step - loss: 20.3033 - acc: 0.1155 - val_loss: 2.3290 - val_acc: 0.7447\n",
            "Epoch 2/100\n",
            "4/4 [==============================] - 10s 3s/step - loss: 9.5714 - acc: 0.4477 - val_loss: 0.3669 - val_acc: 0.9474\n",
            "Epoch 3/100\n",
            "4/4 [==============================] - 11s 3s/step - loss: 1.3457 - acc: 0.8233 - val_loss: 0.1173 - val_acc: 0.9868\n",
            "Epoch 4/100\n",
            "4/4 [==============================] - 12s 3s/step - loss: 0.6158 - acc: 0.9128 - val_loss: 0.0729 - val_acc: 0.9947\n",
            "Epoch 5/100\n",
            "4/4 [==============================] - 12s 3s/step - loss: 0.3763 - acc: 0.9328 - val_loss: 0.0495 - val_acc: 0.9947\n",
            "Epoch 6/100\n",
            "4/4 [==============================] - 12s 3s/step - loss: 0.4242 - acc: 0.9293 - val_loss: 0.0294 - val_acc: 0.9921\n",
            "Epoch 7/100\n",
            "4/4 [==============================] - 11s 4s/step - loss: 0.2678 - acc: 0.9511 - val_loss: 0.0410 - val_acc: 0.9947\n",
            "Epoch 8/100\n",
            "4/4 [==============================] - 11s 3s/step - loss: 0.2181 - acc: 0.9611 - val_loss: 0.0232 - val_acc: 0.9947\n",
            "Epoch 9/100\n",
            "4/4 [==============================] - 11s 3s/step - loss: 0.1094 - acc: 0.9715 - val_loss: 0.0252 - val_acc: 0.9947\n",
            "Epoch 10/100\n",
            "4/4 [==============================] - 11s 3s/step - loss: 0.1036 - acc: 0.9792 - val_loss: 0.0269 - val_acc: 0.9947\n",
            "Epoch 11/100\n",
            "4/4 [==============================] - 12s 3s/step - loss: 0.0974 - acc: 0.9803 - val_loss: 0.0127 - val_acc: 0.9974\n",
            "Epoch 12/100\n",
            "4/4 [==============================] - 12s 3s/step - loss: 0.6877 - acc: 0.9494 - val_loss: 1.8925 - val_acc: 0.9316\n",
            "Epoch 13/100\n",
            "4/4 [==============================] - 12s 3s/step - loss: 1.5862 - acc: 0.9111 - val_loss: 0.1022 - val_acc: 0.9763\n",
            "Epoch 14/100\n",
            "4/4 [==============================] - 11s 3s/step - loss: 0.3249 - acc: 0.9540 - val_loss: 0.0239 - val_acc: 0.9895\n",
            "Epoch 15/100\n",
            "4/4 [==============================] - 11s 3s/step - loss: 0.2611 - acc: 0.9647 - val_loss: 3.8968 - val_acc: 0.7842\n",
            "Epoch 16/100\n",
            "4/4 [==============================] - 11s 3s/step - loss: 2.8078 - acc: 0.8617 - val_loss: 0.2512 - val_acc: 0.9737\n",
            "Epoch 17/100\n",
            "4/4 [==============================] - 12s 3s/step - loss: 0.3940 - acc: 0.9621 - val_loss: 0.0401 - val_acc: 0.9921\n",
            "Epoch 18/100\n",
            "4/4 [==============================] - 12s 3s/step - loss: 0.2517 - acc: 0.9719 - val_loss: 0.0090 - val_acc: 0.9974\n",
            "Epoch 19/100\n",
            "4/4 [==============================] - 13s 3s/step - loss: 0.1059 - acc: 0.9854 - val_loss: 5.8403e-04 - val_acc: 1.0000\n",
            "Epoch 20/100\n",
            "4/4 [==============================] - 11s 3s/step - loss: 0.0654 - acc: 0.9874 - val_loss: 4.8145e-04 - val_acc: 1.0000\n",
            "Epoch 21/100\n",
            "4/4 [==============================] - 11s 3s/step - loss: 0.0548 - acc: 0.9888 - val_loss: 4.2582e-04 - val_acc: 1.0000\n",
            "Epoch 22/100\n",
            "4/4 [==============================] - 12s 3s/step - loss: 0.0527 - acc: 0.9873 - val_loss: 4.4039e-04 - val_acc: 1.0000\n"
          ],
          "name": "stdout"
        }
      ]
    },
    {
      "cell_type": "code",
      "metadata": {
        "id": "nfLx7xpSGkMO"
      },
      "source": [
        "model.save(\"/content/drive/MyDrive/Research and Project Stuffs/BdSL/Datasets/Dataset_3_VGG19\")"
      ],
      "execution_count": null,
      "outputs": []
    },
    {
      "cell_type": "code",
      "metadata": {
        "colab": {
          "base_uri": "https://localhost:8080/"
        },
        "id": "YjS87ZEc0lGu",
        "outputId": "0e14e3d3-4d98-4b00-dd8c-767e79a16f6e"
      },
      "source": [
        "val_it.classes"
      ],
      "execution_count": null,
      "outputs": [
        {
          "output_type": "execute_result",
          "data": {
            "text/plain": [
              "array([ 0,  0,  0, ..., 36, 36, 36], dtype=int32)"
            ]
          },
          "metadata": {
            "tags": []
          },
          "execution_count": 14
        }
      ]
    },
    {
      "cell_type": "code",
      "metadata": {
        "colab": {
          "base_uri": "https://localhost:8080/"
        },
        "id": "PeFawWaJ0leT",
        "outputId": "85a3c552-e021-404f-cd70-b3525971e62c"
      },
      "source": [
        "from sklearn.metrics import classification_report, confusion_matrix\n",
        "import numpy as np\n",
        "num_of_test_samples = val_it.samples\n",
        "batch_size = 128\n",
        "Y_pred = model.predict(val_it)\n",
        "y_pred = np.argmax(Y_pred, axis=1)\n",
        "print('Confusion Matrix')\n",
        "print(confusion_matrix(val_it.classes, y_pred))\n",
        "print('Classification Report')\n",
        "target_names = ['1', '10', '11', '12', '13', '14', '15', '16', '17',  '18', '19', '2', '20', '21',  '22',  '23',  '24',  '25',  '26',  '27','28', '29', '3', '30', '31', '32', '33', '34','35', '36', '38', '4', '5', '6', '7', '8', '9']\n",
        "print(classification_report(val_it.classes, y_pred, target_names=target_names))"
      ],
      "execution_count": null,
      "outputs": [
        {
          "output_type": "stream",
          "text": [
            "Confusion Matrix\n",
            "[[0 3 1 ... 1 1 3]\n",
            " [0 3 1 ... 4 2 4]\n",
            " [0 3 1 ... 2 2 2]\n",
            " ...\n",
            " [4 3 3 ... 2 2 0]\n",
            " [0 3 4 ... 2 4 1]\n",
            " [2 3 2 ... 0 3 2]]\n",
            "Classification Report\n",
            "              precision    recall  f1-score   support\n",
            "\n",
            "           1       0.00      0.00      0.00        72\n",
            "          10       0.04      0.04      0.04        72\n",
            "          11       0.01      0.01      0.01        72\n",
            "          12       0.03      0.03      0.03        72\n",
            "          13       0.00      0.00      0.00        72\n",
            "          14       0.03      0.03      0.03        72\n",
            "          15       0.01      0.01      0.01        72\n",
            "          16       0.03      0.03      0.03        72\n",
            "          17       0.03      0.03      0.03        72\n",
            "          18       0.06      0.06      0.06        72\n",
            "          19       0.06      0.06      0.06        72\n",
            "           2       0.07      0.07      0.07        72\n",
            "          20       0.04      0.04      0.04        72\n",
            "          21       0.03      0.03      0.03        72\n",
            "          22       0.06      0.06      0.06        72\n",
            "          23       0.00      0.00      0.00        72\n",
            "          24       0.06      0.07      0.07        72\n",
            "          25       0.04      0.04      0.04        72\n",
            "          26       0.03      0.03      0.03        72\n",
            "          27       0.03      0.03      0.03        72\n",
            "          28       0.04      0.04      0.04        72\n",
            "          29       0.04      0.04      0.04        72\n",
            "           3       0.04      0.04      0.04        72\n",
            "          30       0.01      0.01      0.01        72\n",
            "          31       0.03      0.03      0.03        72\n",
            "          32       0.01      0.01      0.01        72\n",
            "          33       0.03      0.03      0.03        72\n",
            "          34       0.01      0.01      0.01        72\n",
            "          35       0.01      0.01      0.01        72\n",
            "          36       0.06      0.06      0.06        72\n",
            "          38       0.01      0.01      0.01        72\n",
            "           4       0.04      0.04      0.04        72\n",
            "           5       0.01      0.01      0.01        72\n",
            "           6       0.06      0.06      0.06        72\n",
            "           7       0.03      0.03      0.03        72\n",
            "           8       0.05      0.06      0.05        72\n",
            "           9       0.03      0.03      0.03        72\n",
            "\n",
            "    accuracy                           0.03      2664\n",
            "   macro avg       0.03      0.03      0.03      2664\n",
            "weighted avg       0.03      0.03      0.03      2664\n",
            "\n"
          ],
          "name": "stdout"
        }
      ]
    },
    {
      "cell_type": "code",
      "metadata": {
        "colab": {
          "base_uri": "https://localhost:8080/"
        },
        "id": "0f7UTYKS4qKZ",
        "outputId": "ba698d83-33db-45e3-e599-cc628c471a4c"
      },
      "source": [
        "val_it.classes"
      ],
      "execution_count": null,
      "outputs": [
        {
          "output_type": "execute_result",
          "data": {
            "text/plain": [
              "array([ 0,  0,  0, ..., 36, 36, 36], dtype=int32)"
            ]
          },
          "metadata": {
            "tags": []
          },
          "execution_count": 27
        }
      ]
    },
    {
      "cell_type": "code",
      "metadata": {
        "id": "0tWPdkQ5BVKo"
      },
      "source": [
        "import keras\n",
        "import numpy as np\n",
        "model = keras.models.load_model(\"/content/drive/MyDrive/Research and Project Stuffs/BdSL/Datasets/Dataset_2_VGG19\")"
      ],
      "execution_count": null,
      "outputs": []
    },
    {
      "cell_type": "code",
      "metadata": {
        "colab": {
          "base_uri": "https://localhost:8080/"
        },
        "id": "FyBKF8HuCDtt",
        "outputId": "6749b7f4-7f93-4350-b97c-9f4c93ea8183"
      },
      "source": [
        "y_img_batch, y_class_batch = val_it[0]\n",
        "y_pred = np.argmax(model.predict(y_img_batch),-1)\n",
        "y_true = np.argmax(y_class_batch,-1)\n",
        "print(sum(y_pred==y_true)/batch_size)"
      ],
      "execution_count": null,
      "outputs": [
        {
          "output_type": "stream",
          "text": [
            "0.9973684210526316\n"
          ],
          "name": "stdout"
        }
      ]
    },
    {
      "cell_type": "code",
      "metadata": {
        "id": "qSKJE8thCVBz"
      },
      "source": [
        ""
      ],
      "execution_count": null,
      "outputs": []
    }
  ]
}