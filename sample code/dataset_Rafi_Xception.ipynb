{
  "nbformat": 4,
  "nbformat_minor": 0,
  "metadata": {
    "colab": {
      "name": "dataset Rafi Xception",
      "provenance": []
    },
    "kernelspec": {
      "name": "python3",
      "display_name": "Python 3"
    },
    "language_info": {
      "name": "python"
    },
    "accelerator": "GPU"
  },
  "cells": [
    {
      "cell_type": "code",
      "metadata": {
        "colab": {
          "base_uri": "https://localhost:8080/"
        },
        "id": "wnTRugAwPiAr",
        "outputId": "bbdfae62-d4b0-4c9d-fc5c-645ee001b635"
      },
      "source": [
        "from google.colab import drive\n",
        "drive.mount('/content/drive')"
      ],
      "execution_count": null,
      "outputs": [
        {
          "output_type": "stream",
          "text": [
            "Mounted at /content/drive\n"
          ],
          "name": "stdout"
        }
      ]
    },
    {
      "cell_type": "code",
      "metadata": {
        "id": "-l4MRfIYQESF"
      },
      "source": [
        "\n",
        "!unzip -uq \"/content/drive/MyDrive/Research and Project Stuffs/BdSL/Datasets/dataset1.zip\" -d \"/content/drive/MyDrive/Research and Project Stuffs/BdSL/Datasets/\""
      ],
      "execution_count": null,
      "outputs": []
    },
    {
      "cell_type": "code",
      "metadata": {
        "colab": {
          "base_uri": "https://localhost:8080/"
        },
        "id": "4gCn-4avQsgn",
        "outputId": "dba31187-6c77-4882-9671-4239de119466"
      },
      "source": [
        "# example of progressively loading images from file\n",
        "from keras.preprocessing.image import ImageDataGenerator\n",
        "# create generator\n",
        "datagen = ImageDataGenerator(rescale=1. / 255,validation_split=0.1)\n",
        "datagen2 = ImageDataGenerator(rescale=1. / 255)\n",
        "img_height = 299\n",
        "img_width = 299 \n",
        "batch_size = 32\n",
        "# prepare an iterators for each dataset\n",
        "train_it = datagen.flow_from_directory('/content/drive/MyDrive/Research and Project Stuffs/dataset Rafi/RESIZED_DATASET',target_size=(img_height, img_width),batch_size = batch_size, subset='training')\n",
        "val_it = datagen.flow_from_directory('/content/drive/MyDrive/Research and Project Stuffs/dataset Rafi/RESIZED_DATASET',target_size=(img_height, img_width), batch_size = batch_size, subset='validation')\n",
        "test_it = datagen2.flow_from_directory('/content/drive/MyDrive/Research and Project Stuffs/dataset Rafi/RESIZED_TESTING_DATA',target_size=(img_height, img_width), batch_size = batch_size)"
      ],
      "execution_count": null,
      "outputs": [
        {
          "output_type": "stream",
          "text": [
            "Found 9972 images belonging to 38 classes.\n",
            "Found 1089 images belonging to 38 classes.\n",
            "Found 1520 images belonging to 38 classes.\n"
          ],
          "name": "stdout"
        }
      ]
    },
    {
      "cell_type": "code",
      "metadata": {
        "colab": {
          "base_uri": "https://localhost:8080/"
        },
        "id": "L0NE2Yzd_WFB",
        "outputId": "3e2d6a02-4fc7-4b8e-cfc0-4d91a681f37a"
      },
      "source": [
        "from tensorflow.keras.applications import xception\n",
        "# Init the VGG model\n",
        "vgg_conv = xception.Xception(weights='imagenet', include_top=False, input_shape=(img_height, img_height, 3))"
      ],
      "execution_count": null,
      "outputs": [
        {
          "output_type": "stream",
          "text": [
            "Downloading data from https://storage.googleapis.com/tensorflow/keras-applications/xception/xception_weights_tf_dim_ordering_tf_kernels_notop.h5\n",
            "83689472/83683744 [==============================] - 1s 0us/step\n"
          ],
          "name": "stdout"
        }
      ]
    },
    {
      "cell_type": "code",
      "metadata": {
        "id": "_jwVecda_f6y",
        "colab": {
          "base_uri": "https://localhost:8080/"
        },
        "outputId": "1245e168-7802-4b0e-942c-8e265497b143"
      },
      "source": [
        "# Freeze all the layers\n",
        "for layer in vgg_conv.layers[0:84]:\n",
        "    layer.trainable = False\n",
        "# Check the trainable status of the individual layers\n",
        "for layer in vgg_conv.layers:\n",
        "    print(layer, layer.trainable)"
      ],
      "execution_count": null,
      "outputs": [
        {
          "output_type": "stream",
          "text": [
            "<tensorflow.python.keras.engine.input_layer.InputLayer object at 0x7fcb7366ce50> False\n",
            "<tensorflow.python.keras.layers.convolutional.Conv2D object at 0x7fcbbda90c10> False\n",
            "<tensorflow.python.keras.layers.normalization_v2.BatchNormalization object at 0x7fcb747bd850> False\n",
            "<tensorflow.python.keras.layers.core.Activation object at 0x7fcb735337d0> False\n",
            "<tensorflow.python.keras.layers.convolutional.Conv2D object at 0x7fcb7351e550> False\n",
            "<tensorflow.python.keras.layers.normalization_v2.BatchNormalization object at 0x7fcb730d1a10> False\n",
            "<tensorflow.python.keras.layers.core.Activation object at 0x7fcb7306a1d0> False\n",
            "<tensorflow.python.keras.layers.convolutional.SeparableConv2D object at 0x7fcb73072c90> False\n",
            "<tensorflow.python.keras.layers.normalization_v2.BatchNormalization object at 0x7fcb730822d0> False\n",
            "<tensorflow.python.keras.layers.core.Activation object at 0x7fcb7308b690> False\n",
            "<tensorflow.python.keras.layers.convolutional.SeparableConv2D object at 0x7fcb73086290> False\n",
            "<tensorflow.python.keras.layers.normalization_v2.BatchNormalization object at 0x7fcb73098390> False\n",
            "<tensorflow.python.keras.layers.convolutional.Conv2D object at 0x7fcb7306f5d0> False\n",
            "<tensorflow.python.keras.layers.pooling.MaxPooling2D object at 0x7fcb730a2810> False\n",
            "<tensorflow.python.keras.layers.normalization_v2.BatchNormalization object at 0x7fcb73076c50> False\n",
            "<tensorflow.python.keras.layers.merge.Add object at 0x7fcb7309c450> False\n",
            "<tensorflow.python.keras.layers.core.Activation object at 0x7fcb730335d0> False\n",
            "<tensorflow.python.keras.layers.convolutional.SeparableConv2D object at 0x7fcb73036fd0> False\n",
            "<tensorflow.python.keras.layers.normalization_v2.BatchNormalization object at 0x7fcb730418d0> False\n",
            "<tensorflow.python.keras.layers.core.Activation object at 0x7fcb73049dd0> False\n",
            "<tensorflow.python.keras.layers.convolutional.SeparableConv2D object at 0x7fcb73049650> False\n",
            "<tensorflow.python.keras.layers.normalization_v2.BatchNormalization object at 0x7fcb7309ca90> False\n",
            "<tensorflow.python.keras.layers.convolutional.Conv2D object at 0x7fcb81439a90> False\n",
            "<tensorflow.python.keras.layers.pooling.MaxPooling2D object at 0x7fcb7307f910> False\n",
            "<tensorflow.python.keras.layers.normalization_v2.BatchNormalization object at 0x7fcb730332d0> False\n",
            "<tensorflow.python.keras.layers.merge.Add object at 0x7fcb73090390> False\n",
            "<tensorflow.python.keras.layers.core.Activation object at 0x7fcb7304f690> False\n",
            "<tensorflow.python.keras.layers.convolutional.SeparableConv2D object at 0x7fcb730d1fd0> False\n",
            "<tensorflow.python.keras.layers.normalization_v2.BatchNormalization object at 0x7fcb73054cd0> False\n",
            "<tensorflow.python.keras.layers.core.Activation object at 0x7fcb7305c350> False\n",
            "<tensorflow.python.keras.layers.convolutional.SeparableConv2D object at 0x7fcb75433d50> False\n",
            "<tensorflow.python.keras.layers.normalization_v2.BatchNormalization object at 0x7fcb73063b10> False\n",
            "<tensorflow.python.keras.layers.convolutional.Conv2D object at 0x7fcb7306a8d0> False\n",
            "<tensorflow.python.keras.layers.pooling.MaxPooling2D object at 0x7fcb72ff21d0> False\n",
            "<tensorflow.python.keras.layers.normalization_v2.BatchNormalization object at 0x7fcb730d1050> False\n",
            "<tensorflow.python.keras.layers.merge.Add object at 0x7fcb72fed590> False\n",
            "<tensorflow.python.keras.layers.core.Activation object at 0x7fcb72ff9690> False\n",
            "<tensorflow.python.keras.layers.convolutional.SeparableConv2D object at 0x7fcb72ffea10> False\n",
            "<tensorflow.python.keras.layers.normalization_v2.BatchNormalization object at 0x7fcb730073d0> False\n",
            "<tensorflow.python.keras.layers.core.Activation object at 0x7fcb72ffea90> False\n",
            "<tensorflow.python.keras.layers.convolutional.SeparableConv2D object at 0x7fcb7300cd10> False\n",
            "<tensorflow.python.keras.layers.normalization_v2.BatchNormalization object at 0x7fcb73017250> False\n",
            "<tensorflow.python.keras.layers.core.Activation object at 0x7fcb7300ce10> False\n",
            "<tensorflow.python.keras.layers.convolutional.SeparableConv2D object at 0x7fcb730087d0> False\n",
            "<tensorflow.python.keras.layers.normalization_v2.BatchNormalization object at 0x7fcb72fab110> False\n",
            "<tensorflow.python.keras.layers.merge.Add object at 0x7fcb72fb2490> False\n",
            "<tensorflow.python.keras.layers.core.Activation object at 0x7fcb72ff9650> False\n",
            "<tensorflow.python.keras.layers.convolutional.SeparableConv2D object at 0x7fcb72fb9dd0> False\n",
            "<tensorflow.python.keras.layers.normalization_v2.BatchNormalization object at 0x7fcb72fc1f90> False\n",
            "<tensorflow.python.keras.layers.core.Activation object at 0x7fcb72fb5110> False\n",
            "<tensorflow.python.keras.layers.convolutional.SeparableConv2D object at 0x7fcb72fc9310> False\n",
            "<tensorflow.python.keras.layers.normalization_v2.BatchNormalization object at 0x7fcb72fd2650> False\n",
            "<tensorflow.python.keras.layers.core.Activation object at 0x7fcb72fc9390> False\n",
            "<tensorflow.python.keras.layers.convolutional.SeparableConv2D object at 0x7fcb72fdc1d0> False\n",
            "<tensorflow.python.keras.layers.normalization_v2.BatchNormalization object at 0x7fcb72fe5550> False\n",
            "<tensorflow.python.keras.layers.merge.Add object at 0x7fcb72fdcc50> False\n",
            "<tensorflow.python.keras.layers.core.Activation object at 0x7fcb730220d0> False\n",
            "<tensorflow.python.keras.layers.convolutional.SeparableConv2D object at 0x7fcb60084510> False\n",
            "<tensorflow.python.keras.layers.normalization_v2.BatchNormalization object at 0x7fcb6007f650> False\n",
            "<tensorflow.python.keras.layers.core.Activation object at 0x7fcb60077890> False\n",
            "<tensorflow.python.keras.layers.convolutional.SeparableConv2D object at 0x7fcb6008f9d0> False\n",
            "<tensorflow.python.keras.layers.normalization_v2.BatchNormalization object at 0x7fcb60095d10> False\n",
            "<tensorflow.python.keras.layers.core.Activation object at 0x7fcb60084290> False\n",
            "<tensorflow.python.keras.layers.convolutional.SeparableConv2D object at 0x7fcb6007bf90> False\n",
            "<tensorflow.python.keras.layers.normalization_v2.BatchNormalization object at 0x7fcb72fc91d0> False\n",
            "<tensorflow.python.keras.layers.merge.Add object at 0x7fcb6007f490> False\n",
            "<tensorflow.python.keras.layers.core.Activation object at 0x7fcb6007b1d0> False\n",
            "<tensorflow.python.keras.layers.convolutional.SeparableConv2D object at 0x7fcb7301fb10> False\n",
            "<tensorflow.python.keras.layers.normalization_v2.BatchNormalization object at 0x7fcb73007c10> False\n",
            "<tensorflow.python.keras.layers.core.Activation object at 0x7fcb72fb2590> False\n",
            "<tensorflow.python.keras.layers.convolutional.SeparableConv2D object at 0x7fcb72ff2090> False\n",
            "<tensorflow.python.keras.layers.normalization_v2.BatchNormalization object at 0x7fcb730e1610> False\n",
            "<tensorflow.python.keras.layers.core.Activation object at 0x7fcb72fed490> False\n",
            "<tensorflow.python.keras.layers.convolutional.SeparableConv2D object at 0x7fcb73027290> False\n",
            "<tensorflow.python.keras.layers.normalization_v2.BatchNormalization object at 0x7fcb600a5210> False\n",
            "<tensorflow.python.keras.layers.merge.Add object at 0x7fcb6009de10> False\n",
            "<tensorflow.python.keras.layers.core.Activation object at 0x7fcb72fb5390> False\n",
            "<tensorflow.python.keras.layers.convolutional.SeparableConv2D object at 0x7fcb600aee90> False\n",
            "<tensorflow.python.keras.layers.normalization_v2.BatchNormalization object at 0x7fcb60034f50> False\n",
            "<tensorflow.python.keras.layers.core.Activation object at 0x7fcb600a73d0> False\n",
            "<tensorflow.python.keras.layers.convolutional.SeparableConv2D object at 0x7fcb6003b410> False\n",
            "<tensorflow.python.keras.layers.normalization_v2.BatchNormalization object at 0x7fcb60046750> False\n",
            "<tensorflow.python.keras.layers.core.Activation object at 0x7fcb6003bf90> False\n",
            "<tensorflow.python.keras.layers.convolutional.SeparableConv2D object at 0x7fcb6004e310> False\n",
            "<tensorflow.python.keras.layers.normalization_v2.BatchNormalization object at 0x7fcb60057650> True\n",
            "<tensorflow.python.keras.layers.merge.Add object at 0x7fcb6004ec90> True\n",
            "<tensorflow.python.keras.layers.core.Activation object at 0x7fcb600a7c10> True\n",
            "<tensorflow.python.keras.layers.convolutional.SeparableConv2D object at 0x7fcb6006b050> True\n",
            "<tensorflow.python.keras.layers.normalization_v2.BatchNormalization object at 0x7fcb60064210> True\n",
            "<tensorflow.python.keras.layers.core.Activation object at 0x7fcb6005b690> True\n",
            "<tensorflow.python.keras.layers.convolutional.SeparableConv2D object at 0x7fcb281a8390> True\n",
            "<tensorflow.python.keras.layers.normalization_v2.BatchNormalization object at 0x7fcb281b1dd0> True\n",
            "<tensorflow.python.keras.layers.core.Activation object at 0x7fcb281a8b90> True\n",
            "<tensorflow.python.keras.layers.convolutional.SeparableConv2D object at 0x7fcb281b9950> True\n",
            "<tensorflow.python.keras.layers.normalization_v2.BatchNormalization object at 0x7fcb281c9090> True\n",
            "<tensorflow.python.keras.layers.merge.Add object at 0x7fcb281bec50> True\n",
            "<tensorflow.python.keras.layers.core.Activation object at 0x7fcb600602d0> True\n",
            "<tensorflow.python.keras.layers.convolutional.SeparableConv2D object at 0x7fcb281d56d0> True\n",
            "<tensorflow.python.keras.layers.normalization_v2.BatchNormalization object at 0x7fcb281dddd0> True\n",
            "<tensorflow.python.keras.layers.core.Activation object at 0x7fcb281d2110> True\n",
            "<tensorflow.python.keras.layers.convolutional.SeparableConv2D object at 0x7fcb281e05d0> True\n",
            "<tensorflow.python.keras.layers.normalization_v2.BatchNormalization object at 0x7fcb2816f450> True\n",
            "<tensorflow.python.keras.layers.core.Activation object at 0x7fcb281e5c10> True\n",
            "<tensorflow.python.keras.layers.convolutional.SeparableConv2D object at 0x7fcb281d2ed0> True\n",
            "<tensorflow.python.keras.layers.normalization_v2.BatchNormalization object at 0x7fcb281a9dd0> True\n",
            "<tensorflow.python.keras.layers.merge.Add object at 0x7fcb281bef90> True\n",
            "<tensorflow.python.keras.layers.core.Activation object at 0x7fcb281ce9d0> True\n",
            "<tensorflow.python.keras.layers.convolutional.SeparableConv2D object at 0x7fcb7309ce50> True\n",
            "<tensorflow.python.keras.layers.normalization_v2.BatchNormalization object at 0x7fcb6005b6d0> True\n",
            "<tensorflow.python.keras.layers.core.Activation object at 0x7fcb730272d0> True\n",
            "<tensorflow.python.keras.layers.convolutional.SeparableConv2D object at 0x7fcb600a5110> True\n",
            "<tensorflow.python.keras.layers.normalization_v2.BatchNormalization object at 0x7fcb72ffe3d0> True\n",
            "<tensorflow.python.keras.layers.core.Activation object at 0x7fcb6009d890> True\n",
            "<tensorflow.python.keras.layers.convolutional.SeparableConv2D object at 0x7fcb281ce090> True\n",
            "<tensorflow.python.keras.layers.normalization_v2.BatchNormalization object at 0x7fcb600a8310> True\n",
            "<tensorflow.python.keras.layers.merge.Add object at 0x7fcb72fb5210> True\n",
            "<tensorflow.python.keras.layers.core.Activation object at 0x7fcb28180350> True\n",
            "<tensorflow.python.keras.layers.convolutional.SeparableConv2D object at 0x7fcb2817de90> True\n",
            "<tensorflow.python.keras.layers.normalization_v2.BatchNormalization object at 0x7fcb2819d250> True\n",
            "<tensorflow.python.keras.layers.core.Activation object at 0x7fcb2818b690> True\n",
            "<tensorflow.python.keras.layers.convolutional.SeparableConv2D object at 0x7fcb28192e50> True\n",
            "<tensorflow.python.keras.layers.normalization_v2.BatchNormalization object at 0x7fcb2812d3d0> True\n",
            "<tensorflow.python.keras.layers.convolutional.Conv2D object at 0x7fcb2817b950> True\n",
            "<tensorflow.python.keras.layers.pooling.MaxPooling2D object at 0x7fcb28127d50> True\n",
            "<tensorflow.python.keras.layers.normalization_v2.BatchNormalization object at 0x7fcb281867d0> True\n",
            "<tensorflow.python.keras.layers.merge.Add object at 0x7fcb28192890> True\n",
            "<tensorflow.python.keras.layers.convolutional.SeparableConv2D object at 0x7fcb2813c5d0> True\n",
            "<tensorflow.python.keras.layers.normalization_v2.BatchNormalization object at 0x7fcb28142c50> True\n",
            "<tensorflow.python.keras.layers.core.Activation object at 0x7fcb28133dd0> True\n",
            "<tensorflow.python.keras.layers.convolutional.SeparableConv2D object at 0x7fcb28144510> True\n",
            "<tensorflow.python.keras.layers.normalization_v2.BatchNormalization object at 0x7fcb2814ca10> True\n",
            "<tensorflow.python.keras.layers.core.Activation object at 0x7fcb28144350> True\n"
          ],
          "name": "stdout"
        }
      ]
    },
    {
      "cell_type": "code",
      "metadata": {
        "id": "CQsdukGnFWAR"
      },
      "source": [
        "from keras.models import Sequential, Model\n",
        "#from tensorflow.keras.models import Model\n",
        "from keras.layers import Conv2D, MaxPooling2D, Activation, Embedding, Dense, Dropout, Flatten, Input,GlobalAveragePooling2D\n",
        "from keras import activations\n",
        "#from tensorflow.python.keras.layers.core import Dense, Dropout, Flatten\n",
        "#from tensorflow.python.keras.layers import Input\n",
        "from keras.optimizers import Adam, SGD\n",
        "from keras.layers import LSTM\n",
        "#from keras.layers import Dropout\n",
        "#from keras.applications.vgg16 import VGG16\n",
        "#from tensorflow.keras.applications import vgg16\n",
        "from skimage.color import gray2rgb\n",
        "#from tensorflow.keras.applications.inception_v3 import InceptionV3 \n",
        "#from tensorflow.keras.applications import DenseNet201"
      ],
      "execution_count": null,
      "outputs": []
    },
    {
      "cell_type": "code",
      "metadata": {
        "id": "hDUAiWIeE1Ui"
      },
      "source": [
        "# Create the model\n",
        "model = Sequential()\n",
        "\n",
        "# Add the vgg convolutional base model\n",
        "model.add(vgg_conv)\n",
        "\n",
        "# Add new layers\n",
        "model.add(Flatten())\n",
        "model.add(Dense(1024, activation='relu'))\n",
        "model.add(Dense(768, activation='relu'))\n",
        "model.add(Dense(512, activation='relu'))\n",
        "model.add(Dense(256, activation='relu'))\n",
        "model.add(Dense(128, activation='relu'))\n",
        "model.add(Dense(38, activation='softmax'))\n",
        "\n",
        "# Show a summary of the model. Check the number of trainable parameters\n",
        "#model.summary()"
      ],
      "execution_count": null,
      "outputs": []
    },
    {
      "cell_type": "code",
      "metadata": {
        "id": "Jnxc5HckGwqL",
        "colab": {
          "base_uri": "https://localhost:8080/"
        },
        "outputId": "ef85ba68-a123-411a-8441-969fdb57814b"
      },
      "source": [
        "import keras\n",
        "#sgd = keras.optimizers.SGD(lr=0.00001, decay=1e-6, momentum=0.9, nesterov=True)\n",
        "model.compile(loss='categorical_crossentropy',\n",
        "              optimizer=keras.optimizers.RMSprop(lr=1e-3),\n",
        "              metrics=['acc'])"
      ],
      "execution_count": null,
      "outputs": [
        {
          "output_type": "stream",
          "text": [
            "/usr/local/lib/python3.7/dist-packages/tensorflow/python/keras/optimizer_v2/optimizer_v2.py:375: UserWarning: The `lr` argument is deprecated, use `learning_rate` instead.\n",
            "  \"The `lr` argument is deprecated, use `learning_rate` instead.\")\n"
          ],
          "name": "stderr"
        }
      ]
    },
    {
      "cell_type": "code",
      "metadata": {
        "colab": {
          "base_uri": "https://localhost:8080/"
        },
        "id": "EV8WD7w5FZuD",
        "outputId": "76017035-8e0b-4f8e-9f37-1d345cb82fa7"
      },
      "source": [
        "nb_epochs = 35\n",
        "#batch_size = 128\n",
        "history = model.fit_generator(\n",
        "    train_it,\n",
        "    steps_per_epoch = train_it.samples // batch_size,\n",
        "    validation_data = val_it, \n",
        "    validation_steps = val_it.samples // batch_size,\n",
        "    epochs = nb_epochs)"
      ],
      "execution_count": null,
      "outputs": [
        {
          "output_type": "stream",
          "text": [
            "/usr/local/lib/python3.7/dist-packages/keras/engine/training.py:1915: UserWarning: `Model.fit_generator` is deprecated and will be removed in a future version. Please use `Model.fit`, which supports generators.\n",
            "  warnings.warn('`Model.fit_generator` is deprecated and '\n"
          ],
          "name": "stderr"
        },
        {
          "output_type": "stream",
          "text": [
            "Epoch 1/35\n",
            "311/311 [==============================] - 165s 512ms/step - loss: 3.6376 - acc: 0.0242 - val_loss: 3.6374 - val_acc: 0.0293\n",
            "Epoch 2/35\n",
            "311/311 [==============================] - 168s 541ms/step - loss: 3.6377 - acc: 0.0239 - val_loss: 3.6372 - val_acc: 0.0264\n",
            "Epoch 3/35\n",
            "311/311 [==============================] - 173s 555ms/step - loss: 3.6375 - acc: 0.0262 - val_loss: 3.6371 - val_acc: 0.0254\n",
            "Epoch 4/35\n",
            "311/311 [==============================] - 173s 555ms/step - loss: 3.6378 - acc: 0.0239 - val_loss: 3.6368 - val_acc: 0.0273\n",
            "Epoch 5/35\n",
            "311/311 [==============================] - 173s 555ms/step - loss: 3.6374 - acc: 0.0221 - val_loss: 3.6373 - val_acc: 0.0283\n",
            "Epoch 6/35\n",
            "311/311 [==============================] - 173s 555ms/step - loss: 3.6375 - acc: 0.0254 - val_loss: 3.6370 - val_acc: 0.0293\n",
            "Epoch 7/35\n",
            "311/311 [==============================] - 173s 555ms/step - loss: 3.6371 - acc: 0.0278 - val_loss: 3.6372 - val_acc: 0.0254\n",
            "Epoch 8/35\n",
            "311/311 [==============================] - 173s 555ms/step - loss: 3.6376 - acc: 0.0284 - val_loss: 3.6372 - val_acc: 0.0264\n",
            "Epoch 9/35\n",
            "311/311 [==============================] - 172s 554ms/step - loss: 3.6369 - acc: 0.0267 - val_loss: 3.6374 - val_acc: 0.0264\n",
            "Epoch 10/35\n",
            "311/311 [==============================] - 173s 555ms/step - loss: 3.6366 - acc: 0.0265 - val_loss: 3.6365 - val_acc: 0.0283\n",
            "Epoch 11/35\n",
            "311/311 [==============================] - 173s 555ms/step - loss: 3.6372 - acc: 0.0267 - val_loss: 3.6367 - val_acc: 0.0283\n",
            "Epoch 12/35\n",
            "311/311 [==============================] - 173s 555ms/step - loss: 3.6371 - acc: 0.0293 - val_loss: 3.6372 - val_acc: 0.0264\n",
            "Epoch 13/35\n",
            "311/311 [==============================] - 173s 555ms/step - loss: 3.6375 - acc: 0.0263 - val_loss: 3.6368 - val_acc: 0.0264\n",
            "Epoch 14/35\n",
            "311/311 [==============================] - 172s 554ms/step - loss: 3.6374 - acc: 0.0285 - val_loss: 3.6369 - val_acc: 0.0273\n",
            "Epoch 15/35\n",
            "311/311 [==============================] - 172s 554ms/step - loss: 3.6372 - acc: 0.0269 - val_loss: 3.6372 - val_acc: 0.0264\n",
            "Epoch 16/35\n",
            "311/311 [==============================] - 172s 554ms/step - loss: 3.6375 - acc: 0.0237 - val_loss: 3.6371 - val_acc: 0.0283\n",
            "Epoch 17/35\n",
            "311/311 [==============================] - 172s 554ms/step - loss: 3.6371 - acc: 0.0272 - val_loss: 3.6375 - val_acc: 0.0293\n",
            "Epoch 18/35\n",
            "311/311 [==============================] - 172s 554ms/step - loss: 3.6372 - acc: 0.0305 - val_loss: 3.6375 - val_acc: 0.0273\n",
            "Epoch 19/35\n",
            "311/311 [==============================] - 172s 554ms/step - loss: 3.6373 - acc: 0.0275 - val_loss: 3.6371 - val_acc: 0.0273\n",
            "Epoch 20/35\n",
            "311/311 [==============================] - 172s 554ms/step - loss: 3.6376 - acc: 0.0247 - val_loss: 3.6374 - val_acc: 0.0254\n",
            "Epoch 21/35\n",
            "311/311 [==============================] - 172s 554ms/step - loss: 3.6373 - acc: 0.0242 - val_loss: 3.6371 - val_acc: 0.0273\n",
            "Epoch 22/35\n",
            "311/311 [==============================] - 172s 554ms/step - loss: 3.6372 - acc: 0.0249 - val_loss: 3.6372 - val_acc: 0.0283\n",
            "Epoch 23/35\n",
            "311/311 [==============================] - 172s 554ms/step - loss: 3.6371 - acc: 0.0252 - val_loss: 3.6372 - val_acc: 0.0264\n",
            "Epoch 24/35\n",
            "311/311 [==============================] - 172s 554ms/step - loss: 3.6375 - acc: 0.0263 - val_loss: 3.6369 - val_acc: 0.0254\n",
            "Epoch 25/35\n",
            "311/311 [==============================] - 172s 554ms/step - loss: 3.6376 - acc: 0.0226 - val_loss: 3.6373 - val_acc: 0.0283\n",
            "Epoch 26/35\n",
            "311/311 [==============================] - 172s 554ms/step - loss: 3.6373 - acc: 0.0251 - val_loss: 3.6366 - val_acc: 0.0273\n",
            "Epoch 27/35\n",
            "311/311 [==============================] - 172s 554ms/step - loss: 3.6382 - acc: 0.0230 - val_loss: 3.6369 - val_acc: 0.0283\n",
            "Epoch 28/35\n",
            "311/311 [==============================] - 173s 555ms/step - loss: 3.6375 - acc: 0.0255 - val_loss: 3.6373 - val_acc: 0.0264\n",
            "Epoch 29/35\n",
            "311/311 [==============================] - 173s 555ms/step - loss: 3.6372 - acc: 0.0252 - val_loss: 3.6365 - val_acc: 0.0283\n",
            "Epoch 30/35\n",
            "311/311 [==============================] - 172s 554ms/step - loss: 3.6375 - acc: 0.0269 - val_loss: 3.6373 - val_acc: 0.0273\n",
            "Epoch 31/35\n",
            "311/311 [==============================] - 172s 554ms/step - loss: 3.6378 - acc: 0.0254 - val_loss: 3.6369 - val_acc: 0.0273\n",
            "Epoch 32/35\n",
            "311/311 [==============================] - 173s 555ms/step - loss: 3.6374 - acc: 0.0262 - val_loss: 3.6369 - val_acc: 0.0293\n",
            "Epoch 33/35\n",
            "311/311 [==============================] - 172s 554ms/step - loss: 3.6379 - acc: 0.0247 - val_loss: 3.6369 - val_acc: 0.0254\n",
            "Epoch 34/35\n",
            "311/311 [==============================] - 173s 555ms/step - loss: 3.6374 - acc: 0.0253 - val_loss: 3.6371 - val_acc: 0.0264\n",
            "Epoch 35/35\n",
            "311/311 [==============================] - 173s 555ms/step - loss: 3.6371 - acc: 0.0284 - val_loss: 3.6371 - val_acc: 0.0283\n"
          ],
          "name": "stdout"
        }
      ]
    },
    {
      "cell_type": "code",
      "metadata": {
        "id": "C5YOysId10lC"
      },
      "source": [
        "model.save(\"/content/drive/MyDrive/Research and Project Stuffs/BdSL/Datasets/dataset1/Dataset_Rafi_Xception\")"
      ],
      "execution_count": null,
      "outputs": []
    },
    {
      "cell_type": "code",
      "metadata": {
        "id": "z-zpFxZp0E7S"
      },
      "source": [
        "test_score = model.evaluate_generator(val_it, batch_size)\n",
        "\n",
        "\n",
        "\n",
        "print(\"[INFO] accuracy: {:.2f}%\".format(test_score[1] * 100)) \n",
        "\n",
        "print(\"[INFO] Loss: \",test_score[0])"
      ],
      "execution_count": null,
      "outputs": []
    },
    {
      "cell_type": "code",
      "metadata": {
        "id": "dMaJdKxv0GYr"
      },
      "source": [
        "import sys\n",
        "\n",
        "import numpy as np\n",
        "\n",
        "from keras import backend as K\n",
        "\n",
        "from keras.models import Sequential\n",
        "\n",
        "from keras.layers.core import Dense, Dropout, Activation, Flatten\n",
        "\n",
        "from keras.layers.convolutional import Convolution2D, MaxPooling2D\n",
        "\n",
        "from keras.preprocessing.image import ImageDataGenerator\n",
        "\n",
        "from sklearn.metrics import classification_report, confusion_matrix\n",
        "\n",
        "from keras.layers import Conv2D, Flatten, Dense, MaxPool2D,MaxPooling2D, Activation, Dropout, BatchNormalization, Input\n",
        "\n",
        "import matplotlib.pyplot as plt\n",
        "\n",
        "from keras.optimizers import Adam\n",
        "\n",
        "import itertools "
      ],
      "execution_count": null,
      "outputs": []
    },
    {
      "cell_type": "code",
      "metadata": {
        "colab": {
          "base_uri": "https://localhost:8080/",
          "height": 427
        },
        "id": "hZZ5bABe0J87",
        "outputId": "76371ad0-f47d-4636-aa81-2441a21c9d31"
      },
      "source": [
        "# Loss Curves\n",
        "\n",
        "plt.figure(figsize=[8,6])\n",
        "\n",
        "plt.plot(history.history['loss'],'r',linewidth=3.0)\n",
        "\n",
        "plt.plot(history.history['val_loss'],'b',linewidth=3.0)\n",
        "\n",
        "plt.legend(['Training loss', 'Validation Loss'],fontsize=18)\n",
        "\n",
        "plt.xlabel('Epochs ',fontsize=16)\n",
        "\n",
        "plt.ylabel('Loss',fontsize=16)\n",
        "\n",
        "plt.title('Loss Curves',fontsize=16)"
      ],
      "execution_count": null,
      "outputs": [
        {
          "output_type": "execute_result",
          "data": {
            "text/plain": [
              "Text(0.5, 1.0, 'Loss Curves')"
            ]
          },
          "metadata": {
            "tags": []
          },
          "execution_count": 13
        },
        {
          "output_type": "display_data",
          "data": {
            "image/png": "[encoded data removed]",
            "text/plain": [
              "<Figure size 576x432 with 1 Axes>"
            ]
          },
          "metadata": {
            "tags": [],
            "needs_background": "light"
          }
        }
      ]
    },
    {
      "cell_type": "code",
      "metadata": {
        "id": "1j3KfluZ0NTL",
        "colab": {
          "base_uri": "https://localhost:8080/",
          "height": 70
        },
        "outputId": "80a71a9e-c29a-47e6-f91a-32753135bd5e"
      },
      "source": [
        "# Accuracy Curves\n",
        "\n",
        "plt.figure(figsize=[8,6])\n",
        "\n",
        "plt.plot(history.history['acc'],'r',linewidth=3.0)\n",
        "\n",
        "plt.plot(history.history['val_acc'],'b',linewidth=3.0)\n",
        "\n",
        "plt.legend(['Training Accuracy', 'Validation Accuracy'],fontsize=18)\n",
        "\n",
        "plt.xlabel('Epochs ',fontsize=16)\n",
        "\n",
        "plt.ylabel('Accuracy',fontsize=16)\n",
        "\n",
        "plt.title('Accuracy Curves',fontsize=16)"
      ],
      "execution_count": null,
      "outputs": [
        {
          "output_type": "execute_result",
          "data": {
            "text/plain": [
              "Text(0.5, 1.0, 'Accuracy Curves')"
            ]
          },
          "metadata": {
            "tags": []
          },
          "execution_count": 14
        },
        {
          "output_type": "display_data",
          "data": {
            "image/png": "[encoded data removed]",
            "text/plain": [
              "<Figure size 576x432 with 1 Axes>"
            ]
          },
          "metadata": {
            "tags": [],
            "needs_background": "light"
          }
        }
      ]
    },
    {
      "cell_type": "code",
      "metadata": {
        "id": "9dJ7PRDQ0QaT"
      },
      "source": [
        "#Plot the confusion matrix. Set Normalize = True/False\n",
        "\n",
        "\n",
        "\n",
        "def plot_confusion_matrix(cm, classes, normalize=True, title='Confusion matrix', cmap=plt.cm.Blues):\n",
        "\n",
        "    \"\"\"\n",
        "\n",
        "    This function prints and plots the confusion matrix.\n",
        "\n",
        "    Normalization can be applied by setting `normalize=True`.\n",
        "\n",
        "    \"\"\"\n",
        "\n",
        "    plt.figure(figsize=(10,10))\n",
        "\n",
        "\n",
        "\n",
        "    plt.imshow(cm, interpolation='nearest', cmap=cmap)\n",
        "\n",
        "    plt.title(title)\n",
        "\n",
        "    plt.colorbar()\n",
        "\n",
        "\n",
        "\n",
        "    tick_marks = np.arange(len(classes))\n",
        "\n",
        "    plt.xticks(tick_marks, classes, rotation=45)\n",
        "\n",
        "    plt.yticks(tick_marks, classes)\n",
        "\n",
        "\n",
        "\n",
        "    if normalize:\n",
        "\n",
        "        cm = cm.astype('float') / cm.sum(axis=1)[:, np.newaxis]\n",
        "\n",
        "        cm = np.around(cm, decimals=2)\n",
        "\n",
        "        cm[np.isnan(cm)] = 0.0\n",
        "\n",
        "        print(\"Normalized confusion matrix\")\n",
        "\n",
        "    else:\n",
        "\n",
        "        print('Confusion matrix, without normalization')\n",
        "\n",
        "    thresh = cm.max() / 2.\n",
        "\n",
        "    for i, j in itertools.product(range(cm.shape[0]), range(cm.shape[1])):\n",
        "\n",
        "        plt.text(j, i, cm[i, j],\n",
        "\n",
        "                 horizontalalignment=\"center\",\n",
        "\n",
        "                 color=\"white\" if cm[i, j] > thresh else \"black\")\n",
        "\n",
        "    plt.tight_layout()\n",
        "\n",
        "    plt.ylabel('True label')\n",
        "\n",
        "    plt.xlabel('Predicted label')"
      ],
      "execution_count": null,
      "outputs": []
    },
    {
      "cell_type": "code",
      "metadata": {
        "id": "5z3MaxcC0mDG"
      },
      "source": [
        "#Print the Target names\n",
        "\n",
        "\n",
        "\n",
        "target_names = []\n",
        "\n",
        "for key in val_it.class_indices:\n",
        "\n",
        "    target_names.append(key)\n",
        "\n",
        "\n",
        "\n",
        "print(target_names)"
      ],
      "execution_count": null,
      "outputs": []
    },
    {
      "cell_type": "code",
      "metadata": {
        "id": "Il6RkOwx0qHM"
      },
      "source": [
        "y_img_batch, y_class_batch = val_it[0]\n",
        "y_pred = np.argmax(model.predict(y_img_batch),-1)\n",
        "y_true = np.argmax(y_class_batch,-1)\n",
        "print(sum(y_pred==y_true)/batch_size)"
      ],
      "execution_count": null,
      "outputs": []
    },
    {
      "cell_type": "code",
      "metadata": {
        "id": "hlMMCHWK0yCE"
      },
      "source": [
        "from sklearn.metrics import classification_report, confusion_matrix\n",
        "cm = confusion_matrix(y_true,y_pred)\n",
        "plot_confusion_matrix(cm, target_names, title='Confusion Matrix')"
      ],
      "execution_count": null,
      "outputs": []
    },
    {
      "cell_type": "code",
      "metadata": {
        "colab": {
          "base_uri": "https://localhost:8080/"
        },
        "id": "xjV2ghW81xWI",
        "outputId": "69c5aa2b-9e5d-4c4a-a74b-55c2b2084c4b"
      },
      "source": [
        "#Print Classification Report\n",
        "\n",
        "print('Classification Report')\n",
        "\n",
        "print(classification_report(y_true, y_pred))"
      ],
      "execution_count": null,
      "outputs": [
        {
          "output_type": "stream",
          "text": [
            "Classification Report\n",
            "              precision    recall  f1-score   support\n",
            "\n",
            "           0       0.00      0.00      0.00         3\n",
            "           1       0.00      0.00      0.00         3\n",
            "          10       0.00      0.00      0.00         7\n",
            "          11       0.00      0.00      0.00         6\n",
            "          12       0.00      0.00      0.00         3\n",
            "          13       0.00      0.00      0.00         2\n",
            "          14       0.00      0.00      0.00         1\n",
            "          15       0.00      0.00      0.00         3\n",
            "          16       0.02      1.00      0.05         3\n",
            "          17       0.00      0.00      0.00         2\n",
            "          18       0.00      0.00      0.00         3\n",
            "          19       0.00      0.00      0.00         7\n",
            "           2       0.00      0.00      0.00         7\n",
            "          20       0.00      0.00      0.00         4\n",
            "          21       0.00      0.00      0.00         3\n",
            "          22       0.00      0.00      0.00         4\n",
            "          23       0.00      0.00      0.00         3\n",
            "          24       0.00      0.00      0.00         4\n",
            "          25       0.00      0.00      0.00         4\n",
            "          26       0.00      0.00      0.00         1\n",
            "          27       0.00      0.00      0.00         7\n",
            "          28       0.00      0.00      0.00         6\n",
            "          29       0.00      0.00      0.00         7\n",
            "           3       0.00      0.00      0.00         1\n",
            "          30       0.00      0.00      0.00         2\n",
            "          31       0.00      0.00      0.00         3\n",
            "          32       0.00      0.00      0.00         2\n",
            "          33       0.00      0.00      0.00         4\n",
            "          34       0.00      0.00      0.00         2\n",
            "          35       0.00      0.00      0.00         1\n",
            "          36       0.00      0.00      0.00         2\n",
            "          37       0.00      0.00      0.00         3\n",
            "           4       0.00      0.00      0.00         3\n",
            "           5       0.00      0.00      0.00         1\n",
            "           6       0.00      0.00      0.00         8\n",
            "           7       0.00      0.00      0.00         1\n",
            "           8       0.00      0.00      0.00         2\n",
            "\n",
            "    accuracy                           0.02       128\n",
            "   macro avg       0.00      0.03      0.00       128\n",
            "weighted avg       0.00      0.02      0.00       128\n",
            "\n"
          ],
          "name": "stdout"
        },
        {
          "output_type": "stream",
          "text": [
            "/usr/local/lib/python3.7/dist-packages/sklearn/metrics/_classification.py:1272: UndefinedMetricWarning: Precision and F-score are ill-defined and being set to 0.0 in labels with no predicted samples. Use `zero_division` parameter to control this behavior.\n",
            "  _warn_prf(average, modifier, msg_start, len(result))\n"
          ],
          "name": "stderr"
        }
      ]
    },
    {
      "cell_type": "code",
      "metadata": {
        "id": "lHXK7lMw16Pl"
      },
      "source": [
        "from tensorflow import keras\n",
        "model = keras.models.load_model(\"/content/drive/MyDrive/Research and Project Stuffs/BdSL/Datasets/Dataset_Rafi_Xception\")"
      ],
      "execution_count": null,
      "outputs": []
    },
    {
      "cell_type": "code",
      "metadata": {
        "colab": {
          "base_uri": "https://localhost:8080/"
        },
        "id": "3m0TmL7CCjut",
        "outputId": "2b0ef430-f21c-4cb9-9a31-5c6a107386a9"
      },
      "source": [
        "batch_size = 1520\n",
        "test_it = datagen2.flow_from_directory('/content/drive/MyDrive/Research and Project Stuffs/dataset Rafi/RESIZED_TESTING_DATA',target_size=(img_height, img_width), batch_size = batch_size)"
      ],
      "execution_count": null,
      "outputs": [
        {
          "output_type": "stream",
          "text": [
            "Found 1520 images belonging to 38 classes.\n"
          ],
          "name": "stdout"
        }
      ]
    },
    {
      "cell_type": "code",
      "metadata": {
        "id": "UtuJAvOTDCQj"
      },
      "source": [
        "y_img_batch, y_class_batch = test_it[0]\n"
      ],
      "execution_count": null,
      "outputs": []
    },
    {
      "cell_type": "code",
      "metadata": {
        "colab": {
          "base_uri": "https://localhost:8080/"
        },
        "id": "BPoJEXTAFRE5",
        "outputId": "f798d111-7284-4da3-e28b-3149b61fedf4"
      },
      "source": [
        "import numpy as np\n",
        "y_pred = np.argmax(model.predict(y_img_batch),-1)\n",
        "y_true = np.argmax(y_class_batch,-1)\n",
        "print(sum(y_pred==y_true)/batch_size)"
      ],
      "execution_count": null,
      "outputs": [
        {
          "output_type": "stream",
          "text": [
            "0.02631578947368421\n"
          ],
          "name": "stdout"
        }
      ]
    },
    {
      "cell_type": "code",
      "metadata": {
        "colab": {
          "base_uri": "https://localhost:8080/"
        },
        "id": "MRffqt9sFb7y",
        "outputId": "8b7b04cc-b3e4-4536-c7c7-48a328ed1f87"
      },
      "source": [
        "y_class_batch"
      ],
      "execution_count": null,
      "outputs": [
        {
          "output_type": "execute_result",
          "data": {
            "text/plain": [
              "array([[0., 0., 0., ..., 0., 0., 0.],\n",
              "       [0., 0., 0., ..., 0., 0., 0.],\n",
              "       [0., 0., 0., ..., 0., 0., 0.],\n",
              "       ...,\n",
              "       [0., 0., 0., ..., 0., 0., 0.],\n",
              "       [0., 0., 0., ..., 0., 0., 0.],\n",
              "       [1., 0., 0., ..., 0., 0., 0.]], dtype=float32)"
            ]
          },
          "metadata": {
            "tags": []
          },
          "execution_count": 7
        }
      ]
    },
    {
      "cell_type": "code",
      "metadata": {
        "colab": {
          "base_uri": "https://localhost:8080/",
          "height": 192
        },
        "id": "jrwNg0SOHC3B",
        "outputId": "639fe2b4-f21c-4e99-d398-a7c6cf2684d9"
      },
      "source": [
        "from sklearn.metrics import classification_report, confusion_matrix\n",
        "cm = confusion_matrix(y_true,y_pred)\n",
        "plot_confusion_matrix(cm, target_names, title='Confusion Matrix')"
      ],
      "execution_count": null,
      "outputs": [
        {
          "output_type": "error",
          "ename": "NameError",
          "evalue": "ignored",
          "traceback": [
            "\u001b[0;31m---------------------------------------------------------------------------\u001b[0m",
            "\u001b[0;31mNameError\u001b[0m                                 Traceback (most recent call last)",
            "\u001b[0;32m<ipython-input-8-55a367c7ffc9>\u001b[0m in \u001b[0;36m<module>\u001b[0;34m()\u001b[0m\n\u001b[1;32m      1\u001b[0m \u001b[0;32mfrom\u001b[0m \u001b[0msklearn\u001b[0m\u001b[0;34m.\u001b[0m\u001b[0mmetrics\u001b[0m \u001b[0;32mimport\u001b[0m \u001b[0mclassification_report\u001b[0m\u001b[0;34m,\u001b[0m \u001b[0mconfusion_matrix\u001b[0m\u001b[0;34m\u001b[0m\u001b[0;34m\u001b[0m\u001b[0m\n\u001b[1;32m      2\u001b[0m \u001b[0mcm\u001b[0m \u001b[0;34m=\u001b[0m \u001b[0mconfusion_matrix\u001b[0m\u001b[0;34m(\u001b[0m\u001b[0my_true\u001b[0m\u001b[0;34m,\u001b[0m\u001b[0my_pred\u001b[0m\u001b[0;34m)\u001b[0m\u001b[0;34m\u001b[0m\u001b[0;34m\u001b[0m\u001b[0m\n\u001b[0;32m----> 3\u001b[0;31m \u001b[0mplot_confusion_matrix\u001b[0m\u001b[0;34m(\u001b[0m\u001b[0mcm\u001b[0m\u001b[0;34m,\u001b[0m \u001b[0mtarget_names\u001b[0m\u001b[0;34m,\u001b[0m \u001b[0mtitle\u001b[0m\u001b[0;34m=\u001b[0m\u001b[0;34m'Confusion Matrix'\u001b[0m\u001b[0;34m)\u001b[0m\u001b[0;34m\u001b[0m\u001b[0;34m\u001b[0m\u001b[0m\n\u001b[0m",
            "\u001b[0;31mNameError\u001b[0m: name 'plot_confusion_matrix' is not defined"
          ]
        }
      ]
    },
    {
      "cell_type": "code",
      "metadata": {
        "id": "U5oagPx1HDpN"
      },
      "source": [
        ""
      ],
      "execution_count": null,
      "outputs": []
    }
  ]
}