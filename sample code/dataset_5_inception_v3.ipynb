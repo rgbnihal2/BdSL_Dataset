{
  "nbformat": 4,
  "nbformat_minor": 0,
  "metadata": {
    "colab": {
      "name": "dataset 5 inception v3",
      "provenance": []
    },
    "kernelspec": {
      "name": "python3",
      "display_name": "Python 3"
    },
    "language_info": {
      "name": "python"
    },
    "accelerator": "GPU"
  },
  "cells": [
    {
      "cell_type": "code",
      "metadata": {
        "colab": {
          "base_uri": "https://localhost:8080/"
        },
        "id": "wnTRugAwPiAr",
        "outputId": "ba5dc474-44ab-45a6-aa13-388964d1e435"
      },
      "source": [
        "from google.colab import drive\n",
        "drive.mount('/content/drive')"
      ],
      "execution_count": null,
      "outputs": [
        {
          "output_type": "stream",
          "text": [
            "Drive already mounted at /content/drive; to attempt to forcibly remount, call drive.mount(\"/content/drive\", force_remount=True).\n"
          ],
          "name": "stdout"
        }
      ]
    },
    {
      "cell_type": "code",
      "metadata": {
        "id": "-l4MRfIYQESF"
      },
      "source": [
        "\n",
        "!unzip -uq \"/content/drive/MyDrive/Research and Project Stuffs/BdSL/Datasets/dataset5.zip\" -d \"/content/drive/MyDrive/Research and Project Stuffs/BdSL/Datasets/\""
      ],
      "execution_count": null,
      "outputs": []
    },
    {
      "cell_type": "code",
      "metadata": {
        "colab": {
          "base_uri": "https://localhost:8080/"
        },
        "id": "4gCn-4avQsgn",
        "outputId": "8eac4ac0-aa99-425c-b7af-b57b3f03db8f"
      },
      "source": [
        "# example of progressively loading images from file\n",
        "from keras.preprocessing.image import ImageDataGenerator\n",
        "# create generator\n",
        "datagen = ImageDataGenerator(rescale=1. / 255,validation_split=0.2)\n",
        "img_height = 224\n",
        "img_width = 224 \n",
        "batch_size = 191\n",
        "# prepare an iterators for each dataset\n",
        "train_it = datagen.flow_from_directory('/content/drive/MyDrive/Research and Project Stuffs/BdSL/Datasets/dataset5',target_size=(img_height, img_width),batch_size = batch_size, subset='training')\n",
        "val_it = datagen.flow_from_directory('/content/drive/MyDrive/Research and Project Stuffs/BdSL/Datasets/dataset5',target_size=(img_height, img_width), batch_size = batch_size, subset='validation')"
      ],
      "execution_count": null,
      "outputs": [
        {
          "output_type": "stream",
          "text": [
            "Found 786 images belonging to 10 classes.\n",
            "Found 191 images belonging to 10 classes.\n"
          ],
          "name": "stdout"
        }
      ]
    },
    {
      "cell_type": "code",
      "metadata": {
        "id": "L0NE2Yzd_WFB"
      },
      "source": [
        "from tensorflow.keras.applications import inception_v3\n",
        "# Init the VGG model\n",
        "vgg_conv = inception_v3.InceptionV3(weights='imagenet', include_top=False, input_shape=(img_height, img_height, 3))"
      ],
      "execution_count": null,
      "outputs": []
    },
    {
      "cell_type": "code",
      "metadata": {
        "id": "_jwVecda_f6y",
        "colab": {
          "base_uri": "https://localhost:8080/"
        },
        "outputId": "2849d1c4-1336-4aa7-800e-2ca141cafe40"
      },
      "source": [
        "# Freeze all the layers\n",
        "for layer in vgg_conv.layers[:]:\n",
        "    layer.trainable = False\n",
        "# Check the trainable status of the individual layers\n",
        "for layer in vgg_conv.layers:\n",
        "    print(layer, layer.trainable)"
      ],
      "execution_count": null,
      "outputs": [
        {
          "output_type": "stream",
          "text": [
            "<tensorflow.python.keras.engine.input_layer.InputLayer object at 0x7f88f6ffe510> False\n",
            "<tensorflow.python.keras.layers.convolutional.Conv2D object at 0x7f88f70079d0> False\n",
            "<tensorflow.python.keras.layers.normalization_v2.BatchNormalization object at 0x7f88b9369b90> False\n",
            "<tensorflow.python.keras.layers.core.Activation object at 0x7f88b9b2abd0> False\n",
            "<tensorflow.python.keras.layers.convolutional.Conv2D object at 0x7f88b98d1a50> False\n",
            "<tensorflow.python.keras.layers.normalization_v2.BatchNormalization object at 0x7f88b9878610> False\n",
            "<tensorflow.python.keras.layers.core.Activation object at 0x7f88b987cb10> False\n",
            "<tensorflow.python.keras.layers.convolutional.Conv2D object at 0x7f88b987dd90> False\n",
            "<tensorflow.python.keras.layers.normalization_v2.BatchNormalization object at 0x7f88b988fb10> False\n",
            "<tensorflow.python.keras.layers.core.Activation object at 0x7f88b988b250> False\n",
            "<tensorflow.python.keras.layers.pooling.MaxPooling2D object at 0x7f88b9895210> False\n",
            "<tensorflow.python.keras.layers.convolutional.Conv2D object at 0x7f88b989af90> False\n",
            "<tensorflow.python.keras.layers.normalization_v2.BatchNormalization object at 0x7f88b981f850> False\n",
            "<tensorflow.python.keras.layers.core.Activation object at 0x7f88b989a110> False\n",
            "<tensorflow.python.keras.layers.convolutional.Conv2D object at 0x7f88b9822450> False\n",
            "<tensorflow.python.keras.layers.normalization_v2.BatchNormalization object at 0x7f88b982bc90> False\n",
            "<tensorflow.python.keras.layers.core.Activation object at 0x7f88b982bb90> False\n",
            "<tensorflow.python.keras.layers.pooling.MaxPooling2D object at 0x7f88b9828c50> False\n",
            "<tensorflow.python.keras.layers.convolutional.Conv2D object at 0x7f88b97e8d90> False\n",
            "<tensorflow.python.keras.layers.normalization_v2.BatchNormalization object at 0x7f88b97de350> False\n",
            "<tensorflow.python.keras.layers.core.Activation object at 0x7f88b97e8390> False\n",
            "<tensorflow.python.keras.layers.convolutional.Conv2D object at 0x7f88b984cf10> False\n",
            "<tensorflow.python.keras.layers.convolutional.Conv2D object at 0x7f88b9858b10> False\n",
            "<tensorflow.python.keras.layers.normalization_v2.BatchNormalization object at 0x7f88b9844f10> False\n",
            "<tensorflow.python.keras.layers.normalization_v2.BatchNormalization object at 0x7f88bbb86450> False\n",
            "<tensorflow.python.keras.layers.core.Activation object at 0x7f88b983d510> False\n",
            "<tensorflow.python.keras.layers.core.Activation object at 0x7f88bbb7af10> False\n",
            "<tensorflow.python.keras.layers.pooling.AveragePooling2D object at 0x7f88c23747d0> False\n",
            "<tensorflow.python.keras.layers.convolutional.Conv2D object at 0x7f88b9835e50> False\n",
            "<tensorflow.python.keras.layers.convolutional.Conv2D object at 0x7f88b9844f50> False\n",
            "<tensorflow.python.keras.layers.convolutional.Conv2D object at 0x7f88c5c1d850> False\n",
            "<tensorflow.python.keras.layers.convolutional.Conv2D object at 0x7f88c235fd10> False\n",
            "<tensorflow.python.keras.layers.normalization_v2.BatchNormalization object at 0x7f88b9841e10> False\n",
            "<tensorflow.python.keras.layers.normalization_v2.BatchNormalization object at 0x7f88b9852e10> False\n",
            "<tensorflow.python.keras.layers.normalization_v2.BatchNormalization object at 0x7f88bbbf5910> False\n",
            "<tensorflow.python.keras.layers.normalization_v2.BatchNormalization object at 0x7f88b987dad0> False\n",
            "<tensorflow.python.keras.layers.core.Activation object at 0x7f88b9841d50> False\n",
            "<tensorflow.python.keras.layers.core.Activation object at 0x7f88b97e3390> False\n",
            "<tensorflow.python.keras.layers.core.Activation object at 0x7f88c23772d0> False\n",
            "<tensorflow.python.keras.layers.core.Activation object at 0x7f88c2377410> False\n",
            "<tensorflow.python.keras.layers.merge.Concatenate object at 0x7f88c2374d90> False\n",
            "<tensorflow.python.keras.layers.convolutional.Conv2D object at 0x7f88b9871590> False\n",
            "<tensorflow.python.keras.layers.normalization_v2.BatchNormalization object at 0x7f88b980ce90> False\n",
            "<tensorflow.python.keras.layers.core.Activation object at 0x7f88b988b710> False\n",
            "<tensorflow.python.keras.layers.convolutional.Conv2D object at 0x7f88b97e8190> False\n",
            "<tensorflow.python.keras.layers.convolutional.Conv2D object at 0x7f88b97f3bd0> False\n",
            "<tensorflow.python.keras.layers.normalization_v2.BatchNormalization object at 0x7f88b9886650> False\n",
            "<tensorflow.python.keras.layers.normalization_v2.BatchNormalization object at 0x7f88b979c690> False\n",
            "<tensorflow.python.keras.layers.core.Activation object at 0x7f88b983d050> False\n",
            "<tensorflow.python.keras.layers.core.Activation object at 0x7f88b97a3d50> False\n",
            "<tensorflow.python.keras.layers.pooling.AveragePooling2D object at 0x7f88b97aa6d0> False\n",
            "<tensorflow.python.keras.layers.convolutional.Conv2D object at 0x7f88b989a350> False\n",
            "<tensorflow.python.keras.layers.convolutional.Conv2D object at 0x7f88b98716d0> False\n",
            "<tensorflow.python.keras.layers.convolutional.Conv2D object at 0x7f88b979efd0> False\n",
            "<tensorflow.python.keras.layers.convolutional.Conv2D object at 0x7f88b97bb3d0> False\n",
            "<tensorflow.python.keras.layers.normalization_v2.BatchNormalization object at 0x7f88bbbb4310> False\n",
            "<tensorflow.python.keras.layers.normalization_v2.BatchNormalization object at 0x7f88b9369d10> False\n",
            "<tensorflow.python.keras.layers.normalization_v2.BatchNormalization object at 0x7f88b97aadd0> False\n",
            "<tensorflow.python.keras.layers.normalization_v2.BatchNormalization object at 0x7f88b97c1d50> False\n",
            "<tensorflow.python.keras.layers.core.Activation object at 0x7f88b984ead0> False\n",
            "<tensorflow.python.keras.layers.core.Activation object at 0x7f88b9b41450> False\n",
            "<tensorflow.python.keras.layers.core.Activation object at 0x7f88b97ad9d0> False\n",
            "<tensorflow.python.keras.layers.core.Activation object at 0x7f88b97bb790> False\n",
            "<tensorflow.python.keras.layers.merge.Concatenate object at 0x7f88b97c65d0> False\n",
            "<tensorflow.python.keras.layers.convolutional.Conv2D object at 0x7f88b97822d0> False\n",
            "<tensorflow.python.keras.layers.normalization_v2.BatchNormalization object at 0x7f88b9773c90> False\n",
            "<tensorflow.python.keras.layers.core.Activation object at 0x7f88b97cfa50> False\n",
            "<tensorflow.python.keras.layers.convolutional.Conv2D object at 0x7f88b97d85d0> False\n",
            "<tensorflow.python.keras.layers.convolutional.Conv2D object at 0x7f88b97c1c10> False\n",
            "<tensorflow.python.keras.layers.normalization_v2.BatchNormalization object at 0x7f88b9766c10> False\n",
            "<tensorflow.python.keras.layers.normalization_v2.BatchNormalization object at 0x7f88b97ad0d0> False\n",
            "<tensorflow.python.keras.layers.core.Activation object at 0x7f88b976bb90> False\n",
            "<tensorflow.python.keras.layers.core.Activation object at 0x7f88b97cfb50> False\n",
            "<tensorflow.python.keras.layers.pooling.AveragePooling2D object at 0x7f88b98d1d10> False\n",
            "<tensorflow.python.keras.layers.convolutional.Conv2D object at 0x7f88b97cfcd0> False\n",
            "<tensorflow.python.keras.layers.convolutional.Conv2D object at 0x7f88b9773bd0> False\n",
            "<tensorflow.python.keras.layers.convolutional.Conv2D object at 0x7f88b97aa290> False\n",
            "<tensorflow.python.keras.layers.convolutional.Conv2D object at 0x7f88bbb7b090> False\n",
            "<tensorflow.python.keras.layers.normalization_v2.BatchNormalization object at 0x7f88b97d8e10> False\n",
            "<tensorflow.python.keras.layers.normalization_v2.BatchNormalization object at 0x7f88b9779790> False\n",
            "<tensorflow.python.keras.layers.normalization_v2.BatchNormalization object at 0x7f88b9369ed0> False\n",
            "<tensorflow.python.keras.layers.normalization_v2.BatchNormalization object at 0x7f88bbbf5d10> False\n",
            "<tensorflow.python.keras.layers.core.Activation object at 0x7f88b975fb10> False\n",
            "<tensorflow.python.keras.layers.core.Activation object at 0x7f88b977df10> False\n",
            "<tensorflow.python.keras.layers.core.Activation object at 0x7f88b989a890> False\n",
            "<tensorflow.python.keras.layers.core.Activation object at 0x7f88b9816650> False\n",
            "<tensorflow.python.keras.layers.merge.Concatenate object at 0x7f88bbbb3ed0> False\n",
            "<tensorflow.python.keras.layers.convolutional.Conv2D object at 0x7f88b9797a50> False\n",
            "<tensorflow.python.keras.layers.normalization_v2.BatchNormalization object at 0x7f88b9720a90> False\n",
            "<tensorflow.python.keras.layers.core.Activation object at 0x7f88b97209d0> False\n",
            "<tensorflow.python.keras.layers.convolutional.Conv2D object at 0x7f88b979aa50> False\n",
            "<tensorflow.python.keras.layers.normalization_v2.BatchNormalization object at 0x7f88b972dcd0> False\n",
            "<tensorflow.python.keras.layers.core.Activation object at 0x7f88b979a2d0> False\n",
            "<tensorflow.python.keras.layers.convolutional.Conv2D object at 0x7f88b9793290> False\n",
            "<tensorflow.python.keras.layers.convolutional.Conv2D object at 0x7f88b9730290> False\n",
            "<tensorflow.python.keras.layers.normalization_v2.BatchNormalization object at 0x7f88b9796d90> False\n",
            "<tensorflow.python.keras.layers.normalization_v2.BatchNormalization object at 0x7f88b973ce50> False\n",
            "<tensorflow.python.keras.layers.core.Activation object at 0x7f88b9791b90> False\n",
            "<tensorflow.python.keras.layers.core.Activation object at 0x7f88b97dad50> False\n",
            "<tensorflow.python.keras.layers.pooling.MaxPooling2D object at 0x7f88b9749d10> False\n",
            "<tensorflow.python.keras.layers.merge.Concatenate object at 0x7f88b974da50> False\n",
            "<tensorflow.python.keras.layers.convolutional.Conv2D object at 0x7f88b970e390> False\n",
            "<tensorflow.python.keras.layers.normalization_v2.BatchNormalization object at 0x7f88b9700c10> False\n",
            "<tensorflow.python.keras.layers.core.Activation object at 0x7f88b971a9d0> False\n",
            "<tensorflow.python.keras.layers.convolutional.Conv2D object at 0x7f88b96a4190> False\n",
            "<tensorflow.python.keras.layers.normalization_v2.BatchNormalization object at 0x7f88b96a7a90> False\n",
            "<tensorflow.python.keras.layers.core.Activation object at 0x7f88b969f6d0> False\n",
            "<tensorflow.python.keras.layers.convolutional.Conv2D object at 0x7f88b9749850> False\n",
            "<tensorflow.python.keras.layers.convolutional.Conv2D object at 0x7f88b97003d0> False\n",
            "<tensorflow.python.keras.layers.normalization_v2.BatchNormalization object at 0x7f88b96e7a50> False\n",
            "<tensorflow.python.keras.layers.normalization_v2.BatchNormalization object at 0x7f88b96e7990> False\n",
            "<tensorflow.python.keras.layers.core.Activation object at 0x7f88b96eb0d0> False\n",
            "<tensorflow.python.keras.layers.core.Activation object at 0x7f88b970ecd0> False\n",
            "<tensorflow.python.keras.layers.convolutional.Conv2D object at 0x7f88b96efa90> False\n",
            "<tensorflow.python.keras.layers.convolutional.Conv2D object at 0x7f88b96fc810> False\n",
            "<tensorflow.python.keras.layers.normalization_v2.BatchNormalization object at 0x7f88b96f7f50> False\n",
            "<tensorflow.python.keras.layers.normalization_v2.BatchNormalization object at 0x7f88b973f4d0> False\n",
            "<tensorflow.python.keras.layers.core.Activation object at 0x7f88b9700f90> False\n",
            "<tensorflow.python.keras.layers.core.Activation object at 0x7f88b9725d90> False\n",
            "<tensorflow.python.keras.layers.pooling.AveragePooling2D object at 0x7f88b9816950> False\n",
            "<tensorflow.python.keras.layers.convolutional.Conv2D object at 0x7f88b9755250> False\n",
            "<tensorflow.python.keras.layers.convolutional.Conv2D object at 0x7f88b96e79d0> False\n",
            "<tensorflow.python.keras.layers.convolutional.Conv2D object at 0x7f88b9797b10> False\n",
            "<tensorflow.python.keras.layers.convolutional.Conv2D object at 0x7f88b979ab90> False\n",
            "<tensorflow.python.keras.layers.normalization_v2.BatchNormalization object at 0x7f88b9759e50> False\n",
            "<tensorflow.python.keras.layers.normalization_v2.BatchNormalization object at 0x7f88b9705d10> False\n",
            "<tensorflow.python.keras.layers.normalization_v2.BatchNormalization object at 0x7f88b97940d0> False\n",
            "<tensorflow.python.keras.layers.normalization_v2.BatchNormalization object at 0x7f88b96b4b90> False\n",
            "<tensorflow.python.keras.layers.core.Activation object at 0x7f88b9759b50> False\n",
            "<tensorflow.python.keras.layers.core.Activation object at 0x7f88b970e8d0> False\n",
            "<tensorflow.python.keras.layers.core.Activation object at 0x7f88b987c650> False\n",
            "<tensorflow.python.keras.layers.core.Activation object at 0x7f88b96b7d10> False\n",
            "<tensorflow.python.keras.layers.merge.Concatenate object at 0x7f88b96ada50> False\n",
            "<tensorflow.python.keras.layers.convolutional.Conv2D object at 0x7f88b9672dd0> False\n",
            "<tensorflow.python.keras.layers.normalization_v2.BatchNormalization object at 0x7f88b967c610> False\n",
            "<tensorflow.python.keras.layers.core.Activation object at 0x7f88b9672650> False\n",
            "<tensorflow.python.keras.layers.convolutional.Conv2D object at 0x7f88b9686c90> False\n",
            "<tensorflow.python.keras.layers.normalization_v2.BatchNormalization object at 0x7f88b968b8d0> False\n",
            "<tensorflow.python.keras.layers.core.Activation object at 0x7f88b968f690> False\n",
            "<tensorflow.python.keras.layers.convolutional.Conv2D object at 0x7f88b96b4d90> False\n",
            "<tensorflow.python.keras.layers.convolutional.Conv2D object at 0x7f88b9686250> False\n",
            "<tensorflow.python.keras.layers.normalization_v2.BatchNormalization object at 0x7f88b96cbe50> False\n",
            "<tensorflow.python.keras.layers.normalization_v2.BatchNormalization object at 0x7f88b9697c90> False\n",
            "<tensorflow.python.keras.layers.core.Activation object at 0x7f88b96ce810> False\n",
            "<tensorflow.python.keras.layers.core.Activation object at 0x7f88b96988d0> False\n",
            "<tensorflow.python.keras.layers.convolutional.Conv2D object at 0x7f88b96d2810> False\n",
            "<tensorflow.python.keras.layers.convolutional.Conv2D object at 0x7f88b9683e50> False\n",
            "<tensorflow.python.keras.layers.normalization_v2.BatchNormalization object at 0x7f88b965cd50> False\n",
            "<tensorflow.python.keras.layers.normalization_v2.BatchNormalization object at 0x7f88b9627b90> False\n",
            "<tensorflow.python.keras.layers.core.Activation object at 0x7f88b9660a90> False\n",
            "<tensorflow.python.keras.layers.core.Activation object at 0x7f88b962bb50> False\n",
            "<tensorflow.python.keras.layers.pooling.AveragePooling2D object at 0x7f88b96466d0> False\n",
            "<tensorflow.python.keras.layers.convolutional.Conv2D object at 0x7f88b96bb510> False\n",
            "<tensorflow.python.keras.layers.convolutional.Conv2D object at 0x7f88b96674d0> False\n",
            "<tensorflow.python.keras.layers.convolutional.Conv2D object at 0x7f88b9627c50> False\n",
            "<tensorflow.python.keras.layers.convolutional.Conv2D object at 0x7f88b962bdd0> False\n",
            "<tensorflow.python.keras.layers.normalization_v2.BatchNormalization object at 0x7f88b96c1b90> False\n",
            "<tensorflow.python.keras.layers.normalization_v2.BatchNormalization object at 0x7f88b96c1a50> False\n",
            "<tensorflow.python.keras.layers.normalization_v2.BatchNormalization object at 0x7f88b963b690> False\n",
            "<tensorflow.python.keras.layers.normalization_v2.BatchNormalization object at 0x7f88b9627210> False\n",
            "<tensorflow.python.keras.layers.core.Activation object at 0x7f88b96c4c90> False\n",
            "<tensorflow.python.keras.layers.core.Activation object at 0x7f88b9670cd0> False\n",
            "<tensorflow.python.keras.layers.core.Activation object at 0x7f88b963ee10> False\n",
            "<tensorflow.python.keras.layers.core.Activation object at 0x7f88b968b7d0> False\n",
            "<tensorflow.python.keras.layers.merge.Concatenate object at 0x7f88b965c590> False\n",
            "<tensorflow.python.keras.layers.convolutional.Conv2D object at 0x7f88b9656350> False\n",
            "<tensorflow.python.keras.layers.normalization_v2.BatchNormalization object at 0x7f88b9659650> False\n",
            "<tensorflow.python.keras.layers.core.Activation object at 0x7f88b95dce50> False\n",
            "<tensorflow.python.keras.layers.convolutional.Conv2D object at 0x7f88b9653550> False\n",
            "<tensorflow.python.keras.layers.normalization_v2.BatchNormalization object at 0x7f88b95e4e10> False\n",
            "<tensorflow.python.keras.layers.core.Activation object at 0x7f88b95e6b90> False\n",
            "<tensorflow.python.keras.layers.convolutional.Conv2D object at 0x7f88b96cbb10> False\n",
            "<tensorflow.python.keras.layers.convolutional.Conv2D object at 0x7f88b95eff90> False\n",
            "<tensorflow.python.keras.layers.normalization_v2.BatchNormalization object at 0x7f88b979c650> False\n",
            "<tensorflow.python.keras.layers.normalization_v2.BatchNormalization object at 0x7f88b95f5910> False\n",
            "<tensorflow.python.keras.layers.core.Activation object at 0x7f88b9725fd0> False\n",
            "<tensorflow.python.keras.layers.core.Activation object at 0x7f88b95ff6d0> False\n",
            "<tensorflow.python.keras.layers.convolutional.Conv2D object at 0x7f88b974d350> False\n",
            "<tensorflow.python.keras.layers.convolutional.Conv2D object at 0x7f88b95efdd0> False\n",
            "<tensorflow.python.keras.layers.normalization_v2.BatchNormalization object at 0x7f88b9730650> False\n",
            "<tensorflow.python.keras.layers.normalization_v2.BatchNormalization object at 0x7f88b9604fd0> False\n",
            "<tensorflow.python.keras.layers.core.Activation object at 0x7f88b964ac50> False\n",
            "<tensorflow.python.keras.layers.core.Activation object at 0x7f88b9611dd0> False\n",
            "<tensorflow.python.keras.layers.pooling.AveragePooling2D object at 0x7f88b959d490> False\n",
            "<tensorflow.python.keras.layers.convolutional.Conv2D object at 0x7f88b96830d0> False\n",
            "<tensorflow.python.keras.layers.convolutional.Conv2D object at 0x7f88b9651a90> False\n",
            "<tensorflow.python.keras.layers.convolutional.Conv2D object at 0x7f88b960cc90> False\n",
            "<tensorflow.python.keras.layers.convolutional.Conv2D object at 0x7f88b95a29d0> False\n",
            "<tensorflow.python.keras.layers.normalization_v2.BatchNormalization object at 0x7f88b9791210> False\n",
            "<tensorflow.python.keras.layers.normalization_v2.BatchNormalization object at 0x7f88b9655e10> False\n",
            "<tensorflow.python.keras.layers.normalization_v2.BatchNormalization object at 0x7f88b95ff4d0> False\n",
            "<tensorflow.python.keras.layers.normalization_v2.BatchNormalization object at 0x7f88b95eff10> False\n",
            "<tensorflow.python.keras.layers.core.Activation object at 0x7f88b96b4c90> False\n",
            "<tensorflow.python.keras.layers.core.Activation object at 0x7f88b96512d0> False\n",
            "<tensorflow.python.keras.layers.core.Activation object at 0x7f88b96177d0> False\n",
            "<tensorflow.python.keras.layers.core.Activation object at 0x7f88b96174d0> False\n",
            "<tensorflow.python.keras.layers.merge.Concatenate object at 0x7f88b95aea90> False\n",
            "<tensorflow.python.keras.layers.convolutional.Conv2D object at 0x7f88b95b4c10> False\n",
            "<tensorflow.python.keras.layers.normalization_v2.BatchNormalization object at 0x7f88b9656a90> False\n",
            "<tensorflow.python.keras.layers.core.Activation object at 0x7f88b97edb90> False\n",
            "<tensorflow.python.keras.layers.convolutional.Conv2D object at 0x7f88b96b7e50> False\n",
            "<tensorflow.python.keras.layers.normalization_v2.BatchNormalization object at 0x7f88b955db50> False\n",
            "<tensorflow.python.keras.layers.core.Activation object at 0x7f88b9566fd0> False\n",
            "<tensorflow.python.keras.layers.convolutional.Conv2D object at 0x7f88b95c5190> False\n",
            "<tensorflow.python.keras.layers.convolutional.Conv2D object at 0x7f88b9565fd0> False\n",
            "<tensorflow.python.keras.layers.normalization_v2.BatchNormalization object at 0x7f88b95ca1d0> False\n",
            "<tensorflow.python.keras.layers.normalization_v2.BatchNormalization object at 0x7f88b96bb2d0> False\n",
            "<tensorflow.python.keras.layers.core.Activation object at 0x7f88b959de90> False\n",
            "<tensorflow.python.keras.layers.core.Activation object at 0x7f88b956c8d0> False\n",
            "<tensorflow.python.keras.layers.convolutional.Conv2D object at 0x7f88b95d0910> False\n",
            "<tensorflow.python.keras.layers.convolutional.Conv2D object at 0x7f88b956f9d0> False\n",
            "<tensorflow.python.keras.layers.normalization_v2.BatchNormalization object at 0x7f88b95d9c10> False\n",
            "<tensorflow.python.keras.layers.normalization_v2.BatchNormalization object at 0x7f88b955ded0> False\n",
            "<tensorflow.python.keras.layers.core.Activation object at 0x7f88b95d0750> False\n",
            "<tensorflow.python.keras.layers.core.Activation object at 0x7f88b9575e10> False\n",
            "<tensorflow.python.keras.layers.pooling.AveragePooling2D object at 0x7f88b9587990> False\n",
            "<tensorflow.python.keras.layers.convolutional.Conv2D object at 0x7f88b95b5b10> False\n",
            "<tensorflow.python.keras.layers.convolutional.Conv2D object at 0x7f88b95c2990> False\n",
            "<tensorflow.python.keras.layers.convolutional.Conv2D object at 0x7f88b957c090> False\n",
            "<tensorflow.python.keras.layers.convolutional.Conv2D object at 0x7f88b9590950> False\n",
            "<tensorflow.python.keras.layers.normalization_v2.BatchNormalization object at 0x7f88b95a9890> False\n",
            "<tensorflow.python.keras.layers.normalization_v2.BatchNormalization object at 0x7f88b9604b90> False\n",
            "<tensorflow.python.keras.layers.normalization_v2.BatchNormalization object at 0x7f88b9581a90> False\n",
            "<tensorflow.python.keras.layers.normalization_v2.BatchNormalization object at 0x7f88b957cb10> False\n",
            "<tensorflow.python.keras.layers.core.Activation object at 0x7f88b95c0790> False\n",
            "<tensorflow.python.keras.layers.core.Activation object at 0x7f88b95f51d0> False\n",
            "<tensorflow.python.keras.layers.core.Activation object at 0x7f88b9579090> False\n",
            "<tensorflow.python.keras.layers.core.Activation object at 0x7f88b9581d50> False\n",
            "<tensorflow.python.keras.layers.merge.Concatenate object at 0x7f88b9575210> False\n",
            "<tensorflow.python.keras.layers.convolutional.Conv2D object at 0x7f88b9529d90> False\n",
            "<tensorflow.python.keras.layers.normalization_v2.BatchNormalization object at 0x7f88b95338d0> False\n",
            "<tensorflow.python.keras.layers.core.Activation object at 0x7f88b951b550> False\n",
            "<tensorflow.python.keras.layers.convolutional.Conv2D object at 0x7f88b9549790> False\n",
            "<tensorflow.python.keras.layers.normalization_v2.BatchNormalization object at 0x7f88b95429d0> False\n",
            "<tensorflow.python.keras.layers.core.Activation object at 0x7f88b9552790> False\n",
            "<tensorflow.python.keras.layers.convolutional.Conv2D object at 0x7f88b951b210> False\n",
            "<tensorflow.python.keras.layers.convolutional.Conv2D object at 0x7f88b955acd0> False\n",
            "<tensorflow.python.keras.layers.normalization_v2.BatchNormalization object at 0x7f88b9526890> False\n",
            "<tensorflow.python.keras.layers.normalization_v2.BatchNormalization object at 0x7f88b955af10> False\n",
            "<tensorflow.python.keras.layers.core.Activation object at 0x7f88b958c350> False\n",
            "<tensorflow.python.keras.layers.core.Activation object at 0x7f88b94de8d0> False\n",
            "<tensorflow.python.keras.layers.convolutional.Conv2D object at 0x7f88b958c810> False\n",
            "<tensorflow.python.keras.layers.convolutional.Conv2D object at 0x7f88b94de690> False\n",
            "<tensorflow.python.keras.layers.normalization_v2.BatchNormalization object at 0x7f88b9529ed0> False\n",
            "<tensorflow.python.keras.layers.normalization_v2.BatchNormalization object at 0x7f88b9552d50> False\n",
            "<tensorflow.python.keras.layers.core.Activation object at 0x7f88b9533d90> False\n",
            "<tensorflow.python.keras.layers.core.Activation object at 0x7f88b94e8850> False\n",
            "<tensorflow.python.keras.layers.pooling.MaxPooling2D object at 0x7f88b94e3e10> False\n",
            "<tensorflow.python.keras.layers.merge.Concatenate object at 0x7f88b94e8b50> False\n",
            "<tensorflow.python.keras.layers.convolutional.Conv2D object at 0x7f88b9565d50> False\n",
            "<tensorflow.python.keras.layers.normalization_v2.BatchNormalization object at 0x7f88b9567550> False\n",
            "<tensorflow.python.keras.layers.core.Activation object at 0x7f88b950e290> False\n",
            "<tensorflow.python.keras.layers.convolutional.Conv2D object at 0x7f88b94f3dd0> False\n",
            "<tensorflow.python.keras.layers.convolutional.Conv2D object at 0x7f88b9565810> False\n",
            "<tensorflow.python.keras.layers.normalization_v2.BatchNormalization object at 0x7f88b954e250> False\n",
            "<tensorflow.python.keras.layers.normalization_v2.BatchNormalization object at 0x7f88b96fca90> False\n",
            "<tensorflow.python.keras.layers.core.Activation object at 0x7f88b9549410> False\n",
            "<tensorflow.python.keras.layers.core.Activation object at 0x7f88b95183d0> False\n",
            "<tensorflow.python.keras.layers.convolutional.Conv2D object at 0x7f88b9542810> False\n",
            "<tensorflow.python.keras.layers.convolutional.Conv2D object at 0x7f88b9581a50> False\n",
            "<tensorflow.python.keras.layers.convolutional.Conv2D object at 0x7f88b94a3750> False\n",
            "<tensorflow.python.keras.layers.convolutional.Conv2D object at 0x7f88b94a85d0> False\n",
            "<tensorflow.python.keras.layers.pooling.AveragePooling2D object at 0x7f88b94b9490> False\n",
            "<tensorflow.python.keras.layers.convolutional.Conv2D object at 0x7f88b94de450> False\n",
            "<tensorflow.python.keras.layers.normalization_v2.BatchNormalization object at 0x7f88b953f490> False\n",
            "<tensorflow.python.keras.layers.normalization_v2.BatchNormalization object at 0x7f88b9590550> False\n",
            "<tensorflow.python.keras.layers.normalization_v2.BatchNormalization object at 0x7f88b949cb10> False\n",
            "<tensorflow.python.keras.layers.normalization_v2.BatchNormalization object at 0x7f88b94b2850> False\n",
            "<tensorflow.python.keras.layers.convolutional.Conv2D object at 0x7f88b94f3610> False\n",
            "<tensorflow.python.keras.layers.normalization_v2.BatchNormalization object at 0x7f88b94ffa10> False\n",
            "<tensorflow.python.keras.layers.core.Activation object at 0x7f88b957c610> False\n",
            "<tensorflow.python.keras.layers.core.Activation object at 0x7f88b95ae1d0> False\n",
            "<tensorflow.python.keras.layers.core.Activation object at 0x7f88b949c610> False\n",
            "<tensorflow.python.keras.layers.core.Activation object at 0x7f88b94a8810> False\n",
            "<tensorflow.python.keras.layers.normalization_v2.BatchNormalization object at 0x7f88b94c4d50> False\n",
            "<tensorflow.python.keras.layers.core.Activation object at 0x7f88b94f3cd0> False\n",
            "<tensorflow.python.keras.layers.merge.Concatenate object at 0x7f88b956fad0> False\n",
            "<tensorflow.python.keras.layers.merge.Concatenate object at 0x7f88b94aeb90> False\n",
            "<tensorflow.python.keras.layers.core.Activation object at 0x7f88b950a290> False\n",
            "<tensorflow.python.keras.layers.merge.Concatenate object at 0x7f88b94c4190> False\n",
            "<tensorflow.python.keras.layers.convolutional.Conv2D object at 0x7f88b948dc50> False\n",
            "<tensorflow.python.keras.layers.normalization_v2.BatchNormalization object at 0x7f88b948da50> False\n",
            "<tensorflow.python.keras.layers.core.Activation object at 0x7f88b941ba50> False\n",
            "<tensorflow.python.keras.layers.convolutional.Conv2D object at 0x7f88b94c9f10> False\n",
            "<tensorflow.python.keras.layers.convolutional.Conv2D object at 0x7f88b941b550> False\n",
            "<tensorflow.python.keras.layers.normalization_v2.BatchNormalization object at 0x7f88b94a8290> False\n",
            "<tensorflow.python.keras.layers.normalization_v2.BatchNormalization object at 0x7f88b9497c50> False\n",
            "<tensorflow.python.keras.layers.core.Activation object at 0x7f88b9462710> False\n",
            "<tensorflow.python.keras.layers.core.Activation object at 0x7f88b941b850> False\n",
            "<tensorflow.python.keras.layers.convolutional.Conv2D object at 0x7f88b945e150> False\n",
            "<tensorflow.python.keras.layers.convolutional.Conv2D object at 0x7f88b9479790> False\n",
            "<tensorflow.python.keras.layers.convolutional.Conv2D object at 0x7f88b94c98d0> False\n",
            "<tensorflow.python.keras.layers.convolutional.Conv2D object at 0x7f88b94b28d0> False\n",
            "<tensorflow.python.keras.layers.pooling.AveragePooling2D object at 0x7f88b9567f10> False\n",
            "<tensorflow.python.keras.layers.convolutional.Conv2D object at 0x7f88b94d1dd0> False\n",
            "<tensorflow.python.keras.layers.normalization_v2.BatchNormalization object at 0x7f88b946e390> False\n",
            "<tensorflow.python.keras.layers.normalization_v2.BatchNormalization object at 0x7f88b946edd0> False\n",
            "<tensorflow.python.keras.layers.normalization_v2.BatchNormalization object at 0x7f88b947f950> False\n",
            "<tensorflow.python.keras.layers.normalization_v2.BatchNormalization object at 0x7f88b9505a10> False\n",
            "<tensorflow.python.keras.layers.convolutional.Conv2D object at 0x7f88b94c4510> False\n",
            "<tensorflow.python.keras.layers.normalization_v2.BatchNormalization object at 0x7f88b94c9050> False\n",
            "<tensorflow.python.keras.layers.core.Activation object at 0x7f88b9479fd0> False\n",
            "<tensorflow.python.keras.layers.core.Activation object at 0x7f88b9479d90> False\n",
            "<tensorflow.python.keras.layers.core.Activation object at 0x7f88b9465fd0> False\n",
            "<tensorflow.python.keras.layers.core.Activation object at 0x7f88b94a39d0> False\n",
            "<tensorflow.python.keras.layers.normalization_v2.BatchNormalization object at 0x7f88b958ca90> False\n",
            "<tensorflow.python.keras.layers.core.Activation object at 0x7f88b94c9310> False\n",
            "<tensorflow.python.keras.layers.merge.Concatenate object at 0x7f88b9479c90> False\n",
            "<tensorflow.python.keras.layers.merge.Concatenate object at 0x7f88b94970d0> False\n",
            "<tensorflow.python.keras.layers.core.Activation object at 0x7f88b950f910> False\n",
            "<tensorflow.python.keras.layers.merge.Concatenate object at 0x7f88b94b9050> False\n"
          ],
          "name": "stdout"
        }
      ]
    },
    {
      "cell_type": "code",
      "metadata": {
        "id": "CQsdukGnFWAR"
      },
      "source": [
        "from keras.models import Sequential, Model\n",
        "#from tensorflow.keras.models import Model\n",
        "from keras.layers import Conv2D, MaxPooling2D, Activation, Embedding, Dense, Dropout, Flatten, Input,GlobalAveragePooling2D\n",
        "from keras import activations\n",
        "#from tensorflow.python.keras.layers.core import Dense, Dropout, Flatten\n",
        "#from tensorflow.python.keras.layers import Input\n",
        "from keras.optimizers import Adam, SGD\n",
        "from keras.layers import LSTM\n",
        "#from keras.layers import Dropout\n",
        "#from keras.applications.vgg16 import VGG16\n",
        "#from tensorflow.keras.applications import vgg16\n",
        "from skimage.color import gray2rgb\n",
        "#from tensorflow.keras.applications.inception_v3 import InceptionV3 \n",
        "#from tensorflow.keras.applications import DenseNet201"
      ],
      "execution_count": null,
      "outputs": []
    },
    {
      "cell_type": "code",
      "metadata": {
        "colab": {
          "base_uri": "https://localhost:8080/"
        },
        "id": "hDUAiWIeE1Ui",
        "outputId": "3226c893-9b78-4e21-d7c5-b802d85c4f64"
      },
      "source": [
        "# Create the model\n",
        "model = Sequential()\n",
        "\n",
        "# Add the vgg convolutional base model\n",
        "model.add(vgg_conv)\n",
        "\n",
        "# Add new layers\n",
        "model.add(Flatten())\n",
        "model.add(Dense(1024, activation='relu'))\n",
        "model.add(Dropout(0.5))\n",
        "model.add(Dense(10, activation='softmax'))\n",
        "\n",
        "# Show a summary of the model. Check the number of trainable parameters\n",
        "model.summary()"
      ],
      "execution_count": null,
      "outputs": [
        {
          "output_type": "stream",
          "text": [
            "Model: \"sequential\"\n",
            "_________________________________________________________________\n",
            "Layer (type)                 Output Shape              Param #   \n",
            "=================================================================\n",
            "inception_v3 (Functional)    (None, 5, 5, 2048)        21802784  \n",
            "_________________________________________________________________\n",
            "flatten (Flatten)            (None, 51200)             0         \n",
            "_________________________________________________________________\n",
            "dense (Dense)                (None, 1024)              52429824  \n",
            "_________________________________________________________________\n",
            "dropout (Dropout)            (None, 1024)              0         \n",
            "_________________________________________________________________\n",
            "dense_1 (Dense)              (None, 10)                10250     \n",
            "=================================================================\n",
            "Total params: 74,242,858\n",
            "Trainable params: 52,440,074\n",
            "Non-trainable params: 21,802,784\n",
            "_________________________________________________________________\n"
          ],
          "name": "stdout"
        }
      ]
    },
    {
      "cell_type": "code",
      "metadata": {
        "colab": {
          "base_uri": "https://localhost:8080/"
        },
        "id": "rrAx1W0gGHTb",
        "outputId": "141cca5b-54f2-4d35-ce78-045e62d0e127"
      },
      "source": [
        "train_it.samples"
      ],
      "execution_count": null,
      "outputs": [
        {
          "output_type": "execute_result",
          "data": {
            "text/plain": [
              "786"
            ]
          },
          "metadata": {
            "tags": []
          },
          "execution_count": 7
        }
      ]
    },
    {
      "cell_type": "code",
      "metadata": {
        "id": "Jnxc5HckGwqL"
      },
      "source": [
        "import keras\n",
        "initial_learning_rate = 0.001\n",
        "lr_schedule = keras.optimizers.schedules.ExponentialDecay(\n",
        "    initial_learning_rate,\n",
        "    decay_steps=2000,\n",
        "    decay_rate=0.16,\n",
        "    staircase=True)\n",
        "#sgd = keras.optimizers.SGD(lr=0.00001, decay=1e-6, momentum=0.9, nesterov=True)\n",
        "#model.compile(loss='categorical_crossentropy',\n",
        "#              optimizer=keras.optimizers.SGD(learning_rate=lr_schedule),\n",
        "#              metrics=['acc'])\n",
        "model.compile(loss='categorical_crossentropy',\n",
        "              optimizer=keras.optimizers.SGD(lr=1e-3),\n",
        "              metrics=['acc'])"
      ],
      "execution_count": null,
      "outputs": []
    },
    {
      "cell_type": "code",
      "metadata": {
        "colab": {
          "base_uri": "https://localhost:8080/",
          "height": 1000
        },
        "id": "EV8WD7w5FZuD",
        "outputId": "a4533276-4e9e-43a6-f286-ff6dcbccb937"
      },
      "source": [
        "nb_epochs = 70\n",
        "batch_size = 191\n",
        "model.fit_generator(\n",
        "    train_it,\n",
        "    steps_per_epoch = train_it.samples // batch_size,\n",
        "    validation_data = val_it, \n",
        "    validation_steps = val_it.samples // batch_size,\n",
        "    epochs = nb_epochs)"
      ],
      "execution_count": null,
      "outputs": [
        {
          "output_type": "stream",
          "text": [
            "/usr/local/lib/python3.7/dist-packages/tensorflow/python/keras/engine/training.py:1844: UserWarning: `Model.fit_generator` is deprecated and will be removed in a future version. Please use `Model.fit`, which supports generators.\n",
            "  warnings.warn('`Model.fit_generator` is deprecated and '\n"
          ],
          "name": "stderr"
        },
        {
          "output_type": "stream",
          "text": [
            "Epoch 1/70\n"
          ],
          "name": "stdout"
        },
        {
          "output_type": "error",
          "ename": "ValueError",
          "evalue": "ignored",
          "traceback": [
            "\u001b[0;31m---------------------------------------------------------------------------\u001b[0m",
            "\u001b[0;31mValueError\u001b[0m                                Traceback (most recent call last)",
            "\u001b[0;32m<ipython-input-24-ed77f2179710>\u001b[0m in \u001b[0;36m<module>\u001b[0;34m()\u001b[0m\n\u001b[1;32m      6\u001b[0m     \u001b[0mvalidation_data\u001b[0m \u001b[0;34m=\u001b[0m \u001b[0mval_it\u001b[0m\u001b[0;34m,\u001b[0m\u001b[0;34m\u001b[0m\u001b[0;34m\u001b[0m\u001b[0m\n\u001b[1;32m      7\u001b[0m     \u001b[0mvalidation_steps\u001b[0m \u001b[0;34m=\u001b[0m \u001b[0mval_it\u001b[0m\u001b[0;34m.\u001b[0m\u001b[0msamples\u001b[0m \u001b[0;34m//\u001b[0m \u001b[0mbatch_size\u001b[0m\u001b[0;34m,\u001b[0m\u001b[0;34m\u001b[0m\u001b[0;34m\u001b[0m\u001b[0m\n\u001b[0;32m----> 8\u001b[0;31m     epochs = nb_epochs)\n\u001b[0m",
            "\u001b[0;32m/usr/local/lib/python3.7/dist-packages/tensorflow/python/keras/engine/training.py\u001b[0m in \u001b[0;36mfit_generator\u001b[0;34m(self, generator, steps_per_epoch, epochs, verbose, callbacks, validation_data, validation_steps, validation_freq, class_weight, max_queue_size, workers, use_multiprocessing, shuffle, initial_epoch)\u001b[0m\n\u001b[1;32m   1859\u001b[0m         \u001b[0muse_multiprocessing\u001b[0m\u001b[0;34m=\u001b[0m\u001b[0muse_multiprocessing\u001b[0m\u001b[0;34m,\u001b[0m\u001b[0;34m\u001b[0m\u001b[0;34m\u001b[0m\u001b[0m\n\u001b[1;32m   1860\u001b[0m         \u001b[0mshuffle\u001b[0m\u001b[0;34m=\u001b[0m\u001b[0mshuffle\u001b[0m\u001b[0;34m,\u001b[0m\u001b[0;34m\u001b[0m\u001b[0;34m\u001b[0m\u001b[0m\n\u001b[0;32m-> 1861\u001b[0;31m         initial_epoch=initial_epoch)\n\u001b[0m\u001b[1;32m   1862\u001b[0m \u001b[0;34m\u001b[0m\u001b[0m\n\u001b[1;32m   1863\u001b[0m   def evaluate_generator(self,\n",
            "\u001b[0;32m/usr/local/lib/python3.7/dist-packages/tensorflow/python/keras/engine/training.py\u001b[0m in \u001b[0;36mfit\u001b[0;34m(self, x, y, batch_size, epochs, verbose, callbacks, validation_split, validation_data, shuffle, class_weight, sample_weight, initial_epoch, steps_per_epoch, validation_steps, validation_batch_size, validation_freq, max_queue_size, workers, use_multiprocessing)\u001b[0m\n\u001b[1;32m   1098\u001b[0m                 _r=1):\n\u001b[1;32m   1099\u001b[0m               \u001b[0mcallbacks\u001b[0m\u001b[0;34m.\u001b[0m\u001b[0mon_train_batch_begin\u001b[0m\u001b[0;34m(\u001b[0m\u001b[0mstep\u001b[0m\u001b[0;34m)\u001b[0m\u001b[0;34m\u001b[0m\u001b[0;34m\u001b[0m\u001b[0m\n\u001b[0;32m-> 1100\u001b[0;31m               \u001b[0mtmp_logs\u001b[0m \u001b[0;34m=\u001b[0m \u001b[0mself\u001b[0m\u001b[0;34m.\u001b[0m\u001b[0mtrain_function\u001b[0m\u001b[0;34m(\u001b[0m\u001b[0miterator\u001b[0m\u001b[0;34m)\u001b[0m\u001b[0;34m\u001b[0m\u001b[0;34m\u001b[0m\u001b[0m\n\u001b[0m\u001b[1;32m   1101\u001b[0m               \u001b[0;32mif\u001b[0m \u001b[0mdata_handler\u001b[0m\u001b[0;34m.\u001b[0m\u001b[0mshould_sync\u001b[0m\u001b[0;34m:\u001b[0m\u001b[0;34m\u001b[0m\u001b[0;34m\u001b[0m\u001b[0m\n\u001b[1;32m   1102\u001b[0m                 \u001b[0mcontext\u001b[0m\u001b[0;34m.\u001b[0m\u001b[0masync_wait\u001b[0m\u001b[0;34m(\u001b[0m\u001b[0;34m)\u001b[0m\u001b[0;34m\u001b[0m\u001b[0;34m\u001b[0m\u001b[0m\n",
            "\u001b[0;32m/usr/local/lib/python3.7/dist-packages/tensorflow/python/eager/def_function.py\u001b[0m in \u001b[0;36m__call__\u001b[0;34m(self, *args, **kwds)\u001b[0m\n\u001b[1;32m    826\u001b[0m     \u001b[0mtracing_count\u001b[0m \u001b[0;34m=\u001b[0m \u001b[0mself\u001b[0m\u001b[0;34m.\u001b[0m\u001b[0mexperimental_get_tracing_count\u001b[0m\u001b[0;34m(\u001b[0m\u001b[0;34m)\u001b[0m\u001b[0;34m\u001b[0m\u001b[0;34m\u001b[0m\u001b[0m\n\u001b[1;32m    827\u001b[0m     \u001b[0;32mwith\u001b[0m \u001b[0mtrace\u001b[0m\u001b[0;34m.\u001b[0m\u001b[0mTrace\u001b[0m\u001b[0;34m(\u001b[0m\u001b[0mself\u001b[0m\u001b[0;34m.\u001b[0m\u001b[0m_name\u001b[0m\u001b[0;34m)\u001b[0m \u001b[0;32mas\u001b[0m \u001b[0mtm\u001b[0m\u001b[0;34m:\u001b[0m\u001b[0;34m\u001b[0m\u001b[0;34m\u001b[0m\u001b[0m\n\u001b[0;32m--> 828\u001b[0;31m       \u001b[0mresult\u001b[0m \u001b[0;34m=\u001b[0m \u001b[0mself\u001b[0m\u001b[0;34m.\u001b[0m\u001b[0m_call\u001b[0m\u001b[0;34m(\u001b[0m\u001b[0;34m*\u001b[0m\u001b[0margs\u001b[0m\u001b[0;34m,\u001b[0m \u001b[0;34m**\u001b[0m\u001b[0mkwds\u001b[0m\u001b[0;34m)\u001b[0m\u001b[0;34m\u001b[0m\u001b[0;34m\u001b[0m\u001b[0m\n\u001b[0m\u001b[1;32m    829\u001b[0m       \u001b[0mcompiler\u001b[0m \u001b[0;34m=\u001b[0m \u001b[0;34m\"xla\"\u001b[0m \u001b[0;32mif\u001b[0m \u001b[0mself\u001b[0m\u001b[0;34m.\u001b[0m\u001b[0m_experimental_compile\u001b[0m \u001b[0;32melse\u001b[0m \u001b[0;34m\"nonXla\"\u001b[0m\u001b[0;34m\u001b[0m\u001b[0;34m\u001b[0m\u001b[0m\n\u001b[1;32m    830\u001b[0m       \u001b[0mnew_tracing_count\u001b[0m \u001b[0;34m=\u001b[0m \u001b[0mself\u001b[0m\u001b[0;34m.\u001b[0m\u001b[0mexperimental_get_tracing_count\u001b[0m\u001b[0;34m(\u001b[0m\u001b[0;34m)\u001b[0m\u001b[0;34m\u001b[0m\u001b[0;34m\u001b[0m\u001b[0m\n",
            "\u001b[0;32m/usr/local/lib/python3.7/dist-packages/tensorflow/python/eager/def_function.py\u001b[0m in \u001b[0;36m_call\u001b[0;34m(self, *args, **kwds)\u001b[0m\n\u001b[1;32m    869\u001b[0m       \u001b[0;31m# This is the first call of __call__, so we have to initialize.\u001b[0m\u001b[0;34m\u001b[0m\u001b[0;34m\u001b[0m\u001b[0;34m\u001b[0m\u001b[0m\n\u001b[1;32m    870\u001b[0m       \u001b[0minitializers\u001b[0m \u001b[0;34m=\u001b[0m \u001b[0;34m[\u001b[0m\u001b[0;34m]\u001b[0m\u001b[0;34m\u001b[0m\u001b[0;34m\u001b[0m\u001b[0m\n\u001b[0;32m--> 871\u001b[0;31m       \u001b[0mself\u001b[0m\u001b[0;34m.\u001b[0m\u001b[0m_initialize\u001b[0m\u001b[0;34m(\u001b[0m\u001b[0margs\u001b[0m\u001b[0;34m,\u001b[0m \u001b[0mkwds\u001b[0m\u001b[0;34m,\u001b[0m \u001b[0madd_initializers_to\u001b[0m\u001b[0;34m=\u001b[0m\u001b[0minitializers\u001b[0m\u001b[0;34m)\u001b[0m\u001b[0;34m\u001b[0m\u001b[0;34m\u001b[0m\u001b[0m\n\u001b[0m\u001b[1;32m    872\u001b[0m     \u001b[0;32mfinally\u001b[0m\u001b[0;34m:\u001b[0m\u001b[0;34m\u001b[0m\u001b[0;34m\u001b[0m\u001b[0m\n\u001b[1;32m    873\u001b[0m       \u001b[0;31m# At this point we know that the initialization is complete (or less\u001b[0m\u001b[0;34m\u001b[0m\u001b[0;34m\u001b[0m\u001b[0;34m\u001b[0m\u001b[0m\n",
            "\u001b[0;32m/usr/local/lib/python3.7/dist-packages/tensorflow/python/eager/def_function.py\u001b[0m in \u001b[0;36m_initialize\u001b[0;34m(self, args, kwds, add_initializers_to)\u001b[0m\n\u001b[1;32m    724\u001b[0m     self._concrete_stateful_fn = (\n\u001b[1;32m    725\u001b[0m         self._stateful_fn._get_concrete_function_internal_garbage_collected(  # pylint: disable=protected-access\n\u001b[0;32m--> 726\u001b[0;31m             *args, **kwds))\n\u001b[0m\u001b[1;32m    727\u001b[0m \u001b[0;34m\u001b[0m\u001b[0m\n\u001b[1;32m    728\u001b[0m     \u001b[0;32mdef\u001b[0m \u001b[0minvalid_creator_scope\u001b[0m\u001b[0;34m(\u001b[0m\u001b[0;34m*\u001b[0m\u001b[0munused_args\u001b[0m\u001b[0;34m,\u001b[0m \u001b[0;34m**\u001b[0m\u001b[0munused_kwds\u001b[0m\u001b[0;34m)\u001b[0m\u001b[0;34m:\u001b[0m\u001b[0;34m\u001b[0m\u001b[0;34m\u001b[0m\u001b[0m\n",
            "\u001b[0;32m/usr/local/lib/python3.7/dist-packages/tensorflow/python/eager/function.py\u001b[0m in \u001b[0;36m_get_concrete_function_internal_garbage_collected\u001b[0;34m(self, *args, **kwargs)\u001b[0m\n\u001b[1;32m   2967\u001b[0m       \u001b[0margs\u001b[0m\u001b[0;34m,\u001b[0m \u001b[0mkwargs\u001b[0m \u001b[0;34m=\u001b[0m \u001b[0;32mNone\u001b[0m\u001b[0;34m,\u001b[0m \u001b[0;32mNone\u001b[0m\u001b[0;34m\u001b[0m\u001b[0;34m\u001b[0m\u001b[0m\n\u001b[1;32m   2968\u001b[0m     \u001b[0;32mwith\u001b[0m \u001b[0mself\u001b[0m\u001b[0;34m.\u001b[0m\u001b[0m_lock\u001b[0m\u001b[0;34m:\u001b[0m\u001b[0;34m\u001b[0m\u001b[0;34m\u001b[0m\u001b[0m\n\u001b[0;32m-> 2969\u001b[0;31m       \u001b[0mgraph_function\u001b[0m\u001b[0;34m,\u001b[0m \u001b[0m_\u001b[0m \u001b[0;34m=\u001b[0m \u001b[0mself\u001b[0m\u001b[0;34m.\u001b[0m\u001b[0m_maybe_define_function\u001b[0m\u001b[0;34m(\u001b[0m\u001b[0margs\u001b[0m\u001b[0;34m,\u001b[0m \u001b[0mkwargs\u001b[0m\u001b[0;34m)\u001b[0m\u001b[0;34m\u001b[0m\u001b[0;34m\u001b[0m\u001b[0m\n\u001b[0m\u001b[1;32m   2970\u001b[0m     \u001b[0;32mreturn\u001b[0m \u001b[0mgraph_function\u001b[0m\u001b[0;34m\u001b[0m\u001b[0;34m\u001b[0m\u001b[0m\n\u001b[1;32m   2971\u001b[0m \u001b[0;34m\u001b[0m\u001b[0m\n",
            "\u001b[0;32m/usr/local/lib/python3.7/dist-packages/tensorflow/python/eager/function.py\u001b[0m in \u001b[0;36m_maybe_define_function\u001b[0;34m(self, args, kwargs)\u001b[0m\n\u001b[1;32m   3359\u001b[0m \u001b[0;34m\u001b[0m\u001b[0m\n\u001b[1;32m   3360\u001b[0m           \u001b[0mself\u001b[0m\u001b[0;34m.\u001b[0m\u001b[0m_function_cache\u001b[0m\u001b[0;34m.\u001b[0m\u001b[0mmissed\u001b[0m\u001b[0;34m.\u001b[0m\u001b[0madd\u001b[0m\u001b[0;34m(\u001b[0m\u001b[0mcall_context_key\u001b[0m\u001b[0;34m)\u001b[0m\u001b[0;34m\u001b[0m\u001b[0;34m\u001b[0m\u001b[0m\n\u001b[0;32m-> 3361\u001b[0;31m           \u001b[0mgraph_function\u001b[0m \u001b[0;34m=\u001b[0m \u001b[0mself\u001b[0m\u001b[0;34m.\u001b[0m\u001b[0m_create_graph_function\u001b[0m\u001b[0;34m(\u001b[0m\u001b[0margs\u001b[0m\u001b[0;34m,\u001b[0m \u001b[0mkwargs\u001b[0m\u001b[0;34m)\u001b[0m\u001b[0;34m\u001b[0m\u001b[0;34m\u001b[0m\u001b[0m\n\u001b[0m\u001b[1;32m   3362\u001b[0m           \u001b[0mself\u001b[0m\u001b[0;34m.\u001b[0m\u001b[0m_function_cache\u001b[0m\u001b[0;34m.\u001b[0m\u001b[0mprimary\u001b[0m\u001b[0;34m[\u001b[0m\u001b[0mcache_key\u001b[0m\u001b[0;34m]\u001b[0m \u001b[0;34m=\u001b[0m \u001b[0mgraph_function\u001b[0m\u001b[0;34m\u001b[0m\u001b[0;34m\u001b[0m\u001b[0m\n\u001b[1;32m   3363\u001b[0m \u001b[0;34m\u001b[0m\u001b[0m\n",
            "\u001b[0;32m/usr/local/lib/python3.7/dist-packages/tensorflow/python/eager/function.py\u001b[0m in \u001b[0;36m_create_graph_function\u001b[0;34m(self, args, kwargs, override_flat_arg_shapes)\u001b[0m\n\u001b[1;32m   3204\u001b[0m             \u001b[0marg_names\u001b[0m\u001b[0;34m=\u001b[0m\u001b[0marg_names\u001b[0m\u001b[0;34m,\u001b[0m\u001b[0;34m\u001b[0m\u001b[0;34m\u001b[0m\u001b[0m\n\u001b[1;32m   3205\u001b[0m             \u001b[0moverride_flat_arg_shapes\u001b[0m\u001b[0;34m=\u001b[0m\u001b[0moverride_flat_arg_shapes\u001b[0m\u001b[0;34m,\u001b[0m\u001b[0;34m\u001b[0m\u001b[0;34m\u001b[0m\u001b[0m\n\u001b[0;32m-> 3206\u001b[0;31m             capture_by_value=self._capture_by_value),\n\u001b[0m\u001b[1;32m   3207\u001b[0m         \u001b[0mself\u001b[0m\u001b[0;34m.\u001b[0m\u001b[0m_function_attributes\u001b[0m\u001b[0;34m,\u001b[0m\u001b[0;34m\u001b[0m\u001b[0;34m\u001b[0m\u001b[0m\n\u001b[1;32m   3208\u001b[0m         \u001b[0mfunction_spec\u001b[0m\u001b[0;34m=\u001b[0m\u001b[0mself\u001b[0m\u001b[0;34m.\u001b[0m\u001b[0mfunction_spec\u001b[0m\u001b[0;34m,\u001b[0m\u001b[0;34m\u001b[0m\u001b[0;34m\u001b[0m\u001b[0m\n",
            "\u001b[0;32m/usr/local/lib/python3.7/dist-packages/tensorflow/python/framework/func_graph.py\u001b[0m in \u001b[0;36mfunc_graph_from_py_func\u001b[0;34m(name, python_func, args, kwargs, signature, func_graph, autograph, autograph_options, add_control_dependencies, arg_names, op_return_value, collections, capture_by_value, override_flat_arg_shapes)\u001b[0m\n\u001b[1;32m    988\u001b[0m         \u001b[0m_\u001b[0m\u001b[0;34m,\u001b[0m \u001b[0moriginal_func\u001b[0m \u001b[0;34m=\u001b[0m \u001b[0mtf_decorator\u001b[0m\u001b[0;34m.\u001b[0m\u001b[0munwrap\u001b[0m\u001b[0;34m(\u001b[0m\u001b[0mpython_func\u001b[0m\u001b[0;34m)\u001b[0m\u001b[0;34m\u001b[0m\u001b[0;34m\u001b[0m\u001b[0m\n\u001b[1;32m    989\u001b[0m \u001b[0;34m\u001b[0m\u001b[0m\n\u001b[0;32m--> 990\u001b[0;31m       \u001b[0mfunc_outputs\u001b[0m \u001b[0;34m=\u001b[0m \u001b[0mpython_func\u001b[0m\u001b[0;34m(\u001b[0m\u001b[0;34m*\u001b[0m\u001b[0mfunc_args\u001b[0m\u001b[0;34m,\u001b[0m \u001b[0;34m**\u001b[0m\u001b[0mfunc_kwargs\u001b[0m\u001b[0;34m)\u001b[0m\u001b[0;34m\u001b[0m\u001b[0;34m\u001b[0m\u001b[0m\n\u001b[0m\u001b[1;32m    991\u001b[0m \u001b[0;34m\u001b[0m\u001b[0m\n\u001b[1;32m    992\u001b[0m       \u001b[0;31m# invariant: `func_outputs` contains only Tensors, CompositeTensors,\u001b[0m\u001b[0;34m\u001b[0m\u001b[0;34m\u001b[0m\u001b[0;34m\u001b[0m\u001b[0m\n",
            "\u001b[0;32m/usr/local/lib/python3.7/dist-packages/tensorflow/python/eager/def_function.py\u001b[0m in \u001b[0;36mwrapped_fn\u001b[0;34m(*args, **kwds)\u001b[0m\n\u001b[1;32m    632\u001b[0m             \u001b[0mxla_context\u001b[0m\u001b[0;34m.\u001b[0m\u001b[0mExit\u001b[0m\u001b[0;34m(\u001b[0m\u001b[0;34m)\u001b[0m\u001b[0;34m\u001b[0m\u001b[0;34m\u001b[0m\u001b[0m\n\u001b[1;32m    633\u001b[0m         \u001b[0;32melse\u001b[0m\u001b[0;34m:\u001b[0m\u001b[0;34m\u001b[0m\u001b[0;34m\u001b[0m\u001b[0m\n\u001b[0;32m--> 634\u001b[0;31m           \u001b[0mout\u001b[0m \u001b[0;34m=\u001b[0m \u001b[0mweak_wrapped_fn\u001b[0m\u001b[0;34m(\u001b[0m\u001b[0;34m)\u001b[0m\u001b[0;34m.\u001b[0m\u001b[0m__wrapped__\u001b[0m\u001b[0;34m(\u001b[0m\u001b[0;34m*\u001b[0m\u001b[0margs\u001b[0m\u001b[0;34m,\u001b[0m \u001b[0;34m**\u001b[0m\u001b[0mkwds\u001b[0m\u001b[0;34m)\u001b[0m\u001b[0;34m\u001b[0m\u001b[0;34m\u001b[0m\u001b[0m\n\u001b[0m\u001b[1;32m    635\u001b[0m         \u001b[0;32mreturn\u001b[0m \u001b[0mout\u001b[0m\u001b[0;34m\u001b[0m\u001b[0;34m\u001b[0m\u001b[0m\n\u001b[1;32m    636\u001b[0m \u001b[0;34m\u001b[0m\u001b[0m\n",
            "\u001b[0;32m/usr/local/lib/python3.7/dist-packages/tensorflow/python/framework/func_graph.py\u001b[0m in \u001b[0;36mwrapper\u001b[0;34m(*args, **kwargs)\u001b[0m\n\u001b[1;32m    975\u001b[0m           \u001b[0;32mexcept\u001b[0m \u001b[0mException\u001b[0m \u001b[0;32mas\u001b[0m \u001b[0me\u001b[0m\u001b[0;34m:\u001b[0m  \u001b[0;31m# pylint:disable=broad-except\u001b[0m\u001b[0;34m\u001b[0m\u001b[0;34m\u001b[0m\u001b[0m\n\u001b[1;32m    976\u001b[0m             \u001b[0;32mif\u001b[0m \u001b[0mhasattr\u001b[0m\u001b[0;34m(\u001b[0m\u001b[0me\u001b[0m\u001b[0;34m,\u001b[0m \u001b[0;34m\"ag_error_metadata\"\u001b[0m\u001b[0;34m)\u001b[0m\u001b[0;34m:\u001b[0m\u001b[0;34m\u001b[0m\u001b[0;34m\u001b[0m\u001b[0m\n\u001b[0;32m--> 977\u001b[0;31m               \u001b[0;32mraise\u001b[0m \u001b[0me\u001b[0m\u001b[0;34m.\u001b[0m\u001b[0mag_error_metadata\u001b[0m\u001b[0;34m.\u001b[0m\u001b[0mto_exception\u001b[0m\u001b[0;34m(\u001b[0m\u001b[0me\u001b[0m\u001b[0;34m)\u001b[0m\u001b[0;34m\u001b[0m\u001b[0;34m\u001b[0m\u001b[0m\n\u001b[0m\u001b[1;32m    978\u001b[0m             \u001b[0;32melse\u001b[0m\u001b[0;34m:\u001b[0m\u001b[0;34m\u001b[0m\u001b[0;34m\u001b[0m\u001b[0m\n\u001b[1;32m    979\u001b[0m               \u001b[0;32mraise\u001b[0m\u001b[0;34m\u001b[0m\u001b[0;34m\u001b[0m\u001b[0m\n",
            "\u001b[0;31mValueError\u001b[0m: in user code:\n\n    /usr/local/lib/python3.7/dist-packages/tensorflow/python/keras/engine/training.py:805 train_function  *\n        return step_function(self, iterator)\n    /usr/local/lib/python3.7/dist-packages/tensorflow/python/keras/engine/training.py:795 step_function  **\n        outputs = model.distribute_strategy.run(run_step, args=(data,))\n    /usr/local/lib/python3.7/dist-packages/tensorflow/python/distribute/distribute_lib.py:1259 run\n        return self._extended.call_for_each_replica(fn, args=args, kwargs=kwargs)\n    /usr/local/lib/python3.7/dist-packages/tensorflow/python/distribute/distribute_lib.py:2730 call_for_each_replica\n        return self._call_for_each_replica(fn, args, kwargs)\n    /usr/local/lib/python3.7/dist-packages/tensorflow/python/distribute/distribute_lib.py:3417 _call_for_each_replica\n        return fn(*args, **kwargs)\n    /usr/local/lib/python3.7/dist-packages/tensorflow/python/keras/engine/training.py:788 run_step  **\n        outputs = model.train_step(data)\n    /usr/local/lib/python3.7/dist-packages/tensorflow/python/keras/engine/training.py:758 train_step\n        self.compiled_metrics.update_state(y, y_pred, sample_weight)\n    /usr/local/lib/python3.7/dist-packages/tensorflow/python/keras/engine/compile_utils.py:387 update_state\n        self.build(y_pred, y_true)\n    /usr/local/lib/python3.7/dist-packages/tensorflow/python/keras/engine/compile_utils.py:318 build\n        self._metrics, y_true, y_pred)\n    /usr/local/lib/python3.7/dist-packages/tensorflow/python/util/nest.py:1163 map_structure_up_to\n        **kwargs)\n    /usr/local/lib/python3.7/dist-packages/tensorflow/python/util/nest.py:1258 map_structure_with_tuple_paths_up_to\n        func(*args, **kwargs) for args in zip(flat_path_gen, *flat_value_gen)\n    /usr/local/lib/python3.7/dist-packages/tensorflow/python/util/nest.py:1258 <listcomp>\n        func(*args, **kwargs) for args in zip(flat_path_gen, *flat_value_gen)\n    /usr/local/lib/python3.7/dist-packages/tensorflow/python/util/nest.py:1161 <lambda>\n        lambda _, *values: func(*values),  # Discards the path arg.\n    /usr/local/lib/python3.7/dist-packages/tensorflow/python/keras/engine/compile_utils.py:418 _get_metric_objects\n        return [self._get_metric_object(m, y_t, y_p) for m in metrics]\n    /usr/local/lib/python3.7/dist-packages/tensorflow/python/keras/engine/compile_utils.py:418 <listcomp>\n        return [self._get_metric_object(m, y_t, y_p) for m in metrics]\n    /usr/local/lib/python3.7/dist-packages/tensorflow/python/keras/engine/compile_utils.py:437 _get_metric_object\n        metric_obj = metrics_mod.get(metric)\n    /usr/local/lib/python3.7/dist-packages/tensorflow/python/keras/metrics.py:3490 get\n        return deserialize(str(identifier))\n    /usr/local/lib/python3.7/dist-packages/tensorflow/python/keras/metrics.py:3450 deserialize\n        printable_module_name='metric function')\n    /usr/local/lib/python3.7/dist-packages/tensorflow/python/keras/utils/generic_utils.py:378 deserialize_keras_object\n        'Unknown ' + printable_module_name + ': ' + object_name)\n\n    ValueError: Unknown metric function: val_acc\n"
          ]
        }
      ]
    },
    {
      "cell_type": "code",
      "metadata": {
        "colab": {
          "base_uri": "https://localhost:8080/"
        },
        "id": "nfLx7xpSGkMO",
        "outputId": "80245c1e-ce99-4ca1-da0f-2f120425d99f"
      },
      "source": [
        "model.save(\"/content/drive/MyDrive/Research and Project Stuffs/BdSL/Datasets/Dataset_5_inception\")"
      ],
      "execution_count": null,
      "outputs": [
        {
          "output_type": "stream",
          "text": [
            "INFO:tensorflow:Assets written to: /content/drive/MyDrive/Research and Project Stuffs/BdSL/Datasets/Dataset_5_inception/assets\n"
          ],
          "name": "stdout"
        }
      ]
    },
    {
      "cell_type": "code",
      "metadata": {
        "colab": {
          "base_uri": "https://localhost:8080/"
        },
        "id": "YjS87ZEc0lGu",
        "outputId": "cef705ba-9de8-47b3-f654-e6fe22e6ae78"
      },
      "source": [
        "val_it.classes"
      ],
      "execution_count": null,
      "outputs": [
        {
          "output_type": "execute_result",
          "data": {
            "text/plain": [
              "array([0, 0, 0, 0, 0, 0, 0, 0, 0, 0, 0, 0, 0, 0, 0, 0, 0, 0, 0, 0, 1, 1,\n",
              "       1, 1, 1, 1, 1, 1, 1, 1, 1, 1, 1, 1, 1, 1, 1, 1, 1, 1, 1, 2, 2, 2,\n",
              "       2, 2, 2, 2, 2, 2, 2, 2, 2, 2, 2, 2, 2, 2, 2, 2, 2, 2, 2, 3, 3, 3,\n",
              "       3, 3, 3, 3, 3, 3, 3, 3, 3, 3, 3, 3, 3, 3, 3, 3, 3, 3, 4, 4, 4, 4,\n",
              "       4, 4, 4, 4, 4, 4, 4, 4, 4, 4, 4, 4, 4, 4, 4, 4, 4, 4, 5, 5, 5, 5,\n",
              "       5, 5, 5, 5, 5, 5, 5, 6, 6, 6, 6, 6, 6, 6, 6, 6, 6, 7, 7, 7, 7, 7,\n",
              "       7, 7, 7, 7, 7, 7, 7, 7, 7, 7, 7, 7, 7, 7, 7, 7, 8, 8, 8, 8, 8, 8,\n",
              "       8, 8, 8, 8, 8, 8, 8, 8, 8, 8, 8, 8, 8, 8, 8, 8, 9, 9, 9, 9, 9, 9,\n",
              "       9, 9, 9, 9, 9, 9, 9, 9, 9, 9, 9, 9, 9, 9, 9], dtype=int32)"
            ]
          },
          "metadata": {
            "tags": []
          },
          "execution_count": 11
        }
      ]
    },
    {
      "cell_type": "code",
      "metadata": {
        "colab": {
          "base_uri": "https://localhost:8080/"
        },
        "id": "3SUApdAiHO7V",
        "outputId": "79bdd2c6-d4d7-4f76-b8b3-335d41bd51ae"
      },
      "source": [
        "batch_size = 191\n",
        "# prepare an iterators for each dataset\n",
        "#train_it = datagen.flow_from_directory('/content/drive/MyDrive/Research and Project Stuffs/BdSL/Datasets/dataset3/dataset',target_size=(img_height, img_width),batch_size = batch_size, subset='training')\n",
        "val_it = datagen.flow_from_directory('/content/drive/MyDrive/Research and Project Stuffs/BdSL/Datasets/dataset5',target_size=(img_height, img_width), batch_size = batch_size, subset='validation')"
      ],
      "execution_count": null,
      "outputs": [
        {
          "output_type": "stream",
          "text": [
            "Found 191 images belonging to 10 classes.\n"
          ],
          "name": "stdout"
        }
      ]
    },
    {
      "cell_type": "code",
      "metadata": {
        "colab": {
          "base_uri": "https://localhost:8080/"
        },
        "id": "w-aSNUm7G2o-",
        "outputId": "1750cd8b-8f85-4669-a6c2-1e86df5ddfcd"
      },
      "source": [
        "test_score = model.evaluate_generator(val_it, batch_size)\n",
        "\n",
        "\n",
        "\n",
        "print(\"[INFO] accuracy: {:.2f}%\".format(test_score[1] * 100)) \n",
        "\n",
        "print(\"[INFO] Loss: \",test_score[0])"
      ],
      "execution_count": null,
      "outputs": [
        {
          "output_type": "stream",
          "text": [
            "/usr/local/lib/python3.7/dist-packages/tensorflow/python/keras/engine/training.py:1877: UserWarning: `Model.evaluate_generator` is deprecated and will be removed in a future version. Please use `Model.evaluate`, which supports generators.\n",
            "  warnings.warn('`Model.evaluate_generator` is deprecated and '\n"
          ],
          "name": "stderr"
        },
        {
          "output_type": "stream",
          "text": [
            "WARNING:tensorflow:Your input ran out of data; interrupting training. Make sure that your dataset or generator can generate at least `steps_per_epoch * epochs` batches (in this case, 191 batches). You may need to use the repeat() function when building your dataset.\n",
            "[INFO] accuracy: 41.36%\n",
            "[INFO] Loss:  1.8434163331985474\n"
          ],
          "name": "stdout"
        }
      ]
    },
    {
      "cell_type": "code",
      "metadata": {
        "id": "XqirY6xOZ4rh"
      },
      "source": [
        "import sys\n",
        "\n",
        "import numpy as np\n",
        "\n",
        "from keras import backend as K\n",
        "\n",
        "from keras.models import Sequential\n",
        "\n",
        "from keras.layers.core import Dense, Dropout, Activation, Flatten\n",
        "\n",
        "from keras.layers.convolutional import Convolution2D, MaxPooling2D\n",
        "\n",
        "from keras.preprocessing.image import ImageDataGenerator\n",
        "\n",
        "from sklearn.metrics import classification_report, confusion_matrix\n",
        "\n",
        "from keras.layers import Conv2D, Flatten, Dense, MaxPool2D,MaxPooling2D, Activation, Dropout, BatchNormalization, Input\n",
        "\n",
        "import matplotlib.pyplot as plt\n",
        "\n",
        "from keras.optimizers import Adam\n",
        "\n",
        "import itertools "
      ],
      "execution_count": null,
      "outputs": []
    },
    {
      "cell_type": "code",
      "metadata": {
        "id": "88HvCkHpZ-It"
      },
      "source": [
        "# Loss Curves\n",
        "\n",
        "plt.figure(figsize=[8,6])\n",
        "\n",
        "plt.plot(model.history['loss'],'r',linewidth=3.0)\n",
        "\n",
        "plt.plot(model.history['val_loss'],'b',linewidth=3.0)\n",
        "\n",
        "plt.legend(['Training loss', 'Validation Loss'],fontsize=18)\n",
        "\n",
        "plt.xlabel('Epochs ',fontsize=16)\n",
        "\n",
        "plt.ylabel('Loss',fontsize=16)\n",
        "\n",
        "plt.title('Loss Curves',fontsize=16)"
      ],
      "execution_count": null,
      "outputs": []
    },
    {
      "cell_type": "code",
      "metadata": {
        "id": "z8b7xk5oaDpe"
      },
      "source": [
        "#Plot the confusion matrix. Set Normalize = True/False\n",
        "\n",
        "\n",
        "\n",
        "def plot_confusion_matrix(cm, classes, normalize=True, title='Confusion matrix', cmap=plt.cm.Blues):\n",
        "\n",
        "    \"\"\"\n",
        "\n",
        "    This function prints and plots the confusion matrix.\n",
        "\n",
        "    Normalization can be applied by setting `normalize=True`.\n",
        "\n",
        "    \"\"\"\n",
        "\n",
        "    plt.figure(figsize=(10,10))\n",
        "\n",
        "\n",
        "\n",
        "    plt.imshow(cm, interpolation='nearest', cmap=cmap)\n",
        "\n",
        "    plt.title(title)\n",
        "\n",
        "    plt.colorbar()\n",
        "\n",
        "\n",
        "\n",
        "    tick_marks = np.arange(len(classes))\n",
        "\n",
        "    plt.xticks(tick_marks, classes, rotation=45)\n",
        "\n",
        "    plt.yticks(tick_marks, classes)\n",
        "\n",
        "\n",
        "\n",
        "    if normalize:\n",
        "\n",
        "        cm = cm.astype('float') / cm.sum(axis=1)[:, np.newaxis]\n",
        "\n",
        "        cm = np.around(cm, decimals=2)\n",
        "\n",
        "        cm[np.isnan(cm)] = 0.0\n",
        "\n",
        "        print(\"Normalized confusion matrix\")\n",
        "\n",
        "    else:\n",
        "\n",
        "        print('Confusion matrix, without normalization')\n",
        "\n",
        "    thresh = cm.max() / 2.\n",
        "\n",
        "    for i, j in itertools.product(range(cm.shape[0]), range(cm.shape[1])):\n",
        "\n",
        "        plt.text(j, i, cm[i, j],\n",
        "\n",
        "                 horizontalalignment=\"center\",\n",
        "\n",
        "                 color=\"white\" if cm[i, j] > thresh else \"black\")\n",
        "\n",
        "    plt.tight_layout()\n",
        "\n",
        "    plt.ylabel('True label')\n",
        "\n",
        "    plt.xlabel('Predicted label')"
      ],
      "execution_count": null,
      "outputs": []
    },
    {
      "cell_type": "code",
      "metadata": {
        "colab": {
          "base_uri": "https://localhost:8080/"
        },
        "id": "50pT6StIaZU2",
        "outputId": "bfe7e7aa-2188-4d7b-efbc-b5d460cc7037"
      },
      "source": [
        "y_img_batch, y_class_batch = val_it[0]\n",
        "y_pred = np.argmax(model.predict(y_img_batch),-1)\n",
        "y_true = np.argmax(y_class_batch,-1)\n",
        "print(sum(y_pred==y_true)/batch_size)"
      ],
      "execution_count": null,
      "outputs": [
        {
          "output_type": "stream",
          "text": [
            "0.41361256544502617\n"
          ],
          "name": "stdout"
        }
      ]
    },
    {
      "cell_type": "code",
      "metadata": {
        "colab": {
          "base_uri": "https://localhost:8080/"
        },
        "id": "-W5WEWeIatUe",
        "outputId": "4ba4e33a-616e-4b13-e02b-04a3c4a29e8e"
      },
      "source": [
        "#Print the Target names\n",
        "\n",
        "\n",
        "\n",
        "target_names = []\n",
        "\n",
        "for key in val_it.class_indices:\n",
        "\n",
        "    target_names.append(key)\n",
        "\n",
        "\n",
        "\n",
        "print(target_names)"
      ],
      "execution_count": null,
      "outputs": [
        {
          "output_type": "stream",
          "text": [
            "['a', 'dh', 'e', 'ga', 'i', 'k', 'kh', 'o', 'oo', 'u']\n"
          ],
          "name": "stdout"
        }
      ]
    },
    {
      "cell_type": "code",
      "metadata": {
        "colab": {
          "base_uri": "https://localhost:8080/",
          "height": 745
        },
        "id": "N0mpSUunacU3",
        "outputId": "b7b39fa4-9130-4254-c4be-f9601049f790"
      },
      "source": [
        "cm = confusion_matrix(y_true,y_pred)\n",
        "plot_confusion_matrix(cm, target_names, title='Confusion Matrix')"
      ],
      "execution_count": null,
      "outputs": [
        {
          "output_type": "stream",
          "text": [
            "Normalized confusion matrix\n"
          ],
          "name": "stdout"
        },
        {
          "output_type": "display_data",
          "data": {
            "image/png": "[encoded data removed]",
            "text/plain": [
              "<Figure size 720x720 with 2 Axes>"
            ]
          },
          "metadata": {
            "tags": [],
            "needs_background": "light"
          }
        }
      ]
    },
    {
      "cell_type": "code",
      "metadata": {
        "colab": {
          "base_uri": "https://localhost:8080/"
        },
        "id": "R9w3e0DAajrO",
        "outputId": "29bf0092-0f9e-4fcc-a8b4-7532dbad32a7"
      },
      "source": [
        "#Print Classification Report\n",
        "\n",
        "print('Classification Report')\n",
        "\n",
        "print(classification_report(y_true, y_pred, target_names=target_names))"
      ],
      "execution_count": null,
      "outputs": [
        {
          "output_type": "stream",
          "text": [
            "Classification Report\n",
            "              precision    recall  f1-score   support\n",
            "\n",
            "           a       0.00      0.00      0.00        20\n",
            "          dh       0.82      0.43      0.56        21\n",
            "           e       0.33      0.27      0.30        22\n",
            "          ga       1.00      0.86      0.92        21\n",
            "           i       0.43      0.41      0.42        22\n",
            "           k       0.00      0.00      0.00        11\n",
            "          kh       0.69      0.90      0.78        10\n",
            "           o       0.18      0.29      0.22        21\n",
            "          oo       0.41      0.68      0.51        22\n",
            "           u       0.21      0.33      0.25        21\n",
            "\n",
            "    accuracy                           0.41       191\n",
            "   macro avg       0.41      0.42      0.40       191\n",
            "weighted avg       0.41      0.41      0.40       191\n",
            "\n"
          ],
          "name": "stdout"
        }
      ]
    },
    {
      "cell_type": "code",
      "metadata": {
        "id": "HfenuZbra129"
      },
      "source": [
        ""
      ],
      "execution_count": null,
      "outputs": []
    }
  ]
}